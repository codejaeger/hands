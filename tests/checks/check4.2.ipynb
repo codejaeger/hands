{
 "cells": [
  {
   "cell_type": "code",
   "execution_count": 1,
   "metadata": {},
   "outputs": [
    {
     "name": "stdout",
     "output_type": "stream",
     "text": [
      "Requirement already satisfied: plotly in /Users/debabratamandal/sem8/RnD/code/RnD/virtual_env/lib/python3.7/site-packages (4.14.3)\n",
      "Requirement already satisfied: retrying>=1.3.3 in /Users/debabratamandal/sem8/RnD/code/RnD/virtual_env/lib/python3.7/site-packages (from plotly) (1.3.3)\n",
      "Requirement already satisfied: six in /Users/debabratamandal/sem8/RnD/code/RnD/virtual_env/lib/python3.7/site-packages (from plotly) (1.15.0)\n",
      "\u001b[33mWARNING: You are using pip version 21.0.1; however, version 21.1.1 is available.\n",
      "You should consider upgrading via the '/Users/debabratamandal/sem8/RnD/code/RnD/virtual_env/bin/python3 -m pip install --upgrade pip' command.\u001b[0m\n",
      "Note: you may need to restart the kernel to use updated packages.\n",
      "Requirement already satisfied: imageio in /Users/debabratamandal/sem8/RnD/code/RnD/virtual_env/lib/python3.7/site-packages (2.9.0)\n",
      "Requirement already satisfied: numpy in /Users/debabratamandal/sem8/RnD/code/RnD/virtual_env/lib/python3.7/site-packages (from imageio) (1.20.1)\n",
      "Requirement already satisfied: pillow in /Users/debabratamandal/sem8/RnD/code/RnD/virtual_env/lib/python3.7/site-packages (from imageio) (8.1.1)\n",
      "\u001b[33mWARNING: You are using pip version 21.0.1; however, version 21.1.1 is available.\n",
      "You should consider upgrading via the '/Users/debabratamandal/sem8/RnD/code/RnD/virtual_env/bin/python3 -m pip install --upgrade pip' command.\u001b[0m\n",
      "Note: you may need to restart the kernel to use updated packages.\n",
      "Requirement already satisfied: pandas in /Users/debabratamandal/sem8/RnD/code/RnD/virtual_env/lib/python3.7/site-packages (1.2.3)\n",
      "Requirement already satisfied: python-dateutil>=2.7.3 in /Users/debabratamandal/sem8/RnD/code/RnD/virtual_env/lib/python3.7/site-packages (from pandas) (2.8.1)\n",
      "Requirement already satisfied: numpy>=1.16.5 in /Users/debabratamandal/sem8/RnD/code/RnD/virtual_env/lib/python3.7/site-packages (from pandas) (1.20.1)\n",
      "Requirement already satisfied: pytz>=2017.3 in /Users/debabratamandal/sem8/RnD/code/RnD/virtual_env/lib/python3.7/site-packages (from pandas) (2021.1)\n",
      "Requirement already satisfied: six>=1.5 in /Users/debabratamandal/sem8/RnD/code/RnD/virtual_env/lib/python3.7/site-packages (from python-dateutil>=2.7.3->pandas) (1.15.0)\n",
      "\u001b[33mWARNING: You are using pip version 21.0.1; however, version 21.1.1 is available.\n",
      "You should consider upgrading via the '/Users/debabratamandal/sem8/RnD/code/RnD/virtual_env/bin/python3 -m pip install --upgrade pip' command.\u001b[0m\n",
      "Note: you may need to restart the kernel to use updated packages.\n",
      "Requirement already satisfied: ipympl in /Users/debabratamandal/sem8/RnD/code/RnD/virtual_env/lib/python3.7/site-packages (0.7.0)\n",
      "Requirement already satisfied: ipywidgets>=7.6.0 in /Users/debabratamandal/sem8/RnD/code/RnD/virtual_env/lib/python3.7/site-packages (from ipympl) (7.6.3)\n",
      "Requirement already satisfied: ipykernel>=4.7 in /Users/debabratamandal/sem8/RnD/code/RnD/virtual_env/lib/python3.7/site-packages (from ipympl) (5.4.3)\n",
      "Requirement already satisfied: matplotlib>=2.0.0 in /Users/debabratamandal/sem8/RnD/code/RnD/virtual_env/lib/python3.7/site-packages (from ipympl) (3.3.4)\n",
      "Requirement already satisfied: jupyter-client in /Users/debabratamandal/sem8/RnD/code/RnD/virtual_env/lib/python3.7/site-packages (from ipykernel>=4.7->ipympl) (6.1.11)\n",
      "Requirement already satisfied: appnope in /Users/debabratamandal/sem8/RnD/code/RnD/virtual_env/lib/python3.7/site-packages (from ipykernel>=4.7->ipympl) (0.1.2)\n",
      "Requirement already satisfied: ipython>=5.0.0 in /Users/debabratamandal/sem8/RnD/code/RnD/virtual_env/lib/python3.7/site-packages (from ipykernel>=4.7->ipympl) (7.20.0)\n",
      "Requirement already satisfied: traitlets>=4.1.0 in /Users/debabratamandal/sem8/RnD/code/RnD/virtual_env/lib/python3.7/site-packages (from ipykernel>=4.7->ipympl) (5.0.5)\n",
      "Requirement already satisfied: tornado>=4.2 in /Users/debabratamandal/sem8/RnD/code/RnD/virtual_env/lib/python3.7/site-packages (from ipykernel>=4.7->ipympl) (6.1)\n",
      "Requirement already satisfied: backcall in /Users/debabratamandal/sem8/RnD/code/RnD/virtual_env/lib/python3.7/site-packages (from ipython>=5.0.0->ipykernel>=4.7->ipympl) (0.2.0)\n",
      "Requirement already satisfied: setuptools>=18.5 in /Users/debabratamandal/sem8/RnD/code/RnD/virtual_env/lib/python3.7/site-packages (from ipython>=5.0.0->ipykernel>=4.7->ipympl) (54.0.0)\n",
      "Requirement already satisfied: decorator in /Users/debabratamandal/sem8/RnD/code/RnD/virtual_env/lib/python3.7/site-packages (from ipython>=5.0.0->ipykernel>=4.7->ipympl) (4.4.2)\n",
      "Requirement already satisfied: pickleshare in /Users/debabratamandal/sem8/RnD/code/RnD/virtual_env/lib/python3.7/site-packages (from ipython>=5.0.0->ipykernel>=4.7->ipympl) (0.7.5)\n",
      "Requirement already satisfied: prompt-toolkit!=3.0.0,!=3.0.1,<3.1.0,>=2.0.0 in /Users/debabratamandal/sem8/RnD/code/RnD/virtual_env/lib/python3.7/site-packages (from ipython>=5.0.0->ipykernel>=4.7->ipympl) (3.0.14)\n",
      "Requirement already satisfied: pexpect>4.3 in /Users/debabratamandal/sem8/RnD/code/RnD/virtual_env/lib/python3.7/site-packages (from ipython>=5.0.0->ipykernel>=4.7->ipympl) (4.8.0)\n",
      "Requirement already satisfied: pygments in /Users/debabratamandal/sem8/RnD/code/RnD/virtual_env/lib/python3.7/site-packages (from ipython>=5.0.0->ipykernel>=4.7->ipympl) (2.7.4)\n",
      "Requirement already satisfied: jedi>=0.16 in /Users/debabratamandal/sem8/RnD/code/RnD/virtual_env/lib/python3.7/site-packages (from ipython>=5.0.0->ipykernel>=4.7->ipympl) (0.18.0)\n",
      "Requirement already satisfied: jupyterlab-widgets>=1.0.0 in /Users/debabratamandal/sem8/RnD/code/RnD/virtual_env/lib/python3.7/site-packages (from ipywidgets>=7.6.0->ipympl) (1.0.0)\n",
      "Requirement already satisfied: widgetsnbextension~=3.5.0 in /Users/debabratamandal/sem8/RnD/code/RnD/virtual_env/lib/python3.7/site-packages (from ipywidgets>=7.6.0->ipympl) (3.5.1)\n",
      "Requirement already satisfied: nbformat>=4.2.0 in /Users/debabratamandal/sem8/RnD/code/RnD/virtual_env/lib/python3.7/site-packages (from ipywidgets>=7.6.0->ipympl) (5.1.2)\n",
      "Requirement already satisfied: parso<0.9.0,>=0.8.0 in /Users/debabratamandal/sem8/RnD/code/RnD/virtual_env/lib/python3.7/site-packages (from jedi>=0.16->ipython>=5.0.0->ipykernel>=4.7->ipympl) (0.8.1)\n",
      "Requirement already satisfied: cycler>=0.10 in /Users/debabratamandal/sem8/RnD/code/RnD/virtual_env/lib/python3.7/site-packages (from matplotlib>=2.0.0->ipympl) (0.10.0)\n",
      "Requirement already satisfied: python-dateutil>=2.1 in /Users/debabratamandal/sem8/RnD/code/RnD/virtual_env/lib/python3.7/site-packages (from matplotlib>=2.0.0->ipympl) (2.8.1)\n",
      "Requirement already satisfied: numpy>=1.15 in /Users/debabratamandal/sem8/RnD/code/RnD/virtual_env/lib/python3.7/site-packages (from matplotlib>=2.0.0->ipympl) (1.20.1)\n",
      "Requirement already satisfied: pyparsing!=2.0.4,!=2.1.2,!=2.1.6,>=2.0.3 in /Users/debabratamandal/sem8/RnD/code/RnD/virtual_env/lib/python3.7/site-packages (from matplotlib>=2.0.0->ipympl) (2.4.7)\n",
      "Requirement already satisfied: pillow>=6.2.0 in /Users/debabratamandal/sem8/RnD/code/RnD/virtual_env/lib/python3.7/site-packages (from matplotlib>=2.0.0->ipympl) (8.1.1)\n",
      "Requirement already satisfied: kiwisolver>=1.0.1 in /Users/debabratamandal/sem8/RnD/code/RnD/virtual_env/lib/python3.7/site-packages (from matplotlib>=2.0.0->ipympl) (1.3.1)\n",
      "Requirement already satisfied: six in /Users/debabratamandal/sem8/RnD/code/RnD/virtual_env/lib/python3.7/site-packages (from cycler>=0.10->matplotlib>=2.0.0->ipympl) (1.15.0)\n",
      "Requirement already satisfied: ipython-genutils in /Users/debabratamandal/sem8/RnD/code/RnD/virtual_env/lib/python3.7/site-packages (from nbformat>=4.2.0->ipywidgets>=7.6.0->ipympl) (0.2.0)\n",
      "Requirement already satisfied: jsonschema!=2.5.0,>=2.4 in /Users/debabratamandal/sem8/RnD/code/RnD/virtual_env/lib/python3.7/site-packages (from nbformat>=4.2.0->ipywidgets>=7.6.0->ipympl) (3.2.0)\n",
      "Requirement already satisfied: jupyter-core in /Users/debabratamandal/sem8/RnD/code/RnD/virtual_env/lib/python3.7/site-packages (from nbformat>=4.2.0->ipywidgets>=7.6.0->ipympl) (4.7.1)\n",
      "Requirement already satisfied: attrs>=17.4.0 in /Users/debabratamandal/sem8/RnD/code/RnD/virtual_env/lib/python3.7/site-packages (from jsonschema!=2.5.0,>=2.4->nbformat>=4.2.0->ipywidgets>=7.6.0->ipympl) (20.3.0)\n",
      "Requirement already satisfied: importlib-metadata in /Users/debabratamandal/sem8/RnD/code/RnD/virtual_env/lib/python3.7/site-packages (from jsonschema!=2.5.0,>=2.4->nbformat>=4.2.0->ipywidgets>=7.6.0->ipympl) (3.4.0)\n",
      "Requirement already satisfied: pyrsistent>=0.14.0 in /Users/debabratamandal/sem8/RnD/code/RnD/virtual_env/lib/python3.7/site-packages (from jsonschema!=2.5.0,>=2.4->nbformat>=4.2.0->ipywidgets>=7.6.0->ipympl) (0.17.3)\n"
     ]
    },
    {
     "name": "stdout",
     "output_type": "stream",
     "text": [
      "Requirement already satisfied: ptyprocess>=0.5 in /Users/debabratamandal/sem8/RnD/code/RnD/virtual_env/lib/python3.7/site-packages (from pexpect>4.3->ipython>=5.0.0->ipykernel>=4.7->ipympl) (0.7.0)\n",
      "Requirement already satisfied: wcwidth in /Users/debabratamandal/sem8/RnD/code/RnD/virtual_env/lib/python3.7/site-packages (from prompt-toolkit!=3.0.0,!=3.0.1,<3.1.0,>=2.0.0->ipython>=5.0.0->ipykernel>=4.7->ipympl) (0.2.5)\n",
      "Requirement already satisfied: notebook>=4.4.1 in /Users/debabratamandal/sem8/RnD/code/RnD/virtual_env/lib/python3.7/site-packages (from widgetsnbextension~=3.5.0->ipywidgets>=7.6.0->ipympl) (6.2.0)\n",
      "Requirement already satisfied: pyzmq>=17 in /Users/debabratamandal/sem8/RnD/code/RnD/virtual_env/lib/python3.7/site-packages (from notebook>=4.4.1->widgetsnbextension~=3.5.0->ipywidgets>=7.6.0->ipympl) (22.0.3)\n",
      "Requirement already satisfied: terminado>=0.8.3 in /Users/debabratamandal/sem8/RnD/code/RnD/virtual_env/lib/python3.7/site-packages (from notebook>=4.4.1->widgetsnbextension~=3.5.0->ipywidgets>=7.6.0->ipympl) (0.9.2)\n",
      "Requirement already satisfied: jinja2 in /Users/debabratamandal/sem8/RnD/code/RnD/virtual_env/lib/python3.7/site-packages (from notebook>=4.4.1->widgetsnbextension~=3.5.0->ipywidgets>=7.6.0->ipympl) (2.11.3)\n",
      "Requirement already satisfied: prometheus-client in /Users/debabratamandal/sem8/RnD/code/RnD/virtual_env/lib/python3.7/site-packages (from notebook>=4.4.1->widgetsnbextension~=3.5.0->ipywidgets>=7.6.0->ipympl) (0.9.0)\n",
      "Requirement already satisfied: nbconvert in /Users/debabratamandal/sem8/RnD/code/RnD/virtual_env/lib/python3.7/site-packages (from notebook>=4.4.1->widgetsnbextension~=3.5.0->ipywidgets>=7.6.0->ipympl) (6.0.7)\n",
      "Requirement already satisfied: argon2-cffi in /Users/debabratamandal/sem8/RnD/code/RnD/virtual_env/lib/python3.7/site-packages (from notebook>=4.4.1->widgetsnbextension~=3.5.0->ipywidgets>=7.6.0->ipympl) (20.1.0)\n",
      "Requirement already satisfied: Send2Trash>=1.5.0 in /Users/debabratamandal/sem8/RnD/code/RnD/virtual_env/lib/python3.7/site-packages (from notebook>=4.4.1->widgetsnbextension~=3.5.0->ipywidgets>=7.6.0->ipympl) (1.5.0)\n",
      "Requirement already satisfied: cffi>=1.0.0 in /Users/debabratamandal/sem8/RnD/code/RnD/virtual_env/lib/python3.7/site-packages (from argon2-cffi->notebook>=4.4.1->widgetsnbextension~=3.5.0->ipywidgets>=7.6.0->ipympl) (1.14.4)\n",
      "Requirement already satisfied: pycparser in /Users/debabratamandal/sem8/RnD/code/RnD/virtual_env/lib/python3.7/site-packages (from cffi>=1.0.0->argon2-cffi->notebook>=4.4.1->widgetsnbextension~=3.5.0->ipywidgets>=7.6.0->ipympl) (2.20)\n",
      "Requirement already satisfied: typing-extensions>=3.6.4 in /Users/debabratamandal/sem8/RnD/code/RnD/virtual_env/lib/python3.7/site-packages (from importlib-metadata->jsonschema!=2.5.0,>=2.4->nbformat>=4.2.0->ipywidgets>=7.6.0->ipympl) (3.7.4.3)\n",
      "Requirement already satisfied: zipp>=0.5 in /Users/debabratamandal/sem8/RnD/code/RnD/virtual_env/lib/python3.7/site-packages (from importlib-metadata->jsonschema!=2.5.0,>=2.4->nbformat>=4.2.0->ipywidgets>=7.6.0->ipympl) (3.4.0)\n",
      "Requirement already satisfied: MarkupSafe>=0.23 in /Users/debabratamandal/sem8/RnD/code/RnD/virtual_env/lib/python3.7/site-packages (from jinja2->notebook>=4.4.1->widgetsnbextension~=3.5.0->ipywidgets>=7.6.0->ipympl) (1.1.1)\n",
      "Requirement already satisfied: mistune<2,>=0.8.1 in /Users/debabratamandal/sem8/RnD/code/RnD/virtual_env/lib/python3.7/site-packages (from nbconvert->notebook>=4.4.1->widgetsnbextension~=3.5.0->ipywidgets>=7.6.0->ipympl) (0.8.4)\n",
      "Requirement already satisfied: nbclient<0.6.0,>=0.5.0 in /Users/debabratamandal/sem8/RnD/code/RnD/virtual_env/lib/python3.7/site-packages (from nbconvert->notebook>=4.4.1->widgetsnbextension~=3.5.0->ipywidgets>=7.6.0->ipympl) (0.5.1)\n",
      "Requirement already satisfied: jupyterlab-pygments in /Users/debabratamandal/sem8/RnD/code/RnD/virtual_env/lib/python3.7/site-packages (from nbconvert->notebook>=4.4.1->widgetsnbextension~=3.5.0->ipywidgets>=7.6.0->ipympl) (0.1.2)\n",
      "Requirement already satisfied: defusedxml in /Users/debabratamandal/sem8/RnD/code/RnD/virtual_env/lib/python3.7/site-packages (from nbconvert->notebook>=4.4.1->widgetsnbextension~=3.5.0->ipywidgets>=7.6.0->ipympl) (0.6.0)\n",
      "Requirement already satisfied: testpath in /Users/debabratamandal/sem8/RnD/code/RnD/virtual_env/lib/python3.7/site-packages (from nbconvert->notebook>=4.4.1->widgetsnbextension~=3.5.0->ipywidgets>=7.6.0->ipympl) (0.4.4)\n",
      "Requirement already satisfied: entrypoints>=0.2.2 in /Users/debabratamandal/sem8/RnD/code/RnD/virtual_env/lib/python3.7/site-packages (from nbconvert->notebook>=4.4.1->widgetsnbextension~=3.5.0->ipywidgets>=7.6.0->ipympl) (0.3)\n",
      "Requirement already satisfied: bleach in /Users/debabratamandal/sem8/RnD/code/RnD/virtual_env/lib/python3.7/site-packages (from nbconvert->notebook>=4.4.1->widgetsnbextension~=3.5.0->ipywidgets>=7.6.0->ipympl) (3.3.0)\n",
      "Requirement already satisfied: pandocfilters>=1.4.1 in /Users/debabratamandal/sem8/RnD/code/RnD/virtual_env/lib/python3.7/site-packages (from nbconvert->notebook>=4.4.1->widgetsnbextension~=3.5.0->ipywidgets>=7.6.0->ipympl) (1.4.3)\n",
      "Requirement already satisfied: nest-asyncio in /Users/debabratamandal/sem8/RnD/code/RnD/virtual_env/lib/python3.7/site-packages (from nbclient<0.6.0,>=0.5.0->nbconvert->notebook>=4.4.1->widgetsnbextension~=3.5.0->ipywidgets>=7.6.0->ipympl) (1.5.1)\n",
      "Requirement already satisfied: async-generator in /Users/debabratamandal/sem8/RnD/code/RnD/virtual_env/lib/python3.7/site-packages (from nbclient<0.6.0,>=0.5.0->nbconvert->notebook>=4.4.1->widgetsnbextension~=3.5.0->ipywidgets>=7.6.0->ipympl) (1.10)\n",
      "Requirement already satisfied: packaging in /Users/debabratamandal/sem8/RnD/code/RnD/virtual_env/lib/python3.7/site-packages (from bleach->nbconvert->notebook>=4.4.1->widgetsnbextension~=3.5.0->ipywidgets>=7.6.0->ipympl) (20.9)\n",
      "Requirement already satisfied: webencodings in /Users/debabratamandal/sem8/RnD/code/RnD/virtual_env/lib/python3.7/site-packages (from bleach->nbconvert->notebook>=4.4.1->widgetsnbextension~=3.5.0->ipywidgets>=7.6.0->ipympl) (0.5.1)\n",
      "\u001b[33mWARNING: You are using pip version 21.0.1; however, version 21.1.1 is available.\n",
      "You should consider upgrading via the '/Users/debabratamandal/sem8/RnD/code/RnD/virtual_env/bin/python3 -m pip install --upgrade pip' command.\u001b[0m\n",
      "Note: you may need to restart the kernel to use updated packages.\n",
      "Requirement already satisfied: scikit-image in /Users/debabratamandal/sem8/RnD/code/RnD/virtual_env/lib/python3.7/site-packages (0.18.1)\n",
      "Requirement already satisfied: tifffile>=2019.7.26 in /Users/debabratamandal/sem8/RnD/code/RnD/virtual_env/lib/python3.7/site-packages (from scikit-image) (2021.4.8)\n",
      "Requirement already satisfied: pillow!=7.1.0,!=7.1.1,>=4.3.0 in /Users/debabratamandal/sem8/RnD/code/RnD/virtual_env/lib/python3.7/site-packages (from scikit-image) (8.1.1)\n",
      "Requirement already satisfied: PyWavelets>=1.1.1 in /Users/debabratamandal/sem8/RnD/code/RnD/virtual_env/lib/python3.7/site-packages (from scikit-image) (1.1.1)\n",
      "Requirement already satisfied: matplotlib!=3.0.0,>=2.0.0 in /Users/debabratamandal/sem8/RnD/code/RnD/virtual_env/lib/python3.7/site-packages (from scikit-image) (3.3.4)\n",
      "Requirement already satisfied: numpy>=1.16.5 in /Users/debabratamandal/sem8/RnD/code/RnD/virtual_env/lib/python3.7/site-packages (from scikit-image) (1.20.1)\n",
      "Requirement already satisfied: networkx>=2.0 in /Users/debabratamandal/sem8/RnD/code/RnD/virtual_env/lib/python3.7/site-packages (from scikit-image) (2.5.1)\n",
      "Requirement already satisfied: scipy>=1.0.1 in /Users/debabratamandal/sem8/RnD/code/RnD/virtual_env/lib/python3.7/site-packages (from scikit-image) (1.6.1)\n",
      "Requirement already satisfied: imageio>=2.3.0 in /Users/debabratamandal/sem8/RnD/code/RnD/virtual_env/lib/python3.7/site-packages (from scikit-image) (2.9.0)\n",
      "Requirement already satisfied: kiwisolver>=1.0.1 in /Users/debabratamandal/sem8/RnD/code/RnD/virtual_env/lib/python3.7/site-packages (from matplotlib!=3.0.0,>=2.0.0->scikit-image) (1.3.1)\n",
      "Requirement already satisfied: python-dateutil>=2.1 in /Users/debabratamandal/sem8/RnD/code/RnD/virtual_env/lib/python3.7/site-packages (from matplotlib!=3.0.0,>=2.0.0->scikit-image) (2.8.1)\n",
      "Requirement already satisfied: pyparsing!=2.0.4,!=2.1.2,!=2.1.6,>=2.0.3 in /Users/debabratamandal/sem8/RnD/code/RnD/virtual_env/lib/python3.7/site-packages (from matplotlib!=3.0.0,>=2.0.0->scikit-image) (2.4.7)\n"
     ]
    },
    {
     "name": "stdout",
     "output_type": "stream",
     "text": [
      "Requirement already satisfied: cycler>=0.10 in /Users/debabratamandal/sem8/RnD/code/RnD/virtual_env/lib/python3.7/site-packages (from matplotlib!=3.0.0,>=2.0.0->scikit-image) (0.10.0)\n",
      "Requirement already satisfied: six in /Users/debabratamandal/sem8/RnD/code/RnD/virtual_env/lib/python3.7/site-packages (from cycler>=0.10->matplotlib!=3.0.0,>=2.0.0->scikit-image) (1.15.0)\n",
      "Requirement already satisfied: decorator<5,>=4.3 in /Users/debabratamandal/sem8/RnD/code/RnD/virtual_env/lib/python3.7/site-packages (from networkx>=2.0->scikit-image) (4.4.2)\n",
      "\u001b[33mWARNING: You are using pip version 21.0.1; however, version 21.1.1 is available.\n",
      "You should consider upgrading via the '/Users/debabratamandal/sem8/RnD/code/RnD/virtual_env/bin/python3 -m pip install --upgrade pip' command.\u001b[0m\n",
      "Note: you may need to restart the kernel to use updated packages.\n",
      "Requirement already satisfied: plotly in /Users/debabratamandal/sem8/RnD/code/RnD/virtual_env/lib/python3.7/site-packages (4.14.3)\n",
      "Requirement already satisfied: retrying>=1.3.3 in /Users/debabratamandal/sem8/RnD/code/RnD/virtual_env/lib/python3.7/site-packages (from plotly) (1.3.3)\n",
      "Requirement already satisfied: six in /Users/debabratamandal/sem8/RnD/code/RnD/virtual_env/lib/python3.7/site-packages (from plotly) (1.15.0)\n",
      "\u001b[33mWARNING: You are using pip version 21.0.1; however, version 21.1.1 is available.\n",
      "You should consider upgrading via the '/Users/debabratamandal/sem8/RnD/code/RnD/virtual_env/bin/python3 -m pip install --upgrade pip' command.\u001b[0m\n",
      "Note: you may need to restart the kernel to use updated packages.\n"
     ]
    }
   ],
   "source": [
    "%pip install plotly\n",
    "%pip install imageio\n",
    "%pip install pandas\n",
    "%pip install ipympl\n",
    "%pip install scikit-image\n",
    "%pip install plotly"
   ]
  },
  {
   "cell_type": "code",
   "execution_count": 2,
   "metadata": {},
   "outputs": [],
   "source": [
    "%load_ext autoreload\n",
    "%autoreload 2"
   ]
  },
  {
   "cell_type": "code",
   "execution_count": 1,
   "metadata": {
    "scrolled": false
   },
   "outputs": [],
   "source": [
    "import tensorflow as tf \n",
    "import numpy as np  \n",
    "import imageio\n",
    "import json\n",
    "import plotly.express as px\n",
    "import plotly.graph_objects as go\n",
    "import cv2 as cv\n",
    "import matplotlib.pyplot as plt\n",
    "# from psbody.mesh import Mesh\n",
    "import scipy\n",
    "%matplotlib widget\n",
    "from PIL import Image\n",
    "from mano import Mano\n",
    "import matplotlib.pyplot as plt\n",
    "from tqdm import tqdm\n",
    "import os\n",
    "import tqdm.notebook as tq\n",
    "\n",
    "from utils import read_mano, scatter3d, update_fig_range, plot_2d_pts_on_img"
   ]
  },
  {
   "cell_type": "markdown",
   "metadata": {},
   "source": [
    "# Read Data"
   ]
  },
  {
   "cell_type": "code",
   "execution_count": 3,
   "metadata": {},
   "outputs": [],
   "source": [
    "def visualize_in_orig_image(image, annotations):\n",
    "    \"\"\"\n",
    "    Visualize hand annotations and image on uncropped image\n",
    "    \"\"\"\n",
    "    plt.figure(figsize=(5,5))\n",
    "    plt.imshow(image)\n",
    "    vertices = np.array(annotations)\n",
    "    plt.plot(vertices[:, 0], vertices[:, 1], 'o', color='green', markersize=1)\n",
    "    plt.show()\n",
    "    \n",
    "def translation_mat(tx=0, ty=0, tz=0):\n",
    "    \"\"\"\n",
    "    4x4 translational matrix\n",
    "    \"\"\"\n",
    "    mat = np.eye(4)\n",
    "    mat[0:3, 3] = np.array([tx, ty, tz]).T\n",
    "    return mat\n",
    "\n",
    "def flip_hand(adjusted_vertices, cropped_image, is_left):\n",
    "    \"\"\"\n",
    "    Flip left hand to mirrored right hand coordinates\n",
    "    \"\"\"\n",
    "    flip_mat = np.eye(4)\n",
    "    if is_left:\n",
    "        cropped_image = cropped_image[:, -1::-1, :]\n",
    "        flip_mat = translation_mat(cropped_image.shape[1])\n",
    "        flip_mat[0, 0] = -1\n",
    "        adjusted_vertices = np.hstack((adjusted_vertices, np.ones((778, 1)))) @ flip_mat.T\n",
    "    return cropped_image, adjusted_vertices[..., :3], flip_mat\n",
    "\n",
    "def map_img_to_path(img_dct, images):\n",
    "    \"\"\"\n",
    "    Preprocessing function to create a image id to details mapping\n",
    "    \"\"\"\n",
    "    for i in images:\n",
    "        if i['id'] not in img_dct:\n",
    "            img_dct[i['id']] = {}\n",
    "        img_dct[i['id']]['path'] = i['name']\n",
    "        img_dct[i['id']]['width'] = i['width']\n",
    "        img_dct[i['id']]['height'] = i['height']\n",
    "        \n",
    "def map_img_to_ann(img_dct, annotations):\n",
    "    \"\"\"\n",
    "    Preprocessing function to create a image id to list of annotations\n",
    "    \"\"\"\n",
    "    for idx, ann in enumerate(annotations):\n",
    "        if ann['image_id'] not in img_dct:\n",
    "            img_dct[ann['image_id']] = {}\n",
    "        if 'ann' not in img_dct[ann['image_id']]:\n",
    "            img_dct[ann['image_id']]['ann'] = []\n",
    "        img_dct[ann['image_id']]['ann'].append(idx)"
   ]
  },
  {
   "cell_type": "code",
   "execution_count": 4,
   "metadata": {},
   "outputs": [],
   "source": [
    "tf.random.set_seed(1234)\n",
    "np.random.seed(1234)\n",
    "out_img_size = 224\n",
    "n_verts_to_predict = 778"
   ]
  },
  {
   "cell_type": "markdown",
   "metadata": {},
   "source": [
    "## Input"
   ]
  },
  {
   "cell_type": "code",
   "execution_count": 168,
   "metadata": {},
   "outputs": [
    {
     "data": {
      "application/vnd.jupyter.widget-view+json": {
       "model_id": "ecae8d9ca1014b07879f1ba5d74c7e85",
       "version_major": 2,
       "version_minor": 0
      },
      "text/plain": [
       "Canvas(toolbar=Toolbar(toolitems=[('Home', 'Reset original view', 'home', 'home'), ('Back', 'Back to previous …"
      ]
     },
     "metadata": {},
     "output_type": "display_data"
    },
    {
     "data": {
      "text/plain": [
       "<matplotlib.image.AxesImage at 0x16f8115c0>"
      ]
     },
     "execution_count": 168,
     "metadata": {},
     "output_type": "execute_result"
    }
   ],
   "source": [
    "img_path = \"../storage/sample_friehand/00000000.jpg\"\n",
    "I = imageio.imread(img_path)\n",
    "plt.imshow(I)"
   ]
  },
  {
   "cell_type": "code",
   "execution_count": 169,
   "metadata": {},
   "outputs": [
    {
     "data": {
      "text/plain": [
       "224"
      ]
     },
     "execution_count": 169,
     "metadata": {},
     "output_type": "execute_result"
    }
   ],
   "source": [
    "len(I[0])"
   ]
  },
  {
   "cell_type": "markdown",
   "metadata": {},
   "source": [
    "## Annotation\n",
    "x, y coordinates are in image frame.\n",
    "What does the z coordinate denote?"
   ]
  },
  {
   "cell_type": "code",
   "execution_count": 170,
   "metadata": {},
   "outputs": [],
   "source": [
    "with open('../storage/sample_freihand_1.json') as f:\n",
    "    training = json.load(f)\n",
    "\n",
    "# with open('../storage/training_K.json') as f:\n",
    "#     training_K = json.load(f)    \n",
    "\n",
    "# with open('../storage/training_mano.json') as f:\n",
    "#     training_mano = json.load(f)\n",
    "\n",
    "K, mano, xyz = training['K'], training['mano'], training['xyz']"
   ]
  },
  {
   "cell_type": "code",
   "execution_count": 171,
   "metadata": {},
   "outputs": [
    {
     "name": "stdout",
     "output_type": "stream",
     "text": [
      "../storage/MANO_RIGHT.pkl\n",
      "(778, 2)\n"
     ]
    },
    {
     "data": {
      "application/vnd.jupyter.widget-view+json": {
       "model_id": "f66863ed2a964a4c8387e72bae9e3cf7",
       "version_major": 2,
       "version_minor": 0
      },
      "text/plain": [
       "Canvas(toolbar=Toolbar(toolitems=[('Home', 'Reset original view', 'home', 'home'), ('Back', 'Back to previous …"
      ]
     },
     "metadata": {},
     "output_type": "display_data"
    }
   ],
   "source": [
    "from util.fh_utils import *\n",
    "from util.model import *\n",
    "\n",
    "mano = np.array(mano)\n",
    "K = np.array(K)\n",
    "\n",
    "poses, shapes, uv_root, scale = split_theta(mano)\n",
    "focal, pp = get_focal_pp(K)\n",
    "xyz_root = recover_root(uv_root, scale, focal, pp)\n",
    "\n",
    "# set up the hand model and feed hand parameters\n",
    "renderer = HandModel(use_mean_pca=False, use_mean_pose=True)\n",
    "renderer.pose_by_root(xyz_root[0], poses[0], shapes[0])\n",
    "msk_rendered, V1 = renderer.render(K, img_shape=I.shape[:2])\n",
    "\n",
    "proj = projectPoints(V1, K)\n",
    "print(proj.shape)        \n",
    "s_x = np.std(proj[:, 0]) / np.std(V1[:, 0])\n",
    "z_cam = s_x *(V1[:, 2]).reshape(-1, 1)\n",
    "V_gt = np.concatenate((proj[:, :2], z_cam), axis=1)\n",
    "\n",
    "proj_mat = K\n",
    "proj_mat = np.hstack([proj_mat, np.zeros((3, 1))])\n",
    "proj_mat = np.vstack([proj_mat, [0, 0, 0, 1]])\n",
    "proj_mat[2, 2] = s_x\n",
    "P = proj_mat\n",
    "    \n",
    "visualize_in_orig_image(I, V_gt)"
   ]
  },
  {
   "cell_type": "code",
   "execution_count": 172,
   "metadata": {},
   "outputs": [
    {
     "name": "stdout",
     "output_type": "stream",
     "text": [
      "[[107.74166095  94.44565978 369.80796445]\n",
      " [110.09056282  91.36077013 362.89060693]\n",
      " [106.0439555   90.59055553 367.41822648]]\n"
     ]
    }
   ],
   "source": [
    "print(V_gt[:3, :])"
   ]
  },
  {
   "cell_type": "code",
   "execution_count": 173,
   "metadata": {},
   "outputs": [
    {
     "data": {
      "text/plain": [
       "<chumpy.ch_ops.add object at 0x1762c4be0>\n",
       "[[-0.00688691 -0.02840404  0.6289612 ]\n",
       " [-0.00303032 -0.03277091  0.61719631]\n",
       " [-0.00957032 -0.03441798  0.62489679]\n",
       " ...\n",
       " [-0.02643143  0.00984758  0.6085137 ]\n",
       " [-0.03090127  0.01534423  0.61700929]\n",
       " [-0.01368385 -0.00553865  0.60155092]]"
      ]
     },
     "execution_count": 173,
     "metadata": {},
     "output_type": "execute_result"
    }
   ],
   "source": [
    "V1"
   ]
  },
  {
   "cell_type": "code",
   "execution_count": 174,
   "metadata": {},
   "outputs": [],
   "source": [
    "# with open('../storage/sample_friehand/sample_friehand.json') as f:\n",
    "#     annotation_json = json.load(f)\n",
    "\n",
    "# V_gt = np.array(annotation_json['anns']).astype(np.float32)\n",
    "\n",
    "# visualize_in_orig_image(I, V_gt)"
   ]
  },
  {
   "cell_type": "code",
   "execution_count": 175,
   "metadata": {},
   "outputs": [],
   "source": [
    "# fig = plot_2d_pts_on_img(I, V2)\n",
    "# fig.show()"
   ]
  },
  {
   "cell_type": "markdown",
   "metadata": {},
   "source": [
    "# Process data"
   ]
  },
  {
   "cell_type": "markdown",
   "metadata": {},
   "source": [
    "## Crop"
   ]
  },
  {
   "cell_type": "code",
   "execution_count": 176,
   "metadata": {},
   "outputs": [
    {
     "name": "stderr",
     "output_type": "stream",
     "text": [
      "/Users/debabratamandal/sem8/RnD/code/RnD/virtual_env/lib/python3.7/site-packages/ipykernel_launcher.py:2: DeprecationWarning:\n",
      "\n",
      "`np.int` is a deprecated alias for the builtin `int`. To silence this warning, use `int` by itself. Doing this will not modify any behavior and is safe. When replacing `np.int`, you may wish to use e.g. `np.int64` or `np.int32` to specify the precision. If you wish to review your current use, check the release note link for additional information.\n",
      "Deprecated in NumPy 1.20; for more details and guidance: https://numpy.org/devdocs/release/1.20.0-notes.html#deprecations\n",
      "\n"
     ]
    },
    {
     "data": {
      "application/vnd.jupyter.widget-view+json": {
       "model_id": "e63fabd30b0d4fd0baa66f7c81ea9d31",
       "version_major": 2,
       "version_minor": 0
      },
      "text/plain": [
       "Canvas(toolbar=Toolbar(toolitems=[('Home', 'Reset original view', 'home', 'home'), ('Back', 'Back to previous …"
      ]
     },
     "metadata": {},
     "output_type": "display_data"
    }
   ],
   "source": [
    "min_coords, max_coords = np.amin(V_gt, axis=0), np.amax(V_gt, axis=0)\n",
    "min_uv, max_uv = min_coords[:2].astype(np.int), max_coords[:2].astype(np.int)\n",
    "I_crop = I[min_uv[1]: max_uv[1], min_uv[0]: max_uv[0]]  # u: cols, v: rows\n",
    "\n",
    "mat_crop = np.identity(4, dtype=np.float32)\n",
    "mat_crop[0, 3] = -min_uv[0]\n",
    "mat_crop[1, 3] = -min_uv[1]\n",
    "V_crop = V_gt @ mat_crop[:3, :3].T + mat_crop[:3, 3]\n",
    "\n",
    "visualize_in_orig_image(I_crop, V_crop)"
   ]
  },
  {
   "cell_type": "markdown",
   "metadata": {},
   "source": [
    "## Resize"
   ]
  },
  {
   "cell_type": "code",
   "execution_count": 177,
   "metadata": {},
   "outputs": [
    {
     "data": {
      "application/vnd.jupyter.widget-view+json": {
       "model_id": "063490eb530443deb8d89b25bed4ef39",
       "version_major": 2,
       "version_minor": 0
      },
      "text/plain": [
       "Canvas(toolbar=Toolbar(toolitems=[('Home', 'Reset original view', 'home', 'home'), ('Back', 'Back to previous …"
      ]
     },
     "metadata": {},
     "output_type": "display_data"
    }
   ],
   "source": [
    "\n",
    "\n",
    "cropped_height, cropped_width, _ = I_crop.shape\n",
    "resize_scale = min(out_img_size/cropped_width, out_img_size/cropped_height)\n",
    "resized_width, resized_height = (int(cropped_width*resize_scale), int(cropped_height*resize_scale))\n",
    "I_resize = cv.resize(I_crop, (resized_width, resized_height), interpolation=cv.INTER_LINEAR)\n",
    "\n",
    "mat_resize = np.identity(4, dtype=np.float32)\n",
    "mat_resize[0, 0] = resize_scale\n",
    "mat_resize[1, 1] = resize_scale\n",
    "V_resize = V_crop @ mat_resize[:3, :3].T + mat_resize[:3, 3]\n",
    "\n",
    "visualize_in_orig_image(I_resize, V_resize)"
   ]
  },
  {
   "cell_type": "markdown",
   "metadata": {},
   "source": [
    "## Pad"
   ]
  },
  {
   "cell_type": "code",
   "execution_count": 178,
   "metadata": {},
   "outputs": [
    {
     "data": {
      "application/vnd.plotly.v1+json": {
       "config": {
        "plotlyServerURL": "https://plot.ly"
       },
       "data": [
        {
         "hovertemplate": "x: %{x}<br>y: %{y}<br>color: [%{z[0]}, %{z[1]}, %{z[2]}]<extra></extra>",
         "name": "0",
         "source": "data:image/png;base64,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",
         "type": "image",
         "xaxis": "x",
         "yaxis": "y"
        },
        {
         "marker": {
          "color": "red",
          "opacity": 0.7,
          "size": 2
         },
         "mode": "markers",
         "type": "scatter",
         "x": [
          109.70604428105264,
          115.68506712592217,
          105.384612320156,
          103.33719567356277,
          103.6173092581311,
          112.06856648830848,
          95.61640411003722,
          90.03532661290045,
          100.78472979895187,
          97.6648171326336,
          109.00074888766962,
          116.16056810678649,
          105.55077635655955,
          114.70237940047144,
          133.4225991860981,
          126.06359521059811,
          147.07849830875156,
          144.89841506222933,
          128.3747060815212,
          131.18727574364138,
          124.8838969099195,
          126.16211238960697,
          144.18095592097185,
          142.28678357772677,
          114.9406507504892,
          123.07964690879166,
          123.50036138074488,
          115.02427717042124,
          114.26771546036866,
          128.43557805121276,
          121.86059165860878,
          107.738287046604,
          132.6089231268092,
          155.58398982170812,
          158.25447343118321,
          137.71836207134592,
          146.3644623417264,
          165.43755536107497,
          185.31585130696214,
          170.2828170285563,
          127.19325134034257,
          147.57278169995837,
          127.18385374054039,
          107.31458101949237,
          153.73648885787,
          135.93847451865759,
          57.93285893701551,
          53.68723898006082,
          58.13255060462709,
          61.433351891450194,
          161.23988998727867,
          174.19145750739833,
          180.21280346738854,
          169.73519687852317,
          150.46323654595716,
          165.4383834188508,
          72.91847802527377,
          68.04928406478248,
          73.49588533298169,
          78.49345039578829,
          101.10751365796082,
          102.00605459494798,
          86.96373017497403,
          94.47418403697245,
          98.20376162342127,
          93.7252419368005,
          94.34291212995917,
          105.0401552042879,
          105.1892888025298,
          93.30363882576265,
          98.59448652969516,
          88.57529915033892,
          85.58507722942007,
          92.02627715545908,
          73.92846875579548,
          70.6142466832843,
          70.0263362217857,
          73.86114893709389,
          188.5239128989671,
          178.86864641468011,
          115.09201868046114,
          107.16837825947839,
          92.3917397177343,
          104.92822960496666,
          184.023619794626,
          190.63029566779812,
          74.08469665731728,
          79.08452204339355,
          149.03204116337835,
          121.94798406427579,
          171.9428415271249,
          188.06264907152425,
          200.86420539310492,
          88.31991906639733,
          106.90916522981755,
          113.79685771025707,
          91.6605939399731,
          101.55581473201939,
          100.78621160438121,
          93.14005067481273,
          93.58045688560996,
          84.59434339748209,
          75.11332982177011,
          81.67486090027016,
          115.46617093541877,
          132.44925147851265,
          148.42588446218323,
          159.12992766200833,
          173.62057035858794,
          127.21626646659882,
          140.87121874255692,
          140.49456697894502,
          129.7395096956764,
          116.75408201487727,
          121.43989666462353,
          101.98387472976862,
          163.58243205095204,
          173.38268578419496,
          178.40672002631982,
          171.42108762394977,
          170.89169355801974,
          202.6739106587885,
          183.0492232067283,
          85.81108275327797,
          83.2888319123184,
          88.29066092323632,
          89.77820357096938,
          110.3485418370881,
          100.368394870638,
          106.35982476374559,
          118.59355305041262,
          121.23967888579887,
          82.03644341029965,
          83.94030672948558,
          79.19226361579672,
          95.65262637751562,
          100.15530387323228,
          80.52020690276576,
          79.44794819549338,
          78.71582325786453,
          77.72074560392562,
          68.43789892402819,
          71.79013098720827,
          111.38158069463512,
          123.46519344659195,
          133.85781634221865,
          92.30917529371888,
          81.93854356761209,
          80.45801464690533,
          84.4904322448616,
          79.70086406554096,
          80.95501701126604,
          85.69635219906178,
          124.01807728546761,
          107.72284811412507,
          62.83415858036201,
          67.34534063005714,
          103.18606776153517,
          145.245737446539,
          111.95452022084763,
          95.17359351823755,
          84.86924070297579,
          78.82577752815354,
          86.5314036008949,
          65.57870681007458,
          61.06632306882496,
          57.20522417514193,
          61.54271040833773,
          82.03934116092412,
          88.0338149954125,
          82.49167893470812,
          79.10491633556234,
          95.2766456634335,
          89.39970269461493,
          73.81763513373596,
          82.56320671895507,
          95.3931482489471,
          84.09157446426794,
          161.26195588773135,
          155.5537005310668,
          136.23206724560845,
          119.43814325228438,
          103.63732826987757,
          112.31033000624205,
          132.53094847132428,
          90.55997295180828,
          104.30182395393017,
          100.80878268414823,
          106.14635992159998,
          73.19228519271917,
          204.49120876349525,
          206.03732030365296,
          195.43963016782206,
          192.21729442363772,
          61.55653925839253,
          65.71787574119888,
          68.19661957370639,
          67.21144804177382,
          68.29903163558114,
          67.17727453172978,
          153.5795466734,
          83.63098854487804,
          96.28855304520704,
          173.06578904844895,
          178.66791298477716,
          190.79354561086538,
          107.6142017995521,
          161.81497094915886,
          179.0270691087651,
          193.89156640966291,
          204.5226868743961,
          200.22678905163343,
          84.52782478714896,
          76.44451723226499,
          213.1350371189633,
          216.49185858868412,
          180.21824792684964,
          178.74034917523267,
          163.48917829291685,
          162.23983854108602,
          117.93781533144768,
          56.0569949946616,
          63.768159882850625,
          56.96668040943217,
          50.61853199736559,
          68.91839330568762,
          70.90244131694604,
          159.11460630786328,
          78.08866553929961,
          172.72376980151898,
          147.44949719189697,
          153.56084663162974,
          186.35701132004277,
          165.47579337427157,
          209.64790150391423,
          198.2035807651723,
          141.89387995735703,
          47.298538676261956,
          44.49132212996419,
          216.08202198258599,
          93.2758031740161,
          114.11457529459194,
          118.24258250429644,
          108.93526703066028,
          109.06013744121174,
          52.75535776644027,
          73.97101197097027,
          75.94828236806671,
          89.8035520691893,
          85.63731028604795,
          100.35020554635754,
          90.96783665542387,
          99.67534739660474,
          110.20099732758322,
          124.49645598327044,
          121.3682031609764,
          137.99347720660137,
          120.94955018642456,
          103.06191331549233,
          117.57745127558061,
          108.28543637415723,
          102.07111571207845,
          81.77940594477842,
          88.40411389693736,
          131.67286302099467,
          127.42078862769841,
          96.5036048977524,
          97.22569406236612,
          86.13788912048045,
          97.09991514746997,
          105.52634321994992,
          79.16311375103676,
          61.91380131017724,
          57.09992095670033,
          110.77098582277127,
          75.81120365707372,
          96.85292199884383,
          85.29175138929871,
          74.77903624149616,
          217.65319803615444,
          52.202101022818105,
          45.0914546991424,
          61.406129197622086,
          65.03206623950462,
          132.82092603236163,
          120.43019293025486,
          125.1907244460031,
          110.78497509318451,
          74.59418739858957,
          94.39441503803832,
          102.0603172648805,
          93.42516107277501,
          90.40041705875329,
          81.8795951875041,
          56.87606081258259,
          60.62668111167944,
          57.88907722990694,
          53.279275115132464,
          48.979870502325355,
          51.45901373893365,
          46.416527224048245,
          42.07984684671155,
          47.284643085975475,
          51.14233888413792,
          45.981278076805765,
          51.9671001369346,
          51.140123436836845,
          46.7367556902297,
          43.007295565646494,
          41.52156237250324,
          53.14735370528491,
          47.437654695462385,
          45.739220457327896,
          42.20697525371021,
          43.859315101972136,
          50.101792739061985,
          54.71049607152558,
          38.3472475543833,
          41.06094425832223,
          41.0226629134773,
          36.472372447709645,
          49.56750999457373,
          43.305812164696704,
          37.678971359212596,
          34.91650731333433,
          37.924280194059776,
          34.63201926066755,
          32.01658255076039,
          33.611142193282205,
          31.804594658243563,
          42.050555069614134,
          46.29176217158946,
          30.35772432334215,
          33.548123276724354,
          44.20358365734509,
          38.67732888261217,
          41.519603134301505,
          35.996028851161526,
          36.514735753884196,
          39.930460619295395,
          44.99671660439345,
          42.030666687878345,
          38.9913785976304,
          31.336781141244252,
          38.79870048619163,
          42.35001326461016,
          37.35506621908799,
          33.39512484638861,
          33.40512201363562,
          31.46791438558305,
          30.07281114534078,
          31.165225482634415,
          33.677983672577994,
          30.99146642867818,
          30.419255389653838,
          30.410871644838192,
          45.41348520935075,
          41.621028073530745,
          46.56428358399844,
          49.04757895094847,
          62.739931653004895,
          56.13267008036275,
          60.6971768565652,
          68.05948768388714,
          65.10051826197378,
          70.44943747200561,
          73.57357460413846,
          66.45174576563824,
          84.89443263436522,
          92.30699724619953,
          69.25538122648938,
          71.41799438180432,
          49.81801175769723,
          54.40934140604109,
          52.9894471764955,
          49.44198975186766,
          45.61388769300776,
          49.44746367345008,
          75.35788953631244,
          72.16938919482789,
          78.83246383606367,
          60.45286473922757,
          69.2448492161971,
          88.47796415648527,
          79.58275049384739,
          59.2477365155895,
          49.79659336771401,
          52.91656249061068,
          74.69759529410301,
          64.05534726751199,
          41.73119498251021,
          50.94936116392032,
          44.71532536031558,
          34.502038573636284,
          55.314102095934274,
          59.18389938473786,
          30.02561640323015,
          26.762693494841347,
          35.0691530697196,
          94.27830856502464,
          49.850200209412385,
          41.38241857390983,
          40.84288169472658,
          28.544281588464486,
          47.92458785448297,
          53.78048051584535,
          42.592650542407064,
          47.44339239687255,
          44.11918826616089,
          36.75336903938906,
          31.223065088724585,
          37.10984650928397,
          30.122957350130722,
          25.61981366958363,
          30.97408943563267,
          35.702925743084506,
          26.90423882005185,
          31.47264132142409,
          33.140904942522795,
          29.046869363077256,
          38.013442099320166,
          37.2438223202437,
          38.131681040527695,
          33.109721915637536,
          31.0273599459102,
          27.904420065683674,
          30.06496851742443,
          35.50436776395438,
          26.57580972047217,
          23.013875409491064,
          40.32525282559041,
          34.75581305405284,
          27.80052782411599,
          22.377069921393947,
          18.872560801072087,
          22.194641561724705,
          18.389818398813183,
          16.242572758503965,
          16.989635701736166,
          14.25875968075131,
          24.341651927846826,
          28.948258578958445,
          14.536567014280779,
          23.412769313438694,
          18.545295874495327,
          25.99169821201799,
          29.246376966384954,
          24.86441309681413,
          25.842882756539456,
          21.38030367603062,
          22.670337602781107,
          25.04131301599399,
          27.31192007734589,
          24.750272893417108,
          21.856372357265286,
          15.069644870824789,
          23.036202777670425,
          26.691617354677312,
          22.224904364204033,
          17.468719639326565,
          18.48104318672317,
          15.968484894312633,
          13.194168743162646,
          16.805095627656,
          19.99252858903462,
          16.262335645813337,
          14.923636093018954,
          14.097209856567094,
          42.61260523093938,
          38.00781213262848,
          41.46777182591165,
          46.025637936317715,
          58.5537776318706,
          53.989861893703186,
          57.99542295719366,
          64.26307780704366,
          57.006352212264765,
          64.32996151444809,
          70.33609779279044,
          62.98753541402925,
          77.35379578460544,
          84.24420735064463,
          48.316615606984065,
          51.558342909970655,
          46.29840645337503,
          44.60160892936671,
          40.020206311129485,
          41.73480802116021,
          67.92317006155463,
          66.67424812555873,
          70.64464267494829,
          52.92298678300244,
          63.771086006095366,
          77.7634328127344,
          70.96132917435219,
          55.99931875464921,
          46.020423895396874,
          49.756325139354416,
          70.14096090370468,
          57.067747607225726,
          30.967761108042993,
          44.57120952622047,
          38.1570942972234,
          25.112730009323883,
          47.246230490950566,
          52.56100696036112,
          26.87834658235483,
          22.733219096979138,
          33.72910103222251,
          85.43580909138268,
          66.24457244648323,
          42.16385655736863,
          38.137646101279515,
          36.66123854221375,
          21.870163337358264,
          38.09864921644771,
          44.10006787728024,
          32.40401335941005,
          38.85226401772563,
          38.23502796597254,
          34.27345845993989,
          29.66967636780252,
          25.38901202525576,
          20.153779082120494,
          19.499152021338706,
          20.867392393788485,
          27.143703451880363,
          22.78013573833904,
          26.884087349166556,
          27.13591363432881,
          23.654222369307714,
          32.95008310262284,
          31.702264909801716,
          31.190369531418323,
          26.650369938047003,
          20.553849396085553,
          17.672746257836266,
          23.19334411599219,
          26.93880181480751,
          21.114909516521116,
          20.765089130288516,
          32.93596104538871,
          31.157541273028773,
          25.07511800906066,
          20.578611165554594,
          16.56230284331364,
          20.394716120097783,
          16.79803264718148,
          13.27370177930134,
          16.13086352005792,
          13.112092503803499,
          22.969647970126317,
          27.522129725231714,
          11.471091402555881,
          17.456104190381886,
          11.762941396746694,
          19.46418462486731,
          18.87909244803614,
          14.113294172444487,
          15.372721877450514,
          10.582239442050598,
          13.980267828873856,
          15.983086418884628,
          24.807024485964124,
          20.749863372844587,
          18.66380954197046,
          11.247780163722863,
          16.752859455276663,
          16.392831481260398,
          12.171504479653915,
          9.929090209606233,
          8.507637601251018,
          8.317251175227547,
          8.705683028602689,
          8.304489408154812,
          10.233457825985912,
          9.353203097468413,
          7.580653991324223,
          8.550969490132688,
          65.76698292288098,
          41.59150277905113,
          38.094397933426336,
          42.0341955784949,
          45.393106030786775,
          56.56969146352646,
          51.606452779330915,
          57.59515505319916,
          62.56776834629192,
          56.611560787613776,
          61.64398677921576,
          66.36350926338595,
          61.85835358404287,
          79.23999703261647,
          85.39827818803693,
          69.75886970552567,
          66.33215014722592,
          59.46790559804967,
          62.44089809127897,
          46.407611901107366,
          50.946429751204064,
          46.45802334813545,
          43.69829481101272,
          40.40837140522833,
          41.61496445836532,
          65.54950528423971,
          66.70172394652755,
          63.940622004424974,
          59.70854563316902,
          69.06057848624698,
          51.49358502942416,
          59.98856774934555,
          76.79284274919569,
          69.65760769410412,
          54.818595290449196,
          44.75360677693388,
          47.85773949628898,
          65.92056128431977,
          55.39880268366472,
          31.189945403361232,
          42.731050261481826,
          37.060119104698735,
          27.64325684981884,
          46.98630644225104,
          50.19068255923316,
          30.62154150811678,
          26.854086365768893,
          35.097639419404544,
          85.65483657246416,
          43.01974589109461,
          39.01639023962221,
          36.18173248264665,
          26.052989867103705,
          37.06111339047962,
          43.59023544039546,
          32.325396646894376,
          39.58048745275467,
          39.338123656613426,
          36.452196916764194,
          32.44660430592235,
          26.400013839336467,
          23.39117414298258,
          22.477659743668077,
          22.784603722015547,
          28.96642945861554,
          26.93332469415573,
          30.246815410640522,
          30.93478123848873,
          28.123060885096592,
          35.37173434444418,
          34.76563828216164,
          34.4481100818989,
          30.896733459420773,
          24.555110779046796,
          22.39142545112432,
          28.58102008513987,
          30.03347139560432,
          26.815416053111466,
          25.44139284918514,
          35.65918819087537,
          33.58114110784154,
          28.057422757119195,
          24.39348854859726,
          21.72154490920205,
          25.438141645997547,
          21.103388931989006,
          18.38954457727862,
          21.125927905489092,
          18.038371986310327,
          25.648146436139715,
          29.90453039384853,
          17.13704109714779,
          23.615871363294104,
          18.97344738305599,
          25.628929334507053,
          22.526029707229224,
          19.49792153825764,
          18.71732130071897,
          16.20457283456996,
          19.873454630402723,
          23.00314105223591,
          27.33184737919259,
          24.110098628355185,
          21.718204033587085,
          16.968269746687106,
          19.665324978415626,
          20.46420449653897,
          16.2131115332988,
          14.994928495216433,
          14.113963929903605,
          13.273389786805936,
          14.519417175295027,
          15.30467684725061,
          16.763986990861277,
          16.68801492535841,
          14.335072409846344,
          15.286004761757225,
          72.98143644795708,
          97.99805107668506,
          98.07704676045334,
          75.48239224850892,
          84.18495878003917,
          70.91886308093268,
          77.651609084577,
          73.1790522910486,
          92.3272362331037,
          95.05107862360691,
          86.71492529902083,
          84.92829751187631,
          76.2530019719647,
          66.76544503675973,
          63.90577232775151,
          63.83396951779612,
          89.80575358509104,
          90.07812140572905,
          85.69624078187316,
          80.95550844860986,
          65.71326867104597,
          35.22257798553862,
          42.01928528187399,
          43.889509453907394,
          37.06327155529847,
          48.71991027267899,
          49.566409284510684,
          56.82754153911104,
          50.226626807491385,
          61.23392196011782,
          57.64576931867516,
          44.12759290875135,
          34.84025576977236,
          38.73490474335487,
          32.48439425099437,
          57.550648876730044,
          51.73064289577665,
          42.51642685094026,
          35.80637034016016,
          33.35293183000411,
          45.03951898814534,
          40.03447654419614,
          39.06425759102734,
          50.483523360485655,
          45.31232221846459,
          65.49985142473233,
          57.04427808965699,
          43.07390070703703,
          36.5064800052574,
          37.803220531034626,
          62.466908321016966,
          51.899191431692934,
          54.79893044160812,
          67.28133413010389,
          56.81830272789387,
          46.11204568810373,
          45.64715044159814,
          69.49776568974089,
          78.45088082147356,
          74.61786767537485,
          59.78481681623209,
          80.3444061095677,
          82.38554686062528,
          68.53372614000793,
          66.2835024451835,
          57.0155519164371,
          55.80843128608271,
          50.56325154282128,
          48.70625457073448,
          47.741351206852144,
          42.07700242589548,
          50.12003560021889,
          45.859646435745006,
          70.51767357113638,
          69.86846927922389,
          74.61376816964189,
          82.87101985491488,
          92.68497308803046,
          86.10212435496474,
          77.5467267251983,
          70.96734197955982,
          98.02686639715007
         ],
         "y": [
          64.77076925800654,
          56.91832300017474,
          54.957776778242966,
          59.947646140946524,
          27.041019158273535,
          8.217198879175172,
          18.745565987367495,
          33.548798920057365,
          59.646266387132655,
          54.98404035329167,
          61.07598947423543,
          65.57926054317338,
          64.11588103613815,
          72.5208252726053,
          65.97921615610885,
          82.50611882672584,
          99.73897115499017,
          114.27352400627026,
          125.73624316464063,
          109.3751777074523,
          138.9266571270098,
          133.41276355666838,
          122.51087640642635,
          128.19505079058942,
          76.67194952941905,
          68.28883743362512,
          63.59242324628548,
          71.4047132846971,
          53.27125023063299,
          46.035467166260815,
          55.9664401085269,
          58.23925886383958,
          52.81224852600411,
          46.05118610187864,
          39.26560652373957,
          47.270563002295575,
          11.30453616845638,
          16.363040143696065,
          9.891655707741325,
          7.547142901101348,
          6.794910959336777,
          0.4955427585841357,
          1.3098414513463232,
          13.78865827453178,
          63.89232551820497,
          71.73158206803737,
          99.96903742957934,
          106.49456639687325,
          103.48284619136506,
          97.59057521208076,
          101.46888130541276,
          110.55786048261764,
          104.24105154942878,
          92.59724702284576,
          113.3590010054581,
          118.02052262440496,
          106.1220973457494,
          100.53844198832607,
          99.07427827823173,
          105.29858800568695,
          64.72770919877021,
          70.13325431786367,
          80.0632165402854,
          77.4373696723564,
          69.60833463432832,
          73.17484408080341,
          99.3312103773335,
          90.03561201036435,
          84.56972152923457,
          92.1061651355813,
          102.1258758441673,
          110.63620133447849,
          116.72836277278405,
          108.67880403911596,
          121.66120897141306,
          129.76087474417923,
          132.241652016971,
          125.3108402002955,
          98.91221162202275,
          84.2376407601621,
          149.87981085553417,
          146.1245925428174,
          158.0471383730008,
          158.65338879268077,
          111.06580641276001,
          108.54720535685641,
          114.91168753657065,
          114.10401630740726,
          8.257126677661775,
          15.64089043629115,
          11.041539762109483,
          17.67214406802232,
          19.051137856244964,
          86.93881927487779,
          75.1099517582969,
          81.26707037002896,
          110.29292878416037,
          100.23079755368305,
          91.68647565592421,
          102.85187902579324,
          138.97059318547025,
          129.38047323749498,
          138.65130131774208,
          148.57916889272784,
          43.56459463930113,
          37.055608652015714,
          86.97456381861664,
          76.7482776611096,
          70.69675250830343,
          57.6460393994341,
          42.97581511032247,
          36.744963411367564,
          54.970205782390764,
          44.611629401898426,
          25.245354929474207,
          47.093058494243,
          28.717671997302222,
          31.59097246508635,
          22.23721009384356,
          44.614355869569025,
          58.31503571660574,
          108.21558250313672,
          15.619452629628759,
          39.648551222762954,
          45.22351477052827,
          56.786386246535216,
          52.53561070054547,
          80.42611275193416,
          73.99173534307039,
          66.61808047950197,
          68.29425639221466,
          83.51555763114237,
          89.97246409331109,
          104.96670079060969,
          97.72674350323679,
          88.8397463994894,
          97.9390078118605,
          105.64472532510591,
          95.46879720311877,
          98.99903130693038,
          108.71635041983201,
          137.19527419115082,
          131.3641312401065,
          116.7282559908153,
          102.45375222616427,
          95.3570401230992,
          105.20888827390179,
          114.16085803707361,
          118.32380901909868,
          93.95094147296177,
          98.8749268169621,
          102.24645315548447,
          98.54284765626761,
          136.9401455755815,
          128.0248840026905,
          98.11270203935561,
          96.12507172419278,
          95.97013355367523,
          85.32481876458785,
          86.02193372476889,
          157.13471805945971,
          155.1105917397356,
          157.5780829209418,
          161.99197017305974,
          118.04749941376758,
          110.35305589969349,
          112.39582857189286,
          120.0484634783386,
          86.82047717650534,
          79.36797159975302,
          84.98400732443571,
          92.12209290904546,
          80.02098826671985,
          83.96506656441417,
          122.72866225622091,
          121.00975451856596,
          115.77148607763687,
          115.62623142903676,
          118.28043223794462,
          125.76123771502918,
          135.70878692870826,
          146.9824612151556,
          154.48027791450843,
          150.3151604718989,
          138.82595070964763,
          115.40876184916365,
          112.20737754090085,
          118.20739052961892,
          91.30109051287427,
          93.7161289110528,
          56.96236710059355,
          77.9132660899783,
          79.89546373707329,
          55.169333295898625,
          100.31621507328956,
          93.70902574183492,
          139.72648970204355,
          144.1558502767911,
          150.78470044469665,
          149.2918180841414,
          127.6959653050709,
          164.8770293098259,
          165.38864654057008,
          116.10893997143668,
          110.12595551282779,
          104.26396986359147,
          140.94625345353174,
          113.28094400934268,
          104.19808603506024,
          97.33776934808935,
          93.57460364061085,
          101.80118810533786,
          113.98433535603805,
          122.74058086625811,
          101.45882797622178,
          91.53591320473947,
          96.01076800090537,
          82.45387051309787,
          104.55810068369908,
          92.90811983791981,
          132.61419951672403,
          128.0870415703823,
          125.55718994520481,
          122.12877607827205,
          127.42587306380068,
          124.43919685846745,
          123.08206997096828,
          72.91557124365674,
          108.96730701594713,
          55.15158725537146,
          56.63513335242841,
          41.61442808863374,
          31.747531700847087,
          24.817475634610584,
          35.75940491626955,
          36.9153608307847,
          22.83061072656442,
          107.88217395857626,
          114.19600672378165,
          55.27355300743916,
          49.6534215901124,
          77.66750521811248,
          74.12222134326505,
          93.76786775186604,
          81.48612489112404,
          104.89339496468318,
          137.56174521556804,
          135.81744989715628,
          27.775645825762787,
          33.44120667163987,
          30.38706494667207,
          28.93550420193274,
          21.418293682770983,
          22.37026816372498,
          60.01930970719753,
          63.946639811530304,
          125.53799793923073,
          115.96793201135677,
          85.6300471711494,
          90.5019794814669,
          95.063145128323,
          107.60441398762134,
          113.98724766887267,
          111.503952636073,
          30.462372771474108,
          49.18497789644116,
          56.94808917442275,
          61.51089833185517,
          104.48128173787302,
          143.05842859746338,
          136.33725073094828,
          111.26530400304928,
          111.16556511508483,
          106.20958372286137,
          104.92017116094526,
          124.23057369652584,
          142.89500048955793,
          143.1698102432407,
          154.28082869254538,
          74.17823031110056,
          115.38665262707184,
          120.87000779889416,
          125.99195447960302,
          119.17990461315682,
          101.54422688412244,
          72.24538591144412,
          27.989257373932404,
          36.075401515224804,
          117.0950237553953,
          159.0015348269154,
          156.11098546005297,
          160.1648467355627,
          151.83207162783046,
          143.7781164026673,
          128.03487764887558,
          121.50488320932051,
          113.90169098683947,
          109.33042124058043,
          107.60437909889015,
          130.58361588919158,
          129.7279978758073,
          122.98671794122588,
          132.8119044138726,
          131.92142703646067,
          119.99470203387743,
          119.33179109345208,
          122.55601145275308,
          124.53511990272095,
          128.48452211565188,
          123.57673793286261,
          126.36235926233812,
          130.0566950104891,
          134.6798382164103,
          138.06481779263495,
          134.11193261558486,
          131.85260958388116,
          125.40362488725,
          128.7199568357951,
          131.41801796778154,
          136.0404931546741,
          135.98891587094613,
          112.05318995268348,
          117.55743154049294,
          122.50643621159293,
          127.82060248366177,
          118.12894475462645,
          123.06603660251223,
          127.95210197224527,
          120.92975979665287,
          125.21670048802386,
          111.70557042500783,
          109.56295826483532,
          127.85261327182496,
          135.61915144856047,
          136.09933633724737,
          138.98128813934602,
          136.1391688417704,
          139.46120260592411,
          140.86727574326892,
          139.03397504321705,
          109.9569909532759,
          116.6834230337035,
          118.40967033445108,
          125.97452496736278,
          124.788929743042,
          131.95622484256245,
          135.57420298800932,
          132.55861326093535,
          137.54900952019895,
          134.317509572984,
          129.30998942591813,
          137.42692057732236,
          140.07782197037477,
          133.66833858592491,
          135.1413448805491,
          131.61310406464565,
          142.38849413944996,
          148.36353061685728,
          143.69618456334317,
          138.49917832024104,
          150.06596800702886,
          143.5791249823687,
          139.68883949075,
          147.62661343919072,
          158.95026120012787,
          156.81911518681162,
          144.96836248722602,
          136.68086621720434,
          123.39314067244251,
          131.62789870861403,
          132.89358962653324,
          138.57242596476692,
          141.6155882833938,
          137.61664343673235,
          153.94786252772306,
          145.93221009112017,
          150.08980048489136,
          157.57981495465984,
          119.29612370730729,
          125.20830255150659,
          119.96174942387852,
          160.51933337906686,
          162.70399675113177,
          150.17975181767702,
          148.86113368317504,
          133.21819121112642,
          138.61884395308192,
          133.62760684636254,
          154.8868895335354,
          164.66173762108104,
          173.26307523045992,
          166.02687931278894,
          161.41105363864816,
          171.20946300375172,
          163.45798335216716,
          166.09403458546888,
          155.24171043273535,
          161.37470475417422,
          153.54536367048823,
          143.03796710836727,
          158.37148095145812,
          153.6445766982167,
          154.97354140700855,
          167.4295408500395,
          172.57946860488477,
          166.0989481159206,
          174.8376543891182,
          169.13165018149866,
          161.39431028808474,
          157.50369471660414,
          157.18446476155594,
          176.46302953387217,
          175.59346745253413,
          169.62027068531768,
          181.91367494797115,
          181.39932039097027,
          177.3181711307106,
          172.70144779866877,
          176.15281076085589,
          180.5925056630655,
          170.0868013665601,
          173.94039977140795,
          177.8280271755226,
          181.94210000922575,
          185.7809741887789,
          191.0722976521554,
          187.4341839015811,
          182.20420989051044,
          184.61686591307128,
          184.14896179174463,
          175.24753084225208,
          161.88866826957496,
          170.1935952507048,
          176.290945829556,
          184.5507775736287,
          170.25132518268654,
          176.942301245492,
          184.08973106363803,
          172.37130066688152,
          179.28839266226274,
          161.4097486607325,
          159.72305119105087,
          182.90857498109224,
          191.08544101069137,
          190.5585253364407,
          190.32131361288108,
          186.92599225407014,
          191.79483935834338,
          187.3942462950383,
          192.41611082250301,
          194.39231948173622,
          193.6211076193848,
          158.89676618189895,
          164.09217751592706,
          166.4740444042387,
          177.20789980895725,
          172.71419838743435,
          179.9240489084897,
          186.0393606953821,
          182.7215958062463,
          192.01323309963826,
          187.91517434987526,
          182.7360768611555,
          193.64123488069012,
          194.58523356704674,
          189.22011233688272,
          190.27307513756864,
          186.55948465555528,
          157.97494240038571,
          160.78377008726065,
          156.2335465869466,
          153.38320786922318,
          170.53201774632038,
          164.7747812770592,
          160.41123218695495,
          165.84963586915333,
          178.0505697379,
          173.45604113485373,
          163.16929773041608,
          157.0620824951482,
          146.67400677379922,
          155.3351212862474,
          160.4334206146482,
          156.0972258109268,
          165.5181518707495,
          158.52937903161782,
          162.7814396655738,
          168.63377238569032,
          137.9044437157678,
          141.95793958602536,
          140.7631053844565,
          173.39128329275536,
          176.61692956057664,
          168.14018483542586,
          162.75640049631025,
          152.20232749127902,
          151.99339447224168,
          149.28218973550833,
          170.64739714837464,
          178.42764685051873,
          191.64319483784257,
          179.2387966257576,
          172.50372777988466,
          188.18811809052534,
          176.14491832460877,
          181.6912769396534,
          171.8260893311842,
          175.16094003760884,
          171.8527169686152,
          164.72950652841124,
          152.23302840368595,
          179.88055664962198,
          174.49874648851568,
          166.5601768587942,
          182.16771253837177,
          191.53652937800607,
          186.96867792757965,
          193.86566936095625,
          188.87316535312496,
          182.16274342779025,
          176.91071712926637,
          174.3993077376607,
          194.3114045737872,
          191.249034014201,
          183.13801682876638,
          196.9221799080037,
          198.75739205743403,
          193.71967270098804,
          190.11235190074294,
          191.92662265078897,
          196.3315679399222,
          188.3128209852978,
          191.01674270616874,
          194.94792880762841,
          199.51641503519505,
          202.32462056721795,
          205.2334291454197,
          203.1292216784493,
          198.93214935790292,
          199.51063926450405,
          197.64560043807998,
          193.44425260560246,
          181.13901003071325,
          186.070063679969,
          189.34839070225905,
          193.99511994404895,
          183.21808001385494,
          187.59831683805368,
          191.8326892953352,
          182.8473742611737,
          187.4153394561441,
          175.51668647462876,
          176.91824700081273,
          191.07171790179228,
          203.85209941683954,
          200.8372411544301,
          203.6828967836117,
          202.31803430014463,
          206.10597848531708,
          200.4723232143246,
          204.1392921988011,
          207.11123049819076,
          206.61480627350818,
          173.7616360298051,
          177.01866148879927,
          178.38893158285734,
          186.14303181241053,
          184.3090455148868,
          193.67332802033286,
          196.70801334263732,
          191.90611143815255,
          200.4502125391209,
          196.0159395591226,
          190.07731053667868,
          201.00011959701882,
          205.15960892442817,
          197.14110964440275,
          197.20761410387658,
          194.20943588829115,
          146.72093166363834,
          178.62770130978913,
          179.39457481843746,
          177.28105366215803,
          174.6941414216468,
          189.86481995320617,
          184.72307437877905,
          180.62821372511513,
          186.1244144166695,
          195.18885771574978,
          191.6486488571328,
          183.1061585369136,
          176.51680633792083,
          160.946061884684,
          166.61554663674008,
          158.98684747103965,
          150.35800485576073,
          160.05828009822199,
          166.0273010227307,
          180.83117664614005,
          175.81077214751753,
          183.05523125070332,
          177.36171756674253,
          180.17667506303107,
          185.9447209671896,
          147.118678857349,
          145.91854455424777,
          151.15712224747145,
          155.85543470681617,
          153.67851448343828,
          188.26336818595487,
          191.95045443481987,
          175.00271341539835,
          170.50562885906018,
          172.47482130520353,
          173.35377284183943,
          171.03778159384908,
          189.85584072042147,
          194.42089203126605,
          201.77456810912028,
          193.30430055989885,
          187.7257433288784,
          198.60274357035033,
          191.35592993405928,
          197.0641657170166,
          187.95044335627432,
          189.32366904078924,
          189.4730648390012,
          173.78057446090597,
          197.83124528193815,
          193.18206372231458,
          182.6300810307756,
          193.73099115151538,
          204.14699896792925,
          202.83572694626577,
          208.50894720963902,
          205.39249288070584,
          200.01892786383,
          194.95677523897947,
          191.57671974728734,
          206.38601885468665,
          202.560236239696,
          196.65499930668156,
          210.8331438159719,
          214.70761804112595,
          212.36154615258647,
          208.5032167089158,
          210.18100747074058,
          213.8631642524114,
          205.82453154055918,
          208.59029371979855,
          211.06282775196829,
          215.72379421539094,
          219.4229540003252,
          222.82029932134787,
          219.58088245270778,
          215.71072097502122,
          217.58650876352448,
          217.26998355838182,
          209.72922025721078,
          198.8852951142298,
          205.86329096740104,
          211.4463371288526,
          216.7582171354017,
          202.51158957355867,
          209.34145945736128,
          214.5815071314592,
          200.38406563692348,
          207.9048894571607,
          192.53228037593215,
          194.8330866804385,
          212.91312202155046,
          222.63956621471416,
          220.84707966284586,
          222.72217732138535,
          219.23949103529299,
          223.3145607213861,
          217.11036451004867,
          221.5044307017437,
          224.56392813187458,
          223.90920194406416,
          190.33758322077097,
          191.93536208917422,
          194.4622768132414,
          201.78925217175728,
          199.5720713501416,
          205.87610551678938,
          212.82847589467806,
          207.53938547637628,
          218.38179345454088,
          213.36039020065576,
          209.08403744219166,
          219.67493283709842,
          222.56599870583253,
          218.1511542950075,
          216.39490492709055,
          214.62388158991158,
          165.32112370691715,
          56.66085726096776,
          63.72113427752008,
          61.99132510749406,
          69.5506606958841,
          51.85765500609964,
          40.01926657999865,
          43.63503677411862,
          69.26236951940801,
          48.74512889419698,
          40.67637597057324,
          55.22800208018778,
          47.37778439592932,
          45.8345616229888,
          49.45448986808617,
          55.13639988013271,
          63.3471207701499,
          69.96687914847497,
          73.63778790963447,
          73.01858611816311,
          75.00828753055627,
          76.57229918458155,
          69.49373996078245,
          70.69990546159235,
          76.23435469462419,
          63.90685036595745,
          66.79970399342746,
          68.73381476463756,
          74.35433246422353,
          75.19345528567106,
          80.93020693968631,
          79.97626343634295,
          80.14520461255943,
          84.99221963552169,
          82.99730237428423,
          65.65613040314568,
          58.79588516263927,
          69.37183744447871,
          78.83901489459976,
          86.05900759385258,
          73.43734919839964,
          82.33652426062773,
          89.13019687995681,
          79.28077700510602,
          86.26679653285821,
          66.5866402842495,
          60.266603424866055,
          89.69895777424969,
          89.21411901366413,
          92.4138882241718,
          83.65130777113785,
          86.1579660979025,
          89.7167547089393,
          85.98935902648451,
          92.65185665391266,
          92.17841855752401,
          87.64221684529072,
          63.48903274788112,
          70.2806319931665,
          72.81685864575722,
          84.82476161140468,
          77.62653900411483,
          76.81611394235766,
          88.29487693457232,
          88.10004536206627,
          93.97358036862796,
          93.18359655975259,
          90.74415316218575,
          95.28999385880196,
          95.00751291637401,
          93.5775421510147,
          94.09776318720408,
          92.63317930848844,
          143.53011136890927,
          137.30807218273094,
          131.65079284520215,
          121.30696309534795,
          120.39478732041827,
          114.58291505389336,
          125.4668106025127,
          134.06088908188383,
          100.34440823091553
         ]
        }
       ],
       "layout": {
        "margin": {
         "t": 60
        },
        "template": {
         "data": {
          "bar": [
           {
            "error_x": {
             "color": "#2a3f5f"
            },
            "error_y": {
             "color": "#2a3f5f"
            },
            "marker": {
             "line": {
              "color": "#E5ECF6",
              "width": 0.5
             }
            },
            "type": "bar"
           }
          ],
          "barpolar": [
           {
            "marker": {
             "line": {
              "color": "#E5ECF6",
              "width": 0.5
             }
            },
            "type": "barpolar"
           }
          ],
          "carpet": [
           {
            "aaxis": {
             "endlinecolor": "#2a3f5f",
             "gridcolor": "white",
             "linecolor": "white",
             "minorgridcolor": "white",
             "startlinecolor": "#2a3f5f"
            },
            "baxis": {
             "endlinecolor": "#2a3f5f",
             "gridcolor": "white",
             "linecolor": "white",
             "minorgridcolor": "white",
             "startlinecolor": "#2a3f5f"
            },
            "type": "carpet"
           }
          ],
          "choropleth": [
           {
            "colorbar": {
             "outlinewidth": 0,
             "ticks": ""
            },
            "type": "choropleth"
           }
          ],
          "contour": [
           {
            "colorbar": {
             "outlinewidth": 0,
             "ticks": ""
            },
            "colorscale": [
             [
              0,
              "#0d0887"
             ],
             [
              0.1111111111111111,
              "#46039f"
             ],
             [
              0.2222222222222222,
              "#7201a8"
             ],
             [
              0.3333333333333333,
              "#9c179e"
             ],
             [
              0.4444444444444444,
              "#bd3786"
             ],
             [
              0.5555555555555556,
              "#d8576b"
             ],
             [
              0.6666666666666666,
              "#ed7953"
             ],
             [
              0.7777777777777778,
              "#fb9f3a"
             ],
             [
              0.8888888888888888,
              "#fdca26"
             ],
             [
              1,
              "#f0f921"
             ]
            ],
            "type": "contour"
           }
          ],
          "contourcarpet": [
           {
            "colorbar": {
             "outlinewidth": 0,
             "ticks": ""
            },
            "type": "contourcarpet"
           }
          ],
          "heatmap": [
           {
            "colorbar": {
             "outlinewidth": 0,
             "ticks": ""
            },
            "colorscale": [
             [
              0,
              "#0d0887"
             ],
             [
              0.1111111111111111,
              "#46039f"
             ],
             [
              0.2222222222222222,
              "#7201a8"
             ],
             [
              0.3333333333333333,
              "#9c179e"
             ],
             [
              0.4444444444444444,
              "#bd3786"
             ],
             [
              0.5555555555555556,
              "#d8576b"
             ],
             [
              0.6666666666666666,
              "#ed7953"
             ],
             [
              0.7777777777777778,
              "#fb9f3a"
             ],
             [
              0.8888888888888888,
              "#fdca26"
             ],
             [
              1,
              "#f0f921"
             ]
            ],
            "type": "heatmap"
           }
          ],
          "heatmapgl": [
           {
            "colorbar": {
             "outlinewidth": 0,
             "ticks": ""
            },
            "colorscale": [
             [
              0,
              "#0d0887"
             ],
             [
              0.1111111111111111,
              "#46039f"
             ],
             [
              0.2222222222222222,
              "#7201a8"
             ],
             [
              0.3333333333333333,
              "#9c179e"
             ],
             [
              0.4444444444444444,
              "#bd3786"
             ],
             [
              0.5555555555555556,
              "#d8576b"
             ],
             [
              0.6666666666666666,
              "#ed7953"
             ],
             [
              0.7777777777777778,
              "#fb9f3a"
             ],
             [
              0.8888888888888888,
              "#fdca26"
             ],
             [
              1,
              "#f0f921"
             ]
            ],
            "type": "heatmapgl"
           }
          ],
          "histogram": [
           {
            "marker": {
             "colorbar": {
              "outlinewidth": 0,
              "ticks": ""
             }
            },
            "type": "histogram"
           }
          ],
          "histogram2d": [
           {
            "colorbar": {
             "outlinewidth": 0,
             "ticks": ""
            },
            "colorscale": [
             [
              0,
              "#0d0887"
             ],
             [
              0.1111111111111111,
              "#46039f"
             ],
             [
              0.2222222222222222,
              "#7201a8"
             ],
             [
              0.3333333333333333,
              "#9c179e"
             ],
             [
              0.4444444444444444,
              "#bd3786"
             ],
             [
              0.5555555555555556,
              "#d8576b"
             ],
             [
              0.6666666666666666,
              "#ed7953"
             ],
             [
              0.7777777777777778,
              "#fb9f3a"
             ],
             [
              0.8888888888888888,
              "#fdca26"
             ],
             [
              1,
              "#f0f921"
             ]
            ],
            "type": "histogram2d"
           }
          ],
          "histogram2dcontour": [
           {
            "colorbar": {
             "outlinewidth": 0,
             "ticks": ""
            },
            "colorscale": [
             [
              0,
              "#0d0887"
             ],
             [
              0.1111111111111111,
              "#46039f"
             ],
             [
              0.2222222222222222,
              "#7201a8"
             ],
             [
              0.3333333333333333,
              "#9c179e"
             ],
             [
              0.4444444444444444,
              "#bd3786"
             ],
             [
              0.5555555555555556,
              "#d8576b"
             ],
             [
              0.6666666666666666,
              "#ed7953"
             ],
             [
              0.7777777777777778,
              "#fb9f3a"
             ],
             [
              0.8888888888888888,
              "#fdca26"
             ],
             [
              1,
              "#f0f921"
             ]
            ],
            "type": "histogram2dcontour"
           }
          ],
          "mesh3d": [
           {
            "colorbar": {
             "outlinewidth": 0,
             "ticks": ""
            },
            "type": "mesh3d"
           }
          ],
          "parcoords": [
           {
            "line": {
             "colorbar": {
              "outlinewidth": 0,
              "ticks": ""
             }
            },
            "type": "parcoords"
           }
          ],
          "pie": [
           {
            "automargin": true,
            "type": "pie"
           }
          ],
          "scatter": [
           {
            "marker": {
             "colorbar": {
              "outlinewidth": 0,
              "ticks": ""
             }
            },
            "type": "scatter"
           }
          ],
          "scatter3d": [
           {
            "line": {
             "colorbar": {
              "outlinewidth": 0,
              "ticks": ""
             }
            },
            "marker": {
             "colorbar": {
              "outlinewidth": 0,
              "ticks": ""
             }
            },
            "type": "scatter3d"
           }
          ],
          "scattercarpet": [
           {
            "marker": {
             "colorbar": {
              "outlinewidth": 0,
              "ticks": ""
             }
            },
            "type": "scattercarpet"
           }
          ],
          "scattergeo": [
           {
            "marker": {
             "colorbar": {
              "outlinewidth": 0,
              "ticks": ""
             }
            },
            "type": "scattergeo"
           }
          ],
          "scattergl": [
           {
            "marker": {
             "colorbar": {
              "outlinewidth": 0,
              "ticks": ""
             }
            },
            "type": "scattergl"
           }
          ],
          "scattermapbox": [
           {
            "marker": {
             "colorbar": {
              "outlinewidth": 0,
              "ticks": ""
             }
            },
            "type": "scattermapbox"
           }
          ],
          "scatterpolar": [
           {
            "marker": {
             "colorbar": {
              "outlinewidth": 0,
              "ticks": ""
             }
            },
            "type": "scatterpolar"
           }
          ],
          "scatterpolargl": [
           {
            "marker": {
             "colorbar": {
              "outlinewidth": 0,
              "ticks": ""
             }
            },
            "type": "scatterpolargl"
           }
          ],
          "scatterternary": [
           {
            "marker": {
             "colorbar": {
              "outlinewidth": 0,
              "ticks": ""
             }
            },
            "type": "scatterternary"
           }
          ],
          "surface": [
           {
            "colorbar": {
             "outlinewidth": 0,
             "ticks": ""
            },
            "colorscale": [
             [
              0,
              "#0d0887"
             ],
             [
              0.1111111111111111,
              "#46039f"
             ],
             [
              0.2222222222222222,
              "#7201a8"
             ],
             [
              0.3333333333333333,
              "#9c179e"
             ],
             [
              0.4444444444444444,
              "#bd3786"
             ],
             [
              0.5555555555555556,
              "#d8576b"
             ],
             [
              0.6666666666666666,
              "#ed7953"
             ],
             [
              0.7777777777777778,
              "#fb9f3a"
             ],
             [
              0.8888888888888888,
              "#fdca26"
             ],
             [
              1,
              "#f0f921"
             ]
            ],
            "type": "surface"
           }
          ],
          "table": [
           {
            "cells": {
             "fill": {
              "color": "#EBF0F8"
             },
             "line": {
              "color": "white"
             }
            },
            "header": {
             "fill": {
              "color": "#C8D4E3"
             },
             "line": {
              "color": "white"
             }
            },
            "type": "table"
           }
          ]
         },
         "layout": {
          "annotationdefaults": {
           "arrowcolor": "#2a3f5f",
           "arrowhead": 0,
           "arrowwidth": 1
          },
          "autotypenumbers": "strict",
          "coloraxis": {
           "colorbar": {
            "outlinewidth": 0,
            "ticks": ""
           }
          },
          "colorscale": {
           "diverging": [
            [
             0,
             "#8e0152"
            ],
            [
             0.1,
             "#c51b7d"
            ],
            [
             0.2,
             "#de77ae"
            ],
            [
             0.3,
             "#f1b6da"
            ],
            [
             0.4,
             "#fde0ef"
            ],
            [
             0.5,
             "#f7f7f7"
            ],
            [
             0.6,
             "#e6f5d0"
            ],
            [
             0.7,
             "#b8e186"
            ],
            [
             0.8,
             "#7fbc41"
            ],
            [
             0.9,
             "#4d9221"
            ],
            [
             1,
             "#276419"
            ]
           ],
           "sequential": [
            [
             0,
             "#0d0887"
            ],
            [
             0.1111111111111111,
             "#46039f"
            ],
            [
             0.2222222222222222,
             "#7201a8"
            ],
            [
             0.3333333333333333,
             "#9c179e"
            ],
            [
             0.4444444444444444,
             "#bd3786"
            ],
            [
             0.5555555555555556,
             "#d8576b"
            ],
            [
             0.6666666666666666,
             "#ed7953"
            ],
            [
             0.7777777777777778,
             "#fb9f3a"
            ],
            [
             0.8888888888888888,
             "#fdca26"
            ],
            [
             1,
             "#f0f921"
            ]
           ],
           "sequentialminus": [
            [
             0,
             "#0d0887"
            ],
            [
             0.1111111111111111,
             "#46039f"
            ],
            [
             0.2222222222222222,
             "#7201a8"
            ],
            [
             0.3333333333333333,
             "#9c179e"
            ],
            [
             0.4444444444444444,
             "#bd3786"
            ],
            [
             0.5555555555555556,
             "#d8576b"
            ],
            [
             0.6666666666666666,
             "#ed7953"
            ],
            [
             0.7777777777777778,
             "#fb9f3a"
            ],
            [
             0.8888888888888888,
             "#fdca26"
            ],
            [
             1,
             "#f0f921"
            ]
           ]
          },
          "colorway": [
           "#636efa",
           "#EF553B",
           "#00cc96",
           "#ab63fa",
           "#FFA15A",
           "#19d3f3",
           "#FF6692",
           "#B6E880",
           "#FF97FF",
           "#FECB52"
          ],
          "font": {
           "color": "#2a3f5f"
          },
          "geo": {
           "bgcolor": "white",
           "lakecolor": "white",
           "landcolor": "#E5ECF6",
           "showlakes": true,
           "showland": true,
           "subunitcolor": "white"
          },
          "hoverlabel": {
           "align": "left"
          },
          "hovermode": "closest",
          "mapbox": {
           "style": "light"
          },
          "paper_bgcolor": "white",
          "plot_bgcolor": "#E5ECF6",
          "polar": {
           "angularaxis": {
            "gridcolor": "white",
            "linecolor": "white",
            "ticks": ""
           },
           "bgcolor": "#E5ECF6",
           "radialaxis": {
            "gridcolor": "white",
            "linecolor": "white",
            "ticks": ""
           }
          },
          "scene": {
           "xaxis": {
            "backgroundcolor": "#E5ECF6",
            "gridcolor": "white",
            "gridwidth": 2,
            "linecolor": "white",
            "showbackground": true,
            "ticks": "",
            "zerolinecolor": "white"
           },
           "yaxis": {
            "backgroundcolor": "#E5ECF6",
            "gridcolor": "white",
            "gridwidth": 2,
            "linecolor": "white",
            "showbackground": true,
            "ticks": "",
            "zerolinecolor": "white"
           },
           "zaxis": {
            "backgroundcolor": "#E5ECF6",
            "gridcolor": "white",
            "gridwidth": 2,
            "linecolor": "white",
            "showbackground": true,
            "ticks": "",
            "zerolinecolor": "white"
           }
          },
          "shapedefaults": {
           "line": {
            "color": "#2a3f5f"
           }
          },
          "ternary": {
           "aaxis": {
            "gridcolor": "white",
            "linecolor": "white",
            "ticks": ""
           },
           "baxis": {
            "gridcolor": "white",
            "linecolor": "white",
            "ticks": ""
           },
           "bgcolor": "#E5ECF6",
           "caxis": {
            "gridcolor": "white",
            "linecolor": "white",
            "ticks": ""
           }
          },
          "title": {
           "x": 0.05
          },
          "xaxis": {
           "automargin": true,
           "gridcolor": "white",
           "linecolor": "white",
           "ticks": "",
           "title": {
            "standoff": 15
           },
           "zerolinecolor": "white",
           "zerolinewidth": 2
          },
          "yaxis": {
           "automargin": true,
           "gridcolor": "white",
           "linecolor": "white",
           "ticks": "",
           "title": {
            "standoff": 15
           },
           "zerolinecolor": "white",
           "zerolinewidth": 2
          }
         }
        },
        "xaxis": {
         "anchor": "y",
         "domain": [
          0,
          1
         ]
        },
        "yaxis": {
         "anchor": "x",
         "domain": [
          0,
          1
         ]
        }
       }
      },
      "text/html": [
       "<div>                            <div id=\"2fd382fa-94bb-4515-83e8-d301e07865b4\" class=\"plotly-graph-div\" style=\"height:525px; width:100%;\"></div>            <script type=\"text/javascript\">                require([\"plotly\"], function(Plotly) {                    window.PLOTLYENV=window.PLOTLYENV || {};                                    if (document.getElementById(\"2fd382fa-94bb-4515-83e8-d301e07865b4\")) {                    Plotly.newPlot(                        \"2fd382fa-94bb-4515-83e8-d301e07865b4\",                        [{\"hovertemplate\": \"x: %{x}<br>y: %{y}<br>color: [%{z[0]}, %{z[1]}, %{z[2]}]<extra></extra>\", \"name\": \"0\", \"source\": \"data:image/png;base64,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\", \"type\": \"image\", \"xaxis\": \"x\", \"yaxis\": \"y\"}, {\"marker\": {\"color\": \"red\", \"opacity\": 0.7, \"size\": 2}, \"mode\": \"markers\", \"type\": \"scatter\", \"x\": [109.70604428105264, 115.68506712592217, 105.384612320156, 103.33719567356277, 103.6173092581311, 112.06856648830848, 95.61640411003722, 90.03532661290045, 100.78472979895187, 97.6648171326336, 109.00074888766962, 116.16056810678649, 105.55077635655955, 114.70237940047144, 133.4225991860981, 126.06359521059811, 147.07849830875156, 144.89841506222933, 128.3747060815212, 131.18727574364138, 124.8838969099195, 126.16211238960697, 144.18095592097185, 142.28678357772677, 114.9406507504892, 123.07964690879166, 123.50036138074488, 115.02427717042124, 114.26771546036866, 128.43557805121276, 121.86059165860878, 107.738287046604, 132.6089231268092, 155.58398982170812, 158.25447343118321, 137.71836207134592, 146.3644623417264, 165.43755536107497, 185.31585130696214, 170.2828170285563, 127.19325134034257, 147.57278169995837, 127.18385374054039, 107.31458101949237, 153.73648885787, 135.93847451865759, 57.93285893701551, 53.68723898006082, 58.13255060462709, 61.433351891450194, 161.23988998727867, 174.19145750739833, 180.21280346738854, 169.73519687852317, 150.46323654595716, 165.4383834188508, 72.91847802527377, 68.04928406478248, 73.49588533298169, 78.49345039578829, 101.10751365796082, 102.00605459494798, 86.96373017497403, 94.47418403697245, 98.20376162342127, 93.7252419368005, 94.34291212995917, 105.0401552042879, 105.1892888025298, 93.30363882576265, 98.59448652969516, 88.57529915033892, 85.58507722942007, 92.02627715545908, 73.92846875579548, 70.6142466832843, 70.0263362217857, 73.86114893709389, 188.5239128989671, 178.86864641468011, 115.09201868046114, 107.16837825947839, 92.3917397177343, 104.92822960496666, 184.023619794626, 190.63029566779812, 74.08469665731728, 79.08452204339355, 149.03204116337835, 121.94798406427579, 171.9428415271249, 188.06264907152425, 200.86420539310492, 88.31991906639733, 106.90916522981755, 113.79685771025707, 91.6605939399731, 101.55581473201939, 100.78621160438121, 93.14005067481273, 93.58045688560996, 84.59434339748209, 75.11332982177011, 81.67486090027016, 115.46617093541877, 132.44925147851265, 148.42588446218323, 159.12992766200833, 173.62057035858794, 127.21626646659882, 140.87121874255692, 140.49456697894502, 129.7395096956764, 116.75408201487727, 121.43989666462353, 101.98387472976862, 163.58243205095204, 173.38268578419496, 178.40672002631982, 171.42108762394977, 170.89169355801974, 202.6739106587885, 183.0492232067283, 85.81108275327797, 83.2888319123184, 88.29066092323632, 89.77820357096938, 110.3485418370881, 100.368394870638, 106.35982476374559, 118.59355305041262, 121.23967888579887, 82.03644341029965, 83.94030672948558, 79.19226361579672, 95.65262637751562, 100.15530387323228, 80.52020690276576, 79.44794819549338, 78.71582325786453, 77.72074560392562, 68.43789892402819, 71.79013098720827, 111.38158069463512, 123.46519344659195, 133.85781634221865, 92.30917529371888, 81.93854356761209, 80.45801464690533, 84.4904322448616, 79.70086406554096, 80.95501701126604, 85.69635219906178, 124.01807728546761, 107.72284811412507, 62.83415858036201, 67.34534063005714, 103.18606776153517, 145.245737446539, 111.95452022084763, 95.17359351823755, 84.86924070297579, 78.82577752815354, 86.5314036008949, 65.57870681007458, 61.06632306882496, 57.20522417514193, 61.54271040833773, 82.03934116092412, 88.0338149954125, 82.49167893470812, 79.10491633556234, 95.2766456634335, 89.39970269461493, 73.81763513373596, 82.56320671895507, 95.3931482489471, 84.09157446426794, 161.26195588773135, 155.5537005310668, 136.23206724560845, 119.43814325228438, 103.63732826987757, 112.31033000624205, 132.53094847132428, 90.55997295180828, 104.30182395393017, 100.80878268414823, 106.14635992159998, 73.19228519271917, 204.49120876349525, 206.03732030365296, 195.43963016782206, 192.21729442363772, 61.55653925839253, 65.71787574119888, 68.19661957370639, 67.21144804177382, 68.29903163558114, 67.17727453172978, 153.5795466734, 83.63098854487804, 96.28855304520704, 173.06578904844895, 178.66791298477716, 190.79354561086538, 107.6142017995521, 161.81497094915886, 179.0270691087651, 193.89156640966291, 204.5226868743961, 200.22678905163343, 84.52782478714896, 76.44451723226499, 213.1350371189633, 216.49185858868412, 180.21824792684964, 178.74034917523267, 163.48917829291685, 162.23983854108602, 117.93781533144768, 56.0569949946616, 63.768159882850625, 56.96668040943217, 50.61853199736559, 68.91839330568762, 70.90244131694604, 159.11460630786328, 78.08866553929961, 172.72376980151898, 147.44949719189697, 153.56084663162974, 186.35701132004277, 165.47579337427157, 209.64790150391423, 198.2035807651723, 141.89387995735703, 47.298538676261956, 44.49132212996419, 216.08202198258599, 93.2758031740161, 114.11457529459194, 118.24258250429644, 108.93526703066028, 109.06013744121174, 52.75535776644027, 73.97101197097027, 75.94828236806671, 89.8035520691893, 85.63731028604795, 100.35020554635754, 90.96783665542387, 99.67534739660474, 110.20099732758322, 124.49645598327044, 121.3682031609764, 137.99347720660137, 120.94955018642456, 103.06191331549233, 117.57745127558061, 108.28543637415723, 102.07111571207845, 81.77940594477842, 88.40411389693736, 131.67286302099467, 127.42078862769841, 96.5036048977524, 97.22569406236612, 86.13788912048045, 97.09991514746997, 105.52634321994992, 79.16311375103676, 61.91380131017724, 57.09992095670033, 110.77098582277127, 75.81120365707372, 96.85292199884383, 85.29175138929871, 74.77903624149616, 217.65319803615444, 52.202101022818105, 45.0914546991424, 61.406129197622086, 65.03206623950462, 132.82092603236163, 120.43019293025486, 125.1907244460031, 110.78497509318451, 74.59418739858957, 94.39441503803832, 102.0603172648805, 93.42516107277501, 90.40041705875329, 81.8795951875041, 56.87606081258259, 60.62668111167944, 57.88907722990694, 53.279275115132464, 48.979870502325355, 51.45901373893365, 46.416527224048245, 42.07984684671155, 47.284643085975475, 51.14233888413792, 45.981278076805765, 51.9671001369346, 51.140123436836845, 46.7367556902297, 43.007295565646494, 41.52156237250324, 53.14735370528491, 47.437654695462385, 45.739220457327896, 42.20697525371021, 43.859315101972136, 50.101792739061985, 54.71049607152558, 38.3472475543833, 41.06094425832223, 41.0226629134773, 36.472372447709645, 49.56750999457373, 43.305812164696704, 37.678971359212596, 34.91650731333433, 37.924280194059776, 34.63201926066755, 32.01658255076039, 33.611142193282205, 31.804594658243563, 42.050555069614134, 46.29176217158946, 30.35772432334215, 33.548123276724354, 44.20358365734509, 38.67732888261217, 41.519603134301505, 35.996028851161526, 36.514735753884196, 39.930460619295395, 44.99671660439345, 42.030666687878345, 38.9913785976304, 31.336781141244252, 38.79870048619163, 42.35001326461016, 37.35506621908799, 33.39512484638861, 33.40512201363562, 31.46791438558305, 30.07281114534078, 31.165225482634415, 33.677983672577994, 30.99146642867818, 30.419255389653838, 30.410871644838192, 45.41348520935075, 41.621028073530745, 46.56428358399844, 49.04757895094847, 62.739931653004895, 56.13267008036275, 60.6971768565652, 68.05948768388714, 65.10051826197378, 70.44943747200561, 73.57357460413846, 66.45174576563824, 84.89443263436522, 92.30699724619953, 69.25538122648938, 71.41799438180432, 49.81801175769723, 54.40934140604109, 52.9894471764955, 49.44198975186766, 45.61388769300776, 49.44746367345008, 75.35788953631244, 72.16938919482789, 78.83246383606367, 60.45286473922757, 69.2448492161971, 88.47796415648527, 79.58275049384739, 59.2477365155895, 49.79659336771401, 52.91656249061068, 74.69759529410301, 64.05534726751199, 41.73119498251021, 50.94936116392032, 44.71532536031558, 34.502038573636284, 55.314102095934274, 59.18389938473786, 30.02561640323015, 26.762693494841347, 35.0691530697196, 94.27830856502464, 49.850200209412385, 41.38241857390983, 40.84288169472658, 28.544281588464486, 47.92458785448297, 53.78048051584535, 42.592650542407064, 47.44339239687255, 44.11918826616089, 36.75336903938906, 31.223065088724585, 37.10984650928397, 30.122957350130722, 25.61981366958363, 30.97408943563267, 35.702925743084506, 26.90423882005185, 31.47264132142409, 33.140904942522795, 29.046869363077256, 38.013442099320166, 37.2438223202437, 38.131681040527695, 33.109721915637536, 31.0273599459102, 27.904420065683674, 30.06496851742443, 35.50436776395438, 26.57580972047217, 23.013875409491064, 40.32525282559041, 34.75581305405284, 27.80052782411599, 22.377069921393947, 18.872560801072087, 22.194641561724705, 18.389818398813183, 16.242572758503965, 16.989635701736166, 14.25875968075131, 24.341651927846826, 28.948258578958445, 14.536567014280779, 23.412769313438694, 18.545295874495327, 25.99169821201799, 29.246376966384954, 24.86441309681413, 25.842882756539456, 21.38030367603062, 22.670337602781107, 25.04131301599399, 27.31192007734589, 24.750272893417108, 21.856372357265286, 15.069644870824789, 23.036202777670425, 26.691617354677312, 22.224904364204033, 17.468719639326565, 18.48104318672317, 15.968484894312633, 13.194168743162646, 16.805095627656, 19.99252858903462, 16.262335645813337, 14.923636093018954, 14.097209856567094, 42.61260523093938, 38.00781213262848, 41.46777182591165, 46.025637936317715, 58.5537776318706, 53.989861893703186, 57.99542295719366, 64.26307780704366, 57.006352212264765, 64.32996151444809, 70.33609779279044, 62.98753541402925, 77.35379578460544, 84.24420735064463, 48.316615606984065, 51.558342909970655, 46.29840645337503, 44.60160892936671, 40.020206311129485, 41.73480802116021, 67.92317006155463, 66.67424812555873, 70.64464267494829, 52.92298678300244, 63.771086006095366, 77.7634328127344, 70.96132917435219, 55.99931875464921, 46.020423895396874, 49.756325139354416, 70.14096090370468, 57.067747607225726, 30.967761108042993, 44.57120952622047, 38.1570942972234, 25.112730009323883, 47.246230490950566, 52.56100696036112, 26.87834658235483, 22.733219096979138, 33.72910103222251, 85.43580909138268, 66.24457244648323, 42.16385655736863, 38.137646101279515, 36.66123854221375, 21.870163337358264, 38.09864921644771, 44.10006787728024, 32.40401335941005, 38.85226401772563, 38.23502796597254, 34.27345845993989, 29.66967636780252, 25.38901202525576, 20.153779082120494, 19.499152021338706, 20.867392393788485, 27.143703451880363, 22.78013573833904, 26.884087349166556, 27.13591363432881, 23.654222369307714, 32.95008310262284, 31.702264909801716, 31.190369531418323, 26.650369938047003, 20.553849396085553, 17.672746257836266, 23.19334411599219, 26.93880181480751, 21.114909516521116, 20.765089130288516, 32.93596104538871, 31.157541273028773, 25.07511800906066, 20.578611165554594, 16.56230284331364, 20.394716120097783, 16.79803264718148, 13.27370177930134, 16.13086352005792, 13.112092503803499, 22.969647970126317, 27.522129725231714, 11.471091402555881, 17.456104190381886, 11.762941396746694, 19.46418462486731, 18.87909244803614, 14.113294172444487, 15.372721877450514, 10.582239442050598, 13.980267828873856, 15.983086418884628, 24.807024485964124, 20.749863372844587, 18.66380954197046, 11.247780163722863, 16.752859455276663, 16.392831481260398, 12.171504479653915, 9.929090209606233, 8.507637601251018, 8.317251175227547, 8.705683028602689, 8.304489408154812, 10.233457825985912, 9.353203097468413, 7.580653991324223, 8.550969490132688, 65.76698292288098, 41.59150277905113, 38.094397933426336, 42.0341955784949, 45.393106030786775, 56.56969146352646, 51.606452779330915, 57.59515505319916, 62.56776834629192, 56.611560787613776, 61.64398677921576, 66.36350926338595, 61.85835358404287, 79.23999703261647, 85.39827818803693, 69.75886970552567, 66.33215014722592, 59.46790559804967, 62.44089809127897, 46.407611901107366, 50.946429751204064, 46.45802334813545, 43.69829481101272, 40.40837140522833, 41.61496445836532, 65.54950528423971, 66.70172394652755, 63.940622004424974, 59.70854563316902, 69.06057848624698, 51.49358502942416, 59.98856774934555, 76.79284274919569, 69.65760769410412, 54.818595290449196, 44.75360677693388, 47.85773949628898, 65.92056128431977, 55.39880268366472, 31.189945403361232, 42.731050261481826, 37.060119104698735, 27.64325684981884, 46.98630644225104, 50.19068255923316, 30.62154150811678, 26.854086365768893, 35.097639419404544, 85.65483657246416, 43.01974589109461, 39.01639023962221, 36.18173248264665, 26.052989867103705, 37.06111339047962, 43.59023544039546, 32.325396646894376, 39.58048745275467, 39.338123656613426, 36.452196916764194, 32.44660430592235, 26.400013839336467, 23.39117414298258, 22.477659743668077, 22.784603722015547, 28.96642945861554, 26.93332469415573, 30.246815410640522, 30.93478123848873, 28.123060885096592, 35.37173434444418, 34.76563828216164, 34.4481100818989, 30.896733459420773, 24.555110779046796, 22.39142545112432, 28.58102008513987, 30.03347139560432, 26.815416053111466, 25.44139284918514, 35.65918819087537, 33.58114110784154, 28.057422757119195, 24.39348854859726, 21.72154490920205, 25.438141645997547, 21.103388931989006, 18.38954457727862, 21.125927905489092, 18.038371986310327, 25.648146436139715, 29.90453039384853, 17.13704109714779, 23.615871363294104, 18.97344738305599, 25.628929334507053, 22.526029707229224, 19.49792153825764, 18.71732130071897, 16.20457283456996, 19.873454630402723, 23.00314105223591, 27.33184737919259, 24.110098628355185, 21.718204033587085, 16.968269746687106, 19.665324978415626, 20.46420449653897, 16.2131115332988, 14.994928495216433, 14.113963929903605, 13.273389786805936, 14.519417175295027, 15.30467684725061, 16.763986990861277, 16.68801492535841, 14.335072409846344, 15.286004761757225, 72.98143644795708, 97.99805107668506, 98.07704676045334, 75.48239224850892, 84.18495878003917, 70.91886308093268, 77.651609084577, 73.1790522910486, 92.3272362331037, 95.05107862360691, 86.71492529902083, 84.92829751187631, 76.2530019719647, 66.76544503675973, 63.90577232775151, 63.83396951779612, 89.80575358509104, 90.07812140572905, 85.69624078187316, 80.95550844860986, 65.71326867104597, 35.22257798553862, 42.01928528187399, 43.889509453907394, 37.06327155529847, 48.71991027267899, 49.566409284510684, 56.82754153911104, 50.226626807491385, 61.23392196011782, 57.64576931867516, 44.12759290875135, 34.84025576977236, 38.73490474335487, 32.48439425099437, 57.550648876730044, 51.73064289577665, 42.51642685094026, 35.80637034016016, 33.35293183000411, 45.03951898814534, 40.03447654419614, 39.06425759102734, 50.483523360485655, 45.31232221846459, 65.49985142473233, 57.04427808965699, 43.07390070703703, 36.5064800052574, 37.803220531034626, 62.466908321016966, 51.899191431692934, 54.79893044160812, 67.28133413010389, 56.81830272789387, 46.11204568810373, 45.64715044159814, 69.49776568974089, 78.45088082147356, 74.61786767537485, 59.78481681623209, 80.3444061095677, 82.38554686062528, 68.53372614000793, 66.2835024451835, 57.0155519164371, 55.80843128608271, 50.56325154282128, 48.70625457073448, 47.741351206852144, 42.07700242589548, 50.12003560021889, 45.859646435745006, 70.51767357113638, 69.86846927922389, 74.61376816964189, 82.87101985491488, 92.68497308803046, 86.10212435496474, 77.5467267251983, 70.96734197955982, 98.02686639715007], \"y\": [64.77076925800654, 56.91832300017474, 54.957776778242966, 59.947646140946524, 27.041019158273535, 8.217198879175172, 18.745565987367495, 33.548798920057365, 59.646266387132655, 54.98404035329167, 61.07598947423543, 65.57926054317338, 64.11588103613815, 72.5208252726053, 65.97921615610885, 82.50611882672584, 99.73897115499017, 114.27352400627026, 125.73624316464063, 109.3751777074523, 138.9266571270098, 133.41276355666838, 122.51087640642635, 128.19505079058942, 76.67194952941905, 68.28883743362512, 63.59242324628548, 71.4047132846971, 53.27125023063299, 46.035467166260815, 55.9664401085269, 58.23925886383958, 52.81224852600411, 46.05118610187864, 39.26560652373957, 47.270563002295575, 11.30453616845638, 16.363040143696065, 9.891655707741325, 7.547142901101348, 6.794910959336777, 0.4955427585841357, 1.3098414513463232, 13.78865827453178, 63.89232551820497, 71.73158206803737, 99.96903742957934, 106.49456639687325, 103.48284619136506, 97.59057521208076, 101.46888130541276, 110.55786048261764, 104.24105154942878, 92.59724702284576, 113.3590010054581, 118.02052262440496, 106.1220973457494, 100.53844198832607, 99.07427827823173, 105.29858800568695, 64.72770919877021, 70.13325431786367, 80.0632165402854, 77.4373696723564, 69.60833463432832, 73.17484408080341, 99.3312103773335, 90.03561201036435, 84.56972152923457, 92.1061651355813, 102.1258758441673, 110.63620133447849, 116.72836277278405, 108.67880403911596, 121.66120897141306, 129.76087474417923, 132.241652016971, 125.3108402002955, 98.91221162202275, 84.2376407601621, 149.87981085553417, 146.1245925428174, 158.0471383730008, 158.65338879268077, 111.06580641276001, 108.54720535685641, 114.91168753657065, 114.10401630740726, 8.257126677661775, 15.64089043629115, 11.041539762109483, 17.67214406802232, 19.051137856244964, 86.93881927487779, 75.1099517582969, 81.26707037002896, 110.29292878416037, 100.23079755368305, 91.68647565592421, 102.85187902579324, 138.97059318547025, 129.38047323749498, 138.65130131774208, 148.57916889272784, 43.56459463930113, 37.055608652015714, 86.97456381861664, 76.7482776611096, 70.69675250830343, 57.6460393994341, 42.97581511032247, 36.744963411367564, 54.970205782390764, 44.611629401898426, 25.245354929474207, 47.093058494243, 28.717671997302222, 31.59097246508635, 22.23721009384356, 44.614355869569025, 58.31503571660574, 108.21558250313672, 15.619452629628759, 39.648551222762954, 45.22351477052827, 56.786386246535216, 52.53561070054547, 80.42611275193416, 73.99173534307039, 66.61808047950197, 68.29425639221466, 83.51555763114237, 89.97246409331109, 104.96670079060969, 97.72674350323679, 88.8397463994894, 97.9390078118605, 105.64472532510591, 95.46879720311877, 98.99903130693038, 108.71635041983201, 137.19527419115082, 131.3641312401065, 116.7282559908153, 102.45375222616427, 95.3570401230992, 105.20888827390179, 114.16085803707361, 118.32380901909868, 93.95094147296177, 98.8749268169621, 102.24645315548447, 98.54284765626761, 136.9401455755815, 128.0248840026905, 98.11270203935561, 96.12507172419278, 95.97013355367523, 85.32481876458785, 86.02193372476889, 157.13471805945971, 155.1105917397356, 157.5780829209418, 161.99197017305974, 118.04749941376758, 110.35305589969349, 112.39582857189286, 120.0484634783386, 86.82047717650534, 79.36797159975302, 84.98400732443571, 92.12209290904546, 80.02098826671985, 83.96506656441417, 122.72866225622091, 121.00975451856596, 115.77148607763687, 115.62623142903676, 118.28043223794462, 125.76123771502918, 135.70878692870826, 146.9824612151556, 154.48027791450843, 150.3151604718989, 138.82595070964763, 115.40876184916365, 112.20737754090085, 118.20739052961892, 91.30109051287427, 93.7161289110528, 56.96236710059355, 77.9132660899783, 79.89546373707329, 55.169333295898625, 100.31621507328956, 93.70902574183492, 139.72648970204355, 144.1558502767911, 150.78470044469665, 149.2918180841414, 127.6959653050709, 164.8770293098259, 165.38864654057008, 116.10893997143668, 110.12595551282779, 104.26396986359147, 140.94625345353174, 113.28094400934268, 104.19808603506024, 97.33776934808935, 93.57460364061085, 101.80118810533786, 113.98433535603805, 122.74058086625811, 101.45882797622178, 91.53591320473947, 96.01076800090537, 82.45387051309787, 104.55810068369908, 92.90811983791981, 132.61419951672403, 128.0870415703823, 125.55718994520481, 122.12877607827205, 127.42587306380068, 124.43919685846745, 123.08206997096828, 72.91557124365674, 108.96730701594713, 55.15158725537146, 56.63513335242841, 41.61442808863374, 31.747531700847087, 24.817475634610584, 35.75940491626955, 36.9153608307847, 22.83061072656442, 107.88217395857626, 114.19600672378165, 55.27355300743916, 49.6534215901124, 77.66750521811248, 74.12222134326505, 93.76786775186604, 81.48612489112404, 104.89339496468318, 137.56174521556804, 135.81744989715628, 27.775645825762787, 33.44120667163987, 30.38706494667207, 28.93550420193274, 21.418293682770983, 22.37026816372498, 60.01930970719753, 63.946639811530304, 125.53799793923073, 115.96793201135677, 85.6300471711494, 90.5019794814669, 95.063145128323, 107.60441398762134, 113.98724766887267, 111.503952636073, 30.462372771474108, 49.18497789644116, 56.94808917442275, 61.51089833185517, 104.48128173787302, 143.05842859746338, 136.33725073094828, 111.26530400304928, 111.16556511508483, 106.20958372286137, 104.92017116094526, 124.23057369652584, 142.89500048955793, 143.1698102432407, 154.28082869254538, 74.17823031110056, 115.38665262707184, 120.87000779889416, 125.99195447960302, 119.17990461315682, 101.54422688412244, 72.24538591144412, 27.989257373932404, 36.075401515224804, 117.0950237553953, 159.0015348269154, 156.11098546005297, 160.1648467355627, 151.83207162783046, 143.7781164026673, 128.03487764887558, 121.50488320932051, 113.90169098683947, 109.33042124058043, 107.60437909889015, 130.58361588919158, 129.7279978758073, 122.98671794122588, 132.8119044138726, 131.92142703646067, 119.99470203387743, 119.33179109345208, 122.55601145275308, 124.53511990272095, 128.48452211565188, 123.57673793286261, 126.36235926233812, 130.0566950104891, 134.6798382164103, 138.06481779263495, 134.11193261558486, 131.85260958388116, 125.40362488725, 128.7199568357951, 131.41801796778154, 136.0404931546741, 135.98891587094613, 112.05318995268348, 117.55743154049294, 122.50643621159293, 127.82060248366177, 118.12894475462645, 123.06603660251223, 127.95210197224527, 120.92975979665287, 125.21670048802386, 111.70557042500783, 109.56295826483532, 127.85261327182496, 135.61915144856047, 136.09933633724737, 138.98128813934602, 136.1391688417704, 139.46120260592411, 140.86727574326892, 139.03397504321705, 109.9569909532759, 116.6834230337035, 118.40967033445108, 125.97452496736278, 124.788929743042, 131.95622484256245, 135.57420298800932, 132.55861326093535, 137.54900952019895, 134.317509572984, 129.30998942591813, 137.42692057732236, 140.07782197037477, 133.66833858592491, 135.1413448805491, 131.61310406464565, 142.38849413944996, 148.36353061685728, 143.69618456334317, 138.49917832024104, 150.06596800702886, 143.5791249823687, 139.68883949075, 147.62661343919072, 158.95026120012787, 156.81911518681162, 144.96836248722602, 136.68086621720434, 123.39314067244251, 131.62789870861403, 132.89358962653324, 138.57242596476692, 141.6155882833938, 137.61664343673235, 153.94786252772306, 145.93221009112017, 150.08980048489136, 157.57981495465984, 119.29612370730729, 125.20830255150659, 119.96174942387852, 160.51933337906686, 162.70399675113177, 150.17975181767702, 148.86113368317504, 133.21819121112642, 138.61884395308192, 133.62760684636254, 154.8868895335354, 164.66173762108104, 173.26307523045992, 166.02687931278894, 161.41105363864816, 171.20946300375172, 163.45798335216716, 166.09403458546888, 155.24171043273535, 161.37470475417422, 153.54536367048823, 143.03796710836727, 158.37148095145812, 153.6445766982167, 154.97354140700855, 167.4295408500395, 172.57946860488477, 166.0989481159206, 174.8376543891182, 169.13165018149866, 161.39431028808474, 157.50369471660414, 157.18446476155594, 176.46302953387217, 175.59346745253413, 169.62027068531768, 181.91367494797115, 181.39932039097027, 177.3181711307106, 172.70144779866877, 176.15281076085589, 180.5925056630655, 170.0868013665601, 173.94039977140795, 177.8280271755226, 181.94210000922575, 185.7809741887789, 191.0722976521554, 187.4341839015811, 182.20420989051044, 184.61686591307128, 184.14896179174463, 175.24753084225208, 161.88866826957496, 170.1935952507048, 176.290945829556, 184.5507775736287, 170.25132518268654, 176.942301245492, 184.08973106363803, 172.37130066688152, 179.28839266226274, 161.4097486607325, 159.72305119105087, 182.90857498109224, 191.08544101069137, 190.5585253364407, 190.32131361288108, 186.92599225407014, 191.79483935834338, 187.3942462950383, 192.41611082250301, 194.39231948173622, 193.6211076193848, 158.89676618189895, 164.09217751592706, 166.4740444042387, 177.20789980895725, 172.71419838743435, 179.9240489084897, 186.0393606953821, 182.7215958062463, 192.01323309963826, 187.91517434987526, 182.7360768611555, 193.64123488069012, 194.58523356704674, 189.22011233688272, 190.27307513756864, 186.55948465555528, 157.97494240038571, 160.78377008726065, 156.2335465869466, 153.38320786922318, 170.53201774632038, 164.7747812770592, 160.41123218695495, 165.84963586915333, 178.0505697379, 173.45604113485373, 163.16929773041608, 157.0620824951482, 146.67400677379922, 155.3351212862474, 160.4334206146482, 156.0972258109268, 165.5181518707495, 158.52937903161782, 162.7814396655738, 168.63377238569032, 137.9044437157678, 141.95793958602536, 140.7631053844565, 173.39128329275536, 176.61692956057664, 168.14018483542586, 162.75640049631025, 152.20232749127902, 151.99339447224168, 149.28218973550833, 170.64739714837464, 178.42764685051873, 191.64319483784257, 179.2387966257576, 172.50372777988466, 188.18811809052534, 176.14491832460877, 181.6912769396534, 171.8260893311842, 175.16094003760884, 171.8527169686152, 164.72950652841124, 152.23302840368595, 179.88055664962198, 174.49874648851568, 166.5601768587942, 182.16771253837177, 191.53652937800607, 186.96867792757965, 193.86566936095625, 188.87316535312496, 182.16274342779025, 176.91071712926637, 174.3993077376607, 194.3114045737872, 191.249034014201, 183.13801682876638, 196.9221799080037, 198.75739205743403, 193.71967270098804, 190.11235190074294, 191.92662265078897, 196.3315679399222, 188.3128209852978, 191.01674270616874, 194.94792880762841, 199.51641503519505, 202.32462056721795, 205.2334291454197, 203.1292216784493, 198.93214935790292, 199.51063926450405, 197.64560043807998, 193.44425260560246, 181.13901003071325, 186.070063679969, 189.34839070225905, 193.99511994404895, 183.21808001385494, 187.59831683805368, 191.8326892953352, 182.8473742611737, 187.4153394561441, 175.51668647462876, 176.91824700081273, 191.07171790179228, 203.85209941683954, 200.8372411544301, 203.6828967836117, 202.31803430014463, 206.10597848531708, 200.4723232143246, 204.1392921988011, 207.11123049819076, 206.61480627350818, 173.7616360298051, 177.01866148879927, 178.38893158285734, 186.14303181241053, 184.3090455148868, 193.67332802033286, 196.70801334263732, 191.90611143815255, 200.4502125391209, 196.0159395591226, 190.07731053667868, 201.00011959701882, 205.15960892442817, 197.14110964440275, 197.20761410387658, 194.20943588829115, 146.72093166363834, 178.62770130978913, 179.39457481843746, 177.28105366215803, 174.6941414216468, 189.86481995320617, 184.72307437877905, 180.62821372511513, 186.1244144166695, 195.18885771574978, 191.6486488571328, 183.1061585369136, 176.51680633792083, 160.946061884684, 166.61554663674008, 158.98684747103965, 150.35800485576073, 160.05828009822199, 166.0273010227307, 180.83117664614005, 175.81077214751753, 183.05523125070332, 177.36171756674253, 180.17667506303107, 185.9447209671896, 147.118678857349, 145.91854455424777, 151.15712224747145, 155.85543470681617, 153.67851448343828, 188.26336818595487, 191.95045443481987, 175.00271341539835, 170.50562885906018, 172.47482130520353, 173.35377284183943, 171.03778159384908, 189.85584072042147, 194.42089203126605, 201.77456810912028, 193.30430055989885, 187.7257433288784, 198.60274357035033, 191.35592993405928, 197.0641657170166, 187.95044335627432, 189.32366904078924, 189.4730648390012, 173.78057446090597, 197.83124528193815, 193.18206372231458, 182.6300810307756, 193.73099115151538, 204.14699896792925, 202.83572694626577, 208.50894720963902, 205.39249288070584, 200.01892786383, 194.95677523897947, 191.57671974728734, 206.38601885468665, 202.560236239696, 196.65499930668156, 210.8331438159719, 214.70761804112595, 212.36154615258647, 208.5032167089158, 210.18100747074058, 213.8631642524114, 205.82453154055918, 208.59029371979855, 211.06282775196829, 215.72379421539094, 219.4229540003252, 222.82029932134787, 219.58088245270778, 215.71072097502122, 217.58650876352448, 217.26998355838182, 209.72922025721078, 198.8852951142298, 205.86329096740104, 211.4463371288526, 216.7582171354017, 202.51158957355867, 209.34145945736128, 214.5815071314592, 200.38406563692348, 207.9048894571607, 192.53228037593215, 194.8330866804385, 212.91312202155046, 222.63956621471416, 220.84707966284586, 222.72217732138535, 219.23949103529299, 223.3145607213861, 217.11036451004867, 221.5044307017437, 224.56392813187458, 223.90920194406416, 190.33758322077097, 191.93536208917422, 194.4622768132414, 201.78925217175728, 199.5720713501416, 205.87610551678938, 212.82847589467806, 207.53938547637628, 218.38179345454088, 213.36039020065576, 209.08403744219166, 219.67493283709842, 222.56599870583253, 218.1511542950075, 216.39490492709055, 214.62388158991158, 165.32112370691715, 56.66085726096776, 63.72113427752008, 61.99132510749406, 69.5506606958841, 51.85765500609964, 40.01926657999865, 43.63503677411862, 69.26236951940801, 48.74512889419698, 40.67637597057324, 55.22800208018778, 47.37778439592932, 45.8345616229888, 49.45448986808617, 55.13639988013271, 63.3471207701499, 69.96687914847497, 73.63778790963447, 73.01858611816311, 75.00828753055627, 76.57229918458155, 69.49373996078245, 70.69990546159235, 76.23435469462419, 63.90685036595745, 66.79970399342746, 68.73381476463756, 74.35433246422353, 75.19345528567106, 80.93020693968631, 79.97626343634295, 80.14520461255943, 84.99221963552169, 82.99730237428423, 65.65613040314568, 58.79588516263927, 69.37183744447871, 78.83901489459976, 86.05900759385258, 73.43734919839964, 82.33652426062773, 89.13019687995681, 79.28077700510602, 86.26679653285821, 66.5866402842495, 60.266603424866055, 89.69895777424969, 89.21411901366413, 92.4138882241718, 83.65130777113785, 86.1579660979025, 89.7167547089393, 85.98935902648451, 92.65185665391266, 92.17841855752401, 87.64221684529072, 63.48903274788112, 70.2806319931665, 72.81685864575722, 84.82476161140468, 77.62653900411483, 76.81611394235766, 88.29487693457232, 88.10004536206627, 93.97358036862796, 93.18359655975259, 90.74415316218575, 95.28999385880196, 95.00751291637401, 93.5775421510147, 94.09776318720408, 92.63317930848844, 143.53011136890927, 137.30807218273094, 131.65079284520215, 121.30696309534795, 120.39478732041827, 114.58291505389336, 125.4668106025127, 134.06088908188383, 100.34440823091553]}],                        {\"margin\": {\"t\": 60}, \"template\": {\"data\": {\"bar\": [{\"error_x\": {\"color\": \"#2a3f5f\"}, \"error_y\": {\"color\": \"#2a3f5f\"}, \"marker\": {\"line\": {\"color\": \"#E5ECF6\", \"width\": 0.5}}, \"type\": \"bar\"}], \"barpolar\": [{\"marker\": {\"line\": {\"color\": \"#E5ECF6\", \"width\": 0.5}}, \"type\": \"barpolar\"}], \"carpet\": [{\"aaxis\": {\"endlinecolor\": \"#2a3f5f\", \"gridcolor\": \"white\", \"linecolor\": \"white\", \"minorgridcolor\": \"white\", \"startlinecolor\": \"#2a3f5f\"}, \"baxis\": {\"endlinecolor\": \"#2a3f5f\", \"gridcolor\": \"white\", \"linecolor\": \"white\", \"minorgridcolor\": \"white\", \"startlinecolor\": \"#2a3f5f\"}, \"type\": \"carpet\"}], \"choropleth\": [{\"colorbar\": {\"outlinewidth\": 0, \"ticks\": \"\"}, \"type\": \"choropleth\"}], \"contour\": [{\"colorbar\": {\"outlinewidth\": 0, \"ticks\": \"\"}, \"colorscale\": [[0.0, \"#0d0887\"], [0.1111111111111111, \"#46039f\"], [0.2222222222222222, \"#7201a8\"], [0.3333333333333333, \"#9c179e\"], [0.4444444444444444, \"#bd3786\"], [0.5555555555555556, \"#d8576b\"], [0.6666666666666666, \"#ed7953\"], [0.7777777777777778, \"#fb9f3a\"], [0.8888888888888888, \"#fdca26\"], [1.0, \"#f0f921\"]], \"type\": \"contour\"}], \"contourcarpet\": [{\"colorbar\": {\"outlinewidth\": 0, \"ticks\": \"\"}, \"type\": \"contourcarpet\"}], \"heatmap\": [{\"colorbar\": {\"outlinewidth\": 0, \"ticks\": \"\"}, \"colorscale\": [[0.0, \"#0d0887\"], [0.1111111111111111, \"#46039f\"], [0.2222222222222222, \"#7201a8\"], [0.3333333333333333, \"#9c179e\"], [0.4444444444444444, \"#bd3786\"], [0.5555555555555556, \"#d8576b\"], [0.6666666666666666, \"#ed7953\"], [0.7777777777777778, \"#fb9f3a\"], [0.8888888888888888, \"#fdca26\"], [1.0, \"#f0f921\"]], \"type\": \"heatmap\"}], \"heatmapgl\": [{\"colorbar\": {\"outlinewidth\": 0, \"ticks\": \"\"}, \"colorscale\": [[0.0, \"#0d0887\"], [0.1111111111111111, \"#46039f\"], [0.2222222222222222, \"#7201a8\"], [0.3333333333333333, \"#9c179e\"], [0.4444444444444444, \"#bd3786\"], [0.5555555555555556, \"#d8576b\"], [0.6666666666666666, \"#ed7953\"], [0.7777777777777778, \"#fb9f3a\"], [0.8888888888888888, \"#fdca26\"], [1.0, \"#f0f921\"]], \"type\": \"heatmapgl\"}], \"histogram\": [{\"marker\": {\"colorbar\": {\"outlinewidth\": 0, \"ticks\": \"\"}}, \"type\": \"histogram\"}], \"histogram2d\": [{\"colorbar\": {\"outlinewidth\": 0, \"ticks\": \"\"}, \"colorscale\": [[0.0, \"#0d0887\"], [0.1111111111111111, \"#46039f\"], [0.2222222222222222, \"#7201a8\"], [0.3333333333333333, \"#9c179e\"], [0.4444444444444444, \"#bd3786\"], [0.5555555555555556, \"#d8576b\"], [0.6666666666666666, \"#ed7953\"], [0.7777777777777778, \"#fb9f3a\"], [0.8888888888888888, \"#fdca26\"], [1.0, \"#f0f921\"]], \"type\": \"histogram2d\"}], \"histogram2dcontour\": [{\"colorbar\": {\"outlinewidth\": 0, \"ticks\": \"\"}, \"colorscale\": [[0.0, \"#0d0887\"], [0.1111111111111111, \"#46039f\"], [0.2222222222222222, \"#7201a8\"], [0.3333333333333333, \"#9c179e\"], [0.4444444444444444, \"#bd3786\"], [0.5555555555555556, \"#d8576b\"], [0.6666666666666666, \"#ed7953\"], [0.7777777777777778, \"#fb9f3a\"], [0.8888888888888888, \"#fdca26\"], [1.0, \"#f0f921\"]], \"type\": \"histogram2dcontour\"}], \"mesh3d\": [{\"colorbar\": {\"outlinewidth\": 0, \"ticks\": \"\"}, \"type\": \"mesh3d\"}], \"parcoords\": [{\"line\": {\"colorbar\": {\"outlinewidth\": 0, \"ticks\": \"\"}}, \"type\": \"parcoords\"}], \"pie\": [{\"automargin\": true, \"type\": \"pie\"}], \"scatter\": [{\"marker\": {\"colorbar\": {\"outlinewidth\": 0, \"ticks\": \"\"}}, \"type\": \"scatter\"}], \"scatter3d\": [{\"line\": {\"colorbar\": {\"outlinewidth\": 0, \"ticks\": \"\"}}, \"marker\": {\"colorbar\": {\"outlinewidth\": 0, \"ticks\": \"\"}}, \"type\": \"scatter3d\"}], \"scattercarpet\": [{\"marker\": {\"colorbar\": {\"outlinewidth\": 0, \"ticks\": \"\"}}, \"type\": \"scattercarpet\"}], \"scattergeo\": [{\"marker\": {\"colorbar\": {\"outlinewidth\": 0, \"ticks\": \"\"}}, \"type\": \"scattergeo\"}], \"scattergl\": [{\"marker\": {\"colorbar\": {\"outlinewidth\": 0, \"ticks\": \"\"}}, \"type\": \"scattergl\"}], \"scattermapbox\": [{\"marker\": {\"colorbar\": {\"outlinewidth\": 0, \"ticks\": \"\"}}, \"type\": \"scattermapbox\"}], \"scatterpolar\": [{\"marker\": {\"colorbar\": {\"outlinewidth\": 0, \"ticks\": \"\"}}, \"type\": \"scatterpolar\"}], \"scatterpolargl\": [{\"marker\": {\"colorbar\": {\"outlinewidth\": 0, \"ticks\": \"\"}}, \"type\": \"scatterpolargl\"}], \"scatterternary\": [{\"marker\": {\"colorbar\": {\"outlinewidth\": 0, \"ticks\": \"\"}}, \"type\": \"scatterternary\"}], \"surface\": [{\"colorbar\": {\"outlinewidth\": 0, \"ticks\": \"\"}, \"colorscale\": [[0.0, \"#0d0887\"], [0.1111111111111111, \"#46039f\"], [0.2222222222222222, \"#7201a8\"], [0.3333333333333333, \"#9c179e\"], [0.4444444444444444, \"#bd3786\"], [0.5555555555555556, \"#d8576b\"], [0.6666666666666666, \"#ed7953\"], [0.7777777777777778, \"#fb9f3a\"], [0.8888888888888888, \"#fdca26\"], [1.0, \"#f0f921\"]], \"type\": \"surface\"}], \"table\": [{\"cells\": {\"fill\": {\"color\": \"#EBF0F8\"}, \"line\": {\"color\": \"white\"}}, \"header\": {\"fill\": {\"color\": \"#C8D4E3\"}, \"line\": {\"color\": \"white\"}}, \"type\": \"table\"}]}, \"layout\": {\"annotationdefaults\": {\"arrowcolor\": \"#2a3f5f\", \"arrowhead\": 0, \"arrowwidth\": 1}, \"autotypenumbers\": \"strict\", \"coloraxis\": {\"colorbar\": {\"outlinewidth\": 0, \"ticks\": \"\"}}, \"colorscale\": {\"diverging\": [[0, \"#8e0152\"], [0.1, \"#c51b7d\"], [0.2, \"#de77ae\"], [0.3, \"#f1b6da\"], [0.4, \"#fde0ef\"], [0.5, \"#f7f7f7\"], [0.6, \"#e6f5d0\"], [0.7, \"#b8e186\"], [0.8, \"#7fbc41\"], [0.9, \"#4d9221\"], [1, \"#276419\"]], \"sequential\": [[0.0, \"#0d0887\"], [0.1111111111111111, \"#46039f\"], [0.2222222222222222, \"#7201a8\"], [0.3333333333333333, \"#9c179e\"], [0.4444444444444444, \"#bd3786\"], [0.5555555555555556, \"#d8576b\"], [0.6666666666666666, \"#ed7953\"], [0.7777777777777778, \"#fb9f3a\"], [0.8888888888888888, \"#fdca26\"], [1.0, \"#f0f921\"]], \"sequentialminus\": [[0.0, \"#0d0887\"], [0.1111111111111111, \"#46039f\"], [0.2222222222222222, \"#7201a8\"], [0.3333333333333333, \"#9c179e\"], [0.4444444444444444, \"#bd3786\"], [0.5555555555555556, \"#d8576b\"], [0.6666666666666666, \"#ed7953\"], [0.7777777777777778, \"#fb9f3a\"], [0.8888888888888888, \"#fdca26\"], [1.0, \"#f0f921\"]]}, \"colorway\": [\"#636efa\", \"#EF553B\", \"#00cc96\", \"#ab63fa\", \"#FFA15A\", \"#19d3f3\", \"#FF6692\", \"#B6E880\", \"#FF97FF\", \"#FECB52\"], \"font\": {\"color\": \"#2a3f5f\"}, \"geo\": {\"bgcolor\": \"white\", \"lakecolor\": \"white\", \"landcolor\": \"#E5ECF6\", \"showlakes\": true, \"showland\": true, \"subunitcolor\": \"white\"}, \"hoverlabel\": {\"align\": \"left\"}, \"hovermode\": \"closest\", \"mapbox\": {\"style\": \"light\"}, \"paper_bgcolor\": \"white\", \"plot_bgcolor\": \"#E5ECF6\", \"polar\": {\"angularaxis\": {\"gridcolor\": \"white\", \"linecolor\": \"white\", \"ticks\": \"\"}, \"bgcolor\": \"#E5ECF6\", \"radialaxis\": {\"gridcolor\": \"white\", \"linecolor\": \"white\", \"ticks\": \"\"}}, \"scene\": {\"xaxis\": {\"backgroundcolor\": \"#E5ECF6\", \"gridcolor\": \"white\", \"gridwidth\": 2, \"linecolor\": \"white\", \"showbackground\": true, \"ticks\": \"\", \"zerolinecolor\": \"white\"}, \"yaxis\": {\"backgroundcolor\": \"#E5ECF6\", \"gridcolor\": \"white\", \"gridwidth\": 2, \"linecolor\": \"white\", \"showbackground\": true, \"ticks\": \"\", \"zerolinecolor\": \"white\"}, \"zaxis\": {\"backgroundcolor\": \"#E5ECF6\", \"gridcolor\": \"white\", \"gridwidth\": 2, \"linecolor\": \"white\", \"showbackground\": true, \"ticks\": \"\", \"zerolinecolor\": \"white\"}}, \"shapedefaults\": {\"line\": {\"color\": \"#2a3f5f\"}}, \"ternary\": {\"aaxis\": {\"gridcolor\": \"white\", \"linecolor\": \"white\", \"ticks\": \"\"}, \"baxis\": {\"gridcolor\": \"white\", \"linecolor\": \"white\", \"ticks\": \"\"}, \"bgcolor\": \"#E5ECF6\", \"caxis\": {\"gridcolor\": \"white\", \"linecolor\": \"white\", \"ticks\": \"\"}}, \"title\": {\"x\": 0.05}, \"xaxis\": {\"automargin\": true, \"gridcolor\": \"white\", \"linecolor\": \"white\", \"ticks\": \"\", \"title\": {\"standoff\": 15}, \"zerolinecolor\": \"white\", \"zerolinewidth\": 2}, \"yaxis\": {\"automargin\": true, \"gridcolor\": \"white\", \"linecolor\": \"white\", \"ticks\": \"\", \"title\": {\"standoff\": 15}, \"zerolinecolor\": \"white\", \"zerolinewidth\": 2}}}, \"xaxis\": {\"anchor\": \"y\", \"domain\": [0.0, 1.0]}, \"yaxis\": {\"anchor\": \"x\", \"domain\": [0.0, 1.0]}},                        {\"responsive\": true}                    ).then(function(){\n",
       "                            \n",
       "var gd = document.getElementById('2fd382fa-94bb-4515-83e8-d301e07865b4');\n",
       "var x = new MutationObserver(function (mutations, observer) {{\n",
       "        var display = window.getComputedStyle(gd).display;\n",
       "        if (!display || display === 'none') {{\n",
       "            console.log([gd, 'removed!']);\n",
       "            Plotly.purge(gd);\n",
       "            observer.disconnect();\n",
       "        }}\n",
       "}});\n",
       "\n",
       "// Listen for the removal of the full notebook cells\n",
       "var notebookContainer = gd.closest('#notebook-container');\n",
       "if (notebookContainer) {{\n",
       "    x.observe(notebookContainer, {childList: true});\n",
       "}}\n",
       "\n",
       "// Listen for the clearing of the current output cell\n",
       "var outputEl = gd.closest('.output');\n",
       "if (outputEl) {{\n",
       "    x.observe(outputEl, {childList: true});\n",
       "}}\n",
       "\n",
       "                        })                };                });            </script>        </div>"
      ]
     },
     "metadata": {},
     "output_type": "display_data"
    }
   ],
   "source": [
    "I_pad = np.zeros([out_img_size, out_img_size, 3], dtype=np.float32)\n",
    "u_pad_start, v_pad_start = int((out_img_size - resized_width) / 2), int((out_img_size - resized_height) / 2)\n",
    "u_pad_end, v_pad_end = u_pad_start + resized_width, v_pad_start + resized_height\n",
    "I_pad[v_pad_start : v_pad_end, u_pad_start : u_pad_end] = I_resize\n",
    "\n",
    "mat_pad = np.eye(4, dtype=np.float32)\n",
    "mat_pad[0, 3] = u_pad_start\n",
    "mat_pad[1, 3] = v_pad_start\n",
    "V_pad = V_resize @ mat_pad[:3, :3].T + mat_pad[:3, 3]\n",
    "\n",
    "fig = plot_2d_pts_on_img(I_pad, V_pad)\n",
    "fig.show()"
   ]
  },
  {
   "cell_type": "markdown",
   "metadata": {},
   "source": [
    "## Normalize"
   ]
  },
  {
   "cell_type": "code",
   "execution_count": 179,
   "metadata": {},
   "outputs": [],
   "source": [
    "I_normalize = I_pad.copy()\n",
    "I_normalize /= 255\n",
    "\n",
    "shift_z = np.min(V_pad[:, 2])\n",
    "scale_z = np.max(V_pad[:, 2])-np.min(V_pad[:, 2])\n",
    "\n",
    "# V_normalize = V_pad.copy()\n",
    "# V_normalize[:, :2] = V_normalize[:, :2] / ( out_img_size/2 ) - 1 \n",
    "# V_normalize[:, 2] = (V_normalize[:, 2] - shift_z) / (scale_z/2 ) - 1 \n",
    "\n",
    "mat_normalize = np.eye(4, dtype=np.float32)\n",
    "mat_normalize[0, 0] = 2/out_img_size\n",
    "mat_normalize[1, 1] = 2/out_img_size\n",
    "mat_normalize[2, 2] = 2/scale_z\n",
    "\n",
    "mat_normalize[0:3, 3] = [-1, -1, -(shift_z*2)/scale_z-1]\n",
    "V_normalize = np.ones((778, 4))\n",
    "V_normalize[:, :3] = V_pad.copy()\n",
    "V_normalize = (mat_normalize @ V_normalize.T).T[:, :3]\n",
    "\n",
    "# fig = plt.figure()\n",
    "# ax1 = fig.add_subplot(121)\n",
    "# ax1.imshow(I_normalize)\n",
    "\n",
    "# ax2 = fig.add_subplot(122)\n",
    "# ax2.scatter(V_normalize[:, 0], V_normalize[:, 1])\n",
    "# ax2.set_xlim(-1, 1)\n",
    "# ax2.set_ylim(1, -1)\n",
    "# ax2.set_aspect(\"equal\")"
   ]
  },
  {
   "cell_type": "code",
   "execution_count": 180,
   "metadata": {},
   "outputs": [
    {
     "name": "stdout",
     "output_type": "stream",
     "text": [
      "67238.12 -63.0280007923011\n"
     ]
    }
   ],
   "source": [
    "print(np.sum(I_normalize), np.sum(V_normalize))"
   ]
  },
  {
   "cell_type": "code",
   "execution_count": 181,
   "metadata": {},
   "outputs": [
    {
     "data": {
      "application/vnd.jupyter.widget-view+json": {
       "model_id": "836f8df4026c4b56ac332ab5fa643fe6",
       "version_major": 2,
       "version_minor": 0
      },
      "text/plain": [
       "Canvas(toolbar=Toolbar(toolitems=[('Home', 'Reset original view', 'home', 'home'), ('Back', 'Back to previous …"
      ]
     },
     "metadata": {},
     "output_type": "display_data"
    },
    {
     "name": "stderr",
     "output_type": "stream",
     "text": [
      "Clipping input data to the valid range for imshow with RGB data ([0..1] for floats or [0..255] for integers).\n"
     ]
    }
   ],
   "source": [
    "import cv2\n",
    "CROP_OFFSET_RANGE = [-5, 5]\n",
    "ROTATION_RANGE = [-180, 180]\n",
    "random_angle_in_degrees = np.random.rand() * (ROTATION_RANGE[1]-ROTATION_RANGE[0]) - ROTATION_RANGE[0]\n",
    "random_scale = np.random.rand()*0.1 + 1.0\n",
    "cv_mat_rot_scale = cv2.getRotationMatrix2D((out_img_size/2, out_img_size/2), random_angle_in_degrees, random_scale)\n",
    "rotated_and_scaled_image = cv2.warpAffine(I_normalize, cv_mat_rot_scale, (out_img_size, out_img_size), borderValue=0, flags=cv2.INTER_NEAREST)\n",
    "rotated_and_scaled_image *= random_scale\n",
    "\n",
    "# print(cv_mat_rot_scale)\n",
    "mat_rot_scale = np.eye(4, dtype=np.float32)\n",
    "mat_rot_scale[:2, :2] = cv_mat_rot_scale[:2, :2]\n",
    "tmp = np.zeros((778, 4))\n",
    "tmp[:,:3] = V_normalize\n",
    "tmp[:, 3] = 1\n",
    "rotated_scaled_vertices = tmp @ mat_rot_scale.T\n",
    "fig = plt.figure()\n",
    "ax1 = fig.add_subplot(121)\n",
    "ax1.imshow(rotated_and_scaled_image)\n",
    "\n",
    "ax2 = fig.add_subplot(122)\n",
    "ax2.scatter(rotated_scaled_vertices[:, 0], rotated_scaled_vertices[:, 1])\n",
    "ax2.set_xlim(-1, 1)\n",
    "ax2.set_ylim(1, -1)\n",
    "ax2.set_aspect(\"equal\")"
   ]
  },
  {
   "cell_type": "code",
   "execution_count": 182,
   "metadata": {},
   "outputs": [],
   "source": [
    "imagenet_mean=np.array([0.485, 0.456, 0.406])\n",
    "imagenet_std=np.array([0.229, 0.224, 0.225])\n",
    "intensity_normalized_image = (rotated_and_scaled_image - imagenet_mean)/imagenet_std"
   ]
  },
  {
   "cell_type": "code",
   "execution_count": 183,
   "metadata": {},
   "outputs": [
    {
     "name": "stdout",
     "output_type": "stream",
     "text": [
      "-1.0000002183146686 1.0050351622380753\n"
     ]
    },
    {
     "data": {
      "text/plain": [
       "327.90480553994996"
      ]
     },
     "execution_count": 183,
     "metadata": {},
     "output_type": "execute_result"
    }
   ],
   "source": [
    "print(np.min(V_normalize), np.max(V_normalize))\n",
    "shift_z"
   ]
  },
  {
   "cell_type": "code",
   "execution_count": 184,
   "metadata": {},
   "outputs": [
    {
     "data": {
      "text/plain": [
       "array([[-0.0204817 , -0.42168953, -0.20217938],\n",
       "       [ 0.03290243, -0.49180066, -0.33388334],\n",
       "       [-0.05906592, -0.50930554, -0.24767912],\n",
       "       ...,\n",
       "       [-0.30761848,  0.12023943, -0.4310823 ],\n",
       "       [-0.36636299,  0.19697228, -0.33597705],\n",
       "       [-0.12476008, -0.10406774, -0.50902827]])"
      ]
     },
     "execution_count": 184,
     "metadata": {},
     "output_type": "execute_result"
    }
   ],
   "source": [
    "V_normalize"
   ]
  },
  {
   "cell_type": "code",
   "execution_count": 185,
   "metadata": {},
   "outputs": [
    {
     "data": {
      "text/plain": [
       "array([[107.74166095,  94.44565978, 369.80796445],\n",
       "       [110.09056282,  91.36077013, 362.89060693],\n",
       "       [106.0439555 ,  90.59055553, 367.41822648],\n",
       "       ...,\n",
       "       [ 95.10764312, 118.29053358, 357.78552161],\n",
       "       [ 92.52288478, 121.66677875, 362.78064144],\n",
       "       [103.15341241, 108.42101819, 353.6916422 ]])"
      ]
     },
     "execution_count": 185,
     "metadata": {},
     "output_type": "execute_result"
    }
   ],
   "source": [
    "V_gt"
   ]
  },
  {
   "cell_type": "markdown",
   "metadata": {},
   "source": [
    "# Unprocess"
   ]
  },
  {
   "cell_type": "code",
   "execution_count": 186,
   "metadata": {},
   "outputs": [
    {
     "data": {
      "application/vnd.jupyter.widget-view+json": {
       "model_id": "0a227fa1cdd8483ea75bd0294cbd8aaa",
       "version_major": 2,
       "version_minor": 0
      },
      "text/plain": [
       "Canvas(toolbar=Toolbar(toolitems=[('Home', 'Reset original view', 'home', 'home'), ('Back', 'Back to previous …"
      ]
     },
     "metadata": {},
     "output_type": "display_data"
    }
   ],
   "source": [
    "# unnormalize\n",
    "V_unnormalize = V_normalize.copy()\n",
    "# V_unnormalize[:, :2] = (V_unnormalize[:, :2] + 1) * (out_img_size/2)\n",
    "# V_unnormalize[:, 2] = (V_unnormalize[:, 2] + 1) * (scale_z/2) + shift_z\n",
    "\n",
    "# unprocess\n",
    "mat_process = mat_normalize @ mat_pad @ mat_resize @ mat_crop\n",
    "mat_unprocess_3x3 = np.linalg.inv(mat_process[:3, :3])\n",
    "mat_unprocess_t = mat_unprocess_3x3 @ (-mat_process[:3, 3])\n",
    "V_unprocess = V_unnormalize @ mat_unprocess_3x3.T + mat_unprocess_t\n",
    "\n",
    "visualize_in_orig_image(I, V_unprocess)"
   ]
  },
  {
   "cell_type": "code",
   "execution_count": 187,
   "metadata": {},
   "outputs": [
    {
     "data": {
      "text/plain": [
       "array([[ 0.02272727,  0.        ,  0.        , -2.4691558 ],\n",
       "       [ 0.        ,  0.02272727,  0.        , -2.568182  ],\n",
       "       [ 0.        ,  0.        ,  0.01903963, -7.243188  ],\n",
       "       [ 0.        ,  0.        ,  0.        ,  1.        ]],\n",
       "      dtype=float32)"
      ]
     },
     "execution_count": 187,
     "metadata": {},
     "output_type": "execute_result"
    }
   ],
   "source": [
    "mat_process"
   ]
  },
  {
   "cell_type": "code",
   "execution_count": 188,
   "metadata": {},
   "outputs": [],
   "source": [
    "V_orig = V_unprocess.copy()\n",
    "# V_orig[..., 2] = V_orig[..., 2] / proj_mat[2, 2]\n",
    "# V_orig[..., 0] = (V_orig[..., 0] - proj_mat[0, 2]) / proj_mat[0, 0] * V_orig[..., 2]\n",
    "# V_orig[..., 1] = (V_orig[..., 1] - proj_mat[1, 2]) / proj_mat[1, 1] * V_orig[..., 2]"
   ]
  },
  {
   "cell_type": "code",
   "execution_count": 189,
   "metadata": {},
   "outputs": [
    {
     "name": "stdout",
     "output_type": "stream",
     "text": [
      "[[-0.00688691 -0.02840404  0.6289612 ]\n",
      " [-0.00303032 -0.03277091  0.61719631]\n",
      " [-0.00957032 -0.03441798  0.62489679]] [[107.74165782  94.44566812 369.80795032]\n",
      " [110.09055976  91.36077838 362.89059302]\n",
      " [106.04395233  90.59056376 367.41821242]]\n"
     ]
    }
   ],
   "source": [
    "print(V1[:3, :], V_orig[:3, :])"
   ]
  },
  {
   "cell_type": "code",
   "execution_count": 190,
   "metadata": {},
   "outputs": [
    {
     "data": {
      "application/vnd.jupyter.widget-view+json": {
       "model_id": "0a868d1c8e24401b9a5e1c80e3b4e6f8",
       "version_major": 2,
       "version_minor": 0
      },
      "text/plain": [
       "Canvas(toolbar=Toolbar(toolitems=[('Home', 'Reset original view', 'home', 'home'), ('Back', 'Back to previous …"
      ]
     },
     "metadata": {},
     "output_type": "display_data"
    }
   ],
   "source": [
    "fig = plt.figure()\n",
    "ax1 = fig.add_subplot(121)\n",
    "ax1.imshow(I)\n",
    "\n",
    "ax2 = fig.add_subplot(122)\n",
    "ax2.scatter(V_orig[:, 0], V_orig[:, 1])\n",
    "ax2.set_aspect(\"equal\")"
   ]
  },
  {
   "cell_type": "code",
   "execution_count": 191,
   "metadata": {},
   "outputs": [
    {
     "name": "stdout",
     "output_type": "stream",
     "text": [
      "327.9047927634101 432.94881817864257\n"
     ]
    }
   ],
   "source": [
    "print(np.min(V_unprocess[:, 2]), np.max(V_unprocess[:, 2]))"
   ]
  },
  {
   "cell_type": "code",
   "execution_count": 192,
   "metadata": {},
   "outputs": [],
   "source": [
    "n_verts_to_predict = 778"
   ]
  },
  {
   "cell_type": "code",
   "execution_count": 193,
   "metadata": {},
   "outputs": [
    {
     "data": {
      "application/vnd.jupyter.widget-view+json": {
       "model_id": "35057623e8b44b939b6b6bee526411d8",
       "version_major": 2,
       "version_minor": 0
      },
      "text/plain": [
       "Canvas(toolbar=Toolbar(toolitems=[('Home', 'Reset original view', 'home', 'home'), ('Back', 'Back to previous …"
      ]
     },
     "metadata": {},
     "output_type": "display_data"
    },
    {
     "name": "stderr",
     "output_type": "stream",
     "text": [
      "Clipping input data to the valid range for imshow with RGB data ([0..1] for floats or [0..255] for integers).\n"
     ]
    }
   ],
   "source": [
    "ref_i = rotated_and_scaled_image\n",
    "ref_v = rotated_scaled_vertices\n",
    "fig = plt.figure()\n",
    "ax1 = fig.add_subplot(121)\n",
    "ax1.imshow(ref_i)\n",
    "\n",
    "ax2 = fig.add_subplot(122)\n",
    "ax2.scatter(ref_v[:, 0], ref_v[:, 1])\n",
    "ax2.set_xlim(-1, 1)\n",
    "ax2.set_ylim(1, -1)\n",
    "ax2.set_aspect(\"equal\")"
   ]
  },
  {
   "cell_type": "code",
   "execution_count": 194,
   "metadata": {},
   "outputs": [],
   "source": [
    "# annotation = tf.constant([[[1, 1, 1], [2, 2, 2,]], [[1, 1, 1], [2, 2, 2,]]])\n",
    "# annotation = tf.stack([annotation, tf.expand_dims(tf.ones(tf.shape(annotation)[:-1]), axis=-1)], axis=-1)\n",
    "# annotation"
   ]
  },
  {
   "cell_type": "markdown",
   "metadata": {},
   "source": [
    "# TF Dataset"
   ]
  },
  {
   "cell_type": "code",
   "execution_count": 195,
   "metadata": {},
   "outputs": [
    {
     "name": "stdout",
     "output_type": "stream",
     "text": [
      "<BatchDataset shapes: ({I: (None, 224, 224, 3), proj_mat: (None, 4, 4), affine_mat: (None, 4, 4)}, {V: (None, 778, 3), annotations_xyz: (None, 778, 3)}), types: ({I: tf.float32, proj_mat: tf.float64, affine_mat: tf.float32}, {V: tf.float64, annotations_xyz: tf.float64})>\n"
     ]
    }
   ],
   "source": [
    "ds_train1 = tf.data.Dataset.from_tensors(({\"I\": I_normalize, \"proj_mat\" : P, \"affine_mat\" : mat_process}, {\"V\": V_normalize[:n_verts_to_predict, :3], \"annotations_xyz\" : V1}))\n",
    "ds_train1 = ds_train1.batch(1)\n",
    "\n",
    "ds_val1 = tf.data.Dataset.from_tensors(({\"I\": I_normalize, \"proj_mat\" : P, \"affine_mat\" : mat_process}, {\"V\": V_normalize[:n_verts_to_predict, :3], \"annotations_xyz\" : V1}))\n",
    "ds_val1 = ds_val1.batch(1)\n",
    "\n",
    "print(ds_train1)"
   ]
  },
  {
   "cell_type": "code",
   "execution_count": 196,
   "metadata": {},
   "outputs": [
    {
     "data": {
      "text/plain": [
       "array([[-0.00688691, -0.02840404,  0.6289612 ],\n",
       "       [-0.00303032, -0.03277091,  0.61719631],\n",
       "       [-0.00957032, -0.03441798,  0.62489679],\n",
       "       ...,\n",
       "       [-0.02643143,  0.00984758,  0.6085137 ],\n",
       "       [-0.03090127,  0.01534423,  0.61700929],\n",
       "       [-0.01368385, -0.00553865,  0.60155092]])"
      ]
     },
     "execution_count": 196,
     "metadata": {},
     "output_type": "execute_result"
    }
   ],
   "source": [
    "np.asarray(V1)"
   ]
  },
  {
   "cell_type": "code",
   "execution_count": 197,
   "metadata": {},
   "outputs": [
    {
     "ename": "ValueError",
     "evalue": "cannot reshape array of size 0 into shape (1,2)",
     "output_type": "error",
     "traceback": [
      "\u001b[0;31m---------------------------------------------------------------------------\u001b[0m",
      "\u001b[0;31mValueError\u001b[0m                                Traceback (most recent call last)",
      "\u001b[0;32m<ipython-input-197-8a677ce0223a>\u001b[0m in \u001b[0;36m<module>\u001b[0;34m\u001b[0m\n\u001b[0;32m----> 1\u001b[0;31m \u001b[0mim\u001b[0m\u001b[0;34m,\u001b[0m \u001b[0muvd\u001b[0m\u001b[0;34m,\u001b[0m \u001b[0mmp\u001b[0m \u001b[0;34m=\u001b[0m \u001b[0mfreihand_projection\u001b[0m\u001b[0;34m(\u001b[0m\u001b[0mI\u001b[0m\u001b[0;34m,\u001b[0m \u001b[0mnp\u001b[0m\u001b[0;34m.\u001b[0m\u001b[0masarray\u001b[0m\u001b[0;34m(\u001b[0m\u001b[0mV1\u001b[0m\u001b[0;34m)\u001b[0m\u001b[0;34m,\u001b[0m \u001b[0mK\u001b[0m\u001b[0;34m)\u001b[0m\u001b[0;34m\u001b[0m\u001b[0;34m\u001b[0m\u001b[0m\n\u001b[0m\u001b[1;32m      2\u001b[0m \u001b[0mni\u001b[0m\u001b[0;34m,\u001b[0m \u001b[0mnv\u001b[0m\u001b[0;34m,\u001b[0m \u001b[0mma\u001b[0m \u001b[0;34m=\u001b[0m \u001b[0mprocess_data\u001b[0m\u001b[0;34m(\u001b[0m\u001b[0mim\u001b[0m\u001b[0;34m,\u001b[0m \u001b[0muvd\u001b[0m\u001b[0;34m)\u001b[0m\u001b[0;34m\u001b[0m\u001b[0;34m\u001b[0m\u001b[0m\n\u001b[1;32m      3\u001b[0m \u001b[0mfig\u001b[0m \u001b[0;34m=\u001b[0m \u001b[0mplt\u001b[0m\u001b[0;34m.\u001b[0m\u001b[0mfigure\u001b[0m\u001b[0;34m(\u001b[0m\u001b[0;34m)\u001b[0m\u001b[0;34m\u001b[0m\u001b[0;34m\u001b[0m\u001b[0m\n\u001b[1;32m      4\u001b[0m \u001b[0max1\u001b[0m \u001b[0;34m=\u001b[0m \u001b[0mfig\u001b[0m\u001b[0;34m.\u001b[0m\u001b[0madd_subplot\u001b[0m\u001b[0;34m(\u001b[0m\u001b[0;36m121\u001b[0m\u001b[0;34m)\u001b[0m\u001b[0;34m\u001b[0m\u001b[0;34m\u001b[0m\u001b[0m\n\u001b[1;32m      5\u001b[0m \u001b[0max1\u001b[0m\u001b[0;34m.\u001b[0m\u001b[0mimshow\u001b[0m\u001b[0;34m(\u001b[0m\u001b[0mni\u001b[0m\u001b[0;34m)\u001b[0m\u001b[0;34m\u001b[0m\u001b[0;34m\u001b[0m\u001b[0m\n",
      "\u001b[0;32m<ipython-input-159-49eef3be37c1>\u001b[0m in \u001b[0;36mfreihand_projection\u001b[0;34m(image, mano, projection_mat)\u001b[0m\n\u001b[1;32m     26\u001b[0m     \u001b[0mposes\u001b[0m\u001b[0;34m,\u001b[0m \u001b[0mshapes\u001b[0m\u001b[0;34m,\u001b[0m \u001b[0muv_root\u001b[0m\u001b[0;34m,\u001b[0m \u001b[0mscale\u001b[0m \u001b[0;34m=\u001b[0m \u001b[0msplit_theta\u001b[0m\u001b[0;34m(\u001b[0m\u001b[0mmano\u001b[0m\u001b[0;34m)\u001b[0m\u001b[0;34m\u001b[0m\u001b[0;34m\u001b[0m\u001b[0m\n\u001b[1;32m     27\u001b[0m     \u001b[0mfocal\u001b[0m\u001b[0;34m,\u001b[0m \u001b[0mpp\u001b[0m \u001b[0;34m=\u001b[0m \u001b[0mget_focal_pp\u001b[0m\u001b[0;34m(\u001b[0m\u001b[0mprojection_mat\u001b[0m\u001b[0;34m)\u001b[0m\u001b[0;34m\u001b[0m\u001b[0;34m\u001b[0m\u001b[0m\n\u001b[0;32m---> 28\u001b[0;31m     \u001b[0mxyz_root\u001b[0m \u001b[0;34m=\u001b[0m \u001b[0mrecover_root\u001b[0m\u001b[0;34m(\u001b[0m\u001b[0muv_root\u001b[0m\u001b[0;34m,\u001b[0m \u001b[0mscale\u001b[0m\u001b[0;34m,\u001b[0m \u001b[0mfocal\u001b[0m\u001b[0;34m,\u001b[0m \u001b[0mpp\u001b[0m\u001b[0;34m)\u001b[0m\u001b[0;34m\u001b[0m\u001b[0;34m\u001b[0m\u001b[0m\n\u001b[0m\u001b[1;32m     29\u001b[0m \u001b[0;34m\u001b[0m\u001b[0m\n\u001b[1;32m     30\u001b[0m     \u001b[0;31m# set up the hand model and feed hand parameters\u001b[0m\u001b[0;34m\u001b[0m\u001b[0;34m\u001b[0m\u001b[0;34m\u001b[0m\u001b[0m\n",
      "\u001b[0;32m~/sem8/RnD/code/RnD/network2/util/model.py\u001b[0m in \u001b[0;36mrecover_root\u001b[0;34m(uv_root, scale, focal, pp)\u001b[0m\n\u001b[1;32m     58\u001b[0m def recover_root(uv_root, scale,\n\u001b[1;32m     59\u001b[0m                  focal, pp):\n\u001b[0;32m---> 60\u001b[0;31m     \u001b[0muv_root\u001b[0m \u001b[0;34m=\u001b[0m \u001b[0mnp\u001b[0m\u001b[0;34m.\u001b[0m\u001b[0mreshape\u001b[0m\u001b[0;34m(\u001b[0m\u001b[0muv_root\u001b[0m\u001b[0;34m,\u001b[0m \u001b[0;34m[\u001b[0m\u001b[0;36m1\u001b[0m\u001b[0;34m,\u001b[0m \u001b[0;36m2\u001b[0m\u001b[0;34m]\u001b[0m\u001b[0;34m)\u001b[0m\u001b[0;34m\u001b[0m\u001b[0;34m\u001b[0m\u001b[0m\n\u001b[0m\u001b[1;32m     61\u001b[0m     \u001b[0mxyz_root\u001b[0m \u001b[0;34m=\u001b[0m \u001b[0mbackproject_ortho\u001b[0m\u001b[0;34m(\u001b[0m\u001b[0muv_root\u001b[0m\u001b[0;34m,\u001b[0m \u001b[0mscale\u001b[0m\u001b[0;34m,\u001b[0m \u001b[0mfocal\u001b[0m\u001b[0;34m,\u001b[0m \u001b[0mpp\u001b[0m\u001b[0;34m)\u001b[0m\u001b[0;34m\u001b[0m\u001b[0;34m\u001b[0m\u001b[0m\n\u001b[1;32m     62\u001b[0m     \u001b[0;32mreturn\u001b[0m \u001b[0mxyz_root\u001b[0m\u001b[0;34m\u001b[0m\u001b[0;34m\u001b[0m\u001b[0m\n",
      "\u001b[0;32m<__array_function__ internals>\u001b[0m in \u001b[0;36mreshape\u001b[0;34m(*args, **kwargs)\u001b[0m\n",
      "\u001b[0;32m~/sem8/RnD/code/RnD/virtual_env/lib/python3.7/site-packages/numpy/core/fromnumeric.py\u001b[0m in \u001b[0;36mreshape\u001b[0;34m(a, newshape, order)\u001b[0m\n\u001b[1;32m    297\u001b[0m            [5, 6]])\n\u001b[1;32m    298\u001b[0m     \"\"\"\n\u001b[0;32m--> 299\u001b[0;31m     \u001b[0;32mreturn\u001b[0m \u001b[0m_wrapfunc\u001b[0m\u001b[0;34m(\u001b[0m\u001b[0ma\u001b[0m\u001b[0;34m,\u001b[0m \u001b[0;34m'reshape'\u001b[0m\u001b[0;34m,\u001b[0m \u001b[0mnewshape\u001b[0m\u001b[0;34m,\u001b[0m \u001b[0morder\u001b[0m\u001b[0;34m=\u001b[0m\u001b[0morder\u001b[0m\u001b[0;34m)\u001b[0m\u001b[0;34m\u001b[0m\u001b[0;34m\u001b[0m\u001b[0m\n\u001b[0m\u001b[1;32m    300\u001b[0m \u001b[0;34m\u001b[0m\u001b[0m\n\u001b[1;32m    301\u001b[0m \u001b[0;34m\u001b[0m\u001b[0m\n",
      "\u001b[0;32m~/sem8/RnD/code/RnD/virtual_env/lib/python3.7/site-packages/numpy/core/fromnumeric.py\u001b[0m in \u001b[0;36m_wrapfunc\u001b[0;34m(obj, method, *args, **kwds)\u001b[0m\n\u001b[1;32m     56\u001b[0m \u001b[0;34m\u001b[0m\u001b[0m\n\u001b[1;32m     57\u001b[0m     \u001b[0;32mtry\u001b[0m\u001b[0;34m:\u001b[0m\u001b[0;34m\u001b[0m\u001b[0;34m\u001b[0m\u001b[0m\n\u001b[0;32m---> 58\u001b[0;31m         \u001b[0;32mreturn\u001b[0m \u001b[0mbound\u001b[0m\u001b[0;34m(\u001b[0m\u001b[0;34m*\u001b[0m\u001b[0margs\u001b[0m\u001b[0;34m,\u001b[0m \u001b[0;34m**\u001b[0m\u001b[0mkwds\u001b[0m\u001b[0;34m)\u001b[0m\u001b[0;34m\u001b[0m\u001b[0;34m\u001b[0m\u001b[0m\n\u001b[0m\u001b[1;32m     59\u001b[0m     \u001b[0;32mexcept\u001b[0m \u001b[0mTypeError\u001b[0m\u001b[0;34m:\u001b[0m\u001b[0;34m\u001b[0m\u001b[0;34m\u001b[0m\u001b[0m\n\u001b[1;32m     60\u001b[0m         \u001b[0;31m# A TypeError occurs if the object does have such a method in its\u001b[0m\u001b[0;34m\u001b[0m\u001b[0;34m\u001b[0m\u001b[0;34m\u001b[0m\u001b[0m\n",
      "\u001b[0;31mValueError\u001b[0m: cannot reshape array of size 0 into shape (1,2)"
     ]
    }
   ],
   "source": [
    "im, uvd, mp = freihand_projection(I, np.asarray(V1), K)\n",
    "ni, nv, ma = process_data(im, uvd)\n",
    "fig = plt.figure()\n",
    "ax1 = fig.add_subplot(121)\n",
    "ax1.imshow(ni)\n",
    "\n",
    "ax2 = fig.add_subplot(122)\n",
    "ax2.scatter(nv[:, 0], nv[:, 1])\n",
    "# ax2.set_xlim(-1, 1)\n",
    "# ax2.set_ylim(1, -1)\n",
    "ax2.set_aspect(\"equal\")\n",
    "\n",
    "ds_train2 = tf.data.Dataset.from_tensors(({\"I\": ni, \"proj_mat\" : mp, \"affine_mat\" : ma}, {\"V\": nv, \"annotations_xyz\" : np.asarray(V1)}))\n",
    "ds_train2 = ds_train2.batch(1)\n",
    "\n",
    "ds_val2 = tf.data.Dataset.from_tensors(({\"I\": ni, \"proj_mat\" : mp, \"affine_mat\" : ma}, {\"V\": nv, \"annotations_xyz\" : np.asarray(V1)}))\n",
    "ds_val2 = ds_val2.batch(1)\n",
    "\n",
    "print(ds_train2)"
   ]
  },
  {
   "cell_type": "code",
   "execution_count": null,
   "metadata": {},
   "outputs": [],
   "source": []
  },
  {
   "cell_type": "code",
   "execution_count": 198,
   "metadata": {},
   "outputs": [],
   "source": [
    "annotation_json_100 = [{'mano': training['mano'], 'K': K}]\n"
   ]
  },
  {
   "cell_type": "code",
   "execution_count": 22,
   "metadata": {},
   "outputs": [],
   "source": [
    "storage_dir = '../storage/'\n",
    "# with open(storage_dir+'correct_sample.json') as f:\n",
    "#     sample_youtube_data = json.load(f)\n",
    "with open(storage_dir+'YouTube-3D-Hands/youtube_train.json') as f:\n",
    "    sample_youtube_data = json.load(f)\n"
   ]
  },
  {
   "cell_type": "code",
   "execution_count": 5,
   "metadata": {},
   "outputs": [],
   "source": [
    "# sample_youtube_data"
   ]
  },
  {
   "cell_type": "code",
   "execution_count": 109,
   "metadata": {},
   "outputs": [],
   "source": [
    "# with open('../storage/training_.json') as f:\n",
    "#     full_annotation = json.load(f)"
   ]
  },
  {
   "cell_type": "code",
   "execution_count": 32,
   "metadata": {},
   "outputs": [],
   "source": [
    "with open('../storage/training_K.json') as f:\n",
    "    full_annotation_K = json.load(f)"
   ]
  },
  {
   "cell_type": "code",
   "execution_count": 33,
   "metadata": {},
   "outputs": [],
   "source": [
    "with open('../storage/training_mano.json') as f:\n",
    "    full_annotation_mano = json.load(f)"
   ]
  },
  {
   "cell_type": "code",
   "execution_count": 34,
   "metadata": {},
   "outputs": [
    {
     "data": {
      "text/plain": [
       "32560"
      ]
     },
     "execution_count": 34,
     "metadata": {},
     "output_type": "execute_result"
    }
   ],
   "source": [
    "len(full_annotation_mano)"
   ]
  },
  {
   "cell_type": "code",
   "execution_count": 54,
   "metadata": {},
   "outputs": [],
   "source": [
    "annotation_json = []\n",
    "for i in range(len(full_annotation_mano)):\n",
    "    annotation_json.append({'mano': full_annotation_mano[i], 'K': full_annotation_K[i]})"
   ]
  },
  {
   "cell_type": "code",
   "execution_count": 37,
   "metadata": {},
   "outputs": [
    {
     "data": {
      "text/plain": [
       "32560"
      ]
     },
     "execution_count": 37,
     "metadata": {},
     "output_type": "execute_result"
    }
   ],
   "source": [
    "len(annotation_json)"
   ]
  },
  {
   "cell_type": "code",
   "execution_count": 36,
   "metadata": {},
   "outputs": [
    {
     "data": {
      "application/vnd.jupyter.widget-view+json": {
       "model_id": "cd6ccdbfc31f434b8e37d9106c9ce23f",
       "version_major": 2,
       "version_minor": 0
      },
      "text/plain": [
       "  0%|          | 0/32560 [00:00<?, ?it/s]"
      ]
     },
     "metadata": {},
     "output_type": "display_data"
    }
   ],
   "source": [
    "annotation_json = []\n",
    "for i in tq.tqdm(range(len(full_annotation_mano))):\n",
    "    mano = np.array(full_annotation_mano[i])\n",
    "    K = np.array(full_annotation_K[i])\n",
    "\n",
    "    poses, shapes, uv_root, scale = split_theta(mano)\n",
    "    focal, pp = get_focal_pp(K)\n",
    "    xyz_root = recover_root(uv_root, scale, focal, pp)\n",
    "    \n",
    "    # set up the hand model and feed hand parameters\n",
    "    renderer = HandModel(use_mean_pca=False, use_mean_pose=True)\n",
    "    # print(\"Hellllllo\")\n",
    "    renderer.pose_by_root(xyz_root[0], poses[0], shapes[0])\n",
    "    msk_rendered, V1 = renderer.render(K, img_shape=I.shape[:2])\n",
    "    annotation_json.append({'V':V1, 'K':K})\n",
    "with open('ann.json', 'w') as f:\n",
    "    json.dump({'anns':annotation_json}, f)"
   ]
  },
  {
   "cell_type": "code",
   "execution_count": 23,
   "metadata": {},
   "outputs": [],
   "source": [
    "def process_data_wrapper(projection_func):\n",
    "    #Load these in process_ds for parallelisation\n",
    "    def f(image_path, annotation, *args):\n",
    "        image = Image.open(image_path.numpy())\n",
    "        annotation = annotation.numpy()\n",
    "        image, annotation_xyz, annotation_uvd, proj_mat = projection_func(image, annotation, *args)\n",
    "        normalized_image, normalized_annotations, affine_mat = process_data(image, annotation_uvd)\n",
    "    \n",
    "        return normalized_image, annotation_xyz, normalized_annotations, affine_mat, proj_mat\n",
    "    return f\n",
    "\n",
    "def youtube_projection(image, annotation_id, image_width, image_height, hand_is_left):\n",
    "    image_height = image_height.numpy()\n",
    "    image_width = image_width.numpy()\n",
    "    hand_is_left = hand_is_left.numpy()\n",
    "    annotation = np.array(sample_youtube_data['annotations'][annotation_id]['vertices'])\n",
    "    ## Resize\n",
    "    image = np.array(image.resize((image_width, image_height)))\n",
    "    ## Flip\n",
    "    flipped_image, flipped_vertices, flip_mat = flip_hand(annotation, image, hand_is_left)\n",
    "    ## Return proj mat\n",
    "    return flipped_image, annotation, flipped_vertices, flip_mat\n",
    "\n",
    "def freihand_projection(image, mano, projection_mat):\n",
    "    ## Apply projection mat\n",
    "    # print(annotation_xyz[:3, :])\n",
    "    poses, shapes, uv_root, scale = split_theta(mano)\n",
    "    focal, pp = get_focal_pp(projection_mat)\n",
    "    xyz_root = recover_root(uv_root, scale, focal, pp)\n",
    "    \n",
    "    # set up the hand model and feed hand parameters\n",
    "    renderer = HandModel(use_mean_pca=False, use_mean_pose=True)\n",
    "    # print(\"Hellllllo\")\n",
    "    renderer.pose_by_root(xyz_root[0], poses[0], shapes[0])\n",
    "    msk_rendered, annotation_xyz = renderer.render(projection_mat, img_shape=image.shape[:2])\n",
    "    \n",
    "    annotation_uv = projectPoints(annotation_xyz, projection_mat)\n",
    "    projection_mat = np.hstack([projection_mat, np.zeros((3, 1))])\n",
    "    projection_mat = np.vstack([projection_mat, [0, 0, 0, 1]])\n",
    "    ## Scale z coord\n",
    "    s_x = np.std(annotation_uv[:, 0]) / np.std(annotation_xyz[:, 0])\n",
    "    z_cam = s_x * (annotation_xyz[:, 2]).reshape(-1, 1)\n",
    "    projection_mat[2, 2] = s_x\n",
    "    ## Add z scale to proj\n",
    "    annotation_uvd = np.concatenate((annotation_uv[:, :2], z_cam), axis=1)\n",
    "    ## Return modified proj mat\n",
    "    # print(annotation_uvd[:3, :])\n",
    "    return np.array(image), annotation_xyz, annotation_uvd, projection_mat\n",
    "\n",
    "def unproject_youtube(annotation, affine_mat, proj_mat):\n",
    "    mat_project = tf.matmul(affine_mat, proj_mat)\n",
    "    mat_unproject = tf.linalg.inv(mat_project[:, :3, :3])\n",
    "    inv_t = tf.matmul(-mat_project[:, :3, 3][..., tf.newaxis], mat_unproject, transpose_a=True, transpose_b=True)\n",
    "    iv1 = tf.matmul(annotation, mat_unproject, transpose_b=True) + inv_t\n",
    "    return iv1\n",
    "\n",
    "# def unproject_freihand(_annotation, _affine_mat, _proj_mat):\n",
    "#     def f(annotation, affine_mat, proj_mat):\n",
    "#         mat_project = affine_mat\n",
    "#         mat_unproject = np.linalg.inv(mat_project[:3, :3])\n",
    "#         inv_t = mat_unproject @ -mat_project[:3, 3]\n",
    "#         annotation = annotation @ mat_unproject.T + inv_t.T\n",
    "#         print(annotation)\n",
    "#         annotation[..., 2] = annotation[..., 2] / proj_mat[2, 2]\n",
    "#         annotation[..., 0] = (annotation[..., 0] - proj_mat[0, 2]) / proj_mat[0, 0] * annotation[..., 2]\n",
    "#         annotation[..., 1] = (annotation[..., 1] - proj_mat[1, 2]) / proj_mat[1, 1] * annotation[..., 2]\n",
    "#         return annotation\n",
    "#     _annotation = _annotation.numpy()\n",
    "#     for idx, _ in enumerate(_annotation):\n",
    "#         _annotation[idx] = f(_annotation[idx], _affine_mat[idx].numpy(), _proj_mat[idx].numpy())\n",
    "#     # print(_annotation.shape)\n",
    "#     return _annotation\n",
    "\n",
    "def unproject_freihand(annotation, affine_mat, proj_mat):\n",
    "#     tf.cast(annotation, tf.float64)\n",
    "#     tf.cast(affine_mat, tf.float64)\n",
    "#     tf.cast(proj_mat, tf.float64)\n",
    "    mat_project = affine_mat\n",
    "    mat_unproject = tf.linalg.inv(mat_project[:, :3, :3])\n",
    "    inv_t = tf.matmul(-mat_project[:, :3, 3][..., tf.newaxis], mat_unproject, transpose_a=True, transpose_b=True)\n",
    "    iv1 = tf.matmul(annotation, mat_unproject, transpose_b=True) + inv_t\n",
    "#     print(iv1)\n",
    "#     print(tf.matmul(tf.concat([annotation, tf.ones_like(annotation[..., 1:2])], axis=-1), tf.linalg.inv(affine_mat), transpose_b=True)[..., :3])\n",
    "#     print(tf.reduce_sum(iv1 - tf.matmul(tf.concat([annotation, tf.ones_like(annotation[..., 1:2])], axis=-1), tf.linalg.inv(affine_mat), transpose_b=True)[..., :3]))\n",
    "    iv1_d = iv1[..., 2] / proj_mat[..., 2, 2][..., tf.newaxis]\n",
    "    iv1_u = (iv1[..., 0] - proj_mat[..., 0, 2][..., tf.newaxis]) / proj_mat[..., 0, 0][..., tf.newaxis] * iv1_d \n",
    "    iv1_v = (iv1[..., 1] - proj_mat[..., 1, 2][..., tf.newaxis]) / proj_mat[..., 1, 1][..., tf.newaxis] * iv1_d\n",
    "    return tf.concat([iv1_u[..., tf.newaxis], iv1_v[..., tf.newaxis], iv1_d[..., tf.newaxis]], axis=-1)\n",
    "\n",
    "def process_data(I, V_gt):\n",
    "    min_coords, max_coords = np.amin(V_gt, axis=0), np.amax(V_gt, axis=0)\n",
    "    min_uv, max_uv = min_coords[:2].astype(np.int), max_coords[:2].astype(np.int)\n",
    "    I_crop = I[min_uv[1]: max_uv[1], min_uv[0]: max_uv[0]]  # u: cols, v: rows\n",
    "\n",
    "    mat_crop = np.identity(4, dtype=np.float32)\n",
    "    mat_crop[0, 3] = -min_uv[0]\n",
    "    mat_crop[1, 3] = -min_uv[1]\n",
    "    V_crop = V_gt @ mat_crop[:3, :3].T + mat_crop[:3, 3]\n",
    "    cropped_height, cropped_width, _ = I_crop.shape\n",
    "    resize_scale = min(out_img_size/cropped_width, out_img_size/cropped_height)\n",
    "    resized_width, resized_height = (int(cropped_width*resize_scale), int(cropped_height*resize_scale))\n",
    "    I_resize = cv.resize(I_crop, (resized_width, resized_height), interpolation=cv.INTER_LINEAR)\n",
    "\n",
    "    mat_resize = np.identity(4, dtype=np.float32)\n",
    "    mat_resize[0, 0] = resize_scale\n",
    "    mat_resize[1, 1] = resize_scale\n",
    "    V_resize = V_crop @ mat_resize[:3, :3].T + mat_resize[:3, 3]\n",
    "    \n",
    "    I_pad = np.zeros([out_img_size, out_img_size, 3], dtype=np.float32)\n",
    "    u_pad_start, v_pad_start = int((out_img_size - resized_width) / 2), int((out_img_size - resized_height) / 2)\n",
    "    u_pad_end, v_pad_end = u_pad_start + resized_width, v_pad_start + resized_height\n",
    "    I_pad[v_pad_start : v_pad_end, u_pad_start : u_pad_end] = I_resize\n",
    "\n",
    "    mat_pad = np.eye(4, dtype=np.float32)\n",
    "    mat_pad[0, 3] = u_pad_start\n",
    "    mat_pad[1, 3] = v_pad_start\n",
    "    V_pad = V_resize @ mat_pad[:3, :3].T + mat_pad[:3, 3]\n",
    "\n",
    "    I_normalize = I_pad.copy()\n",
    "    I_normalize /= 255\n",
    "\n",
    "    shift_z = np.min(V_pad[:, 2])\n",
    "    scale_z = np.max(V_pad[:, 2])-np.min(V_pad[:, 2])\n",
    "    \n",
    "    mat_normalize = np.eye(4, dtype=np.float32)\n",
    "    mat_normalize[0, 0] = 2/out_img_size\n",
    "    mat_normalize[1, 1] = 2/out_img_size\n",
    "    mat_normalize[2, 2] = 2/scale_z\n",
    "\n",
    "    mat_normalize[0:3, 3] = [-1, -1, -(shift_z*2)/scale_z-1]\n",
    "    \n",
    "    V_normalize = np.ones((778, 4))\n",
    "    V_normalize[:, :3] = V_pad.copy()\n",
    "    V_normalize = (mat_normalize @ V_normalize.T).T[:, :3]\n",
    "#     print(np.sum(I_normalize), np.sum(V_normalize))\n",
    "#     random_angle_in_degrees = np.random.rand() * (ROTATION_RANGE[1]-ROTATION_RANGE[0]) - ROTATION_RANGE[0]\n",
    "#     random_scale = np.random.rand()*0.1 + 1.0\n",
    "#     cv_mat_rot_scale = cv2.getRotationMatrix2D((out_img_size/2, out_img_size/2), random_angle_in_degrees, random_scale)\n",
    "#     rotated_and_scaled_image = cv2.warpAffine(I_normalize, cv_mat_rot_scale, (out_img_size, out_img_size), borderValue=0, flags=cv2.INTER_NEAREST)\n",
    "#     rotated_and_scaled_image *= random_scale\n",
    "\n",
    "#     # print(cv_mat_rot_scale)\n",
    "#     mat_rot_scale = np.eye(4, dtype=np.float64)\n",
    "#     mat_rot_scale[:2, :2] = cv_mat_rot_scale[:2, :2]\n",
    "#     tmp = np.zeros((778, 4))\n",
    "#     tmp[:,:3] = V_normalize\n",
    "#     tmp[:, 3] = 1\n",
    "#     rotated_scaled_vertices = tmp @ mat_rot_scale.T\n",
    "    mat_process = mat_normalize @ mat_pad @ mat_resize @ mat_crop\n",
    "    # print(mat_process)\n",
    "#     print(rotated_and_scaled_image, rotated_scaled_vertices)\n",
    "    return I_normalize, V_normalize[:, :3], mat_process\n",
    "\n",
    "def get_raw_data_as_tf_dataset(storage_dir, images, annotations, dataset):\n",
    "    if dataset == \"youtube\":\n",
    "        image_dct = {}\n",
    "        image_path = []\n",
    "        image_width = []\n",
    "        image_height = []\n",
    "        hand_is_left = []\n",
    "        annotation_idx = []\n",
    "        map_img_to_path(image_dct, images)\n",
    "        map_img_to_ann(image_dct, annotations)\n",
    "        for idx, img in enumerate(image_dct.keys()):\n",
    "            image_dct[img]['path'] = os.path.join(storage_dir, image_dct[img]['path'])\n",
    "            for ann in image_dct[img]['ann']:\n",
    "                image_path.append(str(image_dct[img]['path']))\n",
    "                image_width.append(image_dct[img]['width'])\n",
    "                image_height.append(image_dct[img]['height'])\n",
    "                hand_is_left.append(annotations[ann]['is_left'])\n",
    "                annotation_idx.append(ann)\n",
    "\n",
    "            # if idx >= 1:\n",
    "            #     break\n",
    "        \n",
    "        ds_raw = tf.data.Dataset.from_tensor_slices((image_path, image_width, image_height, hand_is_left, annotation_idx))\n",
    "    else:\n",
    "        mano = []\n",
    "        image_path = []\n",
    "        proj_mat = []\n",
    "        for idx, ann in enumerate(annotations):\n",
    "            mano.append(ann['mano'])\n",
    "            proj_mat.append(ann['K'])\n",
    "            image_path.append('../storage/sample_friehand/'+\"00000000\"[:(8-len(str(idx)))]+str(idx)+'.jpg')\n",
    "            mano.append(ann['mano'])\n",
    "            proj_mat.append(ann['K'])\n",
    "            image_path.append('../storage/sample_friehand/'+\"00000000\"[:(8-len(str(idx)))]+str(idx)+'.jpg')\n",
    "#             if idx==1:\n",
    "#                 break\n",
    "        ds_raw = tf.data.Dataset.from_tensor_slices((image_path, mano, proj_mat))\n",
    "    return ds_raw\n",
    "\n",
    "def process_ds(projection_func):\n",
    "    #Load image and annotations from text file later\n",
    "    def f(image_path, annotation, *args):\n",
    "        normalized_image, annotation_xyz, normalized_annotations, affine_mat, proj_mat = tf.py_function(\n",
    "            func = process_data_wrapper(projection_func),\n",
    "            inp = [image_path, annotation, *args],\n",
    "            Tout = [tf.float32, tf.float32, tf.float32, tf.float32, tf.float32]\n",
    "        )\n",
    "\n",
    "        annotation_xyz.set_shape([778, 3])\n",
    "        normalized_image.set_shape([out_img_size, out_img_size, 3])\n",
    "        normalized_annotations.set_shape([778, 3])\n",
    "        affine_mat.set_shape([4, 4])\n",
    "        proj_mat.set_shape([4, 4])\n",
    "\n",
    "        return (\n",
    "            {\"I\" : normalized_image, \"proj_mat\" : proj_mat, \"affine_mat\" : affine_mat},\n",
    "            {\"V\" : normalized_annotations, \"annotations_xyz\" : annotation_xyz}\n",
    "        )\n",
    "    return f\n",
    "#     return normalized_image, normalized_annotations\n",
    "\n",
    "def process_tf_dataset(ds_raw, dataset):\n",
    "    if dataset==\"youtube\":\n",
    "        ds_processed = ds_raw.map(\n",
    "                            lambda image_path, image_width, image_height, hand_is_left, annotation_id : process_ds(youtube_projection)(\n",
    "                                    image_path, annotation_id, image_width, image_height, hand_is_left), num_parallel_calls=tf.data.AUTOTUNE)\n",
    "    else:\n",
    "        ds_processed = ds_raw.map(lambda image_path, mano, proj_mat : process_ds(freihand_projection)(image_path, mano, proj_mat), num_parallel_calls=tf.data.AUTOTUNE)\n",
    "        \n",
    "#     ds_processed = ds_processed.cache('../storage/cache')\n",
    "#     ds_processed = ds_processed.apply(tf.data.experimental.ignore_errors())\n",
    "        ## Apply ignore errors\n",
    "    return ds_processed\n",
    "\n",
    "def get_processed_dataset_as_tf_dataset(storage_dir, images, annotations, dataset):\n",
    "    ds_raw = get_raw_data_as_tf_dataset(storage_dir, images, annotations, dataset)\n",
    "    \n",
    "    n_data = ds_raw.cardinality().numpy()\n",
    "    train_frac = 1\n",
    "    n_data_train = int(n_data * train_frac)\n",
    "    ds_train = ds_raw.take(n_data_train)\n",
    "    ds_val = ds_raw.take(n_data_train)\n",
    "    ds_train = process_tf_dataset(ds_train, dataset)\n",
    "#     ds_train = ds_train.apply(tf.data.experimental.ignore_errors())\n",
    "    ds_val = process_tf_dataset(ds_val, dataset)\n",
    "\n",
    "    return ds_train, ds_val\n",
    "\n"
   ]
  },
  {
   "cell_type": "code",
   "execution_count": 24,
   "metadata": {},
   "outputs": [
    {
     "output_type": "execute_result",
     "data": {
      "text/plain": [
       "'00000010'"
      ]
     },
     "metadata": {},
     "execution_count": 24
    }
   ],
   "source": [
    "id =10\n",
    "f\"{id:08}\""
   ]
  },
  {
   "cell_type": "code",
   "execution_count": 25,
   "metadata": {},
   "outputs": [
    {
     "output_type": "stream",
     "name": "stdout",
     "text": [
      "<PrefetchDataset shapes: ({I: (None, 224, 224, 3), proj_mat: (None, 4, 4), affine_mat: (None, 4, 4)}, {V: (None, 778, 3), annotations_xyz: (None, 778, 3)}), types: ({I: tf.float32, proj_mat: tf.float32, affine_mat: tf.float32}, {V: tf.float32, annotations_xyz: tf.float32})> <PrefetchDataset shapes: ({I: (None, 224, 224, 3), proj_mat: (None, 4, 4), affine_mat: (None, 4, 4)}, {V: (None, 778, 3), annotations_xyz: (None, 778, 3)}), types: ({I: tf.float32, proj_mat: tf.float32, affine_mat: tf.float32}, {V: tf.float32, annotations_xyz: tf.float32})>\n"
     ]
    }
   ],
   "source": [
    "\n",
    "# ds_train, ds_val = get_processed_dataset_as_tf_dataset(None, None, annotation_json_100)\n",
    "ds_train, ds_val = get_processed_dataset_as_tf_dataset(storage_dir+'data/', sample_train_data['images'], sample_train_data['annotations'], \"youtube\")\n",
    "\n",
    "# ds_train = get_raw_data_as_tf_dataset(None, None, None)\n",
    "# ds_train = process_tf_dataset(ds_train, True)\n",
    "ds_train = ds_train.batch(2)\n",
    "ds_train = ds_train.prefetch(tf.data.experimental.AUTOTUNE)\n",
    "ds_val = ds_val.batch(2)\n",
    "ds_val = ds_val.prefetch(tf.data.experimental.AUTOTUNE)\n",
    "# ds_val = ds_train\n",
    "print(ds_train, ds_val)"
   ]
  },
  {
   "cell_type": "code",
   "execution_count": 26,
   "metadata": {},
   "outputs": [
    {
     "output_type": "display_data",
     "data": {
      "text/plain": "Canvas(toolbar=Toolbar(toolitems=[('Home', 'Reset original view', 'home', 'home'), ('Back', 'Back to previous …",
      "application/vnd.jupyter.widget-view+json": {
       "version_major": 2,
       "version_minor": 0,
       "model_id": "8cccb09d46644e678365d7f1266a6bb1"
      }
     },
     "metadata": {}
    },
    {
     "output_type": "stream",
     "name": "stdout",
     "text": [
      "[[-0.18195869 -0.0153017845 -0.0152101694]\n",
      " [-0.264653921 0.0543023422 0.128271788]\n",
      " [-0.231900245 -0.077027753 0.202346906]\n",
      " ...\n",
      " [0.208816156 0.438648134 -0.117691368]\n",
      " [0.296786308 0.389125526 -0.249245405]\n",
      " [-0.0251094215 0.431919485 0.0245205387]]\n",
      "tf.Tensor(\n",
      "[[[1101.9906     609.633        1.2448348]\n",
      "  [1096.5327     614.22687      7.557873 ]\n",
      "  [1098.6945     605.5591      10.817091 ]\n",
      "  ...\n",
      "  [1127.7817     639.5936      -3.2642179]\n",
      "  [1133.5878     636.3252      -9.052442 ]\n",
      "  [1112.3427     639.14954      2.9929395]]], shape=(1, 778, 3), dtype=float32)\n"
     ]
    }
   ],
   "source": [
    "for ds in ds_train:\n",
    "    fig = plt.figure()\n",
    "    ax1 = fig.add_subplot(121)\n",
    "    tf.debugging.check_numerics(ds[0]['I'][0], \"asd\")\n",
    "    ax1.imshow(ds[0]['I'][0].numpy())\n",
    "    # tf.print(ds[0]['I'][0])\n",
    "\n",
    "    ax2 = fig.add_subplot(122)\n",
    "    tf.debugging.check_numerics(ds[1]['V'][0], \"asd\")\n",
    "    vertex_set = ds[1]['V'][0].numpy()\n",
    "    ax2.scatter(vertex_set[:, 0], vertex_set[:, 1])\n",
    "#     ax2.set_xlim(-1, 1)\n",
    "#     ax2.set_ylim(1, -1)\n",
    "    tf.print(ds[1]['V'][0])\n",
    "    ax2.set_aspect(\"equal\")\n",
    "    print(unproject_youtube(tf.convert_to_tensor([ds[1]['V'][0]]), tf.convert_to_tensor([ds[0]['affine_mat'][0]]), tf.convert_to_tensor([ds[0]['proj_mat'][0]])))\n",
    "#     print(unproject_freihand(tf.convert_to_tensor([ds[1]['V'][0]]), tf.convert_to_tensor([ds[0]['affine_mat'][0]]), tf.convert_to_tensor([ds[0]['proj_mat'][0]])))\n",
    "#     print(tf.reduce_sum(tf.norm(unproject_freihand(tf.convert_to_tensor([ds[1]['V'][0]]), tf.convert_to_tensor([ds[0]['affine_mat'][0]]), tf.convert_to_tensor([ds[0]['proj_mat'][0]]))[0]-V1, ord='euclidean', axis=-1)))\n",
    "    #     break\n",
    "    \n",
    "    break\n",
    "    \n",
    "# for ds in ds_train1:\n",
    "#     fig = plt.figure()\n",
    "#     ax1 = fig.add_subplot(121)\n",
    "#     ax1.imshow(ds[0]['I'][0].numpy())\n",
    "# #     tf.print(ds[0]['I'][0])\n",
    "\n",
    "#     ax2 = fig.add_subplot(122)\n",
    "#     vertex_set = ds[1]['V'][0].numpy()\n",
    "#     ax2.scatter(vertex_set[:, 0], vertex_set[:, 1])\n",
    "#     ax2.set_xlim(-1, 1)\n",
    "#     ax2.set_ylim(1, -1)\n",
    "#     ax2.set_aspect(\"equal\")\n",
    "#     print(np.min(ds[1]['V'][0].numpy()), np.max(ds[1]['V'][0].numpy()))"
   ]
  },
  {
   "cell_type": "code",
   "execution_count": 27,
   "metadata": {},
   "outputs": [],
   "source": [
    "def get_edge_mat(face_data, num_vert):\n",
    "    \"\"\"\n",
    "    Get edge matrix of dimension Num_edges x Num_vertices\n",
    "    Example :- [[1, 0, 0, -1, 0...], .. .. ]\n",
    "    \"\"\"\n",
    "    edge_list = []\n",
    "    for f in face_data:\n",
    "        edge_list.append((f[0], f[1]) if f[0]<f[1] else (f[1], f[0]))\n",
    "        edge_list.append((f[1], f[2]) if f[1]<f[2] else (f[2], f[1]))\n",
    "        edge_list.append((f[2], f[0]) if f[2]<f[0] else (f[0], f[2]))\n",
    "    edge_list = list(set(edge_list))\n",
    "#     print(edge_list)\n",
    "    edge_mat = np.zeros((len(edge_list), num_vert))\n",
    "    for idx, e in enumerate(edge_list):\n",
    "        edge_mat[idx, e[0]]=1\n",
    "        edge_mat[idx, e[1]]=-1\n",
    "    return edge_mat"
   ]
  },
  {
   "cell_type": "code",
   "execution_count": 28,
   "metadata": {},
   "outputs": [],
   "source": [
    "def get_sparse_edge_mat(edge_mat):\n",
    "    \"\"\"\n",
    "    edge_mat: Num_edges_in_face*778 \n",
    "    \"\"\"\n",
    "    edge_mat = scipy.sparse.csr_matrix(edge_mat)\n",
    "    edge_mat = edge_mat.tocoo()\n",
    "    indices = np.column_stack((edge_mat.row, edge_mat.col))\n",
    "    edge_mat = tf.SparseTensor(indices, edge_mat.data, edge_mat.shape)\n",
    "    edge_mat = tf.sparse.reorder(edge_mat)\n",
    "    return edge_mat"
   ]
  },
  {
   "cell_type": "code",
   "execution_count": 29,
   "metadata": {},
   "outputs": [
    {
     "output_type": "error",
     "ename": "FileNotFoundError",
     "evalue": "[Errno 2] No such file or directory: '../storage/MANO_RIGHT.pkl'",
     "traceback": [
      "\u001b[0;31m---------------------------------------------------------------------------\u001b[0m",
      "\u001b[0;31mFileNotFoundError\u001b[0m                         Traceback (most recent call last)",
      "\u001b[0;32m<ipython-input-29-9ee8748b8b7f>\u001b[0m in \u001b[0;36m<module>\u001b[0;34m\u001b[0m\n\u001b[0;32m----> 1\u001b[0;31m \u001b[0mmano\u001b[0m \u001b[0;34m=\u001b[0m \u001b[0mMano\u001b[0m\u001b[0;34m(\u001b[0m\u001b[0;34m'../storage/MANO_RIGHT.pkl'\u001b[0m\u001b[0;34m)\u001b[0m\u001b[0;34m\u001b[0m\u001b[0;34m\u001b[0m\u001b[0m\n\u001b[0m\u001b[1;32m      2\u001b[0m \u001b[0msparse_edge_mat\u001b[0m \u001b[0;34m=\u001b[0m \u001b[0mtf\u001b[0m\u001b[0;34m.\u001b[0m\u001b[0mconvert_to_tensor\u001b[0m\u001b[0;34m(\u001b[0m\u001b[0mget_edge_mat\u001b[0m\u001b[0;34m(\u001b[0m\u001b[0mmano\u001b[0m\u001b[0;34m.\u001b[0m\u001b[0mtriangles\u001b[0m\u001b[0;34m,\u001b[0m \u001b[0mlen\u001b[0m\u001b[0;34m(\u001b[0m\u001b[0mmano\u001b[0m\u001b[0;34m.\u001b[0m\u001b[0mV_temp\u001b[0m\u001b[0;34m)\u001b[0m\u001b[0;34m)\u001b[0m\u001b[0;34m,\u001b[0m \u001b[0mdtype\u001b[0m\u001b[0;34m=\u001b[0m\u001b[0mtf\u001b[0m\u001b[0;34m.\u001b[0m\u001b[0mfloat32\u001b[0m\u001b[0;34m)\u001b[0m\u001b[0;34m\u001b[0m\u001b[0;34m\u001b[0m\u001b[0m\n\u001b[1;32m      3\u001b[0m \u001b[0mtensor_edge_mat\u001b[0m \u001b[0;34m=\u001b[0m \u001b[0mget_sparse_edge_mat\u001b[0m\u001b[0;34m(\u001b[0m\u001b[0msparse_edge_mat\u001b[0m\u001b[0;34m)\u001b[0m\u001b[0;34m\u001b[0m\u001b[0;34m\u001b[0m\u001b[0m\n",
      "\u001b[0;32m/misc/extra/data/hands/network2/mano.py\u001b[0m in \u001b[0;36m__init__\u001b[0;34m(self, path)\u001b[0m\n\u001b[1;32m     19\u001b[0m     \u001b[0;32mdef\u001b[0m \u001b[0m__init__\u001b[0m\u001b[0;34m(\u001b[0m\u001b[0mself\u001b[0m\u001b[0;34m,\u001b[0m \u001b[0mpath\u001b[0m\u001b[0;34m)\u001b[0m\u001b[0;34m:\u001b[0m\u001b[0;34m\u001b[0m\u001b[0;34m\u001b[0m\u001b[0m\n\u001b[1;32m     20\u001b[0m         \u001b[0mself\u001b[0m\u001b[0;34m.\u001b[0m\u001b[0mpath\u001b[0m \u001b[0;34m=\u001b[0m \u001b[0mpath\u001b[0m\u001b[0;34m\u001b[0m\u001b[0;34m\u001b[0m\u001b[0m\n\u001b[0;32m---> 21\u001b[0;31m         \u001b[0mself\u001b[0m\u001b[0;34m.\u001b[0m\u001b[0m_read\u001b[0m\u001b[0;34m(\u001b[0m\u001b[0;34m)\u001b[0m\u001b[0;34m\u001b[0m\u001b[0;34m\u001b[0m\u001b[0m\n\u001b[0m\u001b[1;32m     22\u001b[0m \u001b[0;34m\u001b[0m\u001b[0m\n\u001b[1;32m     23\u001b[0m     \u001b[0;32mdef\u001b[0m \u001b[0mprint_data_format\u001b[0m\u001b[0;34m(\u001b[0m\u001b[0mself\u001b[0m\u001b[0;34m,\u001b[0m \u001b[0mdata\u001b[0m\u001b[0;34m)\u001b[0m\u001b[0;34m:\u001b[0m\u001b[0;34m\u001b[0m\u001b[0;34m\u001b[0m\u001b[0m\n",
      "\u001b[0;32m/misc/extra/data/hands/network2/mano.py\u001b[0m in \u001b[0;36m_read\u001b[0;34m(self)\u001b[0m\n\u001b[1;32m     51\u001b[0m     \u001b[0;32mdef\u001b[0m \u001b[0m_read\u001b[0m\u001b[0;34m(\u001b[0m\u001b[0mself\u001b[0m\u001b[0;34m)\u001b[0m\u001b[0;34m:\u001b[0m\u001b[0;34m\u001b[0m\u001b[0;34m\u001b[0m\u001b[0m\n\u001b[1;32m     52\u001b[0m         \u001b[0;34m\"\"\"Reads MANO data from pkl file.\"\"\"\u001b[0m\u001b[0;34m\u001b[0m\u001b[0;34m\u001b[0m\u001b[0m\n\u001b[0;32m---> 53\u001b[0;31m         \u001b[0;32mwith\u001b[0m \u001b[0mopen\u001b[0m\u001b[0;34m(\u001b[0m\u001b[0mself\u001b[0m\u001b[0;34m.\u001b[0m\u001b[0mpath\u001b[0m\u001b[0;34m,\u001b[0m \u001b[0;34m\"rb\"\u001b[0m\u001b[0;34m)\u001b[0m \u001b[0;32mas\u001b[0m \u001b[0mfile\u001b[0m\u001b[0;34m:\u001b[0m\u001b[0;34m\u001b[0m\u001b[0;34m\u001b[0m\u001b[0m\n\u001b[0m\u001b[1;32m     54\u001b[0m             \u001b[0mdata\u001b[0m \u001b[0;34m=\u001b[0m \u001b[0mpickle\u001b[0m\u001b[0;34m.\u001b[0m\u001b[0mload\u001b[0m\u001b[0;34m(\u001b[0m\u001b[0mfile\u001b[0m\u001b[0;34m,\u001b[0m \u001b[0mencoding\u001b[0m\u001b[0;34m=\u001b[0m\u001b[0;34m\"latin1\"\u001b[0m\u001b[0;34m)\u001b[0m\u001b[0;34m\u001b[0m\u001b[0;34m\u001b[0m\u001b[0m\n\u001b[1;32m     55\u001b[0m \u001b[0;34m\u001b[0m\u001b[0m\n",
      "\u001b[0;31mFileNotFoundError\u001b[0m: [Errno 2] No such file or directory: '../storage/MANO_RIGHT.pkl'"
     ]
    }
   ],
   "source": [
    "mano = Mano('../storage/MANO_RIGHT.pkl')\n",
    "sparse_edge_mat = tf.convert_to_tensor(get_edge_mat(mano.triangles, len(mano.V_temp)), dtype=tf.float32)\n",
    "tensor_edge_mat = get_sparse_edge_mat(sparse_edge_mat)"
   ]
  },
  {
   "cell_type": "code",
   "execution_count": 30,
   "metadata": {},
   "outputs": [],
   "source": [
    "def loss_function(y_true, y_pred):\n",
    "    num_verts = tf.shape(y_true)[1]\n",
    "    num_edges = tf.shape(tensor_edge_mat)[0]\n",
    "    y_true = tf.transpose(y_true, perm=[1, 2, 0]) # 778 x 3 x N\n",
    "    y_true = tf.reshape(y_true, [num_verts, -1])\n",
    "    y_pred = tf.transpose(y_pred, perm=[1, 2, 0]) # 778 x 3 x N\n",
    "    y_pred = tf.reshape(y_pred, [num_verts, -1])\n",
    "    edge_true = tf.sparse.sparse_dense_matmul(tensor_edge_mat, y_true) # num_edges x 3N\n",
    "    edge_pred = tf.sparse.sparse_dense_matmul(tensor_edge_mat, y_pred) # num_edges x 3N\n",
    "    edge_pred = tf.reshape(edge_pred, [num_edges, 3, -1])\n",
    "    edge_true = tf.reshape(edge_true, [num_edges, 3, -1])\n",
    "    y_pred = tf.reshape(y_pred, [num_verts, 3, -1]) # 778 x 3 x N\n",
    "    y_pred = tf.transpose(y_pred, perm=[2, 0, 1]) # N x 778 x 3\n",
    "    y_true = tf.reshape(y_true, [num_verts, 3, -1])\n",
    "    y_true = tf.transpose(y_true, perm=[2, 0, 1]) # N x 778 x 3\n",
    "\n",
    "#     tf.print(tf.shape(y_true), tf.shape(tf.reduce_sum(tf.norm(y_true - y_pred, ord=1, axis=1), axis=0)), tf.shape(tf.reduce_sum(tf.abs(tf.norm(edge_true, ord='euclidean', axis=1)**2 - tf.norm(edge_pred, ord='euclidean', axis=1)**2), axis=0)), output_stream=sys.stdout)\n",
    "#     tf.print(tf.norm(edge_true, ord='euclidean', axis=1) - tf.norm(edge_pred, ord='euclidean', axis=1) , output_stream=sys.stdout)\n",
    "#     tf.print(tf.reduce_mean(tf.norm(y_true - y_pred, ord=1, axis=1), axis=-1) , output_stream=sys.stdout)\n",
    "#     tf.print(tf.reduce_mean(tf.reduce_mean(tf.abs(tf.norm(edge_true, ord=2, axis=1) - tf.norm(edge_pred, ord=2, axis=1)), axis=-1), axis=-1))\n",
    "#     tf.print(tf.reduce_max(tf.abs(tf.norm(edge_true, ord=2, axis=1) - tf.norm(edge_pred, ord=2, axis=1))), output_stream=sys.stdout)\n",
    "#     tf.autograph.trace()\n",
    "#     tf.autograph.trace()\n",
    "\n",
    "    return tf.reduce_mean(tf.reduce_sum(tf.norm(y_true - y_pred, ord=1, axis=2), axis=1)) + tf.reduce_mean(tf.reduce_sum(tf.abs(tf.norm(edge_true, ord='euclidean', axis=1)**2 - tf.norm(edge_pred, ord='euclidean', axis=1)**2), axis=0))\n",
    "#     return tf.reduce_mean(tf.reduce_sum(tf.norm(y_true - y_pred, ord=1, axis=2), axis=1))"
   ]
  },
  {
   "cell_type": "code",
   "execution_count": 17,
   "metadata": {},
   "outputs": [],
   "source": [
    "meta_dir = \"../storage/\"\n",
    "mano = Mano(meta_dir+'MANO_RIGHT.pkl')\n",
    "# v_temp_bbx = bounding_box(mano.V_temp, 0)\n",
    "# MANO_SCALE = tf.convert_to_tensor((v_temp_bbx[1,:]-v_temp_bbx[0,:])/2, dtype=tf.float32)\n",
    "# MANO_SCALE"
   ]
  },
  {
   "cell_type": "code",
   "execution_count": 18,
   "metadata": {},
   "outputs": [
    {
     "name": "stdout",
     "output_type": "stream",
     "text": [
      "sampling transforms [<98x49 sparse matrix of type '<class 'numpy.float64'>'\n",
      "\twith 294 stored elements in Compressed Sparse Column format>, <195x98 sparse matrix of type '<class 'numpy.float64'>'\n",
      "\twith 585 stored elements in Compressed Sparse Column format>, <389x195 sparse matrix of type '<class 'numpy.float64'>'\n",
      "\twith 1167 stored elements in Compressed Sparse Column format>, <778x389 sparse matrix of type '<class 'numpy.float64'>'\n",
      "\twith 2334 stored elements in Compressed Sparse Column format>] [<389x778 sparse matrix of type '<class 'numpy.float64'>'\n",
      "\twith 389 stored elements in Compressed Sparse Column format>, <195x389 sparse matrix of type '<class 'numpy.float64'>'\n",
      "\twith 195 stored elements in Compressed Sparse Column format>, <98x195 sparse matrix of type '<class 'numpy.float64'>'\n",
      "\twith 98 stored elements in Compressed Sparse Column format>, <49x98 sparse matrix of type '<class 'numpy.float64'>'\n",
      "\twith 49 stored elements in Compressed Sparse Column format>]\n",
      "[[[0 0 1 1 -1 -1]\n",
      "  [1 1 -1 -1 0 0]\n",
      "  [-1 -1 1 1 0 0]]]\n",
      "[[ 1. -1.  0.  0.  0.  0.  0.  0.]\n",
      " [ 0.  1. -1.  0.  0.  0.  0.  0.]\n",
      " [ 0.  0.  1.  0.  0.  0.  0. -1.]\n",
      " [ 0.  0.  0.  0.  1.  0.  0. -1.]\n",
      " [ 0.  0.  0.  0.  0.  0.  1. -1.]\n",
      " [ 0.  0.  0.  0.  1.  0. -1.  0.]\n",
      " [ 0.  0.  0.  0.  0.  1. -1.  0.]\n",
      " [ 0.  0.  0.  0.  1. -1.  0.  0.]\n",
      " [ 0.  1.  0.  0.  0. -1.  0.  0.]\n",
      " [ 0.  0.  1. -1.  0.  0.  0.  0.]\n",
      " [ 0.  1.  0.  0.  0.  0. -1.  0.]\n",
      " [ 1.  0.  0.  0.  0. -1.  0.  0.]\n",
      " [ 1.  0.  0.  0. -1.  0.  0.  0.]\n",
      " [ 0.  0.  0.  1.  0.  0.  0. -1.]\n",
      " [ 1.  0.  0. -1.  0.  0.  0.  0.]\n",
      " [ 0.  0.  0.  1. -1.  0.  0.  0.]\n",
      " [ 1.  0. -1.  0.  0.  0.  0.  0.]\n",
      " [ 0.  1.  0.  0.  0.  0.  0. -1.]] (18, 8)\n"
     ]
    }
   ],
   "source": [
    "meta_dir = \"../dataset/\"\n",
    "def get_edge_mat(face_data, num_vert):\n",
    "    \"\"\"\n",
    "    Get edge matrix of dimension Num_edges x Num_vertices\n",
    "    Example :- [[1, 0, 0, -1, 0...], .. .. ]\n",
    "    \"\"\"\n",
    "    edge_list = []\n",
    "    for f in face_data:\n",
    "        edge_list.append((f[0], f[1]) if f[0]<f[1] else (f[1], f[0]))\n",
    "        edge_list.append((f[1], f[2]) if f[1]<f[2] else (f[2], f[1]))\n",
    "        edge_list.append((f[2], f[0]) if f[2]<f[0] else (f[0], f[2]))\n",
    "    edge_list = list(set(edge_list))\n",
    "    # print(edge_list)\n",
    "    edge_mat = np.zeros((len(edge_list), num_vert))\n",
    "    for idx, e in enumerate(edge_list):\n",
    "        edge_mat[idx, e[0]]=1\n",
    "        edge_mat[idx, e[1]]=-1\n",
    "    return edge_mat\n",
    "\n",
    "U = []\n",
    "D = []\n",
    "import scipy.sparse\n",
    "for i in range(4):\n",
    "    u = scipy.sparse.load_npz(meta_dir+'upsampling_matrix'+str(i+1)+'.npz')\n",
    "    U.append(u)\n",
    "\n",
    "for i in range(4):\n",
    "    d = scipy.sparse.load_npz(meta_dir+'downsampling_matrix'+str(i+1)+'.npz')\n",
    "    D.append(d)\n",
    "\n",
    "print(\"sampling transforms\", U, D)\n",
    "\n",
    "class SpiralConv(tf.keras.layers.Layer):\n",
    "    \n",
    "    def __init__(self, in_channels, out_channels, indices, dim=1):\n",
    "        super(SpiralConv, self).__init__()\n",
    "        self.dim = dim\n",
    "        self.indices = indices\n",
    "        self.nodes = tf.shape(indices)[0]\n",
    "        self.in_channels = in_channels\n",
    "        self.out_channels = out_channels\n",
    "        self.inp_dense = self.in_channels*tf.shape(indices)[1]\n",
    "        self.layer = tf.keras.layers.Dense(out_channels)\n",
    "        \n",
    "    def call(self, inputs):\n",
    "        batch_size = tf.shape(inputs)[0]\n",
    "        x = tf.reshape(tf.gather(inputs, tf.reshape(self.indices, [-1]), axis=1), [batch_size, self.nodes, self.inp_dense])\n",
    "        return x\n",
    "    \n",
    "    def model(self):\n",
    "        inputs = tf.keras.Input(shape=(self.nodes, self.in_channels))\n",
    "        x = self.call(inputs)\n",
    "        outputs = self.layer(x)\n",
    "        model = tf.keras.Model(inputs=inputs, outputs=outputs)\n",
    "        return model\n",
    "    \n",
    "    def get_config(self):\n",
    "        return {\"in_channels\": self.in_channels, \"out_channels\": self.out_channels, \"indices\": self.indices}\n",
    "\n",
    "in_channels = 2\n",
    "out_channels = 3\n",
    "batch_size = 1\n",
    "indices = [[0, 1, 2], [1, 2, 0], [2, 1, 0]]\n",
    "nodes = tf.shape(indices)[0]\n",
    "inp_dense = in_channels*tf.shape(indices)[1]\n",
    "inp = [[[0, 0], [1, 1], [-1, -1]]]\n",
    "out = tf.reshape(tf.gather(inp, tf.reshape(indices, [-1]), axis=1), [batch_size, nodes, inp_dense])\n",
    "tf.print(out)\n",
    "\n",
    "class Upsampling(tf.keras.layers.Layer):\n",
    "    ## Sparse Mult code from coma\n",
    "    def __init__(self, upsampling_matrix):\n",
    "        super(Upsampling, self).__init__()\n",
    "        self.upsampling_matrix = upsampling_matrix\n",
    "        self.upsampling_matrix = self.upsampling_matrix.tocoo()\n",
    "        indices = np.column_stack((self.upsampling_matrix.row, self.upsampling_matrix.col))\n",
    "        self.upsampling_matrix = tf.sparse.SparseTensor(indices, self.upsampling_matrix.data, self.upsampling_matrix.shape)\n",
    "        self.upsampling_matrix = tf.sparse.reorder(self.upsampling_matrix)\n",
    "        self.Mp = self.upsampling_matrix.shape[0]\n",
    "    \n",
    "    def call(self, inputs):\n",
    "        N = tf.shape(inputs)[0]\n",
    "        M = tf.shape(inputs)[1]\n",
    "        Fin = tf.shape(inputs)[2]\n",
    "        # N, M, Fin = int(N), int(M), int(Fin)\n",
    "\n",
    "        x = tf.transpose(inputs, perm=[1, 2, 0])  # M x Fin x N\n",
    "        x = tf.reshape(x, [M, -1])  # M x Fin*N\n",
    "        ##Speed up using sparse matrix multiplication\n",
    "        x = tf.sparse.sparse_dense_matmul(self.upsampling_matrix, x) # Mp x Fin*N\n",
    "        x = tf.reshape(x, [self.Mp, Fin, -1])  # Mp x Fin x N\n",
    "        x = tf.transpose(x, perm=[2,0,1]) # N x Mp x Fin\n",
    "        return x\n",
    "    \n",
    "    def get_config(self):\n",
    "        return {\"upsampling_matrix\": self.upsampling_matrix, \"Mp\": self.Mp}\n",
    "\n",
    "    def compute_output_shape(self, input_shape):\n",
    "        new_shape = (input_shape[0], self.Mp,\n",
    "                     input_shape[2])\n",
    "        return new_shape\n",
    "\n",
    "upml1 = Upsampling(scipy.sparse.csc_matrix.astype(U[-1], dtype=np.float32))\n",
    "upml2 = Upsampling(scipy.sparse.csc_matrix.astype(U[-2], dtype=np.float32))\n",
    "\n",
    "# plot_vertices(mano.V_temp)\n",
    "# down_sampled = D[0] @ normalized_vertices[:,:3]\n",
    "# plot_vertices(down_sampled)\n",
    "# down_sampled = D[1] @ down_sampled\n",
    "# plot_vertices(down_sampled)\n",
    "\n",
    "# up_sampled = upml2.call(tf.convert_to_tensor([down_sampled], dtype=tf.float32))\n",
    "# plot_vertices(up_sampled[0])\n",
    "# up_sampled = upml1.call(tf.convert_to_tensor(up_sampled, dtype=tf.float32))\n",
    "# plot_vertices(up_sampled[0])\n",
    "\n",
    "faces = [[1, 2, 3], [3, 4, 1], [4, 3, 8], [8, 5, 4], [5, 8, 7], [7, 6, 5], [6, 7, 2], [2, 1, 6], [1, 4, 5], [5, 6, 1], [8, 3, 2], [2, 7, 8]]\n",
    "faces = list(np.array(faces)-1)\n",
    "edge_mat = get_edge_mat(faces, 8)\n",
    "print(edge_mat, edge_mat.shape)"
   ]
  },
  {
   "cell_type": "code",
   "execution_count": 19,
   "metadata": {},
   "outputs": [
    {
     "name": "stdout",
     "output_type": "stream",
     "text": [
      "'SparseTensor(indices=[[0 0]\n",
      " [0 1]\n",
      " [1 1]\n",
      " ...\n",
      " [16 2]\n",
      " [17 1]\n",
      " [17 7]], values=[1 -1 1 ... -1 1 -1], shape=[18 8])'\n"
     ]
    }
   ],
   "source": [
    "def get_sparse_edge_mat(edge_mat):\n",
    "    \"\"\"\n",
    "    edge_mat: Num_edges_in_face*778 \n",
    "    \"\"\"\n",
    "    edge_mat = scipy.sparse.csr_matrix(edge_mat)\n",
    "    edge_mat = edge_mat.tocoo()\n",
    "    indices = np.column_stack((edge_mat.row, edge_mat.col))\n",
    "    edge_mat = tf.SparseTensor(indices, edge_mat.data, edge_mat.shape)\n",
    "    edge_mat = tf.sparse.reorder(edge_mat)\n",
    "    return edge_mat\n",
    "\n",
    "tfspm = tf.convert_to_tensor(edge_mat, dtype=tf.float64)\n",
    "tfspm = get_sparse_edge_mat(edge_mat)\n",
    "tf.print(tfspm)\n",
    "## Careful\n",
    "tensor_edge_mat = tfspm\n",
    "\n",
    "vertices = [[0, 1, 0], [0, 0, 0], [1, 0, 0], [1, 1, 0], [1, 1, -1], [0, 1, -1], [0, 0, -1], [1, 0, -1]]\n",
    "y_true = [vertices]\n",
    "y_true = tf.convert_to_tensor(y_true, dtype=tf.float64)\n",
    "\n",
    "y_pred = [np.array(vertices)-[0, 1, 0]]\n",
    "y_pred = tf.convert_to_tensor(y_pred, dtype=tf.float64)"
   ]
  },
  {
   "cell_type": "code",
   "execution_count": 20,
   "metadata": {},
   "outputs": [
    {
     "name": "stdout",
     "output_type": "stream",
     "text": [
      "8\n",
      "778\n"
     ]
    }
   ],
   "source": [
    "def loss_function(y_true, y_pred):\n",
    "    num_verts = tf.shape(y_true)[1]\n",
    "    num_edges = tf.shape(tensor_edge_mat)[0]\n",
    "    y_true = tf.transpose(y_true, perm=[1, 2, 0]) # 778 x 3 x N\n",
    "    y_true = tf.reshape(y_true, [num_verts, -1])\n",
    "    y_pred = tf.transpose(y_pred, perm=[1, 2, 0]) # 778 x 3 x N\n",
    "    y_pred = tf.reshape(y_pred, [num_verts, -1])\n",
    "    edge_true = tf.sparse.sparse_dense_matmul(tensor_edge_mat, y_true) # num_edges x 3N\n",
    "    edge_pred = tf.sparse.sparse_dense_matmul(tensor_edge_mat, y_pred) # num_edges x 3N\n",
    "    edge_pred = tf.reshape(edge_pred, [num_edges, 3, -1])\n",
    "    edge_true = tf.reshape(edge_true, [num_edges, 3, -1])\n",
    "    y_pred = tf.reshape(y_pred, [num_verts, 3, -1]) # 778 x 3 x N\n",
    "    y_pred = tf.transpose(y_pred, perm=[2, 0, 1]) # N x 778 x 3\n",
    "    y_true = tf.reshape(y_true, [num_verts, 3, -1])\n",
    "    y_true = tf.transpose(y_true, perm=[2, 0, 1]) # N x 778 x 3\n",
    "\n",
    "#     tf.print(tf.shape(y_true), tf.shape(tf.reduce_sum(tf.norm(y_true - y_pred, ord=1, axis=1), axis=0)), tf.shape(tf.reduce_sum(tf.abs(tf.norm(edge_true, ord='euclidean', axis=1)**2 - tf.norm(edge_pred, ord='euclidean', axis=1)**2), axis=0)), output_stream=sys.stdout)\n",
    "#     tf.print(tf.norm(edge_true, ord='euclidean', axis=1) - tf.norm(edge_pred, ord='euclidean', axis=1) , output_stream=sys.stdout)\n",
    "#     tf.print(tf.reduce_mean(tf.norm(y_true - y_pred, ord=1, axis=1), axis=-1) , output_stream=sys.stdout)\n",
    "#     tf.print(tf.reduce_mean(tf.reduce_mean(tf.abs(tf.norm(edge_true, ord=2, axis=1) - tf.norm(edge_pred, ord=2, axis=1)), axis=-1), axis=-1))\n",
    "#     tf.print(tf.reduce_max(tf.abs(tf.norm(edge_true, ord=2, axis=1) - tf.norm(edge_pred, ord=2, axis=1))), output_stream=sys.stdout)\n",
    "#     tf.autograph.trace()\n",
    "#     tf.autograph.trace()\n",
    "\n",
    "    return (tf.reduce_mean(tf.reduce_sum(tf.norm(y_true - y_pred, ord=1, axis=2), axis=1)) + tf.reduce_mean(tf.reduce_sum(tf.abs(tf.norm(edge_true, ord='euclidean', axis=1)**2 - tf.norm(edge_pred, ord='euclidean', axis=1)**2), axis=0)))\n",
    "\n",
    "tf.print(loss_function(y_true, y_pred))\n",
    "\n",
    "sparse_edge_mat = tf.convert_to_tensor(get_edge_mat(mano.triangles, len(mano.V_temp)), dtype=tf.float32)\n",
    "\n",
    "tensor_edge_mat = get_sparse_edge_mat(sparse_edge_mat)\n",
    "\n",
    "vertices = mano.V_temp\n",
    "y_true = [vertices]\n",
    "y_true = tf.convert_to_tensor(y_true, dtype=tf.float32)\n",
    "\n",
    "y_pred = [np.array(vertices)-[0, 1, 0]]\n",
    "y_pred = tf.convert_to_tensor(y_pred, dtype=tf.float32)\n",
    "\n",
    "tf.print(loss_function(y_true, y_pred))"
   ]
  },
  {
   "cell_type": "code",
   "execution_count": 21,
   "metadata": {},
   "outputs": [],
   "source": [
    "class Error_Metric(tf.keras.metrics.Metric):\n",
    "    def __init__(self, **kwargs):\n",
    "        super(Error_Metric, self).__init__(**kwargs)\n",
    "        self.vertex_distance_error = self.add_weight(name=\"vertex_dist_error\", initializer='zeros')\n",
    "        self.mean_error = self.add_weight(name=\"mean_vertex_dist_error\", initializer='zeros')\n",
    "        self.steps = self.add_weight(name=\"steps\", initializer='zeros')\n",
    "\n",
    "    def update_state(self, y_true, y_pred, sample_weight=None):\n",
    "        self.vertex_distance_error = tf.reduce_mean(tf.reduce_mean(tf.norm(y_true - y_pred, ord='euclidean', axis=2), axis=1))\n",
    "        self.mean_error.assign_add(self.vertex_distance_error)\n",
    "        self.steps.assign_add(1)\n",
    "\n",
    "    def result(self):\n",
    "        return self.vertex_distance_error\n",
    "\n",
    "    def reset_states(self):\n",
    "        self.mean_error.assign(0.0)\n",
    "        self.steps.assign(0.0)"
   ]
  },
  {
   "cell_type": "code",
   "execution_count": 22,
   "metadata": {},
   "outputs": [],
   "source": [
    "with open(meta_dir+'indices'+str(1)+'.npy', 'rb') as f:\n",
    "    indices_1 = np.load(f)\n",
    "with open(meta_dir+'indices'+str(2)+'.npy', 'rb') as f:\n",
    "    indices_2 = np.load(f)\n",
    "with open(meta_dir+'indices'+str(3)+'.npy', 'rb') as f:\n",
    "    indices_3 = np.load(f)\n",
    "with open(meta_dir+'indices'+str(4)+'.npy', 'rb') as f:\n",
    "    indices_4 = np.load(f)"
   ]
  },
  {
   "cell_type": "code",
   "execution_count": 23,
   "metadata": {},
   "outputs": [],
   "source": [
    "def Print(x, name=\"def\"):\n",
    "    tf.debugging.check_numerics(x, f'${name} FAILS')\n",
    "    # tf.print(name)\n",
    "    # tf.print(x)\n",
    "    return x\n",
    "\n",
    "resnet50 = tf.keras.applications.ResNet50(\n",
    "    include_top=True, weights=None, input_tensor=None,\n",
    "    input_shape=None, pooling=None, classes=1000)\n",
    "\n",
    "up1 = Upsampling(scipy.sparse.csc_matrix.astype(U[0], dtype=np.float32))\n",
    "sconv1 = SpiralConv(48, 32, indices_1).model()\n",
    "up2 = Upsampling(scipy.sparse.csc_matrix.astype(U[1], dtype=np.float32))\n",
    "sconv2 = SpiralConv(32, 32, indices_2).model()\n",
    "up3 = Upsampling(scipy.sparse.csc_matrix.astype(U[2], dtype=np.float32))\n",
    "sconv3 = SpiralConv(32, 16, indices_3).model()\n",
    "up4 = Upsampling(scipy.sparse.csc_matrix.astype(U[3], dtype=np.float32))\n",
    "sconv4 = SpiralConv(16, 3, indices_4).model()"
   ]
  },
  {
   "cell_type": "code",
   "execution_count": 24,
   "metadata": {},
   "outputs": [
    {
     "name": "stdout",
     "output_type": "stream",
     "text": [
      "Model: \"basic_model\"\n",
      "__________________________________________________________________________________________________\n",
      "Layer (type)                    Output Shape         Param #     Connected to                     \n",
      "==================================================================================================\n",
      "I (InputLayer)                  [(None, 224, 224, 3) 0                                            \n",
      "__________________________________________________________________________________________________\n",
      "resnet50 (Functional)           (None, 1000)         25636712    I[0][0]                          \n",
      "__________________________________________________________________________________________________\n",
      "FC2 (Dense)                     (None, 2352)         2354352     resnet50[0][0]                   \n",
      "__________________________________________________________________________________________________\n",
      "reshape_to_mesh (Reshape)       (None, 49, 48)       0           FC2[0][0]                        \n",
      "__________________________________________________________________________________________________\n",
      "upsampling_2 (Upsampling)       (None, 98, None)     0           reshape_to_mesh[0][0]            \n",
      "__________________________________________________________________________________________________\n",
      "model (Functional)              (None, 98, 32)       12320       upsampling_2[0][0]               \n",
      "__________________________________________________________________________________________________\n",
      "upsampling_3 (Upsampling)       (None, 195, None)    0           model[0][0]                      \n",
      "__________________________________________________________________________________________________\n",
      "model_1 (Functional)            (None, 195, 32)      8224        upsampling_3[0][0]               \n",
      "__________________________________________________________________________________________________\n",
      "upsampling_4 (Upsampling)       (None, 389, None)    0           model_1[0][0]                    \n",
      "__________________________________________________________________________________________________\n",
      "model_2 (Functional)            (None, 389, 16)      4112        upsampling_4[0][0]               \n",
      "__________________________________________________________________________________________________\n",
      "upsampling_5 (Upsampling)       (None, 778, None)    0           model_2[0][0]                    \n",
      "__________________________________________________________________________________________________\n",
      "model_3 (Functional)            (None, 778, 3)       387         upsampling_5[0][0]               \n",
      "__________________________________________________________________________________________________\n",
      "V (Reshape)                     (None, 778, 3)       0           model_3[0][0]                    \n",
      "__________________________________________________________________________________________________\n",
      "affine_mat (InputLayer)         [(None, 4, 4)]       0                                            \n",
      "__________________________________________________________________________________________________\n",
      "proj_mat (InputLayer)           [(None, 4, 4)]       0                                            \n",
      "__________________________________________________________________________________________________\n",
      "annotations_xyz (Lambda)        (None, 778, 3)       0           V[0][0]                          \n",
      "                                                                 affine_mat[0][0]                 \n",
      "                                                                 proj_mat[0][0]                   \n",
      "==================================================================================================\n",
      "Total params: 28,016,107\n",
      "Trainable params: 27,962,987\n",
      "Non-trainable params: 53,120\n",
      "__________________________________________________________________________________________________\n"
     ]
    }
   ],
   "source": [
    "I_input = tf.keras.Input(shape=(out_img_size, out_img_size, 3), name=\"I\")\n",
    "proj_mat = tf.keras.Input(shape=(4, 4), name=\"proj_mat\")\n",
    "affine_mat = tf.keras.Input(shape=(4, 4), name=\"affine_mat\")\n",
    "\n",
    "x = resnet50(I_input)\n",
    "# x = tf.keras.layers.Lambda(lambda y : Print(y))(x)\n",
    "\n",
    "# x = tf.keras.layers.Dense(64, activation=tf.keras.activations.relu , name=\"FC1\")(x)\n",
    "# x = tf.keras.layers.Lambda(lambda y : Print(y))(x)\n",
    "\n",
    "x = tf.keras.layers.Dense(49*48, activation=tf.keras.activations.relu, name=\"FC2\")(x)\n",
    "# x = tf.keras.layers.Lambda(lambda y : Print(y))(x)\n",
    "\n",
    "x = tf.keras.layers.Reshape((49, 48), name=\"reshape_to_mesh\")(x)\n",
    "\n",
    "x = up1(x)\n",
    "# x = tf.keras.layers.Lambda(lambda y : Print(y))(x)\n",
    "\n",
    "x = sconv1(x)\n",
    "# x = tf.keras.layers.Lambda(lambda y : Print(y))(x)\n",
    "\n",
    "x = up2(x)\n",
    "# x = tf.keras.layers.Lambda(lambda y : Print(y))(x)\n",
    "\n",
    "x = sconv2(x)\n",
    "# x = tf.keras.layers.Lambda(lambda y : Print(y))(x)\n",
    "\n",
    "x = up3(x)\n",
    "# x = tf.keras.layers.Lambda(lambda y : Print(y))(x)\n",
    "\n",
    "x = sconv3(x)\n",
    "# x = tf.keras.layers.Lambda(lambda y : Print(y))(x)\n",
    "\n",
    "x = up4(x)\n",
    "# x = tf.keras.layers.Lambda(lambda y : Print(y))(x)\n",
    "\n",
    "x = sconv4(x)\n",
    "# x = tf.keras.layers.Lambda(lambda y : Print(y))(x)\n",
    "\n",
    "V = tf.keras.layers.Reshape((n_verts_to_predict, 3), name=\"V\")(x)\n",
    "\n",
    "annotations_xyz = tf.keras.layers.Lambda(lambda x: unproject_freihand(*x), output_shape=(778, 3), name=\"annotations_xyz\")([V, affine_mat, proj_mat])\n",
    "\n",
    "model = tf.keras.Model(inputs=[I_input, proj_mat, affine_mat], outputs=[V, annotations_xyz], name=\"basic_model\")\n",
    "\n",
    "model.summary()\n"
   ]
  },
  {
   "cell_type": "code",
   "execution_count": 27,
   "metadata": {},
   "outputs": [],
   "source": [
    "## Implement scheduler\n",
    "learning_rate = 1e-4\n",
    "boundaries = [50, 100, 130]\n",
    "lr_values = [learning_rate, learning_rate*0.1, learning_rate*0.01, learning_rate*0.001]\n",
    "\n",
    "learning_rate_fn = tf.keras.optimizers.schedules.PiecewiseConstantDecay(boundaries, lr_values)\n",
    "\n",
    "model.compile(\n",
    "    optimizer=tf.keras.optimizers.Adam(learning_rate),\n",
    "    loss={\"V\": loss_function},\n",
    "    metrics={\"annotations_xyz\": Error_Metric()}\n",
    ")\n",
    "\n",
    "callbacks = [\n",
    "  tf.keras.callbacks.TensorBoard(\n",
    "    log_dir='../storage/logs/',\n",
    "    histogram_freq=0,  \n",
    "    embeddings_freq=0,  \n",
    "    update_freq=\"epoch\",\n",
    "  ),\n",
    "#   tf.keras.callbacks.ModelCheckpoint(\n",
    "#         filepath=\"../storage/chkpts/mymodel_{epoch}\",\n",
    "#         monitor=\"val_loss\",\n",
    "#         save_weights_only=True,\n",
    "#         verbose=1,\n",
    "#   )\n",
    "]\n",
    "# tf.keras.losses.MeanAbsoluteError()"
   ]
  },
  {
   "cell_type": "code",
   "execution_count": 28,
   "metadata": {
    "tags": []
   },
   "outputs": [
    {
     "name": "stdout",
     "output_type": "stream",
     "text": [
      "WARNING:tensorflow:Model failed to serialize as JSON. Ignoring... ('Not JSON Serializable:', <tensorflow.python.framework.sparse_tensor.SparseTensor object at 0x15c43b438>)\n",
      "Epoch 1/300\n"
     ]
    },
    {
     "name": "stderr",
     "output_type": "stream",
     "text": [
      "/Users/debabratamandal/sem8/RnD/code/RnD/virtual_env/lib/python3.7/site-packages/ipykernel_launcher.py:92: DeprecationWarning: `np.int` is a deprecated alias for the builtin `int`. To silence this warning, use `int` by itself. Doing this will not modify any behavior and is safe. When replacing `np.int`, you may wish to use e.g. `np.int64` or `np.int32` to specify the precision. If you wish to review your current use, check the release note link for additional information.\n",
      "Deprecated in NumPy 1.20; for more details and guidance: https://numpy.org/devdocs/release/1.20.0-notes.html#deprecations\n"
     ]
    },
    {
     "name": "stdout",
     "output_type": "stream",
     "text": [
      "1/1 [==============================] - 9s 9s/step - loss: 898.7448 - V_loss: 898.7448 - annotations_xyz_error__metric_1: 13655.5947 - val_loss: 906.4474 - val_V_loss: 906.4474 - val_annotations_xyz_error__metric_1: 13751.1416\n",
      "Epoch 2/300\n",
      "1/1 [==============================] - 2s 2s/step - loss: 894.1832 - V_loss: 894.1832 - annotations_xyz_error__metric_1: 13620.2754 - val_loss: 903.7292 - val_V_loss: 903.7292 - val_annotations_xyz_error__metric_1: 13745.7920\n",
      "Epoch 3/300\n",
      "1/1 [==============================] - 1s 1s/step - loss: 887.7778 - V_loss: 887.7778 - annotations_xyz_error__metric_1: 13617.9873 - val_loss: 900.9322 - val_V_loss: 900.9322 - val_annotations_xyz_error__metric_1: 13739.0693\n",
      "Epoch 4/300\n",
      "1/1 [==============================] - 1s 727ms/step - loss: 881.7242 - V_loss: 881.7242 - annotations_xyz_error__metric_1: 13578.9678 - val_loss: 898.0344 - val_V_loss: 898.0344 - val_annotations_xyz_error__metric_1: 13730.5723\n",
      "Epoch 5/300\n",
      "1/1 [==============================] - 1s 708ms/step - loss: 875.7782 - V_loss: 875.7782 - annotations_xyz_error__metric_1: 13552.7832 - val_loss: 895.0253 - val_V_loss: 895.0253 - val_annotations_xyz_error__metric_1: 13720.7891\n",
      "Epoch 6/300\n",
      "1/1 [==============================] - 1s 695ms/step - loss: 869.3960 - V_loss: 869.3960 - annotations_xyz_error__metric_1: 13526.9844 - val_loss: 891.9178 - val_V_loss: 891.9178 - val_annotations_xyz_error__metric_1: 13709.4580\n",
      "Epoch 7/300\n",
      "1/1 [==============================] - 1s 676ms/step - loss: 862.9099 - V_loss: 862.9099 - annotations_xyz_error__metric_1: 13482.4961 - val_loss: 888.7538 - val_V_loss: 888.7538 - val_annotations_xyz_error__metric_1: 13696.3447\n",
      "Epoch 8/300\n",
      "1/1 [==============================] - 1s 1s/step - loss: 856.5984 - V_loss: 856.5984 - annotations_xyz_error__metric_1: 13439.4648 - val_loss: 885.5145 - val_V_loss: 885.5145 - val_annotations_xyz_error__metric_1: 13681.9180\n",
      "Epoch 9/300\n",
      "1/1 [==============================] - 1s 965ms/step - loss: 849.9897 - V_loss: 849.9897 - annotations_xyz_error__metric_1: 13404.8809 - val_loss: 882.1819 - val_V_loss: 882.1819 - val_annotations_xyz_error__metric_1: 13666.5078\n",
      "Epoch 10/300\n",
      "1/1 [==============================] - 1s 758ms/step - loss: 843.5404 - V_loss: 843.5404 - annotations_xyz_error__metric_1: 13352.3525 - val_loss: 878.7497 - val_V_loss: 878.7497 - val_annotations_xyz_error__metric_1: 13649.7793\n",
      "Epoch 11/300\n",
      "1/1 [==============================] - 1s 813ms/step - loss: 836.7825 - V_loss: 836.7825 - annotations_xyz_error__metric_1: 13316.6045 - val_loss: 875.1991 - val_V_loss: 875.1991 - val_annotations_xyz_error__metric_1: 13631.9922\n",
      "Epoch 12/300\n",
      "1/1 [==============================] - 1s 687ms/step - loss: 830.2741 - V_loss: 830.2741 - annotations_xyz_error__metric_1: 13272.5498 - val_loss: 871.5697 - val_V_loss: 871.5697 - val_annotations_xyz_error__metric_1: 13613.3467\n",
      "Epoch 13/300\n",
      "1/1 [==============================] - 1s 696ms/step - loss: 823.9521 - V_loss: 823.9521 - annotations_xyz_error__metric_1: 13230.0312 - val_loss: 867.8046 - val_V_loss: 867.8046 - val_annotations_xyz_error__metric_1: 13594.2754\n",
      "Epoch 14/300\n",
      "1/1 [==============================] - 1s 706ms/step - loss: 817.3130 - V_loss: 817.3130 - annotations_xyz_error__metric_1: 13202.8545 - val_loss: 863.9608 - val_V_loss: 863.9608 - val_annotations_xyz_error__metric_1: 13574.5527\n",
      "Epoch 15/300\n",
      "1/1 [==============================] - 1s 828ms/step - loss: 810.6908 - V_loss: 810.6908 - annotations_xyz_error__metric_1: 13156.6025 - val_loss: 860.0189 - val_V_loss: 860.0189 - val_annotations_xyz_error__metric_1: 13554.5156\n",
      "Epoch 16/300\n",
      "1/1 [==============================] - 1s 886ms/step - loss: 804.5139 - V_loss: 804.5139 - annotations_xyz_error__metric_1: 13125.3369 - val_loss: 855.9648 - val_V_loss: 855.9648 - val_annotations_xyz_error__metric_1: 13533.7510\n",
      "Epoch 17/300\n",
      "1/1 [==============================] - 1s 995ms/step - loss: 797.8129 - V_loss: 797.8129 - annotations_xyz_error__metric_1: 13093.1660 - val_loss: 851.8087 - val_V_loss: 851.8087 - val_annotations_xyz_error__metric_1: 13512.9238\n",
      "Epoch 18/300\n",
      "1/1 [==============================] - 1s 849ms/step - loss: 790.7266 - V_loss: 790.7266 - annotations_xyz_error__metric_1: 13087.7646 - val_loss: 847.5817 - val_V_loss: 847.5817 - val_annotations_xyz_error__metric_1: 13491.8906\n",
      "Epoch 19/300\n",
      "1/1 [==============================] - 1s 904ms/step - loss: 785.4673 - V_loss: 785.4673 - annotations_xyz_error__metric_1: 13037.5566 - val_loss: 843.2788 - val_V_loss: 843.2788 - val_annotations_xyz_error__metric_1: 13470.9199\n",
      "Epoch 20/300\n",
      "1/1 [==============================] - 1s 880ms/step - loss: 777.9099 - V_loss: 777.9099 - annotations_xyz_error__metric_1: 13017.0518 - val_loss: 838.8851 - val_V_loss: 838.8851 - val_annotations_xyz_error__metric_1: 13449.8320\n",
      "Epoch 21/300\n",
      "1/1 [==============================] - 1s 801ms/step - loss: 770.0900 - V_loss: 770.0900 - annotations_xyz_error__metric_1: 12983.2031 - val_loss: 834.3679 - val_V_loss: 834.3679 - val_annotations_xyz_error__metric_1: 13428.9219\n",
      "Epoch 22/300\n",
      "1/1 [==============================] - 1s 779ms/step - loss: 762.8221 - V_loss: 762.8221 - annotations_xyz_error__metric_1: 12953.0361 - val_loss: 829.7445 - val_V_loss: 829.7445 - val_annotations_xyz_error__metric_1: 13408.3545\n",
      "Epoch 23/300\n",
      "1/1 [==============================] - 1s 779ms/step - loss: 755.4661 - V_loss: 755.4661 - annotations_xyz_error__metric_1: 12927.4473 - val_loss: 825.0157 - val_V_loss: 825.0157 - val_annotations_xyz_error__metric_1: 13388.3936\n",
      "Epoch 24/300\n",
      "1/1 [==============================] - 1s 722ms/step - loss: 748.5119 - V_loss: 748.5119 - annotations_xyz_error__metric_1: 12873.1543 - val_loss: 820.2381 - val_V_loss: 820.2381 - val_annotations_xyz_error__metric_1: 13369.2734\n",
      "Epoch 25/300\n",
      "1/1 [==============================] - 1s 800ms/step - loss: 740.8596 - V_loss: 740.8596 - annotations_xyz_error__metric_1: 12852.3711 - val_loss: 815.4018 - val_V_loss: 815.4018 - val_annotations_xyz_error__metric_1: 13351.4707\n",
      "Epoch 26/300\n",
      "1/1 [==============================] - 1s 723ms/step - loss: 734.2376 - V_loss: 734.2376 - annotations_xyz_error__metric_1: 12781.2354 - val_loss: 810.4885 - val_V_loss: 810.4885 - val_annotations_xyz_error__metric_1: 13334.9160\n",
      "Epoch 27/300\n",
      "1/1 [==============================] - 1s 710ms/step - loss: 725.9902 - V_loss: 725.9902 - annotations_xyz_error__metric_1: 12797.3936 - val_loss: 805.4919 - val_V_loss: 805.4919 - val_annotations_xyz_error__metric_1: 13320.3818\n",
      "Epoch 28/300\n",
      "1/1 [==============================] - 1s 924ms/step - loss: 718.1871 - V_loss: 718.1871 - annotations_xyz_error__metric_1: 12750.6621 - val_loss: 800.3821 - val_V_loss: 800.3821 - val_annotations_xyz_error__metric_1: 13307.7549\n",
      "Epoch 29/300\n",
      "1/1 [==============================] - 1s 702ms/step - loss: 710.9429 - V_loss: 710.9429 - annotations_xyz_error__metric_1: 12763.7236 - val_loss: 795.1445 - val_V_loss: 795.1445 - val_annotations_xyz_error__metric_1: 13296.3701\n",
      "Epoch 30/300\n",
      "1/1 [==============================] - 1s 769ms/step - loss: 703.6479 - V_loss: 703.6479 - annotations_xyz_error__metric_1: 12732.8369 - val_loss: 789.8076 - val_V_loss: 789.8076 - val_annotations_xyz_error__metric_1: 13286.4688\n",
      "Epoch 31/300\n",
      "1/1 [==============================] - 1s 748ms/step - loss: 696.7643 - V_loss: 696.7643 - annotations_xyz_error__metric_1: 12704.6221 - val_loss: 784.3307 - val_V_loss: 784.3307 - val_annotations_xyz_error__metric_1: 13278.1680\n",
      "Epoch 32/300\n",
      "1/1 [==============================] - 1s 849ms/step - loss: 689.5969 - V_loss: 689.5969 - annotations_xyz_error__metric_1: 12692.0088 - val_loss: 778.7216 - val_V_loss: 778.7216 - val_annotations_xyz_error__metric_1: 13270.9014\n",
      "Epoch 33/300\n",
      "1/1 [==============================] - 1s 755ms/step - loss: 682.2548 - V_loss: 682.2548 - annotations_xyz_error__metric_1: 12693.4385 - val_loss: 772.9791 - val_V_loss: 772.9791 - val_annotations_xyz_error__metric_1: 13264.6748\n",
      "Epoch 34/300\n",
      "1/1 [==============================] - 1s 693ms/step - loss: 675.6471 - V_loss: 675.6471 - annotations_xyz_error__metric_1: 12654.2959 - val_loss: 767.1926 - val_V_loss: 767.1926 - val_annotations_xyz_error__metric_1: 13259.9355\n"
     ]
    },
    {
     "name": "stdout",
     "output_type": "stream",
     "text": [
      "Epoch 35/300\n",
      "1/1 [==============================] - 1s 699ms/step - loss: 668.6891 - V_loss: 668.6891 - annotations_xyz_error__metric_1: 12695.5840 - val_loss: 761.3528 - val_V_loss: 761.3528 - val_annotations_xyz_error__metric_1: 13255.0459\n",
      "Epoch 36/300\n",
      "1/1 [==============================] - 1s 718ms/step - loss: 661.9202 - V_loss: 661.9202 - annotations_xyz_error__metric_1: 12695.7979 - val_loss: 755.6272 - val_V_loss: 755.6272 - val_annotations_xyz_error__metric_1: 13252.7764\n",
      "Epoch 37/300\n",
      "1/1 [==============================] - 1s 767ms/step - loss: 655.6723 - V_loss: 655.6723 - annotations_xyz_error__metric_1: 12683.6816 - val_loss: 750.1353 - val_V_loss: 750.1353 - val_annotations_xyz_error__metric_1: 13255.2734\n",
      "Epoch 38/300\n",
      "1/1 [==============================] - 1s 726ms/step - loss: 649.6185 - V_loss: 649.6185 - annotations_xyz_error__metric_1: 12710.8613 - val_loss: 744.7679 - val_V_loss: 744.7679 - val_annotations_xyz_error__metric_1: 13259.3203\n",
      "Epoch 39/300\n",
      "1/1 [==============================] - 1s 679ms/step - loss: 643.4999 - V_loss: 643.4999 - annotations_xyz_error__metric_1: 12704.8916 - val_loss: 739.5614 - val_V_loss: 739.5614 - val_annotations_xyz_error__metric_1: 13267.7432\n",
      "Epoch 40/300\n",
      "1/1 [==============================] - 1s 725ms/step - loss: 638.1450 - V_loss: 638.1450 - annotations_xyz_error__metric_1: 12698.1465 - val_loss: 734.7735 - val_V_loss: 734.7735 - val_annotations_xyz_error__metric_1: 13281.6797\n",
      "Epoch 41/300\n",
      "1/1 [==============================] - 1s 768ms/step - loss: 631.2634 - V_loss: 631.2634 - annotations_xyz_error__metric_1: 12743.7793 - val_loss: 730.2085 - val_V_loss: 730.2085 - val_annotations_xyz_error__metric_1: 13299.8379\n",
      "Epoch 42/300\n",
      "1/1 [==============================] - 1s 684ms/step - loss: 626.1432 - V_loss: 626.1432 - annotations_xyz_error__metric_1: 12795.9580 - val_loss: 725.4276 - val_V_loss: 725.4276 - val_annotations_xyz_error__metric_1: 13318.2656\n",
      "Epoch 43/300\n",
      "1/1 [==============================] - 1s 674ms/step - loss: 620.7917 - V_loss: 620.7917 - annotations_xyz_error__metric_1: 12747.7188 - val_loss: 721.0432 - val_V_loss: 721.0432 - val_annotations_xyz_error__metric_1: 13343.9180\n",
      "Epoch 44/300\n",
      "1/1 [==============================] - 1s 696ms/step - loss: 614.8125 - V_loss: 614.8125 - annotations_xyz_error__metric_1: 12839.8691 - val_loss: 716.5092 - val_V_loss: 716.5092 - val_annotations_xyz_error__metric_1: 13366.8037\n",
      "Epoch 45/300\n",
      "1/1 [==============================] - 1s 681ms/step - loss: 609.0622 - V_loss: 609.0622 - annotations_xyz_error__metric_1: 12814.1328 - val_loss: 712.1633 - val_V_loss: 712.1633 - val_annotations_xyz_error__metric_1: 13391.9932\n",
      "Epoch 46/300\n",
      "1/1 [==============================] - 1s 847ms/step - loss: 603.1691 - V_loss: 603.1691 - annotations_xyz_error__metric_1: 12852.2324 - val_loss: 707.7570 - val_V_loss: 707.7570 - val_annotations_xyz_error__metric_1: 13418.3604\n",
      "Epoch 47/300\n",
      "1/1 [==============================] - 1s 743ms/step - loss: 597.2755 - V_loss: 597.2755 - annotations_xyz_error__metric_1: 12860.9512 - val_loss: 703.4037 - val_V_loss: 703.4037 - val_annotations_xyz_error__metric_1: 13447.2764\n",
      "Epoch 48/300\n",
      "1/1 [==============================] - 1s 729ms/step - loss: 591.6544 - V_loss: 591.6544 - annotations_xyz_error__metric_1: 12946.9199 - val_loss: 698.7786 - val_V_loss: 698.7786 - val_annotations_xyz_error__metric_1: 13473.2354\n",
      "Epoch 49/300\n",
      "1/1 [==============================] - 1s 703ms/step - loss: 586.0208 - V_loss: 586.0208 - annotations_xyz_error__metric_1: 12879.3164 - val_loss: 694.5796 - val_V_loss: 694.5796 - val_annotations_xyz_error__metric_1: 13510.8408\n",
      "Epoch 50/300\n",
      "1/1 [==============================] - 1s 818ms/step - loss: 583.1479 - V_loss: 583.1479 - annotations_xyz_error__metric_1: 13027.2305 - val_loss: 690.0517 - val_V_loss: 690.0517 - val_annotations_xyz_error__metric_1: 13543.0371\n",
      "Epoch 51/300\n",
      "1/1 [==============================] - 1s 856ms/step - loss: 575.2339 - V_loss: 575.2339 - annotations_xyz_error__metric_1: 12985.1270 - val_loss: 685.7675 - val_V_loss: 685.7675 - val_annotations_xyz_error__metric_1: 13584.2129\n",
      "Epoch 52/300\n",
      "1/1 [==============================] - 1s 707ms/step - loss: 568.4635 - V_loss: 568.4635 - annotations_xyz_error__metric_1: 13076.3281 - val_loss: 681.5718 - val_V_loss: 681.5718 - val_annotations_xyz_error__metric_1: 13629.9883\n",
      "Epoch 53/300\n",
      "1/1 [==============================] - 1s 692ms/step - loss: 562.9023 - V_loss: 562.9023 - annotations_xyz_error__metric_1: 13079.2480 - val_loss: 677.6498 - val_V_loss: 677.6498 - val_annotations_xyz_error__metric_1: 13688.6533\n",
      "Epoch 54/300\n",
      "1/1 [==============================] - 1s 686ms/step - loss: 558.0687 - V_loss: 558.0687 - annotations_xyz_error__metric_1: 13213.9268 - val_loss: 673.6772 - val_V_loss: 673.6772 - val_annotations_xyz_error__metric_1: 13745.7275\n",
      "Epoch 55/300\n",
      "1/1 [==============================] - 1s 780ms/step - loss: 553.7718 - V_loss: 553.7718 - annotations_xyz_error__metric_1: 13066.4932 - val_loss: 670.0146 - val_V_loss: 670.0146 - val_annotations_xyz_error__metric_1: 13821.5762\n",
      "Epoch 56/300\n",
      "1/1 [==============================] - 1s 709ms/step - loss: 548.3080 - V_loss: 548.3080 - annotations_xyz_error__metric_1: 13382.6172 - val_loss: 665.5037 - val_V_loss: 665.5037 - val_annotations_xyz_error__metric_1: 13880.8359\n",
      "Epoch 57/300\n",
      "1/1 [==============================] - 1s 666ms/step - loss: 539.9816 - V_loss: 539.9816 - annotations_xyz_error__metric_1: 13379.4277 - val_loss: 660.9254 - val_V_loss: 660.9254 - val_annotations_xyz_error__metric_1: 13941.0000\n",
      "Epoch 58/300\n",
      "1/1 [==============================] - 1s 675ms/step - loss: 534.5677 - V_loss: 534.5677 - annotations_xyz_error__metric_1: 13406.9541 - val_loss: 656.4550 - val_V_loss: 656.4550 - val_annotations_xyz_error__metric_1: 14007.8301\n",
      "Epoch 59/300\n",
      "1/1 [==============================] - 1s 683ms/step - loss: 528.5522 - V_loss: 528.5522 - annotations_xyz_error__metric_1: 13605.1025 - val_loss: 651.5444 - val_V_loss: 651.5444 - val_annotations_xyz_error__metric_1: 14066.5986\n",
      "Epoch 60/300\n",
      "1/1 [==============================] - 1s 721ms/step - loss: 522.1896 - V_loss: 522.1896 - annotations_xyz_error__metric_1: 13605.4238 - val_loss: 646.8704 - val_V_loss: 646.8704 - val_annotations_xyz_error__metric_1: 14135.6660\n",
      "Epoch 61/300\n",
      "1/1 [==============================] - 1s 884ms/step - loss: 516.1171 - V_loss: 516.1171 - annotations_xyz_error__metric_1: 13743.8135 - val_loss: 641.9329 - val_V_loss: 641.9329 - val_annotations_xyz_error__metric_1: 14204.9912\n",
      "Epoch 62/300\n",
      "1/1 [==============================] - 1s 743ms/step - loss: 510.4848 - V_loss: 510.4848 - annotations_xyz_error__metric_1: 13769.5332 - val_loss: 637.3950 - val_V_loss: 637.3950 - val_annotations_xyz_error__metric_1: 14289.1826\n",
      "Epoch 63/300\n",
      "1/1 [==============================] - 1s 689ms/step - loss: 505.4716 - V_loss: 505.4716 - annotations_xyz_error__metric_1: 13948.7520 - val_loss: 632.0976 - val_V_loss: 632.0976 - val_annotations_xyz_error__metric_1: 14367.1982\n",
      "Epoch 64/300\n",
      "1/1 [==============================] - 1s 771ms/step - loss: 500.8100 - V_loss: 500.8100 - annotations_xyz_error__metric_1: 13904.8320 - val_loss: 627.4758 - val_V_loss: 627.4758 - val_annotations_xyz_error__metric_1: 14473.5420\n",
      "Epoch 65/300\n",
      "1/1 [==============================] - 1s 819ms/step - loss: 493.2474 - V_loss: 493.2474 - annotations_xyz_error__metric_1: 14160.9795 - val_loss: 622.9180 - val_V_loss: 622.9180 - val_annotations_xyz_error__metric_1: 14577.7480\n",
      "Epoch 66/300\n",
      "1/1 [==============================] - 1s 806ms/step - loss: 486.3195 - V_loss: 486.3195 - annotations_xyz_error__metric_1: 14314.3145 - val_loss: 617.4313 - val_V_loss: 617.4313 - val_annotations_xyz_error__metric_1: 14670.9355\n",
      "Epoch 67/300\n",
      "1/1 [==============================] - 1s 723ms/step - loss: 480.1114 - V_loss: 480.1114 - annotations_xyz_error__metric_1: 14425.5176 - val_loss: 611.6495 - val_V_loss: 611.6495 - val_annotations_xyz_error__metric_1: 14754.2842\n",
      "Epoch 68/300\n",
      "1/1 [==============================] - 1s 692ms/step - loss: 473.6443 - V_loss: 473.6443 - annotations_xyz_error__metric_1: 14539.2891 - val_loss: 605.3215 - val_V_loss: 605.3215 - val_annotations_xyz_error__metric_1: 14826.8672\n"
     ]
    },
    {
     "name": "stdout",
     "output_type": "stream",
     "text": [
      "Epoch 69/300\n",
      "1/1 [==============================] - 1s 701ms/step - loss: 467.9282 - V_loss: 467.9282 - annotations_xyz_error__metric_1: 14593.6250 - val_loss: 599.0137 - val_V_loss: 599.0137 - val_annotations_xyz_error__metric_1: 14910.9707\n",
      "Epoch 70/300\n",
      "1/1 [==============================] - 1s 683ms/step - loss: 462.8824 - V_loss: 462.8824 - annotations_xyz_error__metric_1: 14722.7871 - val_loss: 593.0458 - val_V_loss: 593.0458 - val_annotations_xyz_error__metric_1: 15002.6641\n",
      "Epoch 71/300\n",
      "1/1 [==============================] - 1s 675ms/step - loss: 455.3456 - V_loss: 455.3456 - annotations_xyz_error__metric_1: 14823.9092 - val_loss: 587.5471 - val_V_loss: 587.5471 - val_annotations_xyz_error__metric_1: 15115.2969\n",
      "Epoch 72/300\n",
      "1/1 [==============================] - 1s 680ms/step - loss: 448.5709 - V_loss: 448.5709 - annotations_xyz_error__metric_1: 15003.0762 - val_loss: 582.0140 - val_V_loss: 582.0140 - val_annotations_xyz_error__metric_1: 15222.3975\n",
      "Epoch 73/300\n",
      "1/1 [==============================] - 1s 702ms/step - loss: 441.9182 - V_loss: 441.9182 - annotations_xyz_error__metric_1: 15154.8408 - val_loss: 576.3419 - val_V_loss: 576.3419 - val_annotations_xyz_error__metric_1: 15314.5625\n",
      "Epoch 74/300\n",
      "1/1 [==============================] - 1s 770ms/step - loss: 435.3619 - V_loss: 435.3619 - annotations_xyz_error__metric_1: 15289.3789 - val_loss: 570.1266 - val_V_loss: 570.1266 - val_annotations_xyz_error__metric_1: 15391.6016\n",
      "Epoch 75/300\n",
      "1/1 [==============================] - 1s 719ms/step - loss: 430.2134 - V_loss: 430.2134 - annotations_xyz_error__metric_1: 15421.1455 - val_loss: 564.4237 - val_V_loss: 564.4237 - val_annotations_xyz_error__metric_1: 15456.7061\n",
      "Epoch 76/300\n",
      "1/1 [==============================] - 1s 784ms/step - loss: 422.0930 - V_loss: 422.0930 - annotations_xyz_error__metric_1: 15554.5498 - val_loss: 558.2476 - val_V_loss: 558.2476 - val_annotations_xyz_error__metric_1: 15510.8691\n",
      "Epoch 77/300\n",
      "1/1 [==============================] - 1s 763ms/step - loss: 414.9708 - V_loss: 414.9708 - annotations_xyz_error__metric_1: 15688.5371 - val_loss: 551.8653 - val_V_loss: 551.8653 - val_annotations_xyz_error__metric_1: 15542.6699\n",
      "Epoch 78/300\n",
      "1/1 [==============================] - 1s 658ms/step - loss: 407.5543 - V_loss: 407.5543 - annotations_xyz_error__metric_1: 15797.4395 - val_loss: 545.2447 - val_V_loss: 545.2447 - val_annotations_xyz_error__metric_1: 15570.0205\n",
      "Epoch 79/300\n",
      "1/1 [==============================] - 1s 694ms/step - loss: 400.9073 - V_loss: 400.9073 - annotations_xyz_error__metric_1: 15951.9053 - val_loss: 538.7226 - val_V_loss: 538.7226 - val_annotations_xyz_error__metric_1: 15590.7607\n",
      "Epoch 80/300\n",
      "1/1 [==============================] - 1s 674ms/step - loss: 393.4628 - V_loss: 393.4628 - annotations_xyz_error__metric_1: 16068.7314 - val_loss: 532.1564 - val_V_loss: 532.1564 - val_annotations_xyz_error__metric_1: 15607.2930\n",
      "Epoch 81/300\n",
      "1/1 [==============================] - 1s 685ms/step - loss: 386.5041 - V_loss: 386.5041 - annotations_xyz_error__metric_1: 16184.7363 - val_loss: 524.8823 - val_V_loss: 524.8823 - val_annotations_xyz_error__metric_1: 15603.7266\n",
      "Epoch 82/300\n",
      "1/1 [==============================] - 1s 696ms/step - loss: 379.8077 - V_loss: 379.8077 - annotations_xyz_error__metric_1: 16315.2646 - val_loss: 517.5769 - val_V_loss: 517.5769 - val_annotations_xyz_error__metric_1: 15588.6182\n",
      "Epoch 83/300\n",
      "1/1 [==============================] - 1s 711ms/step - loss: 372.7559 - V_loss: 372.7559 - annotations_xyz_error__metric_1: 16383.2197 - val_loss: 509.6910 - val_V_loss: 509.6910 - val_annotations_xyz_error__metric_1: 15569.1982\n",
      "Epoch 84/300\n",
      "1/1 [==============================] - 1s 750ms/step - loss: 366.7898 - V_loss: 366.7898 - annotations_xyz_error__metric_1: 16542.9258 - val_loss: 502.3165 - val_V_loss: 502.3165 - val_annotations_xyz_error__metric_1: 15556.3506\n",
      "Epoch 85/300\n",
      "1/1 [==============================] - 1s 710ms/step - loss: 359.2239 - V_loss: 359.2239 - annotations_xyz_error__metric_1: 16619.3633 - val_loss: 494.6503 - val_V_loss: 494.6503 - val_annotations_xyz_error__metric_1: 15543.2197\n",
      "Epoch 86/300\n",
      "1/1 [==============================] - 1s 674ms/step - loss: 353.1065 - V_loss: 353.1065 - annotations_xyz_error__metric_1: 16687.6719 - val_loss: 486.7169 - val_V_loss: 486.7169 - val_annotations_xyz_error__metric_1: 15551.0986\n",
      "Epoch 87/300\n",
      "1/1 [==============================] - 1s 681ms/step - loss: 347.3800 - V_loss: 347.3800 - annotations_xyz_error__metric_1: 16842.6445 - val_loss: 479.0598 - val_V_loss: 479.0598 - val_annotations_xyz_error__metric_1: 15567.4268\n",
      "Epoch 88/300\n",
      "1/1 [==============================] - 1s 692ms/step - loss: 344.4734 - V_loss: 344.4734 - annotations_xyz_error__metric_1: 16802.5215 - val_loss: 470.2265 - val_V_loss: 470.2265 - val_annotations_xyz_error__metric_1: 15593.9590\n",
      "Epoch 89/300\n",
      "1/1 [==============================] - 1s 778ms/step - loss: 349.0345 - V_loss: 349.0345 - annotations_xyz_error__metric_1: 16766.6582 - val_loss: 463.8162 - val_V_loss: 463.8162 - val_annotations_xyz_error__metric_1: 15699.6416\n",
      "Epoch 90/300\n",
      "1/1 [==============================] - 1s 697ms/step - loss: 335.6982 - V_loss: 335.6982 - annotations_xyz_error__metric_1: 17209.2578 - val_loss: 458.0070 - val_V_loss: 458.0070 - val_annotations_xyz_error__metric_1: 15775.9512\n",
      "Epoch 91/300\n",
      "1/1 [==============================] - 1s 664ms/step - loss: 326.2162 - V_loss: 326.2162 - annotations_xyz_error__metric_1: 17249.3594 - val_loss: 451.1818 - val_V_loss: 451.1818 - val_annotations_xyz_error__metric_1: 15809.9404\n",
      "Epoch 92/300\n",
      "1/1 [==============================] - 1s 693ms/step - loss: 318.2288 - V_loss: 318.2288 - annotations_xyz_error__metric_1: 17308.0020 - val_loss: 444.3968 - val_V_loss: 444.3968 - val_annotations_xyz_error__metric_1: 15834.7305\n",
      "Epoch 93/300\n",
      "1/1 [==============================] - 1s 745ms/step - loss: 312.5334 - V_loss: 312.5334 - annotations_xyz_error__metric_1: 17274.0742 - val_loss: 437.8437 - val_V_loss: 437.8437 - val_annotations_xyz_error__metric_1: 15873.4590\n",
      "Epoch 94/300\n",
      "1/1 [==============================] - 1s 792ms/step - loss: 307.1089 - V_loss: 307.1089 - annotations_xyz_error__metric_1: 17294.5684 - val_loss: 431.7314 - val_V_loss: 431.7314 - val_annotations_xyz_error__metric_1: 15936.2480\n",
      "Epoch 95/300\n",
      "1/1 [==============================] - 1s 863ms/step - loss: 301.3979 - V_loss: 301.3979 - annotations_xyz_error__metric_1: 17375.9258 - val_loss: 426.0573 - val_V_loss: 426.0573 - val_annotations_xyz_error__metric_1: 16006.6631\n",
      "Epoch 96/300\n",
      "1/1 [==============================] - 1s 735ms/step - loss: 296.3871 - V_loss: 296.3871 - annotations_xyz_error__metric_1: 17404.0391 - val_loss: 419.2807 - val_V_loss: 419.2807 - val_annotations_xyz_error__metric_1: 16056.1777\n",
      "Epoch 97/300\n",
      "1/1 [==============================] - 1s 663ms/step - loss: 295.8687 - V_loss: 295.8687 - annotations_xyz_error__metric_1: 17599.8184 - val_loss: 413.2347 - val_V_loss: 413.2347 - val_annotations_xyz_error__metric_1: 16090.6211\n",
      "Epoch 98/300\n",
      "1/1 [==============================] - 1s 680ms/step - loss: 284.5257 - V_loss: 284.5257 - annotations_xyz_error__metric_1: 17463.5742 - val_loss: 407.0173 - val_V_loss: 407.0173 - val_annotations_xyz_error__metric_1: 16113.4473\n",
      "Epoch 99/300\n",
      "1/1 [==============================] - 1s 684ms/step - loss: 279.9018 - V_loss: 279.9018 - annotations_xyz_error__metric_1: 17477.8496 - val_loss: 400.9007 - val_V_loss: 400.9007 - val_annotations_xyz_error__metric_1: 16122.2686\n",
      "Epoch 100/300\n",
      "1/1 [==============================] - 1s 727ms/step - loss: 281.2161 - V_loss: 281.2161 - annotations_xyz_error__metric_1: 17293.0293 - val_loss: 392.7696 - val_V_loss: 392.7696 - val_annotations_xyz_error__metric_1: 16084.0107\n",
      "Epoch 101/300\n",
      "1/1 [==============================] - 1s 693ms/step - loss: 276.5362 - V_loss: 276.5362 - annotations_xyz_error__metric_1: 17384.0508 - val_loss: 385.7640 - val_V_loss: 385.7640 - val_annotations_xyz_error__metric_1: 16063.2109\n",
      "Epoch 102/300\n",
      "1/1 [==============================] - 1s 697ms/step - loss: 270.4190 - V_loss: 270.4190 - annotations_xyz_error__metric_1: 17334.8438 - val_loss: 378.8666 - val_V_loss: 378.8666 - val_annotations_xyz_error__metric_1: 16052.5771\n"
     ]
    },
    {
     "name": "stdout",
     "output_type": "stream",
     "text": [
      "Epoch 103/300\n",
      "1/1 [==============================] - 1s 756ms/step - loss: 264.6234 - V_loss: 264.6234 - annotations_xyz_error__metric_1: 17285.9941 - val_loss: 372.4306 - val_V_loss: 372.4306 - val_annotations_xyz_error__metric_1: 16049.2969\n",
      "Epoch 104/300\n",
      "1/1 [==============================] - 1s 673ms/step - loss: 258.9682 - V_loss: 258.9682 - annotations_xyz_error__metric_1: 17228.4980 - val_loss: 366.0400 - val_V_loss: 366.0400 - val_annotations_xyz_error__metric_1: 16028.6221\n",
      "Epoch 105/300\n",
      "1/1 [==============================] - 1s 677ms/step - loss: 253.0822 - V_loss: 253.0822 - annotations_xyz_error__metric_1: 17110.4590 - val_loss: 359.1729 - val_V_loss: 359.1729 - val_annotations_xyz_error__metric_1: 15975.4307\n",
      "Epoch 106/300\n",
      "1/1 [==============================] - 1s 664ms/step - loss: 249.5999 - V_loss: 249.5999 - annotations_xyz_error__metric_1: 16878.7148 - val_loss: 351.8596 - val_V_loss: 351.8596 - val_annotations_xyz_error__metric_1: 15911.0703\n",
      "Epoch 107/300\n",
      "1/1 [==============================] - 1s 695ms/step - loss: 246.9717 - V_loss: 246.9717 - annotations_xyz_error__metric_1: 16857.5430 - val_loss: 344.9483 - val_V_loss: 344.9483 - val_annotations_xyz_error__metric_1: 15859.0977\n",
      "Epoch 108/300\n",
      "1/1 [==============================] - 1s 797ms/step - loss: 241.9630 - V_loss: 241.9630 - annotations_xyz_error__metric_1: 16786.2246 - val_loss: 338.3109 - val_V_loss: 338.3109 - val_annotations_xyz_error__metric_1: 15827.2344\n",
      "Epoch 109/300\n",
      "1/1 [==============================] - 1s 785ms/step - loss: 238.2324 - V_loss: 238.2324 - annotations_xyz_error__metric_1: 16563.6777 - val_loss: 331.7519 - val_V_loss: 331.7519 - val_annotations_xyz_error__metric_1: 15827.6494\n",
      "Epoch 110/300\n",
      "1/1 [==============================] - 1s 731ms/step - loss: 235.1023 - V_loss: 235.1023 - annotations_xyz_error__metric_1: 16680.6641 - val_loss: 325.8456 - val_V_loss: 325.8456 - val_annotations_xyz_error__metric_1: 15863.2354\n",
      "Epoch 111/300\n",
      "1/1 [==============================] - 1s 658ms/step - loss: 231.4920 - V_loss: 231.4920 - annotations_xyz_error__metric_1: 16527.1250 - val_loss: 320.0869 - val_V_loss: 320.0869 - val_annotations_xyz_error__metric_1: 15912.4385\n",
      "Epoch 112/300\n",
      "1/1 [==============================] - 1s 758ms/step - loss: 228.2372 - V_loss: 228.2372 - annotations_xyz_error__metric_1: 16713.1426 - val_loss: 314.1408 - val_V_loss: 314.1408 - val_annotations_xyz_error__metric_1: 15966.4619\n",
      "Epoch 113/300\n",
      "1/1 [==============================] - 1s 704ms/step - loss: 224.2563 - V_loss: 224.2563 - annotations_xyz_error__metric_1: 16690.4961 - val_loss: 307.5273 - val_V_loss: 307.5273 - val_annotations_xyz_error__metric_1: 16004.7686\n",
      "Epoch 114/300\n",
      "1/1 [==============================] - 1s 681ms/step - loss: 221.1690 - V_loss: 221.1690 - annotations_xyz_error__metric_1: 16676.5195 - val_loss: 301.0053 - val_V_loss: 301.0053 - val_annotations_xyz_error__metric_1: 16041.9141\n",
      "Epoch 115/300\n",
      "1/1 [==============================] - 1s 687ms/step - loss: 218.3326 - V_loss: 218.3326 - annotations_xyz_error__metric_1: 16812.8574 - val_loss: 294.8221 - val_V_loss: 294.8221 - val_annotations_xyz_error__metric_1: 16077.4844\n",
      "Epoch 116/300\n",
      "1/1 [==============================] - 1s 682ms/step - loss: 215.3728 - V_loss: 215.3728 - annotations_xyz_error__metric_1: 16718.0762 - val_loss: 289.2443 - val_V_loss: 289.2443 - val_annotations_xyz_error__metric_1: 16136.6660\n",
      "Epoch 117/300\n",
      "1/1 [==============================] - 1s 671ms/step - loss: 213.3288 - V_loss: 213.3288 - annotations_xyz_error__metric_1: 16877.9395 - val_loss: 283.1070 - val_V_loss: 283.1070 - val_annotations_xyz_error__metric_1: 16182.4590\n",
      "Epoch 118/300\n",
      "1/1 [==============================] - 1s 686ms/step - loss: 210.3690 - V_loss: 210.3690 - annotations_xyz_error__metric_1: 16798.0840 - val_loss: 277.8788 - val_V_loss: 277.8788 - val_annotations_xyz_error__metric_1: 16244.5127\n",
      "Epoch 119/300\n",
      "1/1 [==============================] - 1s 691ms/step - loss: 208.2195 - V_loss: 208.2195 - annotations_xyz_error__metric_1: 16951.2227 - val_loss: 272.7572 - val_V_loss: 272.7572 - val_annotations_xyz_error__metric_1: 16283.7607\n",
      "Epoch 120/300\n",
      "1/1 [==============================] - 1s 669ms/step - loss: 206.4188 - V_loss: 206.4188 - annotations_xyz_error__metric_1: 16893.8359 - val_loss: 268.7143 - val_V_loss: 268.7143 - val_annotations_xyz_error__metric_1: 16321.6045\n",
      "Epoch 121/300\n",
      "1/1 [==============================] - 1s 688ms/step - loss: 205.4530 - V_loss: 205.4530 - annotations_xyz_error__metric_1: 17012.4375 - val_loss: 264.9043 - val_V_loss: 264.9043 - val_annotations_xyz_error__metric_1: 16322.1348\n",
      "Epoch 122/300\n",
      "1/1 [==============================] - 1s 758ms/step - loss: 202.4815 - V_loss: 202.4815 - annotations_xyz_error__metric_1: 16855.9180 - val_loss: 261.5660 - val_V_loss: 261.5660 - val_annotations_xyz_error__metric_1: 16320.1172\n",
      "Epoch 123/300\n",
      "1/1 [==============================] - 1s 698ms/step - loss: 200.4923 - V_loss: 200.4923 - annotations_xyz_error__metric_1: 16925.7012 - val_loss: 258.0037 - val_V_loss: 258.0037 - val_annotations_xyz_error__metric_1: 16305.9160\n",
      "Epoch 124/300\n",
      "1/1 [==============================] - 1s 685ms/step - loss: 198.9240 - V_loss: 198.9240 - annotations_xyz_error__metric_1: 16763.7715 - val_loss: 254.9813 - val_V_loss: 254.9813 - val_annotations_xyz_error__metric_1: 16318.8730\n",
      "Epoch 125/300\n",
      "1/1 [==============================] - 1s 677ms/step - loss: 197.7117 - V_loss: 197.7117 - annotations_xyz_error__metric_1: 16865.5176 - val_loss: 250.8710 - val_V_loss: 250.8710 - val_annotations_xyz_error__metric_1: 16312.9023\n",
      "Epoch 126/300\n",
      "1/1 [==============================] - 1s 680ms/step - loss: 194.8614 - V_loss: 194.8614 - annotations_xyz_error__metric_1: 16761.9473 - val_loss: 247.6420 - val_V_loss: 247.6420 - val_annotations_xyz_error__metric_1: 16323.0088\n",
      "Epoch 127/300\n",
      "1/1 [==============================] - 1s 685ms/step - loss: 192.9066 - V_loss: 192.9066 - annotations_xyz_error__metric_1: 16805.6797 - val_loss: 244.3264 - val_V_loss: 244.3264 - val_annotations_xyz_error__metric_1: 16319.2129\n",
      "Epoch 128/300\n",
      "1/1 [==============================] - 1s 730ms/step - loss: 190.9568 - V_loss: 190.9568 - annotations_xyz_error__metric_1: 16727.2305 - val_loss: 240.6452 - val_V_loss: 240.6452 - val_annotations_xyz_error__metric_1: 16294.9512\n",
      "Epoch 129/300\n",
      "1/1 [==============================] - 1s 936ms/step - loss: 189.0336 - V_loss: 189.0336 - annotations_xyz_error__metric_1: 16672.1270 - val_loss: 237.2955 - val_V_loss: 237.2955 - val_annotations_xyz_error__metric_1: 16281.9785\n",
      "Epoch 130/300\n",
      "1/1 [==============================] - 1s 800ms/step - loss: 187.2227 - V_loss: 187.2227 - annotations_xyz_error__metric_1: 16666.1895 - val_loss: 233.8086 - val_V_loss: 233.8086 - val_annotations_xyz_error__metric_1: 16281.5811\n",
      "Epoch 131/300\n",
      "1/1 [==============================] - 1s 805ms/step - loss: 185.7748 - V_loss: 185.7748 - annotations_xyz_error__metric_1: 16597.2773 - val_loss: 230.8275 - val_V_loss: 230.8275 - val_annotations_xyz_error__metric_1: 16311.6230\n",
      "Epoch 132/300\n",
      "1/1 [==============================] - 1s 714ms/step - loss: 184.8380 - V_loss: 184.8380 - annotations_xyz_error__metric_1: 16672.8887 - val_loss: 227.1921 - val_V_loss: 227.1921 - val_annotations_xyz_error__metric_1: 16335.1514\n",
      "Epoch 133/300\n",
      "1/1 [==============================] - 1s 667ms/step - loss: 184.3863 - V_loss: 184.3863 - annotations_xyz_error__metric_1: 16638.7129 - val_loss: 224.8160 - val_V_loss: 224.8160 - val_annotations_xyz_error__metric_1: 16388.3145\n",
      "Epoch 134/300\n",
      "1/1 [==============================] - 1s 732ms/step - loss: 182.8177 - V_loss: 182.8177 - annotations_xyz_error__metric_1: 16719.9043 - val_loss: 221.9557 - val_V_loss: 221.9557 - val_annotations_xyz_error__metric_1: 16442.4473\n",
      "Epoch 135/300\n",
      "1/1 [==============================] - 1s 713ms/step - loss: 179.4601 - V_loss: 179.4601 - annotations_xyz_error__metric_1: 16782.2988 - val_loss: 219.0659 - val_V_loss: 219.0659 - val_annotations_xyz_error__metric_1: 16479.5059\n",
      "Epoch 136/300\n",
      "1/1 [==============================] - 1s 670ms/step - loss: 178.1149 - V_loss: 178.1149 - annotations_xyz_error__metric_1: 16803.5371 - val_loss: 216.9963 - val_V_loss: 216.9963 - val_annotations_xyz_error__metric_1: 16526.7344\n"
     ]
    },
    {
     "name": "stdout",
     "output_type": "stream",
     "text": [
      "Epoch 137/300\n",
      "1/1 [==============================] - 1s 685ms/step - loss: 176.8138 - V_loss: 176.8138 - annotations_xyz_error__metric_1: 16868.5391 - val_loss: 215.4469 - val_V_loss: 215.4469 - val_annotations_xyz_error__metric_1: 16566.0391\n",
      "Epoch 138/300\n",
      "1/1 [==============================] - 1s 683ms/step - loss: 175.3454 - V_loss: 175.3454 - annotations_xyz_error__metric_1: 16857.4746 - val_loss: 214.1046 - val_V_loss: 214.1046 - val_annotations_xyz_error__metric_1: 16589.7773\n",
      "Epoch 139/300\n",
      "1/1 [==============================] - 1s 677ms/step - loss: 174.1926 - V_loss: 174.1926 - annotations_xyz_error__metric_1: 16898.9785 - val_loss: 213.0680 - val_V_loss: 213.0680 - val_annotations_xyz_error__metric_1: 16625.2227\n",
      "Epoch 140/300\n",
      "1/1 [==============================] - 1s 680ms/step - loss: 172.9942 - V_loss: 172.9942 - annotations_xyz_error__metric_1: 16892.7461 - val_loss: 211.6110 - val_V_loss: 211.6110 - val_annotations_xyz_error__metric_1: 16637.6602\n",
      "Epoch 141/300\n",
      "1/1 [==============================] - 1s 763ms/step - loss: 171.7307 - V_loss: 171.7307 - annotations_xyz_error__metric_1: 16917.1328 - val_loss: 210.0497 - val_V_loss: 210.0497 - val_annotations_xyz_error__metric_1: 16648.8477\n",
      "Epoch 142/300\n",
      "1/1 [==============================] - 1s 712ms/step - loss: 170.6617 - V_loss: 170.6617 - annotations_xyz_error__metric_1: 16918.1797 - val_loss: 208.4953 - val_V_loss: 208.4953 - val_annotations_xyz_error__metric_1: 16659.7949\n",
      "Epoch 143/300\n",
      "1/1 [==============================] - 1s 670ms/step - loss: 169.9132 - V_loss: 169.9132 - annotations_xyz_error__metric_1: 16844.9512 - val_loss: 206.6643 - val_V_loss: 206.6643 - val_annotations_xyz_error__metric_1: 16637.4922\n",
      "Epoch 144/300\n",
      "1/1 [==============================] - 1s 682ms/step - loss: 168.6036 - V_loss: 168.6036 - annotations_xyz_error__metric_1: 16895.0879 - val_loss: 204.6708 - val_V_loss: 204.6708 - val_annotations_xyz_error__metric_1: 16629.7031\n",
      "Epoch 145/300\n",
      "1/1 [==============================] - 1s 687ms/step - loss: 167.1351 - V_loss: 167.1351 - annotations_xyz_error__metric_1: 16786.8242 - val_loss: 202.7976 - val_V_loss: 202.7976 - val_annotations_xyz_error__metric_1: 16626.6035\n",
      "Epoch 146/300\n",
      "1/1 [==============================] - 1s 669ms/step - loss: 166.0790 - V_loss: 166.0790 - annotations_xyz_error__metric_1: 16758.1055 - val_loss: 201.1720 - val_V_loss: 201.1720 - val_annotations_xyz_error__metric_1: 16624.5371\n",
      "Epoch 147/300\n",
      "1/1 [==============================] - 1s 693ms/step - loss: 165.0329 - V_loss: 165.0329 - annotations_xyz_error__metric_1: 16815.3242 - val_loss: 199.6419 - val_V_loss: 199.6419 - val_annotations_xyz_error__metric_1: 16632.9648\n",
      "Epoch 148/300\n",
      "1/1 [==============================] - 1s 754ms/step - loss: 164.0999 - V_loss: 164.0999 - annotations_xyz_error__metric_1: 16730.5176 - val_loss: 198.3676 - val_V_loss: 198.3676 - val_annotations_xyz_error__metric_1: 16630.5254\n",
      "Epoch 149/300\n",
      "1/1 [==============================] - 1s 781ms/step - loss: 164.0032 - V_loss: 164.0032 - annotations_xyz_error__metric_1: 16847.4297 - val_loss: 197.3386 - val_V_loss: 197.3386 - val_annotations_xyz_error__metric_1: 16654.8418\n",
      "Epoch 150/300\n",
      "1/1 [==============================] - 1s 744ms/step - loss: 163.5440 - V_loss: 163.5440 - annotations_xyz_error__metric_1: 16685.2363 - val_loss: 195.6904 - val_V_loss: 195.6904 - val_annotations_xyz_error__metric_1: 16646.0898\n",
      "Epoch 151/300\n",
      "1/1 [==============================] - 1s 775ms/step - loss: 162.1649 - V_loss: 162.1649 - annotations_xyz_error__metric_1: 16850.3145 - val_loss: 194.6479 - val_V_loss: 194.6479 - val_annotations_xyz_error__metric_1: 16659.8516\n",
      "Epoch 152/300\n",
      "1/1 [==============================] - 1s 691ms/step - loss: 159.8251 - V_loss: 159.8251 - annotations_xyz_error__metric_1: 16764.0664 - val_loss: 193.6706 - val_V_loss: 193.6706 - val_annotations_xyz_error__metric_1: 16672.7871\n",
      "Epoch 153/300\n",
      "1/1 [==============================] - 1s 670ms/step - loss: 158.9422 - V_loss: 158.9422 - annotations_xyz_error__metric_1: 16791.4570 - val_loss: 192.1919 - val_V_loss: 192.1919 - val_annotations_xyz_error__metric_1: 16667.7051\n",
      "Epoch 154/300\n",
      "1/1 [==============================] - 1s 677ms/step - loss: 157.9385 - V_loss: 157.9385 - annotations_xyz_error__metric_1: 16778.8613 - val_loss: 191.4088 - val_V_loss: 191.4088 - val_annotations_xyz_error__metric_1: 16639.9512\n",
      "Epoch 155/300\n",
      "1/1 [==============================] - 1s 712ms/step - loss: 156.9311 - V_loss: 156.9311 - annotations_xyz_error__metric_1: 16745.7617 - val_loss: 190.0103 - val_V_loss: 190.0103 - val_annotations_xyz_error__metric_1: 16627.7793\n",
      "Epoch 156/300\n",
      "1/1 [==============================] - 1s 684ms/step - loss: 156.0674 - V_loss: 156.0674 - annotations_xyz_error__metric_1: 16691.2754 - val_loss: 189.4258 - val_V_loss: 189.4258 - val_annotations_xyz_error__metric_1: 16628.3027\n",
      "Epoch 157/300\n",
      "1/1 [==============================] - 1s 687ms/step - loss: 154.9195 - V_loss: 154.9195 - annotations_xyz_error__metric_1: 16700.6934 - val_loss: 188.1867 - val_V_loss: 188.1867 - val_annotations_xyz_error__metric_1: 16664.0566\n",
      "Epoch 158/300\n",
      "1/1 [==============================] - 1s 728ms/step - loss: 154.0623 - V_loss: 154.0623 - annotations_xyz_error__metric_1: 16710.2168 - val_loss: 187.7033 - val_V_loss: 187.7033 - val_annotations_xyz_error__metric_1: 16700.1562\n",
      "Epoch 159/300\n",
      "1/1 [==============================] - 1s 876ms/step - loss: 153.2188 - V_loss: 153.2188 - annotations_xyz_error__metric_1: 16754.1719 - val_loss: 186.1798 - val_V_loss: 186.1798 - val_annotations_xyz_error__metric_1: 16744.9238\n",
      "Epoch 160/300\n",
      "1/1 [==============================] - 1s 1s/step - loss: 152.3338 - V_loss: 152.3338 - annotations_xyz_error__metric_1: 16782.7930 - val_loss: 185.7421 - val_V_loss: 185.7421 - val_annotations_xyz_error__metric_1: 16756.4258\n",
      "Epoch 161/300\n",
      "1/1 [==============================] - 1s 881ms/step - loss: 151.4971 - V_loss: 151.4971 - annotations_xyz_error__metric_1: 16747.9785 - val_loss: 184.8560 - val_V_loss: 184.8560 - val_annotations_xyz_error__metric_1: 16785.8633\n",
      "Epoch 162/300\n",
      "1/1 [==============================] - 1s 737ms/step - loss: 152.0376 - V_loss: 152.0376 - annotations_xyz_error__metric_1: 16943.9590 - val_loss: 183.7137 - val_V_loss: 183.7137 - val_annotations_xyz_error__metric_1: 16802.8887\n",
      "Epoch 163/300\n",
      "1/1 [==============================] - 1s 682ms/step - loss: 151.6921 - V_loss: 151.6921 - annotations_xyz_error__metric_1: 16625.4727 - val_loss: 183.6921 - val_V_loss: 183.6921 - val_annotations_xyz_error__metric_1: 16847.4316\n",
      "Epoch 164/300\n",
      "1/1 [==============================] - 1s 681ms/step - loss: 154.3509 - V_loss: 154.3509 - annotations_xyz_error__metric_1: 17135.2070 - val_loss: 183.0316 - val_V_loss: 183.0316 - val_annotations_xyz_error__metric_1: 16858.0273\n",
      "Epoch 165/300\n",
      "1/1 [==============================] - 1s 684ms/step - loss: 149.2451 - V_loss: 149.2451 - annotations_xyz_error__metric_1: 16998.7695 - val_loss: 181.1285 - val_V_loss: 181.1285 - val_annotations_xyz_error__metric_1: 16826.3223\n",
      "Epoch 166/300\n",
      "1/1 [==============================] - 1s 673ms/step - loss: 148.6100 - V_loss: 148.6100 - annotations_xyz_error__metric_1: 16725.3555 - val_loss: 180.7386 - val_V_loss: 180.7386 - val_annotations_xyz_error__metric_1: 16753.5703\n",
      "Epoch 167/300\n",
      "1/1 [==============================] - 1s 697ms/step - loss: 146.2740 - V_loss: 146.2740 - annotations_xyz_error__metric_1: 16747.3984 - val_loss: 180.6246 - val_V_loss: 180.6246 - val_annotations_xyz_error__metric_1: 16691.4902\n",
      "Epoch 168/300\n",
      "1/1 [==============================] - 1s 1s/step - loss: 145.9169 - V_loss: 145.9169 - annotations_xyz_error__metric_1: 16701.2656 - val_loss: 179.4925 - val_V_loss: 179.4925 - val_annotations_xyz_error__metric_1: 16697.7734\n",
      "Epoch 169/300\n",
      "1/1 [==============================] - 1s 961ms/step - loss: 145.1953 - V_loss: 145.1953 - annotations_xyz_error__metric_1: 16644.8633 - val_loss: 178.5081 - val_V_loss: 178.5081 - val_annotations_xyz_error__metric_1: 16762.2012\n",
      "Epoch 170/300\n",
      "1/1 [==============================] - 1s 795ms/step - loss: 144.0023 - V_loss: 144.0023 - annotations_xyz_error__metric_1: 16707.3574 - val_loss: 177.7408 - val_V_loss: 177.7408 - val_annotations_xyz_error__metric_1: 16824.7871\n"
     ]
    },
    {
     "name": "stdout",
     "output_type": "stream",
     "text": [
      "Epoch 171/300\n",
      "1/1 [==============================] - 1s 773ms/step - loss: 143.9639 - V_loss: 143.9639 - annotations_xyz_error__metric_1: 16947.5449 - val_loss: 177.1061 - val_V_loss: 177.1061 - val_annotations_xyz_error__metric_1: 16830.1719\n",
      "Epoch 172/300\n",
      "1/1 [==============================] - 1s 903ms/step - loss: 142.8064 - V_loss: 142.8064 - annotations_xyz_error__metric_1: 16754.2012 - val_loss: 176.7347 - val_V_loss: 176.7347 - val_annotations_xyz_error__metric_1: 16796.8848\n",
      "Epoch 173/300\n",
      "1/1 [==============================] - 1s 984ms/step - loss: 142.0068 - V_loss: 142.0068 - annotations_xyz_error__metric_1: 16854.3770 - val_loss: 175.9887 - val_V_loss: 175.9887 - val_annotations_xyz_error__metric_1: 16757.8633\n",
      "Epoch 174/300\n",
      "1/1 [==============================] - 1s 846ms/step - loss: 141.6110 - V_loss: 141.6110 - annotations_xyz_error__metric_1: 16576.8906 - val_loss: 175.5835 - val_V_loss: 175.5835 - val_annotations_xyz_error__metric_1: 16778.7402\n",
      "Epoch 175/300\n",
      "1/1 [==============================] - 1s 916ms/step - loss: 141.6916 - V_loss: 141.6916 - annotations_xyz_error__metric_1: 16807.4941 - val_loss: 174.5976 - val_V_loss: 174.5976 - val_annotations_xyz_error__metric_1: 16829.8594\n",
      "Epoch 176/300\n",
      "1/1 [==============================] - 1s 870ms/step - loss: 139.7542 - V_loss: 139.7542 - annotations_xyz_error__metric_1: 16642.3223 - val_loss: 174.3384 - val_V_loss: 174.3384 - val_annotations_xyz_error__metric_1: 16878.4297\n",
      "Epoch 177/300\n",
      "1/1 [==============================] - 1s 1s/step - loss: 138.7997 - V_loss: 138.7997 - annotations_xyz_error__metric_1: 16814.4121 - val_loss: 174.0355 - val_V_loss: 174.0355 - val_annotations_xyz_error__metric_1: 16887.9727\n",
      "Epoch 178/300\n",
      "1/1 [==============================] - 1s 918ms/step - loss: 138.0386 - V_loss: 138.0386 - annotations_xyz_error__metric_1: 16738.9199 - val_loss: 173.6762 - val_V_loss: 173.6762 - val_annotations_xyz_error__metric_1: 16885.6133\n",
      "Epoch 179/300\n",
      "1/1 [==============================] - 1s 839ms/step - loss: 137.4010 - V_loss: 137.4010 - annotations_xyz_error__metric_1: 16773.0742 - val_loss: 172.6887 - val_V_loss: 172.6887 - val_annotations_xyz_error__metric_1: 16886.5625\n",
      "Epoch 180/300\n",
      "1/1 [==============================] - 1s 838ms/step - loss: 137.0292 - V_loss: 137.0292 - annotations_xyz_error__metric_1: 16626.6426 - val_loss: 172.7187 - val_V_loss: 172.7187 - val_annotations_xyz_error__metric_1: 16895.6758\n",
      "Epoch 181/300\n",
      "1/1 [==============================] - 1s 815ms/step - loss: 137.2813 - V_loss: 137.2813 - annotations_xyz_error__metric_1: 16876.6113 - val_loss: 170.1967 - val_V_loss: 170.1967 - val_annotations_xyz_error__metric_1: 16901.6445\n",
      "Epoch 182/300\n",
      "1/1 [==============================] - 1s 892ms/step - loss: 138.1893 - V_loss: 138.1893 - annotations_xyz_error__metric_1: 16437.4980 - val_loss: 170.5591 - val_V_loss: 170.5591 - val_annotations_xyz_error__metric_1: 16972.9980\n",
      "Epoch 183/300\n",
      "1/1 [==============================] - 1s 1s/step - loss: 138.4057 - V_loss: 138.4057 - annotations_xyz_error__metric_1: 17118.9766 - val_loss: 170.1684 - val_V_loss: 170.1684 - val_annotations_xyz_error__metric_1: 16955.2480\n",
      "Epoch 184/300\n",
      "1/1 [==============================] - 1s 903ms/step - loss: 134.7359 - V_loss: 134.7359 - annotations_xyz_error__metric_1: 16876.9922 - val_loss: 169.1776 - val_V_loss: 169.1776 - val_annotations_xyz_error__metric_1: 16882.8633\n",
      "Epoch 185/300\n",
      "1/1 [==============================] - 1s 733ms/step - loss: 134.3083 - V_loss: 134.3083 - annotations_xyz_error__metric_1: 16603.8398 - val_loss: 168.9274 - val_V_loss: 168.9274 - val_annotations_xyz_error__metric_1: 16811.8281\n",
      "Epoch 186/300\n",
      "1/1 [==============================] - 1s 857ms/step - loss: 133.4709 - V_loss: 133.4709 - annotations_xyz_error__metric_1: 16666.2520 - val_loss: 168.3367 - val_V_loss: 168.3367 - val_annotations_xyz_error__metric_1: 16806.2754\n",
      "Epoch 187/300\n",
      "1/1 [==============================] - 1s 741ms/step - loss: 132.8728 - V_loss: 132.8728 - annotations_xyz_error__metric_1: 16625.7012 - val_loss: 167.6120 - val_V_loss: 167.6120 - val_annotations_xyz_error__metric_1: 16861.8848\n",
      "Epoch 188/300\n",
      "1/1 [==============================] - 1s 806ms/step - loss: 132.1064 - V_loss: 132.1064 - annotations_xyz_error__metric_1: 16638.1797 - val_loss: 166.8125 - val_V_loss: 166.8125 - val_annotations_xyz_error__metric_1: 16952.9453\n",
      "Epoch 189/300\n",
      "1/1 [==============================] - 1s 1s/step - loss: 132.1034 - V_loss: 132.1034 - annotations_xyz_error__metric_1: 16830.9277 - val_loss: 167.0933 - val_V_loss: 167.0933 - val_annotations_xyz_error__metric_1: 16976.9004\n",
      "Epoch 190/300\n",
      "1/1 [==============================] - 1s 887ms/step - loss: 131.4296 - V_loss: 131.4296 - annotations_xyz_error__metric_1: 16778.2012 - val_loss: 166.1224 - val_V_loss: 166.1224 - val_annotations_xyz_error__metric_1: 16980.6934\n",
      "Epoch 191/300\n",
      "1/1 [==============================] - 1s 808ms/step - loss: 130.0146 - V_loss: 130.0146 - annotations_xyz_error__metric_1: 16817.0547 - val_loss: 165.7489 - val_V_loss: 165.7489 - val_annotations_xyz_error__metric_1: 16971.8145\n",
      "Epoch 192/300\n",
      "1/1 [==============================] - 1s 814ms/step - loss: 129.5462 - V_loss: 129.5462 - annotations_xyz_error__metric_1: 16727.3691 - val_loss: 165.3225 - val_V_loss: 165.3225 - val_annotations_xyz_error__metric_1: 16980.9590\n",
      "Epoch 193/300\n",
      "1/1 [==============================] - 1s 852ms/step - loss: 128.8444 - V_loss: 128.8444 - annotations_xyz_error__metric_1: 16740.0117 - val_loss: 165.0358 - val_V_loss: 165.0358 - val_annotations_xyz_error__metric_1: 17002.4863\n",
      "Epoch 194/300\n",
      "1/1 [==============================] - 1s 737ms/step - loss: 128.1575 - V_loss: 128.1575 - annotations_xyz_error__metric_1: 16764.3730 - val_loss: 165.0072 - val_V_loss: 165.0072 - val_annotations_xyz_error__metric_1: 17012.7695\n",
      "Epoch 195/300\n",
      "1/1 [==============================] - 1s 756ms/step - loss: 127.7880 - V_loss: 127.7880 - annotations_xyz_error__metric_1: 16822.0918 - val_loss: 165.0390 - val_V_loss: 165.0390 - val_annotations_xyz_error__metric_1: 16982.0449\n",
      "Epoch 196/300\n",
      "1/1 [==============================] - 1s 749ms/step - loss: 127.2814 - V_loss: 127.2814 - annotations_xyz_error__metric_1: 16715.9824 - val_loss: 164.9853 - val_V_loss: 164.9853 - val_annotations_xyz_error__metric_1: 16968.8574\n",
      "Epoch 197/300\n",
      "1/1 [==============================] - 1s 724ms/step - loss: 126.6351 - V_loss: 126.6351 - annotations_xyz_error__metric_1: 16710.3633 - val_loss: 164.4023 - val_V_loss: 164.4023 - val_annotations_xyz_error__metric_1: 16984.6016\n",
      "Epoch 198/300\n",
      "1/1 [==============================] - 1s 700ms/step - loss: 126.0954 - V_loss: 126.0954 - annotations_xyz_error__metric_1: 16656.1426 - val_loss: 163.4355 - val_V_loss: 163.4355 - val_annotations_xyz_error__metric_1: 17055.5762\n",
      "Epoch 199/300\n",
      "1/1 [==============================] - 1s 690ms/step - loss: 125.8998 - V_loss: 125.8998 - annotations_xyz_error__metric_1: 16877.2461 - val_loss: 162.0572 - val_V_loss: 162.0572 - val_annotations_xyz_error__metric_1: 17096.9355\n",
      "Epoch 200/300\n",
      "1/1 [==============================] - 1s 679ms/step - loss: 125.4035 - V_loss: 125.4035 - annotations_xyz_error__metric_1: 16721.8633 - val_loss: 161.3349 - val_V_loss: 161.3349 - val_annotations_xyz_error__metric_1: 17103.9746\n",
      "Epoch 201/300\n",
      "1/1 [==============================] - 1s 767ms/step - loss: 125.1629 - V_loss: 125.1629 - annotations_xyz_error__metric_1: 16928.2207 - val_loss: 161.9033 - val_V_loss: 161.9033 - val_annotations_xyz_error__metric_1: 17027.2988\n",
      "Epoch 202/300\n",
      "1/1 [==============================] - 1s 833ms/step - loss: 124.7987 - V_loss: 124.7987 - annotations_xyz_error__metric_1: 16592.3145 - val_loss: 161.6893 - val_V_loss: 161.6893 - val_annotations_xyz_error__metric_1: 17030.2148\n",
      "Epoch 203/300\n",
      "1/1 [==============================] - 1s 714ms/step - loss: 125.0083 - V_loss: 125.0083 - annotations_xyz_error__metric_1: 16856.2012 - val_loss: 160.8968 - val_V_loss: 160.8968 - val_annotations_xyz_error__metric_1: 17049.0586\n",
      "Epoch 204/300\n",
      "1/1 [==============================] - 1s 993ms/step - loss: 122.8279 - V_loss: 122.8279 - annotations_xyz_error__metric_1: 16741.2305 - val_loss: 159.5402 - val_V_loss: 159.5402 - val_annotations_xyz_error__metric_1: 17090.4746\n"
     ]
    },
    {
     "name": "stdout",
     "output_type": "stream",
     "text": [
      "Epoch 205/300\n",
      "1/1 [==============================] - 1s 795ms/step - loss: 122.7446 - V_loss: 122.7446 - annotations_xyz_error__metric_1: 16704.5820 - val_loss: 159.1566 - val_V_loss: 159.1566 - val_annotations_xyz_error__metric_1: 17104.6191\n",
      "Epoch 206/300\n",
      "1/1 [==============================] - 1s 876ms/step - loss: 122.0553 - V_loss: 122.0553 - annotations_xyz_error__metric_1: 16834.9199 - val_loss: 158.9780 - val_V_loss: 158.9780 - val_annotations_xyz_error__metric_1: 17044.5254\n",
      "Epoch 207/300\n",
      "1/1 [==============================] - 1s 908ms/step - loss: 121.4779 - V_loss: 121.4779 - annotations_xyz_error__metric_1: 16635.1211 - val_loss: 159.2941 - val_V_loss: 159.2941 - val_annotations_xyz_error__metric_1: 17039.6270\n",
      "Epoch 208/300\n",
      "1/1 [==============================] - 1s 958ms/step - loss: 122.4746 - V_loss: 122.4746 - annotations_xyz_error__metric_1: 16836.4961 - val_loss: 157.4588 - val_V_loss: 157.4588 - val_annotations_xyz_error__metric_1: 17070.3418\n",
      "Epoch 209/300\n",
      "1/1 [==============================] - 1s 790ms/step - loss: 122.2980 - V_loss: 122.2980 - annotations_xyz_error__metric_1: 16504.4043 - val_loss: 157.4304 - val_V_loss: 157.4304 - val_annotations_xyz_error__metric_1: 17216.4902\n",
      "Epoch 210/300\n",
      "1/1 [==============================] - 1s 686ms/step - loss: 123.6195 - V_loss: 123.6195 - annotations_xyz_error__metric_1: 17114.9746 - val_loss: 157.2738 - val_V_loss: 157.2738 - val_annotations_xyz_error__metric_1: 17185.1680\n",
      "Epoch 211/300\n",
      "1/1 [==============================] - 1s 673ms/step - loss: 120.1653 - V_loss: 120.1653 - annotations_xyz_error__metric_1: 16898.2148 - val_loss: 155.9990 - val_V_loss: 155.9990 - val_annotations_xyz_error__metric_1: 17052.8613\n",
      "Epoch 212/300\n",
      "1/1 [==============================] - 1s 685ms/step - loss: 119.1357 - V_loss: 119.1357 - annotations_xyz_error__metric_1: 16695.6816 - val_loss: 156.0004 - val_V_loss: 156.0004 - val_annotations_xyz_error__metric_1: 16934.2910\n",
      "Epoch 213/300\n",
      "1/1 [==============================] - 1s 709ms/step - loss: 118.9695 - V_loss: 118.9695 - annotations_xyz_error__metric_1: 16550.7598 - val_loss: 155.8634 - val_V_loss: 155.8634 - val_annotations_xyz_error__metric_1: 16954.9766\n",
      "Epoch 214/300\n",
      "1/1 [==============================] - 1s 838ms/step - loss: 118.3298 - V_loss: 118.3298 - annotations_xyz_error__metric_1: 16671.8945 - val_loss: 154.9176 - val_V_loss: 154.9176 - val_annotations_xyz_error__metric_1: 17038.7988\n",
      "Epoch 215/300\n",
      "1/1 [==============================] - 1s 733ms/step - loss: 117.8188 - V_loss: 117.8188 - annotations_xyz_error__metric_1: 16744.7676 - val_loss: 155.3138 - val_V_loss: 155.3138 - val_annotations_xyz_error__metric_1: 17082.4941\n",
      "Epoch 216/300\n",
      "1/1 [==============================] - 1s 690ms/step - loss: 118.0127 - V_loss: 118.0127 - annotations_xyz_error__metric_1: 16725.9453 - val_loss: 155.1169 - val_V_loss: 155.1169 - val_annotations_xyz_error__metric_1: 17089.6387\n",
      "Epoch 217/300\n",
      "1/1 [==============================] - 1s 702ms/step - loss: 118.2105 - V_loss: 118.2105 - annotations_xyz_error__metric_1: 16852.9805 - val_loss: 156.5953 - val_V_loss: 156.5953 - val_annotations_xyz_error__metric_1: 17046.7832\n",
      "Epoch 218/300\n",
      "1/1 [==============================] - 1s 704ms/step - loss: 119.3827 - V_loss: 119.3827 - annotations_xyz_error__metric_1: 16577.1582 - val_loss: 156.4081 - val_V_loss: 156.4081 - val_annotations_xyz_error__metric_1: 17071.0723\n",
      "Epoch 219/300\n",
      "1/1 [==============================] - 1s 761ms/step - loss: 116.6183 - V_loss: 116.6183 - annotations_xyz_error__metric_1: 16626.4492 - val_loss: 155.1026 - val_V_loss: 155.1026 - val_annotations_xyz_error__metric_1: 17178.0352\n",
      "Epoch 220/300\n",
      "1/1 [==============================] - 1s 745ms/step - loss: 116.9380 - V_loss: 116.9380 - annotations_xyz_error__metric_1: 16846.2949 - val_loss: 155.0837 - val_V_loss: 155.0837 - val_annotations_xyz_error__metric_1: 17248.4258\n",
      "Epoch 221/300\n",
      "1/1 [==============================] - 1s 675ms/step - loss: 116.0820 - V_loss: 116.0820 - annotations_xyz_error__metric_1: 16849.3887 - val_loss: 154.8006 - val_V_loss: 154.8006 - val_annotations_xyz_error__metric_1: 17228.6074\n",
      "Epoch 222/300\n",
      "1/1 [==============================] - 1s 743ms/step - loss: 115.0888 - V_loss: 115.0888 - annotations_xyz_error__metric_1: 16806.1777 - val_loss: 154.9772 - val_V_loss: 154.9772 - val_annotations_xyz_error__metric_1: 17151.6484\n",
      "Epoch 223/300\n",
      "1/1 [==============================] - 1s 800ms/step - loss: 114.3614 - V_loss: 114.3614 - annotations_xyz_error__metric_1: 16756.1699 - val_loss: 155.4442 - val_V_loss: 155.4442 - val_annotations_xyz_error__metric_1: 17107.5352\n",
      "Epoch 224/300\n",
      "1/1 [==============================] - 1s 709ms/step - loss: 114.2984 - V_loss: 114.2984 - annotations_xyz_error__metric_1: 16692.6777 - val_loss: 153.6324 - val_V_loss: 153.6324 - val_annotations_xyz_error__metric_1: 17168.5137\n",
      "Epoch 225/300\n",
      "1/1 [==============================] - 1s 697ms/step - loss: 113.4786 - V_loss: 113.4786 - annotations_xyz_error__metric_1: 16716.4316 - val_loss: 152.8683 - val_V_loss: 152.8683 - val_annotations_xyz_error__metric_1: 17269.6484\n",
      "Epoch 226/300\n",
      "1/1 [==============================] - 1s 697ms/step - loss: 113.5479 - V_loss: 113.5479 - annotations_xyz_error__metric_1: 16902.4258 - val_loss: 152.1766 - val_V_loss: 152.1766 - val_annotations_xyz_error__metric_1: 17265.9746\n",
      "Epoch 227/300\n",
      "1/1 [==============================] - 1s 677ms/step - loss: 113.7325 - V_loss: 113.7325 - annotations_xyz_error__metric_1: 16784.6426 - val_loss: 152.8017 - val_V_loss: 152.8017 - val_annotations_xyz_error__metric_1: 17245.9062\n",
      "Epoch 228/300\n",
      "1/1 [==============================] - 1s 820ms/step - loss: 114.9548 - V_loss: 114.9548 - annotations_xyz_error__metric_1: 16933.2617 - val_loss: 152.4528 - val_V_loss: 152.4528 - val_annotations_xyz_error__metric_1: 17163.5469\n",
      "Epoch 229/300\n",
      "1/1 [==============================] - 1s 697ms/step - loss: 114.0069 - V_loss: 114.0069 - annotations_xyz_error__metric_1: 16636.5957 - val_loss: 152.6508 - val_V_loss: 152.6508 - val_annotations_xyz_error__metric_1: 17206.9375\n",
      "Epoch 230/300\n",
      "1/1 [==============================] - 1s 688ms/step - loss: 115.0841 - V_loss: 115.0841 - annotations_xyz_error__metric_1: 16941.9043 - val_loss: 151.0332 - val_V_loss: 151.0332 - val_annotations_xyz_error__metric_1: 17191.0215\n",
      "Epoch 231/300\n",
      "1/1 [==============================] - 1s 698ms/step - loss: 112.0051 - V_loss: 112.0051 - annotations_xyz_error__metric_1: 16708.7676 - val_loss: 149.6938 - val_V_loss: 149.6938 - val_annotations_xyz_error__metric_1: 17177.8223\n",
      "Epoch 232/300\n",
      "1/1 [==============================] - 1s 777ms/step - loss: 111.2589 - V_loss: 111.2589 - annotations_xyz_error__metric_1: 16838.9121 - val_loss: 150.0687 - val_V_loss: 150.0687 - val_annotations_xyz_error__metric_1: 17095.5215\n",
      "Epoch 233/300\n",
      "1/1 [==============================] - 1s 791ms/step - loss: 111.2996 - V_loss: 111.2996 - annotations_xyz_error__metric_1: 16571.8262 - val_loss: 149.9248 - val_V_loss: 149.9248 - val_annotations_xyz_error__metric_1: 17126.8887\n",
      "Epoch 234/300\n",
      "1/1 [==============================] - 1s 729ms/step - loss: 110.3672 - V_loss: 110.3672 - annotations_xyz_error__metric_1: 16763.6367 - val_loss: 148.9810 - val_V_loss: 148.9810 - val_annotations_xyz_error__metric_1: 17176.1309\n",
      "Epoch 235/300\n",
      "1/1 [==============================] - 1s 695ms/step - loss: 109.6823 - V_loss: 109.6823 - annotations_xyz_error__metric_1: 16773.8438 - val_loss: 148.6571 - val_V_loss: 148.6571 - val_annotations_xyz_error__metric_1: 17209.7988\n",
      "Epoch 236/300\n",
      "1/1 [==============================] - 1s 685ms/step - loss: 109.5969 - V_loss: 109.5969 - annotations_xyz_error__metric_1: 16836.2422 - val_loss: 148.4411 - val_V_loss: 148.4411 - val_annotations_xyz_error__metric_1: 17186.0352\n",
      "Epoch 237/300\n",
      "1/1 [==============================] - 1s 732ms/step - loss: 109.2454 - V_loss: 109.2454 - annotations_xyz_error__metric_1: 16698.8613 - val_loss: 148.6004 - val_V_loss: 148.6004 - val_annotations_xyz_error__metric_1: 17186.0762\n",
      "Epoch 238/300\n",
      "1/1 [==============================] - 1s 754ms/step - loss: 109.3079 - V_loss: 109.3079 - annotations_xyz_error__metric_1: 16842.0957 - val_loss: 148.1562 - val_V_loss: 148.1562 - val_annotations_xyz_error__metric_1: 17191.6035\n"
     ]
    },
    {
     "name": "stdout",
     "output_type": "stream",
     "text": [
      "Epoch 239/300\n",
      "1/1 [==============================] - 1s 682ms/step - loss: 109.4539 - V_loss: 109.4539 - annotations_xyz_error__metric_1: 16607.3184 - val_loss: 146.6586 - val_V_loss: 146.6586 - val_annotations_xyz_error__metric_1: 17287.4785\n",
      "Epoch 240/300\n",
      "1/1 [==============================] - 1s 681ms/step - loss: 108.6137 - V_loss: 108.6137 - annotations_xyz_error__metric_1: 16901.5742 - val_loss: 147.3071 - val_V_loss: 147.3071 - val_annotations_xyz_error__metric_1: 17274.9004\n",
      "Epoch 241/300\n",
      "1/1 [==============================] - 1s 719ms/step - loss: 108.0100 - V_loss: 108.0100 - annotations_xyz_error__metric_1: 16758.2949 - val_loss: 147.9818 - val_V_loss: 147.9818 - val_annotations_xyz_error__metric_1: 17256.5625\n",
      "Epoch 242/300\n",
      "1/1 [==============================] - 1s 768ms/step - loss: 107.2217 - V_loss: 107.2217 - annotations_xyz_error__metric_1: 16843.8613 - val_loss: 147.2388 - val_V_loss: 147.2388 - val_annotations_xyz_error__metric_1: 17213.1191\n",
      "Epoch 243/300\n",
      "1/1 [==============================] - 1s 765ms/step - loss: 106.7895 - V_loss: 106.7895 - annotations_xyz_error__metric_1: 16760.9414 - val_loss: 147.1245 - val_V_loss: 147.1245 - val_annotations_xyz_error__metric_1: 17194.2227\n",
      "Epoch 244/300\n",
      "1/1 [==============================] - 1s 690ms/step - loss: 106.4860 - V_loss: 106.4860 - annotations_xyz_error__metric_1: 16694.9609 - val_loss: 146.1881 - val_V_loss: 146.1881 - val_annotations_xyz_error__metric_1: 17258.9902\n",
      "Epoch 245/300\n",
      "1/1 [==============================] - 1s 687ms/step - loss: 106.2793 - V_loss: 106.2793 - annotations_xyz_error__metric_1: 16834.6484 - val_loss: 146.6979 - val_V_loss: 146.6979 - val_annotations_xyz_error__metric_1: 17276.0430\n",
      "Epoch 246/300\n",
      "1/1 [==============================] - 1s 786ms/step - loss: 106.2343 - V_loss: 106.2343 - annotations_xyz_error__metric_1: 16792.0840 - val_loss: 145.0753 - val_V_loss: 145.0753 - val_annotations_xyz_error__metric_1: 17294.0488\n",
      "Epoch 247/300\n",
      "1/1 [==============================] - 1s 988ms/step - loss: 106.0788 - V_loss: 106.0788 - annotations_xyz_error__metric_1: 16838.0586 - val_loss: 146.5546 - val_V_loss: 146.5546 - val_annotations_xyz_error__metric_1: 17271.2695\n",
      "Epoch 248/300\n",
      "1/1 [==============================] - 2s 2s/step - loss: 105.3174 - V_loss: 105.3174 - annotations_xyz_error__metric_1: 16842.2676 - val_loss: 146.6961 - val_V_loss: 146.6961 - val_annotations_xyz_error__metric_1: 17244.3926\n",
      "Epoch 249/300\n",
      "1/1 [==============================] - 1s 939ms/step - loss: 104.7904 - V_loss: 104.7904 - annotations_xyz_error__metric_1: 16753.5332 - val_loss: 147.1023 - val_V_loss: 147.1023 - val_annotations_xyz_error__metric_1: 17260.2891\n",
      "Epoch 250/300\n",
      "1/1 [==============================] - 1s 781ms/step - loss: 104.4840 - V_loss: 104.4840 - annotations_xyz_error__metric_1: 16869.9336 - val_loss: 146.8633 - val_V_loss: 146.8633 - val_annotations_xyz_error__metric_1: 17254.3008\n",
      "Epoch 251/300\n",
      "1/1 [==============================] - 1s 797ms/step - loss: 104.2414 - V_loss: 104.2414 - annotations_xyz_error__metric_1: 16787.8965 - val_loss: 146.4771 - val_V_loss: 146.4771 - val_annotations_xyz_error__metric_1: 17273.4746\n",
      "Epoch 252/300\n",
      "1/1 [==============================] - 1s 836ms/step - loss: 103.8524 - V_loss: 103.8524 - annotations_xyz_error__metric_1: 16856.5723 - val_loss: 146.2346 - val_V_loss: 146.2346 - val_annotations_xyz_error__metric_1: 17248.9746\n",
      "Epoch 253/300\n",
      "1/1 [==============================] - 1s 768ms/step - loss: 103.2500 - V_loss: 103.2500 - annotations_xyz_error__metric_1: 16803.4238 - val_loss: 145.5448 - val_V_loss: 145.5448 - val_annotations_xyz_error__metric_1: 17241.6758\n",
      "Epoch 254/300\n",
      "1/1 [==============================] - ETA: 0s - loss: 102.9300 - V_loss: 102.9300 - annotations_xyz_error__metric_1: 16795.6777"
     ]
    },
    {
     "ename": "KeyboardInterrupt",
     "evalue": "",
     "output_type": "error",
     "traceback": [
      "\u001b[0;31m---------------------------------------------------------------------------\u001b[0m",
      "\u001b[0;31mKeyboardInterrupt\u001b[0m                         Traceback (most recent call last)",
      "\u001b[0;32m<ipython-input-28-bbe37bfaeac4>\u001b[0m in \u001b[0;36m<module>\u001b[0;34m\u001b[0m\n\u001b[1;32m      4\u001b[0m     \u001b[0mvalidation_data\u001b[0m\u001b[0;34m=\u001b[0m\u001b[0mds_val\u001b[0m\u001b[0;34m,\u001b[0m\u001b[0;34m\u001b[0m\u001b[0;34m\u001b[0m\u001b[0m\n\u001b[1;32m      5\u001b[0m     \u001b[0mepochs\u001b[0m\u001b[0;34m=\u001b[0m\u001b[0;36m300\u001b[0m\u001b[0;34m,\u001b[0m\u001b[0;34m\u001b[0m\u001b[0;34m\u001b[0m\u001b[0m\n\u001b[0;32m----> 6\u001b[0;31m     \u001b[0mcallbacks\u001b[0m\u001b[0;34m=\u001b[0m\u001b[0mcallbacks\u001b[0m\u001b[0;34m\u001b[0m\u001b[0;34m\u001b[0m\u001b[0m\n\u001b[0m\u001b[1;32m      7\u001b[0m )\n",
      "\u001b[0;32m~/sem8/RnD/code/RnD/virtual_env/lib/python3.7/site-packages/tensorflow/python/keras/engine/training.py\u001b[0m in \u001b[0;36mfit\u001b[0;34m(self, x, y, batch_size, epochs, verbose, callbacks, validation_split, validation_data, shuffle, class_weight, sample_weight, initial_epoch, steps_per_epoch, validation_steps, validation_batch_size, validation_freq, max_queue_size, workers, use_multiprocessing)\u001b[0m\n\u001b[1;32m   1139\u001b[0m               \u001b[0mworkers\u001b[0m\u001b[0;34m=\u001b[0m\u001b[0mworkers\u001b[0m\u001b[0;34m,\u001b[0m\u001b[0;34m\u001b[0m\u001b[0;34m\u001b[0m\u001b[0m\n\u001b[1;32m   1140\u001b[0m               \u001b[0muse_multiprocessing\u001b[0m\u001b[0;34m=\u001b[0m\u001b[0muse_multiprocessing\u001b[0m\u001b[0;34m,\u001b[0m\u001b[0;34m\u001b[0m\u001b[0;34m\u001b[0m\u001b[0m\n\u001b[0;32m-> 1141\u001b[0;31m               return_dict=True)\n\u001b[0m\u001b[1;32m   1142\u001b[0m           \u001b[0mval_logs\u001b[0m \u001b[0;34m=\u001b[0m \u001b[0;34m{\u001b[0m\u001b[0;34m'val_'\u001b[0m \u001b[0;34m+\u001b[0m \u001b[0mname\u001b[0m\u001b[0;34m:\u001b[0m \u001b[0mval\u001b[0m \u001b[0;32mfor\u001b[0m \u001b[0mname\u001b[0m\u001b[0;34m,\u001b[0m \u001b[0mval\u001b[0m \u001b[0;32min\u001b[0m \u001b[0mval_logs\u001b[0m\u001b[0;34m.\u001b[0m\u001b[0mitems\u001b[0m\u001b[0;34m(\u001b[0m\u001b[0;34m)\u001b[0m\u001b[0;34m}\u001b[0m\u001b[0;34m\u001b[0m\u001b[0;34m\u001b[0m\u001b[0m\n\u001b[1;32m   1143\u001b[0m           \u001b[0mepoch_logs\u001b[0m\u001b[0;34m.\u001b[0m\u001b[0mupdate\u001b[0m\u001b[0;34m(\u001b[0m\u001b[0mval_logs\u001b[0m\u001b[0;34m)\u001b[0m\u001b[0;34m\u001b[0m\u001b[0;34m\u001b[0m\u001b[0m\n",
      "\u001b[0;32m~/sem8/RnD/code/RnD/virtual_env/lib/python3.7/site-packages/tensorflow/python/keras/engine/training.py\u001b[0m in \u001b[0;36mevaluate\u001b[0;34m(self, x, y, batch_size, verbose, sample_weight, steps, callbacks, max_queue_size, workers, use_multiprocessing, return_dict)\u001b[0m\n\u001b[1;32m   1387\u001b[0m             \u001b[0;32mwith\u001b[0m \u001b[0mtrace\u001b[0m\u001b[0;34m.\u001b[0m\u001b[0mTrace\u001b[0m\u001b[0;34m(\u001b[0m\u001b[0;34m'test'\u001b[0m\u001b[0;34m,\u001b[0m \u001b[0mstep_num\u001b[0m\u001b[0;34m=\u001b[0m\u001b[0mstep\u001b[0m\u001b[0;34m,\u001b[0m \u001b[0m_r\u001b[0m\u001b[0;34m=\u001b[0m\u001b[0;36m1\u001b[0m\u001b[0;34m)\u001b[0m\u001b[0;34m:\u001b[0m\u001b[0;34m\u001b[0m\u001b[0;34m\u001b[0m\u001b[0m\n\u001b[1;32m   1388\u001b[0m               \u001b[0mcallbacks\u001b[0m\u001b[0;34m.\u001b[0m\u001b[0mon_test_batch_begin\u001b[0m\u001b[0;34m(\u001b[0m\u001b[0mstep\u001b[0m\u001b[0;34m)\u001b[0m\u001b[0;34m\u001b[0m\u001b[0;34m\u001b[0m\u001b[0m\n\u001b[0;32m-> 1389\u001b[0;31m               \u001b[0mtmp_logs\u001b[0m \u001b[0;34m=\u001b[0m \u001b[0mself\u001b[0m\u001b[0;34m.\u001b[0m\u001b[0mtest_function\u001b[0m\u001b[0;34m(\u001b[0m\u001b[0miterator\u001b[0m\u001b[0;34m)\u001b[0m\u001b[0;34m\u001b[0m\u001b[0;34m\u001b[0m\u001b[0m\n\u001b[0m\u001b[1;32m   1390\u001b[0m               \u001b[0;32mif\u001b[0m \u001b[0mdata_handler\u001b[0m\u001b[0;34m.\u001b[0m\u001b[0mshould_sync\u001b[0m\u001b[0;34m:\u001b[0m\u001b[0;34m\u001b[0m\u001b[0;34m\u001b[0m\u001b[0m\n\u001b[1;32m   1391\u001b[0m                 \u001b[0mcontext\u001b[0m\u001b[0;34m.\u001b[0m\u001b[0masync_wait\u001b[0m\u001b[0;34m(\u001b[0m\u001b[0;34m)\u001b[0m\u001b[0;34m\u001b[0m\u001b[0;34m\u001b[0m\u001b[0m\n",
      "\u001b[0;32m~/sem8/RnD/code/RnD/virtual_env/lib/python3.7/site-packages/tensorflow/python/eager/def_function.py\u001b[0m in \u001b[0;36m__call__\u001b[0;34m(self, *args, **kwds)\u001b[0m\n\u001b[1;32m    826\u001b[0m     \u001b[0mtracing_count\u001b[0m \u001b[0;34m=\u001b[0m \u001b[0mself\u001b[0m\u001b[0;34m.\u001b[0m\u001b[0mexperimental_get_tracing_count\u001b[0m\u001b[0;34m(\u001b[0m\u001b[0;34m)\u001b[0m\u001b[0;34m\u001b[0m\u001b[0;34m\u001b[0m\u001b[0m\n\u001b[1;32m    827\u001b[0m     \u001b[0;32mwith\u001b[0m \u001b[0mtrace\u001b[0m\u001b[0;34m.\u001b[0m\u001b[0mTrace\u001b[0m\u001b[0;34m(\u001b[0m\u001b[0mself\u001b[0m\u001b[0;34m.\u001b[0m\u001b[0m_name\u001b[0m\u001b[0;34m)\u001b[0m \u001b[0;32mas\u001b[0m \u001b[0mtm\u001b[0m\u001b[0;34m:\u001b[0m\u001b[0;34m\u001b[0m\u001b[0;34m\u001b[0m\u001b[0m\n\u001b[0;32m--> 828\u001b[0;31m       \u001b[0mresult\u001b[0m \u001b[0;34m=\u001b[0m \u001b[0mself\u001b[0m\u001b[0;34m.\u001b[0m\u001b[0m_call\u001b[0m\u001b[0;34m(\u001b[0m\u001b[0;34m*\u001b[0m\u001b[0margs\u001b[0m\u001b[0;34m,\u001b[0m \u001b[0;34m**\u001b[0m\u001b[0mkwds\u001b[0m\u001b[0;34m)\u001b[0m\u001b[0;34m\u001b[0m\u001b[0;34m\u001b[0m\u001b[0m\n\u001b[0m\u001b[1;32m    829\u001b[0m       \u001b[0mcompiler\u001b[0m \u001b[0;34m=\u001b[0m \u001b[0;34m\"xla\"\u001b[0m \u001b[0;32mif\u001b[0m \u001b[0mself\u001b[0m\u001b[0;34m.\u001b[0m\u001b[0m_experimental_compile\u001b[0m \u001b[0;32melse\u001b[0m \u001b[0;34m\"nonXla\"\u001b[0m\u001b[0;34m\u001b[0m\u001b[0;34m\u001b[0m\u001b[0m\n\u001b[1;32m    830\u001b[0m       \u001b[0mnew_tracing_count\u001b[0m \u001b[0;34m=\u001b[0m \u001b[0mself\u001b[0m\u001b[0;34m.\u001b[0m\u001b[0mexperimental_get_tracing_count\u001b[0m\u001b[0;34m(\u001b[0m\u001b[0;34m)\u001b[0m\u001b[0;34m\u001b[0m\u001b[0;34m\u001b[0m\u001b[0m\n",
      "\u001b[0;32m~/sem8/RnD/code/RnD/virtual_env/lib/python3.7/site-packages/tensorflow/python/eager/def_function.py\u001b[0m in \u001b[0;36m_call\u001b[0;34m(self, *args, **kwds)\u001b[0m\n\u001b[1;32m    860\u001b[0m       \u001b[0;31m# In this case we have not created variables on the first call. So we can\u001b[0m\u001b[0;34m\u001b[0m\u001b[0;34m\u001b[0m\u001b[0;34m\u001b[0m\u001b[0m\n\u001b[1;32m    861\u001b[0m       \u001b[0;31m# run the first trace but we should fail if variables are created.\u001b[0m\u001b[0;34m\u001b[0m\u001b[0;34m\u001b[0m\u001b[0;34m\u001b[0m\u001b[0m\n\u001b[0;32m--> 862\u001b[0;31m       \u001b[0mresults\u001b[0m \u001b[0;34m=\u001b[0m \u001b[0mself\u001b[0m\u001b[0;34m.\u001b[0m\u001b[0m_stateful_fn\u001b[0m\u001b[0;34m(\u001b[0m\u001b[0;34m*\u001b[0m\u001b[0margs\u001b[0m\u001b[0;34m,\u001b[0m \u001b[0;34m**\u001b[0m\u001b[0mkwds\u001b[0m\u001b[0;34m)\u001b[0m\u001b[0;34m\u001b[0m\u001b[0;34m\u001b[0m\u001b[0m\n\u001b[0m\u001b[1;32m    863\u001b[0m       \u001b[0;32mif\u001b[0m \u001b[0mself\u001b[0m\u001b[0;34m.\u001b[0m\u001b[0m_created_variables\u001b[0m\u001b[0;34m:\u001b[0m\u001b[0;34m\u001b[0m\u001b[0;34m\u001b[0m\u001b[0m\n\u001b[1;32m    864\u001b[0m         raise ValueError(\"Creating variables on a non-first call to a function\"\n",
      "\u001b[0;32m~/sem8/RnD/code/RnD/virtual_env/lib/python3.7/site-packages/tensorflow/python/eager/function.py\u001b[0m in \u001b[0;36m__call__\u001b[0;34m(self, *args, **kwargs)\u001b[0m\n\u001b[1;32m   2941\u001b[0m        filtered_flat_args) = self._maybe_define_function(args, kwargs)\n\u001b[1;32m   2942\u001b[0m     return graph_function._call_flat(\n\u001b[0;32m-> 2943\u001b[0;31m         filtered_flat_args, captured_inputs=graph_function.captured_inputs)  # pylint: disable=protected-access\n\u001b[0m\u001b[1;32m   2944\u001b[0m \u001b[0;34m\u001b[0m\u001b[0m\n\u001b[1;32m   2945\u001b[0m   \u001b[0;34m@\u001b[0m\u001b[0mproperty\u001b[0m\u001b[0;34m\u001b[0m\u001b[0;34m\u001b[0m\u001b[0m\n",
      "\u001b[0;32m~/sem8/RnD/code/RnD/virtual_env/lib/python3.7/site-packages/tensorflow/python/eager/function.py\u001b[0m in \u001b[0;36m_call_flat\u001b[0;34m(self, args, captured_inputs, cancellation_manager)\u001b[0m\n\u001b[1;32m   1917\u001b[0m       \u001b[0;31m# No tape is watching; skip to running the function.\u001b[0m\u001b[0;34m\u001b[0m\u001b[0;34m\u001b[0m\u001b[0;34m\u001b[0m\u001b[0m\n\u001b[1;32m   1918\u001b[0m       return self._build_call_outputs(self._inference_function.call(\n\u001b[0;32m-> 1919\u001b[0;31m           ctx, args, cancellation_manager=cancellation_manager))\n\u001b[0m\u001b[1;32m   1920\u001b[0m     forward_backward = self._select_forward_and_backward_functions(\n\u001b[1;32m   1921\u001b[0m         \u001b[0margs\u001b[0m\u001b[0;34m,\u001b[0m\u001b[0;34m\u001b[0m\u001b[0;34m\u001b[0m\u001b[0m\n",
      "\u001b[0;32m~/sem8/RnD/code/RnD/virtual_env/lib/python3.7/site-packages/tensorflow/python/eager/function.py\u001b[0m in \u001b[0;36mcall\u001b[0;34m(self, ctx, args, cancellation_manager)\u001b[0m\n\u001b[1;32m    558\u001b[0m               \u001b[0minputs\u001b[0m\u001b[0;34m=\u001b[0m\u001b[0margs\u001b[0m\u001b[0;34m,\u001b[0m\u001b[0;34m\u001b[0m\u001b[0;34m\u001b[0m\u001b[0m\n\u001b[1;32m    559\u001b[0m               \u001b[0mattrs\u001b[0m\u001b[0;34m=\u001b[0m\u001b[0mattrs\u001b[0m\u001b[0;34m,\u001b[0m\u001b[0;34m\u001b[0m\u001b[0;34m\u001b[0m\u001b[0m\n\u001b[0;32m--> 560\u001b[0;31m               ctx=ctx)\n\u001b[0m\u001b[1;32m    561\u001b[0m         \u001b[0;32melse\u001b[0m\u001b[0;34m:\u001b[0m\u001b[0;34m\u001b[0m\u001b[0;34m\u001b[0m\u001b[0m\n\u001b[1;32m    562\u001b[0m           outputs = execute.execute_with_cancellation(\n",
      "\u001b[0;32m~/sem8/RnD/code/RnD/virtual_env/lib/python3.7/site-packages/tensorflow/python/eager/execute.py\u001b[0m in \u001b[0;36mquick_execute\u001b[0;34m(op_name, num_outputs, inputs, attrs, ctx, name)\u001b[0m\n\u001b[1;32m     58\u001b[0m     \u001b[0mctx\u001b[0m\u001b[0;34m.\u001b[0m\u001b[0mensure_initialized\u001b[0m\u001b[0;34m(\u001b[0m\u001b[0;34m)\u001b[0m\u001b[0;34m\u001b[0m\u001b[0;34m\u001b[0m\u001b[0m\n\u001b[1;32m     59\u001b[0m     tensors = pywrap_tfe.TFE_Py_Execute(ctx._handle, device_name, op_name,\n\u001b[0;32m---> 60\u001b[0;31m                                         inputs, attrs, num_outputs)\n\u001b[0m\u001b[1;32m     61\u001b[0m   \u001b[0;32mexcept\u001b[0m \u001b[0mcore\u001b[0m\u001b[0;34m.\u001b[0m\u001b[0m_NotOkStatusException\u001b[0m \u001b[0;32mas\u001b[0m \u001b[0me\u001b[0m\u001b[0;34m:\u001b[0m\u001b[0;34m\u001b[0m\u001b[0;34m\u001b[0m\u001b[0m\n\u001b[1;32m     62\u001b[0m     \u001b[0;32mif\u001b[0m \u001b[0mname\u001b[0m \u001b[0;32mis\u001b[0m \u001b[0;32mnot\u001b[0m \u001b[0;32mNone\u001b[0m\u001b[0;34m:\u001b[0m\u001b[0;34m\u001b[0m\u001b[0;34m\u001b[0m\u001b[0m\n",
      "\u001b[0;31mKeyboardInterrupt\u001b[0m: "
     ]
    }
   ],
   "source": [
    "model.fit(\n",
    "    ds_train, \n",
    "    batch_size=1,\n",
    "    validation_data=ds_val,\n",
    "    epochs=300,\n",
    "    callbacks=callbacks\n",
    ")"
   ]
  },
  {
   "cell_type": "markdown",
   "metadata": {},
   "source": [
    "# Network"
   ]
  },
  {
   "cell_type": "code",
   "execution_count": 226,
   "metadata": {},
   "outputs": [
    {
     "data": {
      "text/plain": [
       "<tensorflow.python.training.tracking.util.CheckpointLoadStatus at 0x17e308908>"
      ]
     },
     "execution_count": 226,
     "metadata": {},
     "output_type": "execute_result"
    }
   ],
   "source": [
    "model.load_weights('../storage/chkpts/mymodel_10')"
   ]
  },
  {
   "cell_type": "code",
   "execution_count": 169,
   "metadata": {
    "scrolled": true
   },
   "outputs": [
    {
     "name": "stdout",
     "output_type": "stream",
     "text": [
      "Model: \"basic_model\"\n",
      "__________________________________________________________________________________________________\n",
      "Layer (type)                    Output Shape         Param #     Connected to                     \n",
      "==================================================================================================\n",
      "I (InputLayer)                  [(None, 224, 224, 3) 0                                            \n",
      "__________________________________________________________________________________________________\n",
      "resnet50 (Functional)           (None, 1000)         25636712    I[0][0]                          \n",
      "__________________________________________________________________________________________________\n",
      "flatten_1 (Flatten)             (None, 1000)         0           resnet50[0][0]                   \n",
      "__________________________________________________________________________________________________\n",
      "dense_23 (Dense)                (None, 1556)         1557556     flatten_1[0][0]                  \n",
      "__________________________________________________________________________________________________\n",
      "re_lu_2 (ReLU)                  (None, 1556)         0           dense_23[0][0]                   \n",
      "__________________________________________________________________________________________________\n",
      "dense_24 (Dense)                (None, 2334)         3634038     re_lu_2[0][0]                    \n",
      "__________________________________________________________________________________________________\n",
      "re_lu_3 (ReLU)                  (None, 2334)         0           dense_24[0][0]                   \n",
      "__________________________________________________________________________________________________\n",
      "dense_25 (Dense)                (None, 2334)         5449890     re_lu_3[0][0]                    \n",
      "__________________________________________________________________________________________________\n",
      "V (Reshape)                     (None, 778, 3)       0           dense_25[0][0]                   \n",
      "__________________________________________________________________________________________________\n",
      "affine_mat (InputLayer)         [(None, 4, 4)]       0                                            \n",
      "__________________________________________________________________________________________________\n",
      "proj_mat (InputLayer)           [(None, 4, 4)]       0                                            \n",
      "__________________________________________________________________________________________________\n",
      "annotations_xyz (Lambda)        None                 0           V[0][0]                          \n",
      "                                                                 affine_mat[0][0]                 \n",
      "                                                                 proj_mat[0][0]                   \n",
      "==================================================================================================\n",
      "Total params: 36,278,196\n",
      "Trainable params: 36,225,076\n",
      "Non-trainable params: 53,120\n",
      "__________________________________________________________________________________________________\n",
      "None\n"
     ]
    }
   ],
   "source": [
    "# feature extractor\n",
    "I_input = tf.keras.Input(shape=(out_img_size, out_img_size, 3), name=\"I\")\n",
    "proj_mat = tf.keras.Input(shape=(4, 4), name=\"proj_mat\")\n",
    "affine_mat = tf.keras.Input(shape=(4, 4), name=\"affine_mat\")\n",
    "\n",
    "# efficient_net_b0 = tf.keras.applications.EfficientNetB0(\n",
    "#     include_top=False, weights=None, input_shape=(out_img_size, out_img_size, 3)\n",
    "# )\n",
    "# efficient_net_features = efficient_net_b0(I_input)\n",
    "# flatten = tf.keras.layers.Flatten()(efficient_net_features)\n",
    "\n",
    "resnet50 = tf.keras.applications.ResNet50(\n",
    "    include_top=True, weights='imagenet', input_tensor=None,\n",
    "    input_shape=None, pooling=None, classes=1000)\n",
    "resnet_features = resnet50(I_input)\n",
    "\n",
    "flatten = tf.keras.layers.Flatten()(resnet_features)\n",
    "dense0 = tf.keras.layers.Dense(n_verts_to_predict*2)(flatten)\n",
    "relu0 = tf.keras.layers.ReLU()(dense0)\n",
    "dense1 = tf.keras.layers.Dense(n_verts_to_predict*3)(relu0)\n",
    "relu1 = tf.keras.layers.ReLU()(dense1)\n",
    "dense2 = tf.keras.layers.Dense(n_verts_to_predict*3)(relu1)\n",
    "V = tf.keras.layers.Reshape((n_verts_to_predict, 3), name=\"V\")(dense2)\n",
    "\n",
    "# annotations_xyz = tf.keras.layers.Lambda(lambda x: tf.py_function(func=unproject_freihand, inp=[*x], Tout=tf.float32), output_shape=(778, 3), name=\"annotations_xyz\")([V, affine_mat, proj_mat])\n",
    "annotations_xyz = tf.keras.layers.Lambda(lambda x: tf.py_function(func=unproject_youtube, inp=[*x], Tout=tf.float32), output_shape=(778, 3), name=\"annotations_xyz\")([V, affine_mat, proj_mat])\n",
    "\n",
    "model = tf.keras.Model(inputs=[I_input, proj_mat, affine_mat], outputs=[V, annotations_xyz], name=\"basic_model\")\n",
    "print(model.summary())"
   ]
  },
  {
   "cell_type": "code",
   "execution_count": 76,
   "metadata": {},
   "outputs": [],
   "source": [
    "learning_rate = 1e-3\n",
    "boundaries = [100, 130]\n",
    "lr_values = [learning_rate, learning_rate*0.1, learning_rate*0.01]\n",
    "\n",
    "learning_rate_fn = tf.keras.optimizers.schedules.PiecewiseConstantDecay(boundaries, lr_values)\n",
    "\n",
    "model.compile(\n",
    "    optimizer=tf.keras.optimizers.Adam(learning_rate),\n",
    "    loss={\"V\": loss_function },\n",
    "    metrics={\"annotations_xyz\": Error_Metric()}\n",
    ")"
   ]
  },
  {
   "cell_type": "markdown",
   "metadata": {},
   "source": [
    "# Train"
   ]
  },
  {
   "cell_type": "code",
   "execution_count": 77,
   "metadata": {
    "tags": [
     "outputPrepend"
    ]
   },
   "outputs": [
    {
     "name": "stdout",
     "output_type": "stream",
     "text": [
      "Epoch 1/300\n"
     ]
    },
    {
     "name": "stderr",
     "output_type": "stream",
     "text": [
      "/Users/debabratamandal/sem8/RnD/code/RnD/virtual_env/lib/python3.7/site-packages/ipykernel_launcher.py:64: DeprecationWarning:\n",
      "\n",
      "`np.int` is a deprecated alias for the builtin `int`. To silence this warning, use `int` by itself. Doing this will not modify any behavior and is safe. When replacing `np.int`, you may wish to use e.g. `np.int64` or `np.int32` to specify the precision. If you wish to review your current use, check the release note link for additional information.\n",
      "Deprecated in NumPy 1.20; for more details and guidance: https://numpy.org/devdocs/release/1.20.0-notes.html#deprecations\n",
      "\n"
     ]
    },
    {
     "name": "stdout",
     "output_type": "stream",
     "text": [
      "1/1 [==============================] - 6s 6s/step - loss: 1058.2830 - V_loss: 1058.2830 - annotations_xyz_error__metric_5: 51.8574\n",
      "Epoch 2/300\n",
      "1/1 [==============================] - 1s 548ms/step - loss: 1047.4149 - V_loss: 1047.4149 - annotations_xyz_error__metric_5: 51.4177\n",
      "Epoch 3/300\n",
      "1/1 [==============================] - 1s 539ms/step - loss: 983.5694 - V_loss: 983.5694 - annotations_xyz_error__metric_5: 48.8424\n",
      "Epoch 4/300\n",
      "1/1 [==============================] - 1s 543ms/step - loss: 844.6776 - V_loss: 844.6776 - annotations_xyz_error__metric_5: 42.7426\n",
      "Epoch 5/300\n",
      "1/1 [==============================] - 1s 573ms/step - loss: 698.5090 - V_loss: 698.5090 - annotations_xyz_error__metric_5: 35.3506\n",
      "Epoch 6/300\n",
      "1/1 [==============================] - 1s 543ms/step - loss: 538.0195 - V_loss: 538.0195 - annotations_xyz_error__metric_5: 26.1516\n",
      "Epoch 7/300\n",
      "1/1 [==============================] - 1s 531ms/step - loss: 418.6347 - V_loss: 418.6347 - annotations_xyz_error__metric_5: 18.8034\n",
      "Epoch 8/300\n",
      "1/1 [==============================] - 1s 613ms/step - loss: 374.8611 - V_loss: 374.8611 - annotations_xyz_error__metric_5: 15.8635\n",
      "Epoch 9/300\n",
      "1/1 [==============================] - 1s 621ms/step - loss: 289.3358 - V_loss: 289.3358 - annotations_xyz_error__metric_5: 12.2792\n",
      "Epoch 10/300\n",
      "1/1 [==============================] - 1s 769ms/step - loss: 176.8188 - V_loss: 176.8188 - annotations_xyz_error__metric_5: 7.1459\n",
      "Epoch 11/300\n",
      "1/1 [==============================] - 1s 648ms/step - loss: 169.9818 - V_loss: 169.9818 - annotations_xyz_error__metric_5: 7.1439\n",
      "Epoch 12/300\n",
      "1/1 [==============================] - 1s 707ms/step - loss: 190.9179 - V_loss: 190.9179 - annotations_xyz_error__metric_5: 8.2618\n",
      "Epoch 13/300\n",
      "1/1 [==============================] - 1s 544ms/step - loss: 187.3117 - V_loss: 187.3117 - annotations_xyz_error__metric_5: 7.8268\n",
      "Epoch 14/300\n",
      "1/1 [==============================] - 1s 594ms/step - loss: 184.3994 - V_loss: 184.3994 - annotations_xyz_error__metric_5: 7.7428\n",
      "Epoch 15/300\n",
      "1/1 [==============================] - 1s 559ms/step - loss: 172.8428 - V_loss: 172.8428 - annotations_xyz_error__metric_5: 7.5059\n",
      "Epoch 16/300\n",
      "1/1 [==============================] - 1s 540ms/step - loss: 141.3686 - V_loss: 141.3686 - annotations_xyz_error__metric_5: 6.1960\n",
      "Epoch 17/300\n",
      "1/1 [==============================] - 1s 549ms/step - loss: 125.5070 - V_loss: 125.5070 - annotations_xyz_error__metric_5: 5.3897\n",
      "Epoch 18/300\n",
      "1/1 [==============================] - 1s 542ms/step - loss: 115.0835 - V_loss: 115.0835 - annotations_xyz_error__metric_5: 4.9169\n",
      "Epoch 19/300\n",
      "1/1 [==============================] - 1s 545ms/step - loss: 98.6583 - V_loss: 98.6583 - annotations_xyz_error__metric_5: 4.0458\n",
      "Epoch 20/300\n",
      "1/1 [==============================] - 1s 611ms/step - loss: 91.9174 - V_loss: 91.9174 - annotations_xyz_error__metric_5: 3.7697\n",
      "Epoch 21/300\n",
      "1/1 [==============================] - 1s 531ms/step - loss: 81.2752 - V_loss: 81.2752 - annotations_xyz_error__metric_5: 3.4297\n",
      "Epoch 22/300\n",
      "1/1 [==============================] - 1s 506ms/step - loss: 78.3299 - V_loss: 78.3299 - annotations_xyz_error__metric_5: 3.3785\n",
      "Epoch 23/300\n",
      "1/1 [==============================] - 1s 599ms/step - loss: 78.6441 - V_loss: 78.6441 - annotations_xyz_error__metric_5: 3.3696\n",
      "Epoch 24/300\n",
      "1/1 [==============================] - 1s 639ms/step - loss: 76.6270 - V_loss: 76.6270 - annotations_xyz_error__metric_5: 3.2024\n",
      "Epoch 25/300\n",
      "1/1 [==============================] - 1s 563ms/step - loss: 72.2962 - V_loss: 72.2962 - annotations_xyz_error__metric_5: 3.0289\n",
      "Epoch 26/300\n",
      "1/1 [==============================] - 1s 606ms/step - loss: 65.8471 - V_loss: 65.8471 - annotations_xyz_error__metric_5: 2.8318\n",
      "Epoch 27/300\n",
      "1/1 [==============================] - 1s 747ms/step - loss: 60.1335 - V_loss: 60.1335 - annotations_xyz_error__metric_5: 2.5756\n",
      "Epoch 28/300\n",
      "1/1 [==============================] - 1s 597ms/step - loss: 55.9626 - V_loss: 55.9626 - annotations_xyz_error__metric_5: 2.3491\n",
      "Epoch 29/300\n",
      "1/1 [==============================] - 1s 664ms/step - loss: 51.5867 - V_loss: 51.5867 - annotations_xyz_error__metric_5: 2.1780\n",
      "Epoch 30/300\n",
      "1/1 [==============================] - 1s 624ms/step - loss: 49.0310 - V_loss: 49.0310 - annotations_xyz_error__metric_5: 2.0671\n",
      "Epoch 31/300\n",
      "1/1 [==============================] - 1s 535ms/step - loss: 46.8672 - V_loss: 46.8672 - annotations_xyz_error__metric_5: 1.9792\n",
      "Epoch 32/300\n",
      "1/1 [==============================] - 1s 550ms/step - loss: 44.8455 - V_loss: 44.8455 - annotations_xyz_error__metric_5: 1.9060\n",
      "Epoch 33/300\n",
      "1/1 [==============================] - 1s 568ms/step - loss: 42.9264 - V_loss: 42.9264 - annotations_xyz_error__metric_5: 1.8150\n",
      "Epoch 34/300\n",
      "1/1 [==============================] - 1s 531ms/step - loss: 41.0562 - V_loss: 41.0562 - annotations_xyz_error__metric_5: 1.7321\n",
      "Epoch 35/300\n",
      "1/1 [==============================] - 1s 588ms/step - loss: 39.8257 - V_loss: 39.8257 - annotations_xyz_error__metric_5: 1.7019\n",
      "Epoch 36/300\n",
      "1/1 [==============================] - 1s 650ms/step - loss: 40.9097 - V_loss: 40.9097 - annotations_xyz_error__metric_5: 1.7692\n",
      "Epoch 37/300\n",
      "1/1 [==============================] - 1s 697ms/step - loss: 42.1712 - V_loss: 42.1712 - annotations_xyz_error__metric_5: 1.7881\n",
      "Epoch 38/300\n",
      "1/1 [==============================] - 1s 631ms/step - loss: 38.9782 - V_loss: 38.9782 - annotations_xyz_error__metric_5: 1.6737\n",
      "Epoch 39/300\n",
      "1/1 [==============================] - 1s 611ms/step - loss: 34.6553 - V_loss: 34.6553 - annotations_xyz_error__metric_5: 1.4636\n",
      "Epoch 40/300\n",
      "1/1 [==============================] - 1s 721ms/step - loss: 32.6303 - V_loss: 32.6303 - annotations_xyz_error__metric_5: 1.3928\n",
      "Epoch 41/300\n",
      "1/1 [==============================] - 1s 607ms/step - loss: 32.8066 - V_loss: 32.8066 - annotations_xyz_error__metric_5: 1.3765\n",
      "Epoch 42/300\n",
      "1/1 [==============================] - 1s 597ms/step - loss: 35.4980 - V_loss: 35.4980 - annotations_xyz_error__metric_5: 1.5643\n",
      "Epoch 43/300\n",
      "1/1 [==============================] - 1s 601ms/step - loss: 40.7327 - V_loss: 40.7327 - annotations_xyz_error__metric_5: 1.7691\n",
      "Epoch 44/300\n",
      "1/1 [==============================] - 1s 609ms/step - loss: 36.6566 - V_loss: 36.6566 - annotations_xyz_error__metric_5: 1.6163\n",
      "Epoch 45/300\n",
      "1/1 [==============================] - 1s 565ms/step - loss: 31.9935 - V_loss: 31.9935 - annotations_xyz_error__metric_5: 1.3522\n",
      "Epoch 46/300\n",
      "1/1 [==============================] - 1s 603ms/step - loss: 31.2518 - V_loss: 31.2518 - annotations_xyz_error__metric_5: 1.3275\n",
      "Epoch 47/300\n",
      "1/1 [==============================] - 1s 616ms/step - loss: 38.0608 - V_loss: 38.0608 - annotations_xyz_error__metric_5: 1.7050\n",
      "Epoch 48/300\n",
      "1/1 [==============================] - 1s 739ms/step - loss: 39.1454 - V_loss: 39.1454 - annotations_xyz_error__metric_5: 1.7126\n",
      "Epoch 49/300\n",
      "1/1 [==============================] - 1s 847ms/step - loss: 31.5107 - V_loss: 31.5107 - annotations_xyz_error__metric_5: 1.3163\n",
      "Epoch 50/300\n",
      "1/1 [==============================] - 1s 583ms/step - loss: 33.8041 - V_loss: 33.8041 - annotations_xyz_error__metric_5: 1.4874\n",
      "Epoch 51/300\n",
      "1/1 [==============================] - 1s 589ms/step - loss: 40.1495 - V_loss: 40.1495 - annotations_xyz_error__metric_5: 1.7921\n",
      "Epoch 52/300\n",
      "1/1 [==============================] - 1s 595ms/step - loss: 31.3248 - V_loss: 31.3248 - annotations_xyz_error__metric_5: 1.3472\n",
      "Epoch 53/300\n",
      "1/1 [==============================] - 1s 635ms/step - loss: 27.9901 - V_loss: 27.9901 - annotations_xyz_error__metric_5: 1.1917\n",
      "Epoch 54/300\n",
      "1/1 [==============================] - 1s 594ms/step - loss: 31.8848 - V_loss: 31.8848 - annotations_xyz_error__metric_5: 1.3929\n",
      "Epoch 55/300\n",
      "1/1 [==============================] - 1s 614ms/step - loss: 36.3168 - V_loss: 36.3168 - annotations_xyz_error__metric_5: 1.6422\n",
      "Epoch 56/300\n",
      "1/1 [==============================] - 1s 615ms/step - loss: 30.2518 - V_loss: 30.2518 - annotations_xyz_error__metric_5: 1.2559\n",
      "Epoch 57/300\n",
      "1/1 [==============================] - 1s 590ms/step - loss: 27.8526 - V_loss: 27.8526 - annotations_xyz_error__metric_5: 1.1787\n",
      "Epoch 58/300\n",
      "1/1 [==============================] - 1s 575ms/step - loss: 32.7960 - V_loss: 32.7960 - annotations_xyz_error__metric_5: 1.4696\n",
      "Epoch 59/300\n",
      "1/1 [==============================] - 1s 619ms/step - loss: 35.0194 - V_loss: 35.0194 - annotations_xyz_error__metric_5: 1.5267\n",
      "Epoch 60/300\n",
      "1/1 [==============================] - 1s 717ms/step - loss: 28.3287 - V_loss: 28.3287 - annotations_xyz_error__metric_5: 1.1819\n",
      "Epoch 61/300\n",
      "1/1 [==============================] - 1s 726ms/step - loss: 27.7831 - V_loss: 27.7831 - annotations_xyz_error__metric_5: 1.1861\n",
      "Epoch 62/300\n",
      "1/1 [==============================] - 1s 696ms/step - loss: 33.2382 - V_loss: 33.2382 - annotations_xyz_error__metric_5: 1.4512\n",
      "Epoch 63/300\n",
      "1/1 [==============================] - 1s 669ms/step - loss: 31.0161 - V_loss: 31.0161 - annotations_xyz_error__metric_5: 1.3457\n",
      "Epoch 64/300\n",
      "1/1 [==============================] - 1s 716ms/step - loss: 26.5956 - V_loss: 26.5956 - annotations_xyz_error__metric_5: 1.0958\n",
      "Epoch 65/300\n",
      "1/1 [==============================] - 1s 728ms/step - loss: 26.2966 - V_loss: 26.2966 - annotations_xyz_error__metric_5: 1.1057\n",
      "Epoch 66/300\n",
      "1/1 [==============================] - 1s 612ms/step - loss: 32.3209 - V_loss: 32.3209 - annotations_xyz_error__metric_5: 1.4498\n",
      "Epoch 67/300\n",
      "1/1 [==============================] - 1s 579ms/step - loss: 31.0349 - V_loss: 31.0349 - annotations_xyz_error__metric_5: 1.3363\n",
      "Epoch 68/300\n",
      "1/1 [==============================] - 1s 915ms/step - loss: 27.0145 - V_loss: 27.0145 - annotations_xyz_error__metric_5: 1.1190\n",
      "Epoch 69/300\n",
      "1/1 [==============================] - 1s 601ms/step - loss: 26.8927 - V_loss: 26.8927 - annotations_xyz_error__metric_5: 1.1495\n",
      "Epoch 70/300\n",
      "1/1 [==============================] - 1s 582ms/step - loss: 30.7504 - V_loss: 30.7504 - annotations_xyz_error__metric_5: 1.3417\n",
      "Epoch 71/300\n",
      "1/1 [==============================] - 1s 739ms/step - loss: 31.0205 - V_loss: 31.0205 - annotations_xyz_error__metric_5: 1.3586\n",
      "Epoch 72/300\n",
      "1/1 [==============================] - 1s 733ms/step - loss: 26.7127 - V_loss: 26.7127 - annotations_xyz_error__metric_5: 1.0879\n",
      "Epoch 73/300\n",
      "1/1 [==============================] - 1s 594ms/step - loss: 26.1043 - V_loss: 26.1043 - annotations_xyz_error__metric_5: 1.0879\n",
      "Epoch 74/300\n",
      "1/1 [==============================] - 1s 546ms/step - loss: 31.1353 - V_loss: 31.1353 - annotations_xyz_error__metric_5: 1.3890\n",
      "Epoch 75/300\n",
      "1/1 [==============================] - 1s 540ms/step - loss: 31.1495 - V_loss: 31.1495 - annotations_xyz_error__metric_5: 1.3332\n",
      "Epoch 76/300\n",
      "1/1 [==============================] - 1s 554ms/step - loss: 26.1143 - V_loss: 26.1143 - annotations_xyz_error__metric_5: 1.0667\n",
      "Epoch 77/300\n",
      "1/1 [==============================] - 1s 544ms/step - loss: 26.2433 - V_loss: 26.2433 - annotations_xyz_error__metric_5: 1.1152\n",
      "Epoch 78/300\n",
      "1/1 [==============================] - 1s 544ms/step - loss: 30.3735 - V_loss: 30.3735 - annotations_xyz_error__metric_5: 1.3195\n",
      "Epoch 79/300\n",
      "1/1 [==============================] - 1s 545ms/step - loss: 29.7423 - V_loss: 29.7423 - annotations_xyz_error__metric_5: 1.2826\n",
      "Epoch 80/300\n",
      "1/1 [==============================] - 1s 595ms/step - loss: 25.5374 - V_loss: 25.5374 - annotations_xyz_error__metric_5: 1.0638\n",
      "Epoch 81/300\n",
      "1/1 [==============================] - 1s 594ms/step - loss: 25.1001 - V_loss: 25.1001 - annotations_xyz_error__metric_5: 1.0544\n",
      "Epoch 82/300\n",
      "1/1 [==============================] - 1s 559ms/step - loss: 30.1898 - V_loss: 30.1898 - annotations_xyz_error__metric_5: 1.3264\n",
      "Epoch 83/300\n",
      "1/1 [==============================] - 1s 580ms/step - loss: 30.1721 - V_loss: 30.1721 - annotations_xyz_error__metric_5: 1.2884\n",
      "Epoch 84/300\n",
      "1/1 [==============================] - 1s 607ms/step - loss: 24.7816 - V_loss: 24.7816 - annotations_xyz_error__metric_5: 1.0295\n",
      "Epoch 85/300\n",
      "1/1 [==============================] - 1s 615ms/step - loss: 25.5568 - V_loss: 25.5568 - annotations_xyz_error__metric_5: 1.1090\n",
      "Epoch 86/300\n",
      "1/1 [==============================] - 1s 612ms/step - loss: 30.7453 - V_loss: 30.7453 - annotations_xyz_error__metric_5: 1.3308\n",
      "Epoch 87/300\n",
      "1/1 [==============================] - 1s 571ms/step - loss: 28.5358 - V_loss: 28.5358 - annotations_xyz_error__metric_5: 1.2191\n",
      "Epoch 88/300\n",
      "1/1 [==============================] - 1s 539ms/step - loss: 23.9150 - V_loss: 23.9150 - annotations_xyz_error__metric_5: 0.9847\n",
      "Epoch 89/300\n",
      "1/1 [==============================] - 1s 542ms/step - loss: 24.3487 - V_loss: 24.3487 - annotations_xyz_error__metric_5: 1.0198\n",
      "Epoch 90/300\n",
      "1/1 [==============================] - 1s 609ms/step - loss: 30.2689 - V_loss: 30.2689 - annotations_xyz_error__metric_5: 1.3260\n",
      "Epoch 91/300\n",
      "1/1 [==============================] - 1s 570ms/step - loss: 29.4707 - V_loss: 29.4707 - annotations_xyz_error__metric_5: 1.2409\n",
      "Epoch 92/300\n",
      "1/1 [==============================] - 1s 542ms/step - loss: 25.5483 - V_loss: 25.5483 - annotations_xyz_error__metric_5: 1.0567\n",
      "Epoch 93/300\n",
      "1/1 [==============================] - 1s 541ms/step - loss: 25.4119 - V_loss: 25.4119 - annotations_xyz_error__metric_5: 1.0944\n",
      "Epoch 94/300\n",
      "1/1 [==============================] - 1s 580ms/step - loss: 27.4026 - V_loss: 27.4026 - annotations_xyz_error__metric_5: 1.1779\n",
      "Epoch 95/300\n",
      "1/1 [==============================] - 1s 546ms/step - loss: 28.1463 - V_loss: 28.1463 - annotations_xyz_error__metric_5: 1.1991\n",
      "Epoch 96/300\n",
      "1/1 [==============================] - 1s 536ms/step - loss: 25.1329 - V_loss: 25.1329 - annotations_xyz_error__metric_5: 1.0337\n",
      "Epoch 97/300\n",
      "1/1 [==============================] - 1s 587ms/step - loss: 22.9838 - V_loss: 22.9838 - annotations_xyz_error__metric_5: 0.9610\n",
      "Epoch 98/300\n",
      "1/1 [==============================] - 1s 650ms/step - loss: 25.4773 - V_loss: 25.4773 - annotations_xyz_error__metric_5: 1.0943\n",
      "Epoch 99/300\n",
      "1/1 [==============================] - 1s 599ms/step - loss: 31.6213 - V_loss: 31.6213 - annotations_xyz_error__metric_5: 1.3661\n",
      "Epoch 100/300\n",
      "1/1 [==============================] - 1s 564ms/step - loss: 26.6815 - V_loss: 26.6815 - annotations_xyz_error__metric_5: 1.1257\n",
      "Epoch 101/300\n",
      "1/1 [==============================] - 1s 605ms/step - loss: 24.5550 - V_loss: 24.5550 - annotations_xyz_error__metric_5: 1.0459\n",
      "Epoch 102/300\n",
      "1/1 [==============================] - 1s 675ms/step - loss: 28.2336 - V_loss: 28.2336 - annotations_xyz_error__metric_5: 1.2090\n",
      "Epoch 103/300\n",
      "1/1 [==============================] - 1s 623ms/step - loss: 27.8062 - V_loss: 27.8062 - annotations_xyz_error__metric_5: 1.2128\n",
      "Epoch 104/300\n",
      "1/1 [==============================] - 1s 641ms/step - loss: 24.8584 - V_loss: 24.8584 - annotations_xyz_error__metric_5: 1.0201\n",
      "Epoch 105/300\n",
      "1/1 [==============================] - 1s 647ms/step - loss: 22.7049 - V_loss: 22.7049 - annotations_xyz_error__metric_5: 0.9409\n",
      "Epoch 106/300\n",
      "1/1 [==============================] - 1s 592ms/step - loss: 24.3379 - V_loss: 24.3379 - annotations_xyz_error__metric_5: 1.0458\n",
      "Epoch 107/300\n",
      "1/1 [==============================] - 1s 656ms/step - loss: 30.4516 - V_loss: 30.4516 - annotations_xyz_error__metric_5: 1.3309\n",
      "Epoch 108/300\n",
      "1/1 [==============================] - 1s 540ms/step - loss: 26.7518 - V_loss: 26.7518 - annotations_xyz_error__metric_5: 1.1431\n",
      "Epoch 109/300\n",
      "1/1 [==============================] - 1s 556ms/step - loss: 24.3746 - V_loss: 24.3746 - annotations_xyz_error__metric_5: 1.0292\n",
      "Epoch 110/300\n",
      "1/1 [==============================] - 1s 714ms/step - loss: 25.4526 - V_loss: 25.4526 - annotations_xyz_error__metric_5: 1.0682\n",
      "Epoch 111/300\n",
      "1/1 [==============================] - 1s 823ms/step - loss: 27.0891 - V_loss: 27.0891 - annotations_xyz_error__metric_5: 1.1850\n",
      "Epoch 112/300\n",
      "1/1 [==============================] - 1s 740ms/step - loss: 26.3030 - V_loss: 26.3030 - annotations_xyz_error__metric_5: 1.1106\n",
      "Epoch 113/300\n",
      "1/1 [==============================] - 1s 555ms/step - loss: 23.8088 - V_loss: 23.8088 - annotations_xyz_error__metric_5: 0.9965\n",
      "Epoch 114/300\n",
      "1/1 [==============================] - 1s 686ms/step - loss: 23.0283 - V_loss: 23.0283 - annotations_xyz_error__metric_5: 0.9729\n",
      "Epoch 115/300\n"
     ]
    },
    {
     "name": "stdout",
     "output_type": "stream",
     "text": [
      "1/1 [==============================] - 1s 619ms/step - loss: 28.2191 - V_loss: 28.2191 - annotations_xyz_error__metric_5: 1.2305\n",
      "Epoch 116/300\n",
      "1/1 [==============================] - 1s 676ms/step - loss: 30.2057 - V_loss: 30.2057 - annotations_xyz_error__metric_5: 1.3427\n",
      "Epoch 117/300\n",
      "1/1 [==============================] - 1s 659ms/step - loss: 25.1508 - V_loss: 25.1508 - annotations_xyz_error__metric_5: 1.0354\n",
      "Epoch 118/300\n",
      "1/1 [==============================] - 1s 641ms/step - loss: 26.7602 - V_loss: 26.7602 - annotations_xyz_error__metric_5: 1.1509\n",
      "Epoch 119/300\n",
      "1/1 [==============================] - 1s 581ms/step - loss: 31.5321 - V_loss: 31.5321 - annotations_xyz_error__metric_5: 1.4281\n",
      "Epoch 120/300\n",
      "1/1 [==============================] - 1s 625ms/step - loss: 23.6482 - V_loss: 23.6482 - annotations_xyz_error__metric_5: 0.9677\n",
      "Epoch 121/300\n",
      "1/1 [==============================] - 1s 664ms/step - loss: 24.3559 - V_loss: 24.3559 - annotations_xyz_error__metric_5: 1.0248\n",
      "Epoch 122/300\n",
      "1/1 [==============================] - 1s 718ms/step - loss: 33.7295 - V_loss: 33.7295 - annotations_xyz_error__metric_5: 1.5206\n",
      "Epoch 123/300\n",
      "1/1 [==============================] - 1s 733ms/step - loss: 24.6176 - V_loss: 24.6176 - annotations_xyz_error__metric_5: 1.0141\n",
      "Epoch 124/300\n",
      "1/1 [==============================] - 1s 534ms/step - loss: 28.0991 - V_loss: 28.0991 - annotations_xyz_error__metric_5: 1.2114\n",
      "Epoch 125/300\n",
      "1/1 [==============================] - 1s 549ms/step - loss: 32.4072 - V_loss: 32.4072 - annotations_xyz_error__metric_5: 1.4454\n",
      "Epoch 126/300\n",
      "1/1 [==============================] - 1s 557ms/step - loss: 24.1238 - V_loss: 24.1238 - annotations_xyz_error__metric_5: 1.0010\n",
      "Epoch 127/300\n",
      "1/1 [==============================] - 1s 558ms/step - loss: 28.5967 - V_loss: 28.5967 - annotations_xyz_error__metric_5: 1.2371\n",
      "Epoch 128/300\n",
      "1/1 [==============================] - 1s 558ms/step - loss: 31.0594 - V_loss: 31.0594 - annotations_xyz_error__metric_5: 1.3850\n",
      "Epoch 129/300\n",
      "1/1 [==============================] - 1s 549ms/step - loss: 24.4451 - V_loss: 24.4451 - annotations_xyz_error__metric_5: 1.0104\n",
      "Epoch 130/300\n",
      "1/1 [==============================] - 1s 542ms/step - loss: 25.8873 - V_loss: 25.8873 - annotations_xyz_error__metric_5: 1.0991\n",
      "Epoch 131/300\n",
      "1/1 [==============================] - 1s 555ms/step - loss: 30.6990 - V_loss: 30.6990 - annotations_xyz_error__metric_5: 1.3644\n",
      "Epoch 132/300\n",
      "1/1 [==============================] - 1s 544ms/step - loss: 25.2783 - V_loss: 25.2783 - annotations_xyz_error__metric_5: 1.0592\n",
      "Epoch 133/300\n",
      "1/1 [==============================] - 1s 560ms/step - loss: 23.4278 - V_loss: 23.4278 - annotations_xyz_error__metric_5: 0.9841\n",
      "Epoch 134/300\n",
      "1/1 [==============================] - 1s 589ms/step - loss: 24.8944 - V_loss: 24.8944 - annotations_xyz_error__metric_5: 1.0687\n",
      "Epoch 135/300\n",
      "1/1 [==============================] - 1s 641ms/step - loss: 25.1888 - V_loss: 25.1888 - annotations_xyz_error__metric_5: 1.0695\n",
      "Epoch 136/300\n",
      "1/1 [==============================] - 1s 1s/step - loss: 24.0826 - V_loss: 24.0826 - annotations_xyz_error__metric_5: 1.0059\n",
      "Epoch 137/300\n",
      "1/1 [==============================] - 1s 560ms/step - loss: 22.8630 - V_loss: 22.8630 - annotations_xyz_error__metric_5: 0.9467\n",
      "Epoch 138/300\n",
      "1/1 [==============================] - 1s 546ms/step - loss: 21.2366 - V_loss: 21.2366 - annotations_xyz_error__metric_5: 0.8925\n",
      "Epoch 139/300\n",
      "1/1 [==============================] - 1s 538ms/step - loss: 20.3958 - V_loss: 20.3958 - annotations_xyz_error__metric_5: 0.8488\n",
      "Epoch 140/300\n",
      "1/1 [==============================] - 1s 555ms/step - loss: 20.0178 - V_loss: 20.0178 - annotations_xyz_error__metric_5: 0.8308\n",
      "Epoch 141/300\n",
      "1/1 [==============================] - 1s 550ms/step - loss: 19.8245 - V_loss: 19.8245 - annotations_xyz_error__metric_5: 0.8270\n",
      "Epoch 142/300\n",
      "1/1 [==============================] - 1s 530ms/step - loss: 20.1683 - V_loss: 20.1683 - annotations_xyz_error__metric_5: 0.8314\n",
      "Epoch 143/300\n",
      "1/1 [==============================] - 1s 545ms/step - loss: 19.8923 - V_loss: 19.8923 - annotations_xyz_error__metric_5: 0.8299\n",
      "Epoch 144/300\n",
      "1/1 [==============================] - 1s 558ms/step - loss: 20.5512 - V_loss: 20.5512 - annotations_xyz_error__metric_5: 0.8651\n",
      "Epoch 145/300\n",
      "1/1 [==============================] - 1s 543ms/step - loss: 23.5002 - V_loss: 23.5002 - annotations_xyz_error__metric_5: 1.0315\n",
      "Epoch 146/300\n",
      "1/1 [==============================] - 1s 531ms/step - loss: 28.2497 - V_loss: 28.2497 - annotations_xyz_error__metric_5: 1.2243\n",
      "Epoch 147/300\n",
      "1/1 [==============================] - 1s 565ms/step - loss: 24.7686 - V_loss: 24.7686 - annotations_xyz_error__metric_5: 1.0528\n",
      "Epoch 148/300\n",
      "1/1 [==============================] - 1s 632ms/step - loss: 21.1629 - V_loss: 21.1629 - annotations_xyz_error__metric_5: 0.8904\n",
      "Epoch 149/300\n",
      "1/1 [==============================] - 1s 612ms/step - loss: 20.9047 - V_loss: 20.9047 - annotations_xyz_error__metric_5: 0.8860\n",
      "Epoch 150/300\n",
      "1/1 [==============================] - 1s 558ms/step - loss: 27.5833 - V_loss: 27.5833 - annotations_xyz_error__metric_5: 1.2367\n",
      "Epoch 151/300\n",
      "1/1 [==============================] - 1s 539ms/step - loss: 27.8629 - V_loss: 27.8629 - annotations_xyz_error__metric_5: 1.1932\n",
      "Epoch 152/300\n",
      "1/1 [==============================] - 1s 625ms/step - loss: 23.8056 - V_loss: 23.8056 - annotations_xyz_error__metric_5: 0.9901\n",
      "Epoch 153/300\n",
      "1/1 [==============================] - 1s 565ms/step - loss: 26.3079 - V_loss: 26.3079 - annotations_xyz_error__metric_5: 1.1573\n",
      "Epoch 154/300\n",
      "1/1 [==============================] - 1s 539ms/step - loss: 26.5475 - V_loss: 26.5475 - annotations_xyz_error__metric_5: 1.1469\n",
      "Epoch 155/300\n",
      "1/1 [==============================] - 1s 590ms/step - loss: 24.3993 - V_loss: 24.3993 - annotations_xyz_error__metric_5: 1.0268\n",
      "Epoch 156/300\n",
      "1/1 [==============================] - 1s 614ms/step - loss: 21.7448 - V_loss: 21.7448 - annotations_xyz_error__metric_5: 0.8997\n",
      "Epoch 157/300\n",
      "1/1 [==============================] - 1s 632ms/step - loss: 20.4769 - V_loss: 20.4769 - annotations_xyz_error__metric_5: 0.8517\n",
      "Epoch 158/300\n",
      "1/1 [==============================] - 1s 633ms/step - loss: 23.5239 - V_loss: 23.5239 - annotations_xyz_error__metric_5: 1.0198\n",
      "Epoch 159/300\n",
      "1/1 [==============================] - 1s 597ms/step - loss: 31.1763 - V_loss: 31.1763 - annotations_xyz_error__metric_5: 1.3702\n",
      "Epoch 160/300\n",
      "1/1 [==============================] - 1s 578ms/step - loss: 24.4984 - V_loss: 24.4984 - annotations_xyz_error__metric_5: 1.0301\n",
      "Epoch 161/300\n",
      "1/1 [==============================] - 1s 636ms/step - loss: 25.3921 - V_loss: 25.3921 - annotations_xyz_error__metric_5: 1.1127\n",
      "Epoch 162/300\n",
      "1/1 [==============================] - 1s 661ms/step - loss: 32.9394 - V_loss: 32.9394 - annotations_xyz_error__metric_5: 1.4659\n",
      "Epoch 163/300\n",
      "1/1 [==============================] - 1s 601ms/step - loss: 22.8416 - V_loss: 22.8416 - annotations_xyz_error__metric_5: 0.9638\n",
      "Epoch 164/300\n",
      "1/1 [==============================] - 1s 526ms/step - loss: 22.5931 - V_loss: 22.5931 - annotations_xyz_error__metric_5: 0.9863\n",
      "Epoch 165/300\n",
      "1/1 [==============================] - 1s 558ms/step - loss: 35.2544 - V_loss: 35.2544 - annotations_xyz_error__metric_5: 1.5726\n",
      "Epoch 166/300\n",
      "1/1 [==============================] - 1s 571ms/step - loss: 23.8051 - V_loss: 23.8051 - annotations_xyz_error__metric_5: 1.0066\n",
      "Epoch 167/300\n",
      "1/1 [==============================] - 1s 532ms/step - loss: 25.0910 - V_loss: 25.0910 - annotations_xyz_error__metric_5: 1.1168\n",
      "Epoch 168/300\n",
      "1/1 [==============================] - 1s 577ms/step - loss: 33.9688 - V_loss: 33.9688 - annotations_xyz_error__metric_5: 1.5134\n",
      "Epoch 169/300\n",
      "1/1 [==============================] - 1s 643ms/step - loss: 23.1462 - V_loss: 23.1462 - annotations_xyz_error__metric_5: 0.9665\n",
      "Epoch 170/300\n",
      "1/1 [==============================] - 1s 569ms/step - loss: 27.1568 - V_loss: 27.1568 - annotations_xyz_error__metric_5: 1.2050\n",
      "Epoch 171/300\n",
      "1/1 [==============================] - 1s 574ms/step - loss: 33.1999 - V_loss: 33.1999 - annotations_xyz_error__metric_5: 1.4778\n",
      "Epoch 172/300\n",
      "1/1 [==============================] - 1s 559ms/step - loss: 23.6332 - V_loss: 23.6332 - annotations_xyz_error__metric_5: 0.9857\n",
      "Epoch 173/300\n",
      "1/1 [==============================] - 1s 581ms/step - loss: 26.4168 - V_loss: 26.4168 - annotations_xyz_error__metric_5: 1.1557\n",
      "Epoch 174/300\n",
      "1/1 [==============================] - 1s 609ms/step - loss: 30.5546 - V_loss: 30.5546 - annotations_xyz_error__metric_5: 1.3580\n",
      "Epoch 175/300\n",
      "1/1 [==============================] - 1s 624ms/step - loss: 23.4560 - V_loss: 23.4560 - annotations_xyz_error__metric_5: 0.9896\n",
      "Epoch 176/300\n",
      "1/1 [==============================] - 1s 628ms/step - loss: 23.3117 - V_loss: 23.3117 - annotations_xyz_error__metric_5: 1.0153\n",
      "Epoch 177/300\n",
      "1/1 [==============================] - 1s 538ms/step - loss: 30.9845 - V_loss: 30.9845 - annotations_xyz_error__metric_5: 1.3627\n",
      "Epoch 178/300\n",
      "1/1 [==============================] - 1s 584ms/step - loss: 24.3244 - V_loss: 24.3244 - annotations_xyz_error__metric_5: 1.0454\n",
      "Epoch 179/300\n",
      "1/1 [==============================] - 1s 620ms/step - loss: 22.2673 - V_loss: 22.2673 - annotations_xyz_error__metric_5: 0.9627\n",
      "Epoch 180/300\n",
      "1/1 [==============================] - 1s 638ms/step - loss: 28.2716 - V_loss: 28.2716 - annotations_xyz_error__metric_5: 1.2379\n",
      "Epoch 181/300\n",
      "1/1 [==============================] - 1s 570ms/step - loss: 25.4691 - V_loss: 25.4691 - annotations_xyz_error__metric_5: 1.1025\n",
      "Epoch 182/300\n",
      "1/1 [==============================] - 1s 536ms/step - loss: 21.8898 - V_loss: 21.8898 - annotations_xyz_error__metric_5: 0.9123\n",
      "Epoch 183/300\n",
      "1/1 [==============================] - 1s 537ms/step - loss: 21.9928 - V_loss: 21.9928 - annotations_xyz_error__metric_5: 0.9342\n",
      "Epoch 184/300\n",
      "1/1 [==============================] - 1s 562ms/step - loss: 27.1041 - V_loss: 27.1041 - annotations_xyz_error__metric_5: 1.2054\n",
      "Epoch 185/300\n",
      "1/1 [==============================] - 1s 548ms/step - loss: 26.0963 - V_loss: 26.0963 - annotations_xyz_error__metric_5: 1.1369\n",
      "Epoch 186/300\n",
      "1/1 [==============================] - 1s 665ms/step - loss: 21.9489 - V_loss: 21.9489 - annotations_xyz_error__metric_5: 0.9233\n",
      "Epoch 187/300\n",
      "1/1 [==============================] - 1s 644ms/step - loss: 21.5981 - V_loss: 21.5981 - annotations_xyz_error__metric_5: 0.9359\n",
      "Epoch 188/300\n",
      "1/1 [==============================] - 1s 634ms/step - loss: 26.0990 - V_loss: 26.0990 - annotations_xyz_error__metric_5: 1.1395\n",
      "Epoch 189/300\n",
      "1/1 [==============================] - 1s 562ms/step - loss: 27.0940 - V_loss: 27.0940 - annotations_xyz_error__metric_5: 1.2036\n",
      "Epoch 190/300\n",
      "1/1 [==============================] - 1s 578ms/step - loss: 22.1809 - V_loss: 22.1809 - annotations_xyz_error__metric_5: 0.9230\n",
      "Epoch 191/300\n",
      "1/1 [==============================] - 1s 530ms/step - loss: 22.9422 - V_loss: 22.9422 - annotations_xyz_error__metric_5: 0.9770\n",
      "Epoch 192/300\n",
      "1/1 [==============================] - 1s 554ms/step - loss: 27.2852 - V_loss: 27.2852 - annotations_xyz_error__metric_5: 1.2161\n",
      "Epoch 193/300\n",
      "1/1 [==============================] - 1s 542ms/step - loss: 25.6408 - V_loss: 25.6408 - annotations_xyz_error__metric_5: 1.0822\n",
      "Epoch 194/300\n",
      "1/1 [==============================] - 1s 550ms/step - loss: 21.2024 - V_loss: 21.2024 - annotations_xyz_error__metric_5: 0.8770\n",
      "Epoch 195/300\n",
      "1/1 [==============================] - 1s 555ms/step - loss: 21.9708 - V_loss: 21.9708 - annotations_xyz_error__metric_5: 0.9448\n",
      "Epoch 196/300\n",
      "1/1 [==============================] - 1s 549ms/step - loss: 27.1189 - V_loss: 27.1189 - annotations_xyz_error__metric_5: 1.1825\n",
      "Epoch 197/300\n",
      "1/1 [==============================] - 1s 554ms/step - loss: 25.1552 - V_loss: 25.1552 - annotations_xyz_error__metric_5: 1.0876\n",
      "Epoch 198/300\n",
      "1/1 [==============================] - 1s 560ms/step - loss: 21.4142 - V_loss: 21.4142 - annotations_xyz_error__metric_5: 0.8867\n",
      "Epoch 199/300\n",
      "1/1 [==============================] - 1s 572ms/step - loss: 20.9607 - V_loss: 20.9607 - annotations_xyz_error__metric_5: 0.8871\n",
      "Epoch 200/300\n",
      "1/1 [==============================] - 1s 658ms/step - loss: 26.4821 - V_loss: 26.4821 - annotations_xyz_error__metric_5: 1.1873\n",
      "Epoch 201/300\n",
      "1/1 [==============================] - 1s 704ms/step - loss: 26.6681 - V_loss: 26.6681 - annotations_xyz_error__metric_5: 1.1418\n",
      "Epoch 202/300\n",
      "1/1 [==============================] - 1s 661ms/step - loss: 22.0232 - V_loss: 22.0232 - annotations_xyz_error__metric_5: 0.9219\n",
      "Epoch 203/300\n",
      "1/1 [==============================] - 1s 611ms/step - loss: 21.6130 - V_loss: 21.6130 - annotations_xyz_error__metric_5: 0.9277\n",
      "Epoch 204/300\n",
      "1/1 [==============================] - 1s 871ms/step - loss: 28.2671 - V_loss: 28.2671 - annotations_xyz_error__metric_5: 1.2447\n",
      "Epoch 205/300\n",
      "1/1 [==============================] - 1s 607ms/step - loss: 25.9396 - V_loss: 25.9396 - annotations_xyz_error__metric_5: 1.1326\n",
      "Epoch 206/300\n",
      "1/1 [==============================] - 1s 540ms/step - loss: 21.1675 - V_loss: 21.1675 - annotations_xyz_error__metric_5: 0.8828\n",
      "Epoch 207/300\n",
      "1/1 [==============================] - 1s 551ms/step - loss: 24.2555 - V_loss: 24.2555 - annotations_xyz_error__metric_5: 1.0370\n",
      "Epoch 208/300\n",
      "1/1 [==============================] - 1s 546ms/step - loss: 28.6843 - V_loss: 28.6843 - annotations_xyz_error__metric_5: 1.2806\n",
      "Epoch 209/300\n",
      "1/1 [==============================] - 1s 549ms/step - loss: 22.9087 - V_loss: 22.9087 - annotations_xyz_error__metric_5: 0.9591\n",
      "Epoch 210/300\n",
      "1/1 [==============================] - 1s 542ms/step - loss: 21.0260 - V_loss: 21.0260 - annotations_xyz_error__metric_5: 0.8882\n",
      "Epoch 211/300\n",
      "1/1 [==============================] - 1s 570ms/step - loss: 23.8596 - V_loss: 23.8596 - annotations_xyz_error__metric_5: 1.0392\n",
      "Epoch 212/300\n",
      "1/1 [==============================] - 1s 615ms/step - loss: 25.2997 - V_loss: 25.2997 - annotations_xyz_error__metric_5: 1.0934\n",
      "Epoch 213/300\n",
      "1/1 [==============================] - 1s 682ms/step - loss: 23.2176 - V_loss: 23.2176 - annotations_xyz_error__metric_5: 0.9780\n",
      "Epoch 214/300\n",
      "1/1 [==============================] - 1s 664ms/step - loss: 20.9255 - V_loss: 20.9255 - annotations_xyz_error__metric_5: 0.8636\n",
      "Epoch 215/300\n",
      "1/1 [==============================] - 1s 563ms/step - loss: 19.2863 - V_loss: 19.2863 - annotations_xyz_error__metric_5: 0.8076\n",
      "Epoch 216/300\n",
      "1/1 [==============================] - 1s 546ms/step - loss: 23.6399 - V_loss: 23.6399 - annotations_xyz_error__metric_5: 1.0390\n",
      "Epoch 217/300\n",
      "1/1 [==============================] - 1s 560ms/step - loss: 28.9941 - V_loss: 28.9941 - annotations_xyz_error__metric_5: 1.2750\n",
      "Epoch 218/300\n",
      "1/1 [==============================] - 1s 535ms/step - loss: 23.3928 - V_loss: 23.3928 - annotations_xyz_error__metric_5: 0.9728\n",
      "Epoch 219/300\n",
      "1/1 [==============================] - 1s 556ms/step - loss: 24.9347 - V_loss: 24.9347 - annotations_xyz_error__metric_5: 1.1021\n",
      "Epoch 220/300\n",
      "1/1 [==============================] - 1s 534ms/step - loss: 29.1101 - V_loss: 29.1101 - annotations_xyz_error__metric_5: 1.2984\n",
      "Epoch 221/300\n",
      "1/1 [==============================] - 1s 543ms/step - loss: 20.9512 - V_loss: 20.9512 - annotations_xyz_error__metric_5: 0.8761\n",
      "Epoch 222/300\n",
      "1/1 [==============================] - 1s 584ms/step - loss: 20.1003 - V_loss: 20.1003 - annotations_xyz_error__metric_5: 0.8602\n",
      "Epoch 223/300\n",
      "1/1 [==============================] - 1s 541ms/step - loss: 27.1626 - V_loss: 27.1626 - annotations_xyz_error__metric_5: 1.2051\n",
      "Epoch 224/300\n",
      "1/1 [==============================] - 1s 701ms/step - loss: 26.6714 - V_loss: 26.6714 - annotations_xyz_error__metric_5: 1.1742\n",
      "Epoch 225/300\n",
      "1/1 [==============================] - 1s 676ms/step - loss: 22.5280 - V_loss: 22.5280 - annotations_xyz_error__metric_5: 0.9513\n",
      "Epoch 226/300\n",
      "1/1 [==============================] - 1s 640ms/step - loss: 24.3309 - V_loss: 24.3309 - annotations_xyz_error__metric_5: 1.0490\n",
      "Epoch 227/300\n",
      "1/1 [==============================] - 1s 554ms/step - loss: 25.5283 - V_loss: 25.5283 - annotations_xyz_error__metric_5: 1.1358\n",
      "Epoch 228/300\n",
      "1/1 [==============================] - 1s 539ms/step - loss: 22.4511 - V_loss: 22.4511 - annotations_xyz_error__metric_5: 0.9392\n",
      "Epoch 229/300\n"
     ]
    },
    {
     "name": "stdout",
     "output_type": "stream",
     "text": [
      "1/1 [==============================] - 1s 608ms/step - loss: 19.7785 - V_loss: 19.7785 - annotations_xyz_error__metric_5: 0.8273\n",
      "Epoch 230/300\n",
      "1/1 [==============================] - 1s 711ms/step - loss: 18.8183 - V_loss: 18.8183 - annotations_xyz_error__metric_5: 0.7881\n",
      "Epoch 231/300\n",
      "1/1 [==============================] - 1s 710ms/step - loss: 20.8342 - V_loss: 20.8342 - annotations_xyz_error__metric_5: 0.8856\n",
      "Epoch 232/300\n",
      "1/1 [==============================] - 1s 709ms/step - loss: 26.9906 - V_loss: 26.9906 - annotations_xyz_error__metric_5: 1.2130\n",
      "Epoch 233/300\n",
      "1/1 [==============================] - 1s 552ms/step - loss: 23.6390 - V_loss: 23.6390 - annotations_xyz_error__metric_5: 0.9947\n",
      "Epoch 234/300\n",
      "1/1 [==============================] - 1s 542ms/step - loss: 21.2737 - V_loss: 21.2737 - annotations_xyz_error__metric_5: 0.8982\n",
      "Epoch 235/300\n",
      "1/1 [==============================] - 1s 537ms/step - loss: 23.7898 - V_loss: 23.7898 - annotations_xyz_error__metric_5: 1.0502\n",
      "Epoch 236/300\n",
      "1/1 [==============================] - 1s 547ms/step - loss: 25.4599 - V_loss: 25.4599 - annotations_xyz_error__metric_5: 1.1124\n",
      "Epoch 237/300\n",
      "1/1 [==============================] - 1s 552ms/step - loss: 22.9100 - V_loss: 22.9100 - annotations_xyz_error__metric_5: 0.9629\n",
      "Epoch 238/300\n",
      "1/1 [==============================] - 1s 538ms/step - loss: 20.6270 - V_loss: 20.6270 - annotations_xyz_error__metric_5: 0.8611\n",
      "Epoch 239/300\n",
      "1/1 [==============================] - 1s 616ms/step - loss: 20.4385 - V_loss: 20.4385 - annotations_xyz_error__metric_5: 0.8525\n",
      "Epoch 240/300\n",
      "1/1 [==============================] - 1s 577ms/step - loss: 24.7579 - V_loss: 24.7579 - annotations_xyz_error__metric_5: 1.0839\n",
      "Epoch 241/300\n",
      "1/1 [==============================] - 1s 550ms/step - loss: 26.8072 - V_loss: 26.8072 - annotations_xyz_error__metric_5: 1.1525\n",
      "Epoch 242/300\n",
      "1/1 [==============================] - 1s 550ms/step - loss: 22.3619 - V_loss: 22.3619 - annotations_xyz_error__metric_5: 0.9254\n",
      "Epoch 243/300\n",
      "1/1 [==============================] - 1s 576ms/step - loss: 22.3908 - V_loss: 22.3908 - annotations_xyz_error__metric_5: 0.9664\n",
      "Epoch 244/300\n",
      "1/1 [==============================] - 1s 655ms/step - loss: 26.9030 - V_loss: 26.9030 - annotations_xyz_error__metric_5: 1.1899\n",
      "Epoch 245/300\n",
      "1/1 [==============================] - 1s 759ms/step - loss: 23.1099 - V_loss: 23.1099 - annotations_xyz_error__metric_5: 0.9771\n",
      "Epoch 246/300\n",
      "1/1 [==============================] - 1s 635ms/step - loss: 20.3189 - V_loss: 20.3189 - annotations_xyz_error__metric_5: 0.8364\n",
      "Epoch 247/300\n",
      "1/1 [==============================] - 1s 541ms/step - loss: 19.8654 - V_loss: 19.8654 - annotations_xyz_error__metric_5: 0.8216\n",
      "Epoch 248/300\n",
      "1/1 [==============================] - 1s 532ms/step - loss: 23.9896 - V_loss: 23.9896 - annotations_xyz_error__metric_5: 1.0639\n",
      "Epoch 249/300\n",
      "1/1 [==============================] - 1s 558ms/step - loss: 26.8411 - V_loss: 26.8411 - annotations_xyz_error__metric_5: 1.1614\n",
      "Epoch 250/300\n",
      "1/1 [==============================] - 1s 566ms/step - loss: 21.9763 - V_loss: 21.9763 - annotations_xyz_error__metric_5: 0.9107\n",
      "Epoch 251/300\n",
      "1/1 [==============================] - 1s 583ms/step - loss: 21.9033 - V_loss: 21.9033 - annotations_xyz_error__metric_5: 0.9425\n",
      "Epoch 252/300\n",
      "1/1 [==============================] - 1s 620ms/step - loss: 27.1029 - V_loss: 27.1029 - annotations_xyz_error__metric_5: 1.1981\n",
      "Epoch 253/300\n",
      "1/1 [==============================] - 1s 623ms/step - loss: 23.6861 - V_loss: 23.6861 - annotations_xyz_error__metric_5: 1.0191\n",
      "Epoch 254/300\n",
      "1/1 [==============================] - 1s 593ms/step - loss: 19.9511 - V_loss: 19.9511 - annotations_xyz_error__metric_5: 0.8164\n",
      "Epoch 255/300\n",
      "1/1 [==============================] - 1s 535ms/step - loss: 19.7918 - V_loss: 19.7918 - annotations_xyz_error__metric_5: 0.8324\n",
      "Epoch 256/300\n",
      "1/1 [==============================] - 1s 598ms/step - loss: 25.7155 - V_loss: 25.7155 - annotations_xyz_error__metric_5: 1.1382\n",
      "Epoch 257/300\n",
      "1/1 [==============================] - 1s 641ms/step - loss: 25.2567 - V_loss: 25.2567 - annotations_xyz_error__metric_5: 1.0787\n",
      "Epoch 258/300\n",
      "1/1 [==============================] - 1s 677ms/step - loss: 21.1995 - V_loss: 21.1995 - annotations_xyz_error__metric_5: 0.8850\n",
      "Epoch 259/300\n",
      "1/1 [==============================] - 1s 612ms/step - loss: 21.3822 - V_loss: 21.3822 - annotations_xyz_error__metric_5: 0.9200\n",
      "Epoch 260/300\n",
      "1/1 [==============================] - 1s 540ms/step - loss: 24.6825 - V_loss: 24.6825 - annotations_xyz_error__metric_5: 1.0734\n",
      "Epoch 261/300\n",
      "1/1 [==============================] - 1s 554ms/step - loss: 25.3003 - V_loss: 25.3003 - annotations_xyz_error__metric_5: 1.1123\n",
      "Epoch 262/300\n",
      "1/1 [==============================] - 1s 560ms/step - loss: 20.8300 - V_loss: 20.8300 - annotations_xyz_error__metric_5: 0.8526\n",
      "Epoch 263/300\n",
      "1/1 [==============================] - 1s 541ms/step - loss: 20.7244 - V_loss: 20.7244 - annotations_xyz_error__metric_5: 0.8663\n",
      "Epoch 264/300\n",
      "1/1 [==============================] - 1s 556ms/step - loss: 25.6615 - V_loss: 25.6615 - annotations_xyz_error__metric_5: 1.1472\n",
      "Epoch 265/300\n",
      "1/1 [==============================] - 1s 554ms/step - loss: 24.9721 - V_loss: 24.9721 - annotations_xyz_error__metric_5: 1.0822\n",
      "Epoch 266/300\n",
      "1/1 [==============================] - 1s 567ms/step - loss: 21.0205 - V_loss: 21.0205 - annotations_xyz_error__metric_5: 0.8650\n",
      "Epoch 267/300\n",
      "1/1 [==============================] - 1s 555ms/step - loss: 20.2737 - V_loss: 20.2737 - annotations_xyz_error__metric_5: 0.8646\n",
      "Epoch 268/300\n",
      "1/1 [==============================] - 1s 598ms/step - loss: 24.8817 - V_loss: 24.8817 - annotations_xyz_error__metric_5: 1.1028\n",
      "Epoch 269/300\n",
      "1/1 [==============================] - 1s 581ms/step - loss: 24.9757 - V_loss: 24.9757 - annotations_xyz_error__metric_5: 1.1053\n",
      "Epoch 270/300\n",
      "1/1 [==============================] - 1s 613ms/step - loss: 21.3263 - V_loss: 21.3263 - annotations_xyz_error__metric_5: 0.8778\n",
      "Epoch 271/300\n",
      "1/1 [==============================] - 1s 637ms/step - loss: 19.6524 - V_loss: 19.6524 - annotations_xyz_error__metric_5: 0.8215\n",
      "Epoch 272/300\n",
      "1/1 [==============================] - 1s 860ms/step - loss: 24.0083 - V_loss: 24.0083 - annotations_xyz_error__metric_5: 1.0734\n",
      "Epoch 273/300\n",
      "1/1 [==============================] - 1s 550ms/step - loss: 27.0695 - V_loss: 27.0695 - annotations_xyz_error__metric_5: 1.1820\n",
      "Epoch 274/300\n",
      "1/1 [==============================] - 1s 534ms/step - loss: 21.9205 - V_loss: 21.9205 - annotations_xyz_error__metric_5: 0.9247\n",
      "Epoch 275/300\n",
      "1/1 [==============================] - 1s 544ms/step - loss: 21.0107 - V_loss: 21.0107 - annotations_xyz_error__metric_5: 0.9057\n",
      "Epoch 276/300\n",
      "1/1 [==============================] - 1s 550ms/step - loss: 24.4424 - V_loss: 24.4424 - annotations_xyz_error__metric_5: 1.0857\n",
      "Epoch 277/300\n",
      "1/1 [==============================] - 1s 559ms/step - loss: 24.1421 - V_loss: 24.1421 - annotations_xyz_error__metric_5: 1.0587\n",
      "Epoch 278/300\n",
      "1/1 [==============================] - 1s 610ms/step - loss: 20.6758 - V_loss: 20.6758 - annotations_xyz_error__metric_5: 0.8628\n",
      "Epoch 279/300\n",
      "1/1 [==============================] - 1s 574ms/step - loss: 18.1476 - V_loss: 18.1476 - annotations_xyz_error__metric_5: 0.7638\n",
      "Epoch 280/300\n",
      "1/1 [==============================] - 1s 550ms/step - loss: 17.2650 - V_loss: 17.2650 - annotations_xyz_error__metric_5: 0.7339\n",
      "Epoch 281/300\n",
      "1/1 [==============================] - 1s 550ms/step - loss: 24.6514 - V_loss: 24.6514 - annotations_xyz_error__metric_5: 1.0858\n",
      "Epoch 282/300\n",
      "1/1 [==============================] - 1s 603ms/step - loss: 27.3509 - V_loss: 27.3509 - annotations_xyz_error__metric_5: 1.2338\n",
      "Epoch 283/300\n",
      "1/1 [==============================] - 1s 701ms/step - loss: 22.1184 - V_loss: 22.1184 - annotations_xyz_error__metric_5: 0.9140\n",
      "Epoch 284/300\n",
      "1/1 [==============================] - 1s 1s/step - loss: 24.2702 - V_loss: 24.2702 - annotations_xyz_error__metric_5: 1.0584\n",
      "Epoch 285/300\n",
      "1/1 [==============================] - 1s 726ms/step - loss: 27.5205 - V_loss: 27.5205 - annotations_xyz_error__metric_5: 1.2480\n",
      "Epoch 286/300\n",
      "1/1 [==============================] - 1s 585ms/step - loss: 20.0455 - V_loss: 20.0455 - annotations_xyz_error__metric_5: 0.8306\n",
      "Epoch 287/300\n",
      "1/1 [==============================] - 1s 628ms/step - loss: 19.0021 - V_loss: 19.0021 - annotations_xyz_error__metric_5: 0.8001\n",
      "Epoch 288/300\n",
      "1/1 [==============================] - 1s 645ms/step - loss: 26.5019 - V_loss: 26.5019 - annotations_xyz_error__metric_5: 1.1948\n",
      "Epoch 289/300\n",
      "1/1 [==============================] - 1s 659ms/step - loss: 22.7127 - V_loss: 22.7127 - annotations_xyz_error__metric_5: 0.9730\n",
      "Epoch 290/300\n",
      "1/1 [==============================] - 1s 623ms/step - loss: 20.1760 - V_loss: 20.1760 - annotations_xyz_error__metric_5: 0.8537\n",
      "Epoch 291/300\n",
      "1/1 [==============================] - 1s 585ms/step - loss: 19.9797 - V_loss: 19.9797 - annotations_xyz_error__metric_5: 0.8471\n",
      "Epoch 292/300\n",
      "1/1 [==============================] - 1s 630ms/step - loss: 22.2744 - V_loss: 22.2744 - annotations_xyz_error__metric_5: 0.9590\n",
      "Epoch 293/300\n",
      "1/1 [==============================] - 1s 642ms/step - loss: 25.2966 - V_loss: 25.2966 - annotations_xyz_error__metric_5: 1.1116\n",
      "Epoch 294/300\n",
      "1/1 [==============================] - 1s 773ms/step - loss: 21.6243 - V_loss: 21.6243 - annotations_xyz_error__metric_5: 0.8994\n",
      "Epoch 295/300\n",
      "1/1 [==============================] - 1s 661ms/step - loss: 20.2072 - V_loss: 20.2072 - annotations_xyz_error__metric_5: 0.8628\n",
      "Epoch 296/300\n",
      "1/1 [==============================] - 1s 712ms/step - loss: 23.1654 - V_loss: 23.1654 - annotations_xyz_error__metric_5: 1.0240\n",
      "Epoch 297/300\n",
      "1/1 [==============================] - 1s 564ms/step - loss: 25.2086 - V_loss: 25.2086 - annotations_xyz_error__metric_5: 1.1085\n",
      "Epoch 298/300\n",
      "1/1 [==============================] - 1s 529ms/step - loss: 20.7019 - V_loss: 20.7019 - annotations_xyz_error__metric_5: 0.8643\n",
      "Epoch 299/300\n",
      "1/1 [==============================] - 1s 558ms/step - loss: 18.9778 - V_loss: 18.9778 - annotations_xyz_error__metric_5: 0.7947\n",
      "Epoch 300/300\n",
      "1/1 [==============================] - 1s 578ms/step - loss: 20.6662 - V_loss: 20.6662 - annotations_xyz_error__metric_5: 0.8874\n"
     ]
    },
    {
     "data": {
      "text/plain": [
       "<tensorflow.python.keras.callbacks.History at 0x16e27fbe0>"
      ]
     },
     "execution_count": 77,
     "metadata": {},
     "output_type": "execute_result"
    }
   ],
   "source": [
    "# model.fit(\n",
    "#     ds_train1, \n",
    "#     batch_size=1,\n",
    "#     validation_data=ds_val1,\n",
    "#     epochs=200\n",
    "# )\n",
    "model.fit(\n",
    "    ds_train, \n",
    "    validation_data=ds_val,\n",
    "    epochs=300\n",
    ")\n",
    "#     callbacks=[\n",
    "#         tf.keras.callbacks.ReduceLROnPlateau(),\n",
    "#     ]"
   ]
  },
  {
   "cell_type": "markdown",
   "metadata": {},
   "source": [
    "## Predict"
   ]
  },
  {
   "cell_type": "code",
   "execution_count": 37,
   "metadata": {},
   "outputs": [
    {
     "name": "stderr",
     "output_type": "stream",
     "text": [
      "/Users/debabratamandal/sem8/RnD/code/RnD/virtual_env/lib/python3.7/site-packages/ipykernel_launcher.py:92: DeprecationWarning: `np.int` is a deprecated alias for the builtin `int`. To silence this warning, use `int` by itself. Doing this will not modify any behavior and is safe. When replacing `np.int`, you may wish to use e.g. `np.int64` or `np.int32` to specify the precision. If you wish to review your current use, check the release note link for additional information.\n",
      "Deprecated in NumPy 1.20; for more details and guidance: https://numpy.org/devdocs/release/1.20.0-notes.html#deprecations\n"
     ]
    }
   ],
   "source": [
    "example = next(iter(ds_train))\n",
    "V_pred_778x2 = model(example[0])[0]"
   ]
  },
  {
   "cell_type": "code",
   "execution_count": 38,
   "metadata": {},
   "outputs": [
    {
     "data": {
      "application/vnd.jupyter.widget-view+json": {
       "model_id": "0ab32dd88c2a46a791a98c1024ac7721",
       "version_major": 2,
       "version_minor": 0
      },
      "text/plain": [
       "Canvas(toolbar=Toolbar(toolitems=[('Home', 'Reset original view', 'home', 'home'), ('Back', 'Back to previous …"
      ]
     },
     "metadata": {},
     "output_type": "display_data"
    }
   ],
   "source": [
    "fig = plt.figure()\n",
    "ax1 = fig.add_subplot(121)\n",
    "ax1.imshow(example[0]['I'][0].numpy())\n",
    "\n",
    "ax2 = fig.add_subplot(122)\n",
    "ax2.scatter(V_pred_778x2[0][:, 0], V_pred_778x2[0][:, 1])\n",
    "# ax2.set_xlim(-1, 1)\n",
    "# ax2.set_ylim(1, -1)\n",
    "ax2.set_aspect(\"equal\")"
   ]
  },
  {
   "cell_type": "code",
   "execution_count": 31,
   "metadata": {},
   "outputs": [],
   "source": [
    "vv = V_pred_778x2[0].numpy()\n",
    "with open('3d', 'wb') as f:\n",
    "    np.save(f, V_pred_778x2[0].numpy())"
   ]
  },
  {
   "cell_type": "code",
   "execution_count": 197,
   "metadata": {},
   "outputs": [],
   "source": [
    "# V_unprocess = vv @ mat_unprocess_3x3.T + mat_unprocess_t\n",
    "VV1 = V_pred_778x2[0].numpy()\n",
    "proj1 = projectPoints(VV1, K)\n",
    "s_x1 = np.std(proj1[:, 0]) / np.std(VV1[:, 0])\n",
    "z_cam1 = s_x1 *(VV1[:, 2]).reshape(-1, 1)\n",
    "V_gt1 = np.concatenate((proj1[:, :2], z_cam1), axis=1)"
   ]
  },
  {
   "cell_type": "code",
   "execution_count": 182,
   "metadata": {},
   "outputs": [
    {
     "data": {
      "text/plain": [
       "array([[107.81696 , 101.289604, 379.88934 ],\n",
       "       [109.17463 , 100.355644, 376.60913 ],\n",
       "       [107.305565,  99.65588 , 378.53256 ],\n",
       "       ...,\n",
       "       [102.67041 , 112.108055, 375.4665  ],\n",
       "       [101.79596 , 114.41882 , 377.6961  ],\n",
       "       [107.1078  , 108.25154 , 373.15494 ]], dtype=float32)"
      ]
     },
     "execution_count": 182,
     "metadata": {},
     "output_type": "execute_result"
    }
   ],
   "source": [
    "V_unprocess"
   ]
  },
  {
   "cell_type": "code",
   "execution_count": 198,
   "metadata": {},
   "outputs": [
    {
     "data": {
      "application/vnd.jupyter.widget-view+json": {
       "model_id": "5d68481ffbbf4667a4d5c52091f28917",
       "version_major": 2,
       "version_minor": 0
      },
      "text/plain": [
       "Canvas(toolbar=Toolbar(toolitems=[('Home', 'Reset original view', 'home', 'home'), ('Back', 'Back to previous …"
      ]
     },
     "metadata": {},
     "output_type": "display_data"
    }
   ],
   "source": [
    "visualize_in_orig_image(I, V_gt1)"
   ]
  },
  {
   "cell_type": "code",
   "execution_count": 112,
   "metadata": {},
   "outputs": [
    {
     "data": {
      "application/vnd.plotly.v1+json": {
       "config": {
        "plotlyServerURL": "https://plot.ly"
       },
       "data": [
        {
         "hovertemplate": "x: %{x}<br>y: %{y}<extra></extra>",
         "name": "0",
         "source": "data:image/png;base64,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",
         "type": "image",
         "xaxis": "x",
         "yaxis": "y"
        },
        {
         "marker": {
          "color": "red",
          "opacity": 0.7,
          "size": 2
         },
         "mode": "markers",
         "type": "scatter",
         "x": [
          116.17875671386719,
          116.38777923583984,
          116.3110580444336,
          113.7754898071289,
          117.73757934570312,
          119.80585479736328,
          123.14610290527344,
          121.17076873779297,
          114.7538833618164,
          117.49260711669922,
          114.69728088378906,
          112.98217010498047,
          113.58039855957031,
          114.67298889160156,
          117.13140869140625,
          112.08531188964844,
          112.28437042236328,
          109.38255310058594,
          111.25715637207031,
          110.3068618774414,
          111.26300811767578,
          110.0731430053711,
          111.57516479492188,
          109.22085571289062,
          108.68624114990234,
          106.67074584960938,
          111.64350128173828,
          113.58748626708984,
          115.14041900634766,
          114.70213317871094,
          115.63885498046875,
          116.68226623535156,
          108.59375,
          114.76713562011719,
          113.90296936035156,
          107.48009490966797,
          113.60540771484375,
          116.11783599853516,
          118.7416763305664,
          111.98380279541016,
          115.4800796508789,
          117.55889892578125,
          122.93315124511719,
          120.99900817871094,
          110.79613494873047,
          112.97557830810547,
          119.4199447631836,
          116.1008529663086,
          116.41920471191406,
          120.97766876220703,
          104.48700714111328,
          100.27274322509766,
          100.87902069091797,
          101.87480163574219,
          105.69317626953125,
          102.75726318359375,
          123.26046752929688,
          123.64137268066406,
          121.53951263427734,
          117.58577728271484,
          114.74696350097656,
          112.78506469726562,
          114.50116729736328,
          112.41190338134766,
          114.98097229003906,
          113.1532974243164,
          111.81546020507812,
          110.93213653564453,
          114.06666564941406,
          110.7335433959961,
          110.2984619140625,
          112.88662719726562,
          113.16156005859375,
          112.00690460205078,
          107.74880981445312,
          103.55075073242188,
          104.42051696777344,
          110.98857879638672,
          99.21630096435547,
          101.54580688476562,
          108.24998474121094,
          107.41759490966797,
          107.64806365966797,
          110.30197143554688,
          108.46788024902344,
          105.90846252441406,
          114.87928009033203,
          111.90327453613281,
          114.698486328125,
          116.75033569335938,
          114.59934997558594,
          111.40715789794922,
          110.5101318359375,
          112.12760162353516,
          115.35746002197266,
          108.10700988769531,
          109.4874038696289,
          110.63658905029297,
          111.67726135253906,
          112.9361343383789,
          108.15059661865234,
          113.45851135253906,
          116.85198974609375,
          112.929443359375,
          115.32037353515625,
          115.31193542480469,
          112.20616149902344,
          112.54631042480469,
          107.28190612792969,
          111.46317291259766,
          107.91142272949219,
          108.94466400146484,
          109.86758422851562,
          116.6654052734375,
          116.50032043457031,
          117.4703369140625,
          112.83784484863281,
          111.3579330444336,
          115.85003662109375,
          114.17573547363281,
          111.36143493652344,
          105.04801177978516,
          113.30865478515625,
          122.326416015625,
          119.33524322509766,
          116.19972229003906,
          117.77843475341797,
          115.4088363647461,
          112.9298095703125,
          113.75981140136719,
          115.0897216796875,
          113.82164001464844,
          116.97080993652344,
          120.6846694946289,
          121.04756164550781,
          117.1994400024414,
          119.205322265625,
          115.97689819335938,
          115.99852752685547,
          117.24186706542969,
          116.52825927734375,
          108.93634796142578,
          113.06604766845703,
          109.09569549560547,
          110.3255844116211,
          110.56245422363281,
          111.89508056640625,
          113.398681640625,
          112.35956573486328,
          115.2793960571289,
          115.40121459960938,
          118.59957885742188,
          116.15568542480469,
          105.93040466308594,
          106.66035461425781,
          121.67872619628906,
          123.60037231445312,
          109.40601348876953,
          112.84837341308594,
          110.5044937133789,
          108.10984802246094,
          110.03164672851562,
          107.04786682128906,
          106.51499938964844,
          111.86328887939453,
          115.29029083251953,
          114.38883972167969,
          110.47782897949219,
          115.11319732666016,
          115.82422637939453,
          111.53968811035156,
          116.93741607666016,
          112.50366973876953,
          113.95940399169922,
          114.34561920166016,
          111.74092102050781,
          116.74590301513672,
          113.9727783203125,
          109.88590240478516,
          108.21615600585938,
          108.7196044921875,
          108.22684478759766,
          110.4309310913086,
          108.85685729980469,
          104.36675262451172,
          114.1128921508789,
          110.201904296875,
          109.38898468017578,
          108.94861602783203,
          122.53787994384766,
          105.1638412475586,
          101.5394287109375,
          105.826171875,
          112.5136947631836,
          118.91896057128906,
          120.85269927978516,
          111.97380065917969,
          107.67530822753906,
          108.05043029785156,
          110.79100799560547,
          105.73489379882812,
          108.79348754882812,
          111.02268981933594,
          110.07806396484375,
          113.08438110351562,
          107.34090423583984,
          106.56620788574219,
          111.70194244384766,
          115.69140625,
          105.10538482666016,
          98.22412109375,
          103.20402526855469,
          113.61346435546875,
          111.10358428955078,
          100.48430633544922,
          96.24691009521484,
          112.46226501464844,
          114.65193176269531,
          111.5587387084961,
          112.7483901977539,
          108.62788391113281,
          116.71955871582031,
          108.70404815673828,
          109.4593505859375,
          118.27852630615234,
          112.10481262207031,
          114.22442626953125,
          117.15121459960938,
          115.58392333984375,
          113.5130615234375,
          113.79985046386719,
          113.5815200805664,
          111.17813110351562,
          114.60505676269531,
          109.88159942626953,
          112.36212158203125,
          112.70816040039062,
          117.69768524169922,
          120.83619689941406,
          101.56834411621094,
          118.80265045166016,
          113.69922637939453,
          110.15019226074219,
          111.79004669189453,
          115.431640625,
          119.111328125,
          103.60078430175781,
          103.52384948730469,
          124.59825897216797,
          124.72978210449219,
          119.04104614257812,
          121.64517211914062,
          124.59898376464844,
          123.40198516845703,
          112.29387664794922,
          111.47357940673828,
          104.81169128417969,
          105.92718505859375,
          113.14161682128906,
          111.50147247314453,
          115.27811431884766,
          118.90210723876953,
          114.53714752197266,
          115.98513793945312,
          116.72911071777344,
          114.9005355834961,
          117.31993103027344,
          115.32550811767578,
          113.04460144042969,
          101.23129272460938,
          105.17353820800781,
          110.2642822265625,
          119.87303924560547,
          118.88941955566406,
          110.15494537353516,
          113.1454849243164,
          106.10591888427734,
          99.42426300048828,
          113.29411315917969,
          96.14627075195312,
          113.0914535522461,
          119.45423889160156,
          115.77857971191406,
          118.5941162109375,
          107.11400604248047,
          108.91923522949219,
          114.57734680175781,
          116.88465118408203,
          107.63420867919922,
          110.52240753173828,
          107.26806640625,
          104.7361068725586,
          101.60491943359375,
          101.08092498779297,
          119.9227294921875,
          119.86597442626953,
          121.78497314453125,
          119.93102264404297,
          118.32034301757812,
          117.48960876464844,
          120.00019836425781,
          123.24691772460938,
          122.15927124023438,
          126.66645050048828,
          118.0657730102539,
          115.01374053955078,
          116.93305206298828,
          117.53489685058594,
          122.19369506835938,
          119.91325378417969,
          120.92096710205078,
          117.02587127685547,
          119.29801940917969,
          120.20773315429688,
          120.90489196777344,
          121.91173553466797,
          122.19966125488281,
          116.94557189941406,
          120.25697326660156,
          121.99478149414062,
          118.64513397216797,
          118.32577514648438,
          115.60807800292969,
          117.29813385009766,
          115.08303833007812,
          113.53181457519531,
          116.16303253173828,
          115.51396179199219,
          115.15562438964844,
          116.94850158691406,
          115.90637969970703,
          116.85645294189453,
          118.49229431152344,
          117.12117004394531,
          120.83356475830078,
          120.83322143554688,
          121.02719116210938,
          121.49502563476562,
          120.7677993774414,
          121.24308013916016,
          117.04560089111328,
          121.40339660644531,
          118.62394714355469,
          119.35005950927734,
          121.91084289550781,
          123.02428436279297,
          122.99779510498047,
          119.73123168945312,
          122.31454467773438,
          121.27468872070312,
          121.57450866699219,
          121.16050720214844,
          119.99208068847656,
          119.68313598632812,
          121.49120330810547,
          120.8877182006836,
          108.75962829589844,
          111.4269027709961,
          113.14897155761719,
          112.51492309570312,
          112.06675720214844,
          111.1058349609375,
          114.06526947021484,
          114.93862915039062,
          113.59101104736328,
          110.62786865234375,
          114.98153686523438,
          116.93402099609375,
          110.6801528930664,
          108.40666961669922,
          104.31340026855469,
          103.9710693359375,
          111.88416290283203,
          110.04409790039062,
          105.98651885986328,
          109.67249298095703,
          108.2387466430664,
          107.07543182373047,
          110.25850677490234,
          105.20793151855469,
          110.86911010742188,
          102.929931640625,
          101.32710266113281,
          100.36780548095703,
          99.69346618652344,
          113.57689666748047,
          114.32788848876953,
          112.4676513671875,
          108.38333129882812,
          105.42387390136719,
          106.87898254394531,
          106.96875,
          107.21049499511719,
          105.76384735107422,
          104.11432647705078,
          104.96729278564453,
          115.81721496582031,
          114.95360565185547,
          114.96428680419922,
          102.74140167236328,
          120.98875427246094,
          116.48273468017578,
          107.2255859375,
          109.25516510009766,
          109.86356353759766,
          115.74458312988281,
          111.38003540039062,
          117.8824462890625,
          118.93445587158203,
          120.1223373413086,
          118.05400848388672,
          108.80660247802734,
          107.29266357421875,
          110.3563003540039,
          110.5855484008789,
          114.22038269042969,
          113.49222564697266,
          119.88724517822266,
          121.20366668701172,
          114.27937316894531,
          125.08786010742188,
          125.27967834472656,
          120.91687774658203,
          120.26219177246094,
          115.42216491699219,
          115.18561553955078,
          113.97586822509766,
          116.73442077636719,
          111.09322357177734,
          113.29273986816406,
          121.0366439819336,
          123.10005187988281,
          117.30216217041016,
          111.05609893798828,
          115.99827575683594,
          115.59832000732422,
          111.38121032714844,
          114.71833801269531,
          113.42436981201172,
          112.67942810058594,
          121.39141845703125,
          121.29652404785156,
          114.1844711303711,
          113.91358184814453,
          115.7027587890625,
          110.42908477783203,
          114.1617202758789,
          113.8083724975586,
          111.16780090332031,
          111.06094360351562,
          109.23719024658203,
          109.53939819335938,
          119.4146728515625,
          115.27609252929688,
          115.38037109375,
          113.61356353759766,
          109.88160705566406,
          109.62732696533203,
          110.08048248291016,
          110.37510681152344,
          110.60501098632812,
          111.16188049316406,
          108.32421112060547,
          111.02300262451172,
          110.7502212524414,
          115.90234375,
          110.00919342041016,
          113.48079681396484,
          107.83643341064453,
          108.83419799804688,
          109.05128479003906,
          108.02477264404297,
          101.50432586669922,
          105.27690887451172,
          103.73751831054688,
          102.60581970214844,
          104.6505126953125,
          105.38514709472656,
          103.69943237304688,
          101.28068542480469,
          103.96227264404297,
          102.31808471679688,
          105.4495620727539,
          107.13622283935547,
          112.23414611816406,
          113.5788345336914,
          113.62403106689453,
          115.80168914794922,
          102.24440002441406,
          105.21208953857422,
          106.0328369140625,
          110.01751708984375,
          109.82628631591797,
          99.99636840820312,
          104.15739440917969,
          104.1248779296875,
          110.94265747070312,
          107.203369140625,
          106.82559967041016,
          113.26387023925781,
          112.09588623046875,
          115.28861999511719,
          114.83094787597656,
          113.63736724853516,
          113.22608947753906,
          112.9547119140625,
          110.78101348876953,
          111.96195983886719,
          108.86691284179688,
          100.7628173828125,
          106.09705352783203,
          105.83491516113281,
          106.66795349121094,
          112.17314147949219,
          114.37025451660156,
          109.89335632324219,
          107.56539154052734,
          112.59971618652344,
          110.6700668334961,
          108.44096374511719,
          106.65888977050781,
          109.20633697509766,
          110.47077178955078,
          112.31450653076172,
          113.60226440429688,
          109.95697784423828,
          108.14517211914062,
          112.92078399658203,
          108.52825927734375,
          109.45693969726562,
          112.02833557128906,
          110.6721420288086,
          110.91567993164062,
          108.8711929321289,
          111.6914291381836,
          110.66744995117188,
          112.55319213867188,
          110.71874237060547,
          107.1369400024414,
          110.61265563964844,
          111.05613708496094,
          109.45449829101562,
          108.58623504638672,
          109.97489166259766,
          112.93871307373047,
          111.89437103271484,
          110.91665649414062,
          111.3886489868164,
          110.20372009277344,
          112.46968841552734,
          110.70893859863281,
          114.17935180664062,
          110.58574676513672,
          111.20464324951172,
          112.52113342285156,
          112.75939178466797,
          112.09994506835938,
          110.30707550048828,
          113.66078186035156,
          110.61503601074219,
          111.29637145996094,
          113.0850601196289,
          113.94430541992188,
          111.54490661621094,
          111.15370178222656,
          112.01445007324219,
          112.12215423583984,
          111.44205474853516,
          110.40296173095703,
          112.1113510131836,
          112.23950958251953,
          110.85680389404297,
          110.0738525390625,
          110.58871459960938,
          112.70415496826172,
          113.76361846923828,
          110.7900390625,
          109.87982940673828,
          110.00382995605469,
          107.82402038574219,
          114.8183822631836,
          113.18368530273438,
          112.33601379394531,
          112.83330535888672,
          110.55268859863281,
          110.16629028320312,
          109.77157592773438,
          109.39981079101562,
          112.54507446289062,
          110.11587524414062,
          107.96109008789062,
          112.29271697998047,
          107.99773406982422,
          108.04570007324219,
          116.76701354980469,
          115.91051483154297,
          114.51964569091797,
          113.88258361816406,
          113.52818298339844,
          111.17414855957031,
          112.87313079833984,
          112.82675170898438,
          112.14875793457031,
          113.3167724609375,
          115.0987777709961,
          113.41625213623047,
          111.446044921875,
          112.64195251464844,
          108.09209442138672,
          111.13243103027344,
          111.47772979736328,
          109.64035034179688,
          113.45684051513672,
          112.62395477294922,
          113.07181549072266,
          112.7415542602539,
          108.69908142089844,
          112.29621887207031,
          112.63105773925781,
          112.04340362548828,
          112.5489730834961,
          113.04237365722656,
          111.2168197631836,
          115.30752563476562,
          110.42906951904297,
          113.00735473632812,
          107.69270324707031,
          107.6016845703125,
          110.46015167236328,
          110.22738647460938,
          112.275146484375,
          113.42169952392578,
          112.76264953613281,
          112.42548370361328,
          112.03994750976562,
          105.94123077392578,
          108.0139389038086,
          107.06421661376953,
          111.28660583496094,
          115.41238403320312,
          114.18588256835938,
          115.92521667480469,
          117.28140258789062,
          116.41724395751953,
          115.35624694824219,
          112.48551177978516,
          112.98330688476562,
          113.26400756835938,
          111.64749908447266,
          111.49221801757812,
          111.3900146484375,
          114.5060806274414,
          115.69345092773438,
          115.56834411621094,
          115.65200805664062,
          115.47407531738281,
          114.76542663574219,
          114.40303039550781,
          110.40814208984375,
          111.27397918701172,
          113.57290649414062,
          115.91322326660156,
          117.43202209472656,
          113.79301452636719,
          114.01425170898438,
          117.90587615966797,
          116.88949584960938,
          115.86963653564453,
          117.17971801757812,
          112.955322265625,
          117.5888442993164,
          116.18830871582031,
          120.38801574707031,
          114.36507415771484,
          116.7264633178711,
          116.27510070800781,
          117.33251190185547,
          118.21229553222656,
          117.4876708984375,
          115.57533264160156,
          114.1031494140625,
          112.55775451660156,
          115.98446655273438,
          115.89028930664062,
          116.38031005859375,
          116.90214538574219,
          117.76329803466797,
          117.3261947631836,
          118.39053344726562,
          118.6904067993164,
          117.75480651855469,
          118.18588256835938,
          119.50792694091797,
          116.96365356445312,
          116.7003173828125,
          118.46868896484375,
          114.3466796875,
          111.44583129882812,
          112.94593811035156,
          112.80557250976562,
          110.80554962158203,
          116.99522399902344,
          119.99867248535156,
          120.74452209472656,
          114.35106658935547,
          116.6477279663086,
          119.68623352050781,
          116.46760559082031,
          113.743896484375,
          116.41656494140625,
          114.78131866455078,
          117.48666381835938,
          115.4511489868164,
          115.11348724365234,
          111.82011413574219,
          109.25070190429688,
          108.62584686279297,
          113.69676971435547,
          109.28649139404297,
          108.07967376708984,
          112.22239685058594,
          109.87730407714844,
          107.34325408935547,
          107.37521362304688,
          106.39641571044922,
          106.54525756835938,
          107.53915405273438,
          112.7973861694336,
          112.64861297607422,
          110.5228042602539,
          110.87886047363281,
          109.23513793945312,
          117.96524047851562,
          113.43228912353516,
          113.44645690917969,
          107.81562042236328,
          115.23033142089844,
          111.63450622558594,
          108.24127197265625,
          114.0048828125,
          107.16215515136719,
          115.9714126586914,
          117.88284301757812,
          107.10597229003906,
          107.08523559570312,
          107.28372192382812,
          111.2835922241211,
          108.79310607910156,
          109.42152404785156,
          107.64525604248047,
          107.39089965820312,
          108.85601806640625,
          109.60717010498047,
          115.48757934570312,
          111.24658203125,
          112.87236022949219,
          108.86811828613281,
          110.21749877929688,
          112.97577667236328,
          106.38421630859375,
          105.03678131103516,
          106.82466125488281,
          108.8210678100586,
          108.08231353759766,
          107.73542785644531,
          107.15081024169922,
          109.08837890625,
          108.93669128417969,
          109.51875305175781,
          115.2733154296875,
          113.6052017211914,
          118.27706909179688,
          115.37086486816406,
          108.76417541503906,
          114.83271026611328,
          115.06705474853516,
          112.24858856201172,
          107.72587585449219
         ],
         "y": [
          107.38218688964844,
          119.76309967041016,
          110.73421478271484,
          101.50344848632812,
          123.6226577758789,
          121.7454833984375,
          114.3368911743164,
          117.30917358398438,
          92.937744140625,
          105.51678466796875,
          85.98409271240234,
          77.72550201416016,
          84.70317077636719,
          74.5370864868164,
          77.98883056640625,
          75.96417999267578,
          93.14464569091797,
          110.39116668701172,
          98.5658187866211,
          89.40169525146484,
          120.94735717773438,
          108.71856689453125,
          118.06822967529297,
          128.39500427246094,
          122.28842163085938,
          131.69947814941406,
          126.40052795410156,
          117.52095031738281,
          84.32302856445312,
          86.03860473632812,
          83.9578857421875,
          88.131103515625,
          154.31631469726562,
          160.06341552734375,
          158.07533264160156,
          150.2825927734375,
          138.64614868164062,
          139.66888427734375,
          133.0972442626953,
          128.8887481689453,
          126.47958374023438,
          122.64143371582031,
          115.61263275146484,
          106.32646179199219,
          167.37351989746094,
          164.7420196533203,
          77.05056762695312,
          83.80565643310547,
          82.88050842285156,
          77.50907135009766,
          166.67431640625,
          160.6219482421875,
          167.66969299316406,
          170.99713134765625,
          160.68199157714844,
          157.43234252929688,
          68.79336547851562,
          70.88240051269531,
          72.46084594726562,
          69.34662628173828,
          91.90921783447266,
          101.03721618652344,
          84.16988372802734,
          90.45803833007812,
          84.36383819580078,
          78.23641967773438,
          111.1175765991211,
          118.14242553710938,
          111.45695495605469,
          103.08928680419922,
          130.3441162109375,
          124.09907531738281,
          135.2549591064453,
          135.72161865234375,
          111.38920593261719,
          107.88401794433594,
          112.77275085449219,
          116.75442504882812,
          172.44854736328125,
          176.08731079101562,
          144.54864501953125,
          154.62168884277344,
          152.4978485107422,
          139.55543518066406,
          154.34548950195312,
          160.72300720214844,
          70.55908966064453,
          68.83995056152344,
          110.8503646850586,
          99.66569519042969,
          117.33184814453125,
          121.06883239746094,
          125.93508911132812,
          90.58372497558594,
          109.31788635253906,
          126.50289916992188,
          156.12026977539062,
          159.69265747070312,
          147.986572265625,
          147.144287109375,
          160.54855346679688,
          157.5714111328125,
          150.93191528320312,
          155.8297119140625,
          81.66777038574219,
          88.82876586914062,
          167.068603515625,
          170.659423828125,
          175.04095458984375,
          143.00152587890625,
          148.30776977539062,
          143.53509521484375,
          140.8120574951172,
          129.9125518798828,
          132.218505859375,
          118.95829010009766,
          148.32003784179688,
          157.57220458984375,
          145.61627197265625,
          166.9275665283203,
          171.74142456054688,
          166.9041748046875,
          139.21499633789062,
          111.39128112792969,
          102.03970336914062,
          98.67711639404297,
          107.56285095214844,
          68.04932403564453,
          73.0482406616211,
          76.65426635742188,
          152.02720642089844,
          163.40538024902344,
          86.67762756347656,
          64.52165222167969,
          67.35714721679688,
          65.9808349609375,
          66.85303497314453,
          84.22557067871094,
          85.78795623779297,
          84.68352508544922,
          85.76669311523438,
          123.89230346679688,
          126.98804473876953,
          87.1786117553711,
          69.67711639404297,
          76.65144348144531,
          118.83246612548828,
          117.22411346435547,
          121.18830108642578,
          92.15376281738281,
          87.46094512939453,
          92.53626251220703,
          98.59945678710938,
          159.87960815429688,
          165.6741485595703,
          73.39256286621094,
          72.701904296875,
          124.06051635742188,
          84.64478302001953,
          132.6787109375,
          125.06327819824219,
          131.2416229248047,
          128.83616638183594,
          123.75639343261719,
          85.76309967041016,
          88.71517944335938,
          86.80802917480469,
          85.32231140136719,
          82.72001647949219,
          74.9586410522461,
          76.345703125,
          82.35786437988281,
          69.94329071044922,
          68.98702239990234,
          80.17240905761719,
          75.17815399169922,
          80.5362319946289,
          83.96204376220703,
          133.47216796875,
          145.2603302001953,
          139.669677734375,
          135.82949829101562,
          128.5872344970703,
          114.11070251464844,
          149.34512329101562,
          87.8908920288086,
          82.44806671142578,
          88.41203308105469,
          137.28427124023438,
          73.22940826416016,
          120.038330078125,
          128.21542358398438,
          121.67237091064453,
          113.1183853149414,
          82.58921813964844,
          76.7499008178711,
          134.20021057128906,
          129.24591064453125,
          131.20584106445312,
          138.6997833251953,
          150.5041046142578,
          151.81326293945312,
          138.88687133789062,
          148.51210021972656,
          138.02284240722656,
          144.58944702148438,
          100.81558990478516,
          122.57223510742188,
          133.4247589111328,
          136.79039001464844,
          141.95741271972656,
          149.24769592285156,
          69.92340850830078,
          75.61209869384766,
          155.041259765625,
          148.21875,
          124.8593978881836,
          112.0764389038086,
          113.61337280273438,
          102.34000396728516,
          91.92853546142578,
          83.1466293334961,
          81.35076904296875,
          86.80248260498047,
          82.38154602050781,
          82.7132797241211,
          77.04761505126953,
          90.6176528930664,
          89.66251373291016,
          102.93164825439453,
          81.76201629638672,
          87.5352783203125,
          117.54469299316406,
          102.8741226196289,
          125.30772399902344,
          121.01930236816406,
          95.6722412109375,
          84.08583068847656,
          86.07860565185547,
          124.72007751464844,
          112.17680358886719,
          143.8295440673828,
          138.54891967773438,
          158.97982788085938,
          149.42987060546875,
          76.10952758789062,
          107.6883316040039,
          109.2270736694336,
          104.97689056396484,
          100.8419189453125,
          87.86219024658203,
          92.22989654541016,
          100.40570831298828,
          92.31378173828125,
          147.3999786376953,
          147.20262145996094,
          161.72467041015625,
          164.07069396972656,
          66.83578491210938,
          67.97150421142578,
          66.19235229492188,
          70.542236328125,
          87.09136962890625,
          84.28453826904297,
          142.90087890625,
          138.08160400390625,
          98.42497253417969,
          92.49972534179688,
          106.7747802734375,
          98.07914733886719,
          91.93559265136719,
          101.9028549194336,
          73.8984375,
          73.06363677978516,
          70.10586547851562,
          131.0592803955078,
          103.12687683105469,
          103.20174407958984,
          152.826904296875,
          133.48912048339844,
          87.19039154052734,
          87.21659851074219,
          79.80580139160156,
          77.923095703125,
          165.7066650390625,
          135.7339324951172,
          89.33946228027344,
          82.74288177490234,
          100.130859375,
          133.6776123046875,
          112.17901611328125,
          116.36255645751953,
          109.1456298828125,
          108.17529296875,
          76.95234680175781,
          75.52394104003906,
          76.20674133300781,
          78.46064758300781,
          83.33406829833984,
          76.31893920898438,
          78.20497131347656,
          87.06926727294922,
          76.67961883544922,
          76.16390228271484,
          81.77335357666016,
          81.69699096679688,
          82.32909393310547,
          81.68724822998047,
          87.49169921875,
          85.80742645263672,
          76.80773162841797,
          81.8640365600586,
          80.73246002197266,
          86.43102264404297,
          86.01343536376953,
          77.87992858886719,
          76.8819351196289,
          89.16929626464844,
          88.625244140625,
          89.00670623779297,
          92.26433563232422,
          80.33467864990234,
          81.87028503417969,
          87.89047241210938,
          92.03738403320312,
          82.2253646850586,
          91.62046813964844,
          91.8756103515625,
          85.35523986816406,
          90.74525451660156,
          85.5395736694336,
          83.20219421386719,
          90.31437683105469,
          92.60568237304688,
          82.97105407714844,
          88.38654327392578,
          82.47787475585938,
          89.69825744628906,
          91.20793151855469,
          90.47039031982422,
          87.1119613647461,
          83.0573501586914,
          81.72252655029297,
          85.28004455566406,
          83.4203872680664,
          79.481689453125,
          83.97386169433594,
          86.72280883789062,
          90.83450317382812,
          90.39094543457031,
          90.02598571777344,
          93.60873413085938,
          93.38182067871094,
          91.05412292480469,
          92.12484741210938,
          92.13616180419922,
          93.84666442871094,
          97.62056732177734,
          96.95137023925781,
          93.79454803466797,
          85.6776123046875,
          86.91870880126953,
          84.16284942626953,
          83.80474853515625,
          87.65695190429688,
          88.9875259399414,
          83.05132293701172,
          84.82337951660156,
          86.63479614257812,
          86.95435333251953,
          105.59455108642578,
          107.77982330322266,
          90.03926849365234,
          89.13085174560547,
          101.81327056884766,
          100.07514190673828,
          100.4577865600586,
          101.51527404785156,
          92.0396957397461,
          100.1858139038086,
          87.86095428466797,
          100.88439178466797,
          98.74490356445312,
          94.91424560546875,
          103.615234375,
          87.99835205078125,
          96.36958312988281,
          93.20348358154297,
          89.98049926757812,
          96.89579010009766,
          104.86894989013672,
          102.51687622070312,
          104.75825500488281,
          106.56623840332031,
          100.66728973388672,
          96.33970642089844,
          101.1553955078125,
          102.51624298095703,
          96.87052154541016,
          88.12716674804688,
          88.45187377929688,
          92.83001708984375,
          102.52608489990234,
          106.8893051147461,
          98.48335266113281,
          91.63024139404297,
          99.02953338623047,
          91.83619689941406,
          92.3761215209961,
          95.02323913574219,
          97.82933044433594,
          102.1104736328125,
          106.33019256591797,
          107.93692016601562,
          104.35594177246094,
          100.00562286376953,
          100.62789916992188,
          100.5078125,
          99.43644714355469,
          99.81123352050781,
          95.06891632080078,
          97.36446380615234,
          95.79190826416016,
          98.56656646728516,
          101.33894348144531,
          101.8656997680664,
          102.04252624511719,
          98.35027313232422,
          101.088623046875,
          103.39871978759766,
          94.76585388183594,
          93.71248626708984,
          99.03059387207031,
          98.47630310058594,
          105.56148529052734,
          100.25042724609375,
          99.33790588378906,
          105.90156555175781,
          103.29977416992188,
          103.35308837890625,
          101.5683364868164,
          98.16218566894531,
          105.69683837890625,
          105.81460571289062,
          108.91370391845703,
          102.59281921386719,
          100.93714904785156,
          104.87476348876953,
          106.0205078125,
          106.62823486328125,
          107.6142578125,
          104.98196411132812,
          100.33609771728516,
          103.67403411865234,
          104.73905181884766,
          108.49415588378906,
          109.34053802490234,
          108.64872741699219,
          110.12993621826172,
          112.3055191040039,
          108.72505187988281,
          110.88152313232422,
          107.44890594482422,
          108.42938995361328,
          108.97419738769531,
          108.865234375,
          109.6145248413086,
          109.03843688964844,
          114.34134674072266,
          119.46990203857422,
          118.69984436035156,
          113.67929077148438,
          111.99006652832031,
          107.75901794433594,
          106.71659851074219,
          111.67301177978516,
          118.17118072509766,
          116.75714111328125,
          109.31806182861328,
          107.86091613769531,
          111.89804077148438,
          112.39378356933594,
          108.70745849609375,
          107.69416809082031,
          128.00692749023438,
          124.72329711914062,
          122.27700805664062,
          125.30615234375,
          117.85569763183594,
          123.74479675292969,
          113.09129333496094,
          129.55157470703125,
          123.71768951416016,
          121.89688873291016,
          127.97261047363281,
          108.66505432128906,
          120.62089538574219,
          115.37702178955078,
          116.78268432617188,
          124.92291259765625,
          134.75672912597656,
          128.4817657470703,
          124.9074935913086,
          136.67356872558594,
          129.0518798828125,
          126.5824966430664,
          125.7123031616211,
          128.6652069091797,
          123.48637390136719,
          115.18589782714844,
          129.800048828125,
          121.59127807617188,
          119.35527038574219,
          122.91875457763672,
          134.63662719726562,
          131.95382690429688,
          124.03819274902344,
          132.6257781982422,
          129.84829711914062,
          124.69308471679688,
          123.85636138916016,
          124.7979736328125,
          138.3042449951172,
          137.0493927001953,
          135.1271209716797,
          138.29689025878906,
          130.53353881835938,
          121.93578338623047,
          125.31584167480469,
          126.21360778808594,
          122.4535903930664,
          129.2353515625,
          130.01046752929688,
          132.6417999267578,
          130.52197265625,
          130.83084106445312,
          127.9650650024414,
          125.98112487792969,
          130.41294860839844,
          121.07207489013672,
          119.08165740966797,
          133.8518829345703,
          128.27001953125,
          122.5807876586914,
          118.43724060058594,
          116.51262664794922,
          122.11375427246094,
          117.87962341308594,
          116.70780944824219,
          120.74978637695312,
          119.17605590820312,
          126.72737121582031,
          126.15829467773438,
          119.27998352050781,
          122.34385681152344,
          120.46461486816406,
          124.19688415527344,
          133.9114227294922,
          130.616455078125,
          134.8614044189453,
          131.9261016845703,
          126.29570770263672,
          126.29203796386719,
          127.41287231445312,
          129.67428588867188,
          128.62484741210938,
          123.34359741210938,
          133.11557006835938,
          137.15792846679688,
          131.57827758789062,
          129.36151123046875,
          131.69972229003906,
          128.7757568359375,
          121.94133758544922,
          126.49069213867188,
          127.91291809082031,
          120.57843017578125,
          125.47794342041016,
          121.05152893066406,
          127.92599487304688,
          139.4141387939453,
          143.64910888671875,
          144.07220458984375,
          139.13182067871094,
          135.86036682128906,
          135.34512329101562,
          134.98818969726562,
          134.6835479736328,
          140.585693359375,
          138.9114990234375,
          133.5543670654297,
          134.55746459960938,
          135.42352294921875,
          135.00296020507812,
          150.9337158203125,
          150.9547119140625,
          152.36326599121094,
          152.221923828125,
          139.79006958007812,
          138.9898681640625,
          149.64138793945312,
          150.18206787109375,
          149.74310302734375,
          149.4692840576172,
          147.66543579101562,
          144.58258056640625,
          142.54161071777344,
          147.330322265625,
          138.2675323486328,
          149.00901794433594,
          143.3345489501953,
          146.2259521484375,
          151.34799194335938,
          137.5958251953125,
          144.4921875,
          141.669677734375,
          138.15167236328125,
          143.85885620117188,
          153.57200622558594,
          151.61358642578125,
          151.72915649414062,
          153.27951049804688,
          148.7744598388672,
          147.27499389648438,
          144.1335906982422,
          148.785400390625,
          142.3992919921875,
          136.9670867919922,
          142.4285430908203,
          139.93650817871094,
          148.7274169921875,
          151.18161010742188,
          153.01791381835938,
          148.15087890625,
          152.6883087158203,
          148.49575805664062,
          141.0904083251953,
          140.51483154296875,
          142.8773956298828,
          153.25161743164062,
          151.79714965820312,
          151.3533477783203,
          150.6077423095703,
          149.1886444091797,
          140.8045196533203,
          141.19146728515625,
          140.43101501464844,
          140.3518524169922,
          141.67312622070312,
          141.1609649658203,
          144.931884765625,
          146.3560791015625,
          150.43585205078125,
          147.8285369873047,
          146.40940856933594,
          147.83213806152344,
          140.20164489746094,
          140.9170379638672,
          145.9556884765625,
          142.55203247070312,
          139.0961456298828,
          139.3707733154297,
          142.3031463623047,
          141.5655059814453,
          140.61404418945312,
          142.972412109375,
          143.26512145996094,
          144.42234802246094,
          146.01609802246094,
          142.42724609375,
          144.47122192382812,
          145.29531860351562,
          146.09249877929688,
          145.1754150390625,
          150.08450317382812,
          149.3006134033203,
          149.47369384765625,
          151.03416442871094,
          147.82333374023438,
          148.68406677246094,
          145.37881469726562,
          150.2444610595703,
          150.0001220703125,
          148.20419311523438,
          153.033935546875,
          151.99952697753906,
          151.35894775390625,
          153.373291015625,
          150.94418334960938,
          150.7372283935547,
          148.74903869628906,
          148.71499633789062,
          148.02371215820312,
          146.63848876953125,
          150.22593688964844,
          146.6783447265625,
          152.82986450195312,
          76.57781982421875,
          79.97903442382812,
          91.86031341552734,
          85.88606262207031,
          91.00003051757812,
          84.66020965576172,
          90.51370239257812,
          80.765625,
          72.93731689453125,
          77.34160614013672,
          74.77767944335938,
          74.01507568359375,
          81.26066589355469,
          87.339111328125,
          89.79586791992188,
          78.08856964111328,
          76.61949920654297,
          78.12445831298828,
          72.6252670288086,
          72.23277282714844,
          77.68009185791016,
          80.5546875,
          77.64468383789062,
          76.41259002685547,
          81.175048828125,
          79.21372985839844,
          74.85298156738281,
          73.64839172363281,
          72.75239562988281,
          72.80272674560547,
          72.31800079345703,
          74.12796020507812,
          71.33116149902344,
          77.4729232788086,
          71.83470153808594,
          87.63402557373047,
          84.91085052490234,
          78.61158752441406,
          77.57382202148438,
          87.7802963256836,
          81.54533386230469,
          78.0365219116211,
          86.4161148071289,
          84.9278335571289,
          91.1534423828125,
          92.80303192138672,
          80.72998046875,
          70.20941925048828,
          70.93274688720703,
          72.8593978881836,
          72.53311157226562,
          73.0573959350586,
          72.90278625488281,
          72.26776123046875,
          68.41704559326172,
          71.24739837646484,
          92.90528869628906,
          85.73907470703125,
          85.50613403320312,
          85.3375473022461,
          77.87567901611328,
          76.44584655761719,
          76.78128814697266,
          79.92723083496094,
          73.14244842529297,
          76.00215148925781,
          80.10376739501953,
          72.35238647460938,
          69.19453430175781,
          74.50855255126953,
          74.92415618896484,
          77.78707122802734,
          150.53407287597656,
          147.07530212402344,
          149.25949096679688,
          152.9916229248047,
          158.53314208984375,
          144.63470458984375,
          144.36386108398438,
          140.87796020507812,
          140.08836364746094
         ]
        }
       ],
       "layout": {
        "margin": {
         "t": 60
        },
        "template": {
         "data": {
          "bar": [
           {
            "error_x": {
             "color": "#2a3f5f"
            },
            "error_y": {
             "color": "#2a3f5f"
            },
            "marker": {
             "line": {
              "color": "#E5ECF6",
              "width": 0.5
             }
            },
            "type": "bar"
           }
          ],
          "barpolar": [
           {
            "marker": {
             "line": {
              "color": "#E5ECF6",
              "width": 0.5
             }
            },
            "type": "barpolar"
           }
          ],
          "carpet": [
           {
            "aaxis": {
             "endlinecolor": "#2a3f5f",
             "gridcolor": "white",
             "linecolor": "white",
             "minorgridcolor": "white",
             "startlinecolor": "#2a3f5f"
            },
            "baxis": {
             "endlinecolor": "#2a3f5f",
             "gridcolor": "white",
             "linecolor": "white",
             "minorgridcolor": "white",
             "startlinecolor": "#2a3f5f"
            },
            "type": "carpet"
           }
          ],
          "choropleth": [
           {
            "colorbar": {
             "outlinewidth": 0,
             "ticks": ""
            },
            "type": "choropleth"
           }
          ],
          "contour": [
           {
            "colorbar": {
             "outlinewidth": 0,
             "ticks": ""
            },
            "colorscale": [
             [
              0,
              "#0d0887"
             ],
             [
              0.1111111111111111,
              "#46039f"
             ],
             [
              0.2222222222222222,
              "#7201a8"
             ],
             [
              0.3333333333333333,
              "#9c179e"
             ],
             [
              0.4444444444444444,
              "#bd3786"
             ],
             [
              0.5555555555555556,
              "#d8576b"
             ],
             [
              0.6666666666666666,
              "#ed7953"
             ],
             [
              0.7777777777777778,
              "#fb9f3a"
             ],
             [
              0.8888888888888888,
              "#fdca26"
             ],
             [
              1,
              "#f0f921"
             ]
            ],
            "type": "contour"
           }
          ],
          "contourcarpet": [
           {
            "colorbar": {
             "outlinewidth": 0,
             "ticks": ""
            },
            "type": "contourcarpet"
           }
          ],
          "heatmap": [
           {
            "colorbar": {
             "outlinewidth": 0,
             "ticks": ""
            },
            "colorscale": [
             [
              0,
              "#0d0887"
             ],
             [
              0.1111111111111111,
              "#46039f"
             ],
             [
              0.2222222222222222,
              "#7201a8"
             ],
             [
              0.3333333333333333,
              "#9c179e"
             ],
             [
              0.4444444444444444,
              "#bd3786"
             ],
             [
              0.5555555555555556,
              "#d8576b"
             ],
             [
              0.6666666666666666,
              "#ed7953"
             ],
             [
              0.7777777777777778,
              "#fb9f3a"
             ],
             [
              0.8888888888888888,
              "#fdca26"
             ],
             [
              1,
              "#f0f921"
             ]
            ],
            "type": "heatmap"
           }
          ],
          "heatmapgl": [
           {
            "colorbar": {
             "outlinewidth": 0,
             "ticks": ""
            },
            "colorscale": [
             [
              0,
              "#0d0887"
             ],
             [
              0.1111111111111111,
              "#46039f"
             ],
             [
              0.2222222222222222,
              "#7201a8"
             ],
             [
              0.3333333333333333,
              "#9c179e"
             ],
             [
              0.4444444444444444,
              "#bd3786"
             ],
             [
              0.5555555555555556,
              "#d8576b"
             ],
             [
              0.6666666666666666,
              "#ed7953"
             ],
             [
              0.7777777777777778,
              "#fb9f3a"
             ],
             [
              0.8888888888888888,
              "#fdca26"
             ],
             [
              1,
              "#f0f921"
             ]
            ],
            "type": "heatmapgl"
           }
          ],
          "histogram": [
           {
            "marker": {
             "colorbar": {
              "outlinewidth": 0,
              "ticks": ""
             }
            },
            "type": "histogram"
           }
          ],
          "histogram2d": [
           {
            "colorbar": {
             "outlinewidth": 0,
             "ticks": ""
            },
            "colorscale": [
             [
              0,
              "#0d0887"
             ],
             [
              0.1111111111111111,
              "#46039f"
             ],
             [
              0.2222222222222222,
              "#7201a8"
             ],
             [
              0.3333333333333333,
              "#9c179e"
             ],
             [
              0.4444444444444444,
              "#bd3786"
             ],
             [
              0.5555555555555556,
              "#d8576b"
             ],
             [
              0.6666666666666666,
              "#ed7953"
             ],
             [
              0.7777777777777778,
              "#fb9f3a"
             ],
             [
              0.8888888888888888,
              "#fdca26"
             ],
             [
              1,
              "#f0f921"
             ]
            ],
            "type": "histogram2d"
           }
          ],
          "histogram2dcontour": [
           {
            "colorbar": {
             "outlinewidth": 0,
             "ticks": ""
            },
            "colorscale": [
             [
              0,
              "#0d0887"
             ],
             [
              0.1111111111111111,
              "#46039f"
             ],
             [
              0.2222222222222222,
              "#7201a8"
             ],
             [
              0.3333333333333333,
              "#9c179e"
             ],
             [
              0.4444444444444444,
              "#bd3786"
             ],
             [
              0.5555555555555556,
              "#d8576b"
             ],
             [
              0.6666666666666666,
              "#ed7953"
             ],
             [
              0.7777777777777778,
              "#fb9f3a"
             ],
             [
              0.8888888888888888,
              "#fdca26"
             ],
             [
              1,
              "#f0f921"
             ]
            ],
            "type": "histogram2dcontour"
           }
          ],
          "mesh3d": [
           {
            "colorbar": {
             "outlinewidth": 0,
             "ticks": ""
            },
            "type": "mesh3d"
           }
          ],
          "parcoords": [
           {
            "line": {
             "colorbar": {
              "outlinewidth": 0,
              "ticks": ""
             }
            },
            "type": "parcoords"
           }
          ],
          "pie": [
           {
            "automargin": true,
            "type": "pie"
           }
          ],
          "scatter": [
           {
            "marker": {
             "colorbar": {
              "outlinewidth": 0,
              "ticks": ""
             }
            },
            "type": "scatter"
           }
          ],
          "scatter3d": [
           {
            "line": {
             "colorbar": {
              "outlinewidth": 0,
              "ticks": ""
             }
            },
            "marker": {
             "colorbar": {
              "outlinewidth": 0,
              "ticks": ""
             }
            },
            "type": "scatter3d"
           }
          ],
          "scattercarpet": [
           {
            "marker": {
             "colorbar": {
              "outlinewidth": 0,
              "ticks": ""
             }
            },
            "type": "scattercarpet"
           }
          ],
          "scattergeo": [
           {
            "marker": {
             "colorbar": {
              "outlinewidth": 0,
              "ticks": ""
             }
            },
            "type": "scattergeo"
           }
          ],
          "scattergl": [
           {
            "marker": {
             "colorbar": {
              "outlinewidth": 0,
              "ticks": ""
             }
            },
            "type": "scattergl"
           }
          ],
          "scattermapbox": [
           {
            "marker": {
             "colorbar": {
              "outlinewidth": 0,
              "ticks": ""
             }
            },
            "type": "scattermapbox"
           }
          ],
          "scatterpolar": [
           {
            "marker": {
             "colorbar": {
              "outlinewidth": 0,
              "ticks": ""
             }
            },
            "type": "scatterpolar"
           }
          ],
          "scatterpolargl": [
           {
            "marker": {
             "colorbar": {
              "outlinewidth": 0,
              "ticks": ""
             }
            },
            "type": "scatterpolargl"
           }
          ],
          "scatterternary": [
           {
            "marker": {
             "colorbar": {
              "outlinewidth": 0,
              "ticks": ""
             }
            },
            "type": "scatterternary"
           }
          ],
          "surface": [
           {
            "colorbar": {
             "outlinewidth": 0,
             "ticks": ""
            },
            "colorscale": [
             [
              0,
              "#0d0887"
             ],
             [
              0.1111111111111111,
              "#46039f"
             ],
             [
              0.2222222222222222,
              "#7201a8"
             ],
             [
              0.3333333333333333,
              "#9c179e"
             ],
             [
              0.4444444444444444,
              "#bd3786"
             ],
             [
              0.5555555555555556,
              "#d8576b"
             ],
             [
              0.6666666666666666,
              "#ed7953"
             ],
             [
              0.7777777777777778,
              "#fb9f3a"
             ],
             [
              0.8888888888888888,
              "#fdca26"
             ],
             [
              1,
              "#f0f921"
             ]
            ],
            "type": "surface"
           }
          ],
          "table": [
           {
            "cells": {
             "fill": {
              "color": "#EBF0F8"
             },
             "line": {
              "color": "white"
             }
            },
            "header": {
             "fill": {
              "color": "#C8D4E3"
             },
             "line": {
              "color": "white"
             }
            },
            "type": "table"
           }
          ]
         },
         "layout": {
          "annotationdefaults": {
           "arrowcolor": "#2a3f5f",
           "arrowhead": 0,
           "arrowwidth": 1
          },
          "autotypenumbers": "strict",
          "coloraxis": {
           "colorbar": {
            "outlinewidth": 0,
            "ticks": ""
           }
          },
          "colorscale": {
           "diverging": [
            [
             0,
             "#8e0152"
            ],
            [
             0.1,
             "#c51b7d"
            ],
            [
             0.2,
             "#de77ae"
            ],
            [
             0.3,
             "#f1b6da"
            ],
            [
             0.4,
             "#fde0ef"
            ],
            [
             0.5,
             "#f7f7f7"
            ],
            [
             0.6,
             "#e6f5d0"
            ],
            [
             0.7,
             "#b8e186"
            ],
            [
             0.8,
             "#7fbc41"
            ],
            [
             0.9,
             "#4d9221"
            ],
            [
             1,
             "#276419"
            ]
           ],
           "sequential": [
            [
             0,
             "#0d0887"
            ],
            [
             0.1111111111111111,
             "#46039f"
            ],
            [
             0.2222222222222222,
             "#7201a8"
            ],
            [
             0.3333333333333333,
             "#9c179e"
            ],
            [
             0.4444444444444444,
             "#bd3786"
            ],
            [
             0.5555555555555556,
             "#d8576b"
            ],
            [
             0.6666666666666666,
             "#ed7953"
            ],
            [
             0.7777777777777778,
             "#fb9f3a"
            ],
            [
             0.8888888888888888,
             "#fdca26"
            ],
            [
             1,
             "#f0f921"
            ]
           ],
           "sequentialminus": [
            [
             0,
             "#0d0887"
            ],
            [
             0.1111111111111111,
             "#46039f"
            ],
            [
             0.2222222222222222,
             "#7201a8"
            ],
            [
             0.3333333333333333,
             "#9c179e"
            ],
            [
             0.4444444444444444,
             "#bd3786"
            ],
            [
             0.5555555555555556,
             "#d8576b"
            ],
            [
             0.6666666666666666,
             "#ed7953"
            ],
            [
             0.7777777777777778,
             "#fb9f3a"
            ],
            [
             0.8888888888888888,
             "#fdca26"
            ],
            [
             1,
             "#f0f921"
            ]
           ]
          },
          "colorway": [
           "#636efa",
           "#EF553B",
           "#00cc96",
           "#ab63fa",
           "#FFA15A",
           "#19d3f3",
           "#FF6692",
           "#B6E880",
           "#FF97FF",
           "#FECB52"
          ],
          "font": {
           "color": "#2a3f5f"
          },
          "geo": {
           "bgcolor": "white",
           "lakecolor": "white",
           "landcolor": "#E5ECF6",
           "showlakes": true,
           "showland": true,
           "subunitcolor": "white"
          },
          "hoverlabel": {
           "align": "left"
          },
          "hovermode": "closest",
          "mapbox": {
           "style": "light"
          },
          "paper_bgcolor": "white",
          "plot_bgcolor": "#E5ECF6",
          "polar": {
           "angularaxis": {
            "gridcolor": "white",
            "linecolor": "white",
            "ticks": ""
           },
           "bgcolor": "#E5ECF6",
           "radialaxis": {
            "gridcolor": "white",
            "linecolor": "white",
            "ticks": ""
           }
          },
          "scene": {
           "xaxis": {
            "backgroundcolor": "#E5ECF6",
            "gridcolor": "white",
            "gridwidth": 2,
            "linecolor": "white",
            "showbackground": true,
            "ticks": "",
            "zerolinecolor": "white"
           },
           "yaxis": {
            "backgroundcolor": "#E5ECF6",
            "gridcolor": "white",
            "gridwidth": 2,
            "linecolor": "white",
            "showbackground": true,
            "ticks": "",
            "zerolinecolor": "white"
           },
           "zaxis": {
            "backgroundcolor": "#E5ECF6",
            "gridcolor": "white",
            "gridwidth": 2,
            "linecolor": "white",
            "showbackground": true,
            "ticks": "",
            "zerolinecolor": "white"
           }
          },
          "shapedefaults": {
           "line": {
            "color": "#2a3f5f"
           }
          },
          "ternary": {
           "aaxis": {
            "gridcolor": "white",
            "linecolor": "white",
            "ticks": ""
           },
           "baxis": {
            "gridcolor": "white",
            "linecolor": "white",
            "ticks": ""
           },
           "bgcolor": "#E5ECF6",
           "caxis": {
            "gridcolor": "white",
            "linecolor": "white",
            "ticks": ""
           }
          },
          "title": {
           "x": 0.05
          },
          "xaxis": {
           "automargin": true,
           "gridcolor": "white",
           "linecolor": "white",
           "ticks": "",
           "title": {
            "standoff": 15
           },
           "zerolinecolor": "white",
           "zerolinewidth": 2
          },
          "yaxis": {
           "automargin": true,
           "gridcolor": "white",
           "linecolor": "white",
           "ticks": "",
           "title": {
            "standoff": 15
           },
           "zerolinecolor": "white",
           "zerolinewidth": 2
          }
         }
        },
        "xaxis": {
         "anchor": "y",
         "domain": [
          0,
          1
         ]
        },
        "yaxis": {
         "anchor": "x",
         "domain": [
          0,
          1
         ]
        }
       }
      },
      "text/html": [
       "<div>                            <div id=\"51f4d442-a70b-430a-acdc-16ff8c4ac725\" class=\"plotly-graph-div\" style=\"height:525px; width:100%;\"></div>            <script type=\"text/javascript\">                require([\"plotly\"], function(Plotly) {                    window.PLOTLYENV=window.PLOTLYENV || {};                                    if (document.getElementById(\"51f4d442-a70b-430a-acdc-16ff8c4ac725\")) {                    Plotly.newPlot(                        \"51f4d442-a70b-430a-acdc-16ff8c4ac725\",                        [{\"hovertemplate\": \"x: %{x}<br>y: %{y}<extra></extra>\", \"name\": \"0\", \"source\": \"data:image/png;base64,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\", \"type\": \"image\", \"xaxis\": \"x\", \"yaxis\": \"y\"}, {\"marker\": {\"color\": \"red\", \"opacity\": 0.7, \"size\": 2}, \"mode\": \"markers\", \"type\": \"scatter\", \"x\": [116.17875671386719, 116.38777923583984, 116.3110580444336, 113.7754898071289, 117.73757934570312, 119.80585479736328, 123.14610290527344, 121.17076873779297, 114.7538833618164, 117.49260711669922, 114.69728088378906, 112.98217010498047, 113.58039855957031, 114.67298889160156, 117.13140869140625, 112.08531188964844, 112.28437042236328, 109.38255310058594, 111.25715637207031, 110.3068618774414, 111.26300811767578, 110.0731430053711, 111.57516479492188, 109.22085571289062, 108.68624114990234, 106.67074584960938, 111.64350128173828, 113.58748626708984, 115.14041900634766, 114.70213317871094, 115.63885498046875, 116.68226623535156, 108.59375, 114.76713562011719, 113.90296936035156, 107.48009490966797, 113.60540771484375, 116.11783599853516, 118.7416763305664, 111.98380279541016, 115.4800796508789, 117.55889892578125, 122.93315124511719, 120.99900817871094, 110.79613494873047, 112.97557830810547, 119.4199447631836, 116.1008529663086, 116.41920471191406, 120.97766876220703, 104.48700714111328, 100.27274322509766, 100.87902069091797, 101.87480163574219, 105.69317626953125, 102.75726318359375, 123.26046752929688, 123.64137268066406, 121.53951263427734, 117.58577728271484, 114.74696350097656, 112.78506469726562, 114.50116729736328, 112.41190338134766, 114.98097229003906, 113.1532974243164, 111.81546020507812, 110.93213653564453, 114.06666564941406, 110.7335433959961, 110.2984619140625, 112.88662719726562, 113.16156005859375, 112.00690460205078, 107.74880981445312, 103.55075073242188, 104.42051696777344, 110.98857879638672, 99.21630096435547, 101.54580688476562, 108.24998474121094, 107.41759490966797, 107.64806365966797, 110.30197143554688, 108.46788024902344, 105.90846252441406, 114.87928009033203, 111.90327453613281, 114.698486328125, 116.75033569335938, 114.59934997558594, 111.40715789794922, 110.5101318359375, 112.12760162353516, 115.35746002197266, 108.10700988769531, 109.4874038696289, 110.63658905029297, 111.67726135253906, 112.9361343383789, 108.15059661865234, 113.45851135253906, 116.85198974609375, 112.929443359375, 115.32037353515625, 115.31193542480469, 112.20616149902344, 112.54631042480469, 107.28190612792969, 111.46317291259766, 107.91142272949219, 108.94466400146484, 109.86758422851562, 116.6654052734375, 116.50032043457031, 117.4703369140625, 112.83784484863281, 111.3579330444336, 115.85003662109375, 114.17573547363281, 111.36143493652344, 105.04801177978516, 113.30865478515625, 122.326416015625, 119.33524322509766, 116.19972229003906, 117.77843475341797, 115.4088363647461, 112.9298095703125, 113.75981140136719, 115.0897216796875, 113.82164001464844, 116.97080993652344, 120.6846694946289, 121.04756164550781, 117.1994400024414, 119.205322265625, 115.97689819335938, 115.99852752685547, 117.24186706542969, 116.52825927734375, 108.93634796142578, 113.06604766845703, 109.09569549560547, 110.3255844116211, 110.56245422363281, 111.89508056640625, 113.398681640625, 112.35956573486328, 115.2793960571289, 115.40121459960938, 118.59957885742188, 116.15568542480469, 105.93040466308594, 106.66035461425781, 121.67872619628906, 123.60037231445312, 109.40601348876953, 112.84837341308594, 110.5044937133789, 108.10984802246094, 110.03164672851562, 107.04786682128906, 106.51499938964844, 111.86328887939453, 115.29029083251953, 114.38883972167969, 110.47782897949219, 115.11319732666016, 115.82422637939453, 111.53968811035156, 116.93741607666016, 112.50366973876953, 113.95940399169922, 114.34561920166016, 111.74092102050781, 116.74590301513672, 113.9727783203125, 109.88590240478516, 108.21615600585938, 108.7196044921875, 108.22684478759766, 110.4309310913086, 108.85685729980469, 104.36675262451172, 114.1128921508789, 110.201904296875, 109.38898468017578, 108.94861602783203, 122.53787994384766, 105.1638412475586, 101.5394287109375, 105.826171875, 112.5136947631836, 118.91896057128906, 120.85269927978516, 111.97380065917969, 107.67530822753906, 108.05043029785156, 110.79100799560547, 105.73489379882812, 108.79348754882812, 111.02268981933594, 110.07806396484375, 113.08438110351562, 107.34090423583984, 106.56620788574219, 111.70194244384766, 115.69140625, 105.10538482666016, 98.22412109375, 103.20402526855469, 113.61346435546875, 111.10358428955078, 100.48430633544922, 96.24691009521484, 112.46226501464844, 114.65193176269531, 111.5587387084961, 112.7483901977539, 108.62788391113281, 116.71955871582031, 108.70404815673828, 109.4593505859375, 118.27852630615234, 112.10481262207031, 114.22442626953125, 117.15121459960938, 115.58392333984375, 113.5130615234375, 113.79985046386719, 113.5815200805664, 111.17813110351562, 114.60505676269531, 109.88159942626953, 112.36212158203125, 112.70816040039062, 117.69768524169922, 120.83619689941406, 101.56834411621094, 118.80265045166016, 113.69922637939453, 110.15019226074219, 111.79004669189453, 115.431640625, 119.111328125, 103.60078430175781, 103.52384948730469, 124.59825897216797, 124.72978210449219, 119.04104614257812, 121.64517211914062, 124.59898376464844, 123.40198516845703, 112.29387664794922, 111.47357940673828, 104.81169128417969, 105.92718505859375, 113.14161682128906, 111.50147247314453, 115.27811431884766, 118.90210723876953, 114.53714752197266, 115.98513793945312, 116.72911071777344, 114.9005355834961, 117.31993103027344, 115.32550811767578, 113.04460144042969, 101.23129272460938, 105.17353820800781, 110.2642822265625, 119.87303924560547, 118.88941955566406, 110.15494537353516, 113.1454849243164, 106.10591888427734, 99.42426300048828, 113.29411315917969, 96.14627075195312, 113.0914535522461, 119.45423889160156, 115.77857971191406, 118.5941162109375, 107.11400604248047, 108.91923522949219, 114.57734680175781, 116.88465118408203, 107.63420867919922, 110.52240753173828, 107.26806640625, 104.7361068725586, 101.60491943359375, 101.08092498779297, 119.9227294921875, 119.86597442626953, 121.78497314453125, 119.93102264404297, 118.32034301757812, 117.48960876464844, 120.00019836425781, 123.24691772460938, 122.15927124023438, 126.66645050048828, 118.0657730102539, 115.01374053955078, 116.93305206298828, 117.53489685058594, 122.19369506835938, 119.91325378417969, 120.92096710205078, 117.02587127685547, 119.29801940917969, 120.20773315429688, 120.90489196777344, 121.91173553466797, 122.19966125488281, 116.94557189941406, 120.25697326660156, 121.99478149414062, 118.64513397216797, 118.32577514648438, 115.60807800292969, 117.29813385009766, 115.08303833007812, 113.53181457519531, 116.16303253173828, 115.51396179199219, 115.15562438964844, 116.94850158691406, 115.90637969970703, 116.85645294189453, 118.49229431152344, 117.12117004394531, 120.83356475830078, 120.83322143554688, 121.02719116210938, 121.49502563476562, 120.7677993774414, 121.24308013916016, 117.04560089111328, 121.40339660644531, 118.62394714355469, 119.35005950927734, 121.91084289550781, 123.02428436279297, 122.99779510498047, 119.73123168945312, 122.31454467773438, 121.27468872070312, 121.57450866699219, 121.16050720214844, 119.99208068847656, 119.68313598632812, 121.49120330810547, 120.8877182006836, 108.75962829589844, 111.4269027709961, 113.14897155761719, 112.51492309570312, 112.06675720214844, 111.1058349609375, 114.06526947021484, 114.93862915039062, 113.59101104736328, 110.62786865234375, 114.98153686523438, 116.93402099609375, 110.6801528930664, 108.40666961669922, 104.31340026855469, 103.9710693359375, 111.88416290283203, 110.04409790039062, 105.98651885986328, 109.67249298095703, 108.2387466430664, 107.07543182373047, 110.25850677490234, 105.20793151855469, 110.86911010742188, 102.929931640625, 101.32710266113281, 100.36780548095703, 99.69346618652344, 113.57689666748047, 114.32788848876953, 112.4676513671875, 108.38333129882812, 105.42387390136719, 106.87898254394531, 106.96875, 107.21049499511719, 105.76384735107422, 104.11432647705078, 104.96729278564453, 115.81721496582031, 114.95360565185547, 114.96428680419922, 102.74140167236328, 120.98875427246094, 116.48273468017578, 107.2255859375, 109.25516510009766, 109.86356353759766, 115.74458312988281, 111.38003540039062, 117.8824462890625, 118.93445587158203, 120.1223373413086, 118.05400848388672, 108.80660247802734, 107.29266357421875, 110.3563003540039, 110.5855484008789, 114.22038269042969, 113.49222564697266, 119.88724517822266, 121.20366668701172, 114.27937316894531, 125.08786010742188, 125.27967834472656, 120.91687774658203, 120.26219177246094, 115.42216491699219, 115.18561553955078, 113.97586822509766, 116.73442077636719, 111.09322357177734, 113.29273986816406, 121.0366439819336, 123.10005187988281, 117.30216217041016, 111.05609893798828, 115.99827575683594, 115.59832000732422, 111.38121032714844, 114.71833801269531, 113.42436981201172, 112.67942810058594, 121.39141845703125, 121.29652404785156, 114.1844711303711, 113.91358184814453, 115.7027587890625, 110.42908477783203, 114.1617202758789, 113.8083724975586, 111.16780090332031, 111.06094360351562, 109.23719024658203, 109.53939819335938, 119.4146728515625, 115.27609252929688, 115.38037109375, 113.61356353759766, 109.88160705566406, 109.62732696533203, 110.08048248291016, 110.37510681152344, 110.60501098632812, 111.16188049316406, 108.32421112060547, 111.02300262451172, 110.7502212524414, 115.90234375, 110.00919342041016, 113.48079681396484, 107.83643341064453, 108.83419799804688, 109.05128479003906, 108.02477264404297, 101.50432586669922, 105.27690887451172, 103.73751831054688, 102.60581970214844, 104.6505126953125, 105.38514709472656, 103.69943237304688, 101.28068542480469, 103.96227264404297, 102.31808471679688, 105.4495620727539, 107.13622283935547, 112.23414611816406, 113.5788345336914, 113.62403106689453, 115.80168914794922, 102.24440002441406, 105.21208953857422, 106.0328369140625, 110.01751708984375, 109.82628631591797, 99.99636840820312, 104.15739440917969, 104.1248779296875, 110.94265747070312, 107.203369140625, 106.82559967041016, 113.26387023925781, 112.09588623046875, 115.28861999511719, 114.83094787597656, 113.63736724853516, 113.22608947753906, 112.9547119140625, 110.78101348876953, 111.96195983886719, 108.86691284179688, 100.7628173828125, 106.09705352783203, 105.83491516113281, 106.66795349121094, 112.17314147949219, 114.37025451660156, 109.89335632324219, 107.56539154052734, 112.59971618652344, 110.6700668334961, 108.44096374511719, 106.65888977050781, 109.20633697509766, 110.47077178955078, 112.31450653076172, 113.60226440429688, 109.95697784423828, 108.14517211914062, 112.92078399658203, 108.52825927734375, 109.45693969726562, 112.02833557128906, 110.6721420288086, 110.91567993164062, 108.8711929321289, 111.6914291381836, 110.66744995117188, 112.55319213867188, 110.71874237060547, 107.1369400024414, 110.61265563964844, 111.05613708496094, 109.45449829101562, 108.58623504638672, 109.97489166259766, 112.93871307373047, 111.89437103271484, 110.91665649414062, 111.3886489868164, 110.20372009277344, 112.46968841552734, 110.70893859863281, 114.17935180664062, 110.58574676513672, 111.20464324951172, 112.52113342285156, 112.75939178466797, 112.09994506835938, 110.30707550048828, 113.66078186035156, 110.61503601074219, 111.29637145996094, 113.0850601196289, 113.94430541992188, 111.54490661621094, 111.15370178222656, 112.01445007324219, 112.12215423583984, 111.44205474853516, 110.40296173095703, 112.1113510131836, 112.23950958251953, 110.85680389404297, 110.0738525390625, 110.58871459960938, 112.70415496826172, 113.76361846923828, 110.7900390625, 109.87982940673828, 110.00382995605469, 107.82402038574219, 114.8183822631836, 113.18368530273438, 112.33601379394531, 112.83330535888672, 110.55268859863281, 110.16629028320312, 109.77157592773438, 109.39981079101562, 112.54507446289062, 110.11587524414062, 107.96109008789062, 112.29271697998047, 107.99773406982422, 108.04570007324219, 116.76701354980469, 115.91051483154297, 114.51964569091797, 113.88258361816406, 113.52818298339844, 111.17414855957031, 112.87313079833984, 112.82675170898438, 112.14875793457031, 113.3167724609375, 115.0987777709961, 113.41625213623047, 111.446044921875, 112.64195251464844, 108.09209442138672, 111.13243103027344, 111.47772979736328, 109.64035034179688, 113.45684051513672, 112.62395477294922, 113.07181549072266, 112.7415542602539, 108.69908142089844, 112.29621887207031, 112.63105773925781, 112.04340362548828, 112.5489730834961, 113.04237365722656, 111.2168197631836, 115.30752563476562, 110.42906951904297, 113.00735473632812, 107.69270324707031, 107.6016845703125, 110.46015167236328, 110.22738647460938, 112.275146484375, 113.42169952392578, 112.76264953613281, 112.42548370361328, 112.03994750976562, 105.94123077392578, 108.0139389038086, 107.06421661376953, 111.28660583496094, 115.41238403320312, 114.18588256835938, 115.92521667480469, 117.28140258789062, 116.41724395751953, 115.35624694824219, 112.48551177978516, 112.98330688476562, 113.26400756835938, 111.64749908447266, 111.49221801757812, 111.3900146484375, 114.5060806274414, 115.69345092773438, 115.56834411621094, 115.65200805664062, 115.47407531738281, 114.76542663574219, 114.40303039550781, 110.40814208984375, 111.27397918701172, 113.57290649414062, 115.91322326660156, 117.43202209472656, 113.79301452636719, 114.01425170898438, 117.90587615966797, 116.88949584960938, 115.86963653564453, 117.17971801757812, 112.955322265625, 117.5888442993164, 116.18830871582031, 120.38801574707031, 114.36507415771484, 116.7264633178711, 116.27510070800781, 117.33251190185547, 118.21229553222656, 117.4876708984375, 115.57533264160156, 114.1031494140625, 112.55775451660156, 115.98446655273438, 115.89028930664062, 116.38031005859375, 116.90214538574219, 117.76329803466797, 117.3261947631836, 118.39053344726562, 118.6904067993164, 117.75480651855469, 118.18588256835938, 119.50792694091797, 116.96365356445312, 116.7003173828125, 118.46868896484375, 114.3466796875, 111.44583129882812, 112.94593811035156, 112.80557250976562, 110.80554962158203, 116.99522399902344, 119.99867248535156, 120.74452209472656, 114.35106658935547, 116.6477279663086, 119.68623352050781, 116.46760559082031, 113.743896484375, 116.41656494140625, 114.78131866455078, 117.48666381835938, 115.4511489868164, 115.11348724365234, 111.82011413574219, 109.25070190429688, 108.62584686279297, 113.69676971435547, 109.28649139404297, 108.07967376708984, 112.22239685058594, 109.87730407714844, 107.34325408935547, 107.37521362304688, 106.39641571044922, 106.54525756835938, 107.53915405273438, 112.7973861694336, 112.64861297607422, 110.5228042602539, 110.87886047363281, 109.23513793945312, 117.96524047851562, 113.43228912353516, 113.44645690917969, 107.81562042236328, 115.23033142089844, 111.63450622558594, 108.24127197265625, 114.0048828125, 107.16215515136719, 115.9714126586914, 117.88284301757812, 107.10597229003906, 107.08523559570312, 107.28372192382812, 111.2835922241211, 108.79310607910156, 109.42152404785156, 107.64525604248047, 107.39089965820312, 108.85601806640625, 109.60717010498047, 115.48757934570312, 111.24658203125, 112.87236022949219, 108.86811828613281, 110.21749877929688, 112.97577667236328, 106.38421630859375, 105.03678131103516, 106.82466125488281, 108.8210678100586, 108.08231353759766, 107.73542785644531, 107.15081024169922, 109.08837890625, 108.93669128417969, 109.51875305175781, 115.2733154296875, 113.6052017211914, 118.27706909179688, 115.37086486816406, 108.76417541503906, 114.83271026611328, 115.06705474853516, 112.24858856201172, 107.72587585449219], \"y\": [107.38218688964844, 119.76309967041016, 110.73421478271484, 101.50344848632812, 123.6226577758789, 121.7454833984375, 114.3368911743164, 117.30917358398438, 92.937744140625, 105.51678466796875, 85.98409271240234, 77.72550201416016, 84.70317077636719, 74.5370864868164, 77.98883056640625, 75.96417999267578, 93.14464569091797, 110.39116668701172, 98.5658187866211, 89.40169525146484, 120.94735717773438, 108.71856689453125, 118.06822967529297, 128.39500427246094, 122.28842163085938, 131.69947814941406, 126.40052795410156, 117.52095031738281, 84.32302856445312, 86.03860473632812, 83.9578857421875, 88.131103515625, 154.31631469726562, 160.06341552734375, 158.07533264160156, 150.2825927734375, 138.64614868164062, 139.66888427734375, 133.0972442626953, 128.8887481689453, 126.47958374023438, 122.64143371582031, 115.61263275146484, 106.32646179199219, 167.37351989746094, 164.7420196533203, 77.05056762695312, 83.80565643310547, 82.88050842285156, 77.50907135009766, 166.67431640625, 160.6219482421875, 167.66969299316406, 170.99713134765625, 160.68199157714844, 157.43234252929688, 68.79336547851562, 70.88240051269531, 72.46084594726562, 69.34662628173828, 91.90921783447266, 101.03721618652344, 84.16988372802734, 90.45803833007812, 84.36383819580078, 78.23641967773438, 111.1175765991211, 118.14242553710938, 111.45695495605469, 103.08928680419922, 130.3441162109375, 124.09907531738281, 135.2549591064453, 135.72161865234375, 111.38920593261719, 107.88401794433594, 112.77275085449219, 116.75442504882812, 172.44854736328125, 176.08731079101562, 144.54864501953125, 154.62168884277344, 152.4978485107422, 139.55543518066406, 154.34548950195312, 160.72300720214844, 70.55908966064453, 68.83995056152344, 110.8503646850586, 99.66569519042969, 117.33184814453125, 121.06883239746094, 125.93508911132812, 90.58372497558594, 109.31788635253906, 126.50289916992188, 156.12026977539062, 159.69265747070312, 147.986572265625, 147.144287109375, 160.54855346679688, 157.5714111328125, 150.93191528320312, 155.8297119140625, 81.66777038574219, 88.82876586914062, 167.068603515625, 170.659423828125, 175.04095458984375, 143.00152587890625, 148.30776977539062, 143.53509521484375, 140.8120574951172, 129.9125518798828, 132.218505859375, 118.95829010009766, 148.32003784179688, 157.57220458984375, 145.61627197265625, 166.9275665283203, 171.74142456054688, 166.9041748046875, 139.21499633789062, 111.39128112792969, 102.03970336914062, 98.67711639404297, 107.56285095214844, 68.04932403564453, 73.0482406616211, 76.65426635742188, 152.02720642089844, 163.40538024902344, 86.67762756347656, 64.52165222167969, 67.35714721679688, 65.9808349609375, 66.85303497314453, 84.22557067871094, 85.78795623779297, 84.68352508544922, 85.76669311523438, 123.89230346679688, 126.98804473876953, 87.1786117553711, 69.67711639404297, 76.65144348144531, 118.83246612548828, 117.22411346435547, 121.18830108642578, 92.15376281738281, 87.46094512939453, 92.53626251220703, 98.59945678710938, 159.87960815429688, 165.6741485595703, 73.39256286621094, 72.701904296875, 124.06051635742188, 84.64478302001953, 132.6787109375, 125.06327819824219, 131.2416229248047, 128.83616638183594, 123.75639343261719, 85.76309967041016, 88.71517944335938, 86.80802917480469, 85.32231140136719, 82.72001647949219, 74.9586410522461, 76.345703125, 82.35786437988281, 69.94329071044922, 68.98702239990234, 80.17240905761719, 75.17815399169922, 80.5362319946289, 83.96204376220703, 133.47216796875, 145.2603302001953, 139.669677734375, 135.82949829101562, 128.5872344970703, 114.11070251464844, 149.34512329101562, 87.8908920288086, 82.44806671142578, 88.41203308105469, 137.28427124023438, 73.22940826416016, 120.038330078125, 128.21542358398438, 121.67237091064453, 113.1183853149414, 82.58921813964844, 76.7499008178711, 134.20021057128906, 129.24591064453125, 131.20584106445312, 138.6997833251953, 150.5041046142578, 151.81326293945312, 138.88687133789062, 148.51210021972656, 138.02284240722656, 144.58944702148438, 100.81558990478516, 122.57223510742188, 133.4247589111328, 136.79039001464844, 141.95741271972656, 149.24769592285156, 69.92340850830078, 75.61209869384766, 155.041259765625, 148.21875, 124.8593978881836, 112.0764389038086, 113.61337280273438, 102.34000396728516, 91.92853546142578, 83.1466293334961, 81.35076904296875, 86.80248260498047, 82.38154602050781, 82.7132797241211, 77.04761505126953, 90.6176528930664, 89.66251373291016, 102.93164825439453, 81.76201629638672, 87.5352783203125, 117.54469299316406, 102.8741226196289, 125.30772399902344, 121.01930236816406, 95.6722412109375, 84.08583068847656, 86.07860565185547, 124.72007751464844, 112.17680358886719, 143.8295440673828, 138.54891967773438, 158.97982788085938, 149.42987060546875, 76.10952758789062, 107.6883316040039, 109.2270736694336, 104.97689056396484, 100.8419189453125, 87.86219024658203, 92.22989654541016, 100.40570831298828, 92.31378173828125, 147.3999786376953, 147.20262145996094, 161.72467041015625, 164.07069396972656, 66.83578491210938, 67.97150421142578, 66.19235229492188, 70.542236328125, 87.09136962890625, 84.28453826904297, 142.90087890625, 138.08160400390625, 98.42497253417969, 92.49972534179688, 106.7747802734375, 98.07914733886719, 91.93559265136719, 101.9028549194336, 73.8984375, 73.06363677978516, 70.10586547851562, 131.0592803955078, 103.12687683105469, 103.20174407958984, 152.826904296875, 133.48912048339844, 87.19039154052734, 87.21659851074219, 79.80580139160156, 77.923095703125, 165.7066650390625, 135.7339324951172, 89.33946228027344, 82.74288177490234, 100.130859375, 133.6776123046875, 112.17901611328125, 116.36255645751953, 109.1456298828125, 108.17529296875, 76.95234680175781, 75.52394104003906, 76.20674133300781, 78.46064758300781, 83.33406829833984, 76.31893920898438, 78.20497131347656, 87.06926727294922, 76.67961883544922, 76.16390228271484, 81.77335357666016, 81.69699096679688, 82.32909393310547, 81.68724822998047, 87.49169921875, 85.80742645263672, 76.80773162841797, 81.8640365600586, 80.73246002197266, 86.43102264404297, 86.01343536376953, 77.87992858886719, 76.8819351196289, 89.16929626464844, 88.625244140625, 89.00670623779297, 92.26433563232422, 80.33467864990234, 81.87028503417969, 87.89047241210938, 92.03738403320312, 82.2253646850586, 91.62046813964844, 91.8756103515625, 85.35523986816406, 90.74525451660156, 85.5395736694336, 83.20219421386719, 90.31437683105469, 92.60568237304688, 82.97105407714844, 88.38654327392578, 82.47787475585938, 89.69825744628906, 91.20793151855469, 90.47039031982422, 87.1119613647461, 83.0573501586914, 81.72252655029297, 85.28004455566406, 83.4203872680664, 79.481689453125, 83.97386169433594, 86.72280883789062, 90.83450317382812, 90.39094543457031, 90.02598571777344, 93.60873413085938, 93.38182067871094, 91.05412292480469, 92.12484741210938, 92.13616180419922, 93.84666442871094, 97.62056732177734, 96.95137023925781, 93.79454803466797, 85.6776123046875, 86.91870880126953, 84.16284942626953, 83.80474853515625, 87.65695190429688, 88.9875259399414, 83.05132293701172, 84.82337951660156, 86.63479614257812, 86.95435333251953, 105.59455108642578, 107.77982330322266, 90.03926849365234, 89.13085174560547, 101.81327056884766, 100.07514190673828, 100.4577865600586, 101.51527404785156, 92.0396957397461, 100.1858139038086, 87.86095428466797, 100.88439178466797, 98.74490356445312, 94.91424560546875, 103.615234375, 87.99835205078125, 96.36958312988281, 93.20348358154297, 89.98049926757812, 96.89579010009766, 104.86894989013672, 102.51687622070312, 104.75825500488281, 106.56623840332031, 100.66728973388672, 96.33970642089844, 101.1553955078125, 102.51624298095703, 96.87052154541016, 88.12716674804688, 88.45187377929688, 92.83001708984375, 102.52608489990234, 106.8893051147461, 98.48335266113281, 91.63024139404297, 99.02953338623047, 91.83619689941406, 92.3761215209961, 95.02323913574219, 97.82933044433594, 102.1104736328125, 106.33019256591797, 107.93692016601562, 104.35594177246094, 100.00562286376953, 100.62789916992188, 100.5078125, 99.43644714355469, 99.81123352050781, 95.06891632080078, 97.36446380615234, 95.79190826416016, 98.56656646728516, 101.33894348144531, 101.8656997680664, 102.04252624511719, 98.35027313232422, 101.088623046875, 103.39871978759766, 94.76585388183594, 93.71248626708984, 99.03059387207031, 98.47630310058594, 105.56148529052734, 100.25042724609375, 99.33790588378906, 105.90156555175781, 103.29977416992188, 103.35308837890625, 101.5683364868164, 98.16218566894531, 105.69683837890625, 105.81460571289062, 108.91370391845703, 102.59281921386719, 100.93714904785156, 104.87476348876953, 106.0205078125, 106.62823486328125, 107.6142578125, 104.98196411132812, 100.33609771728516, 103.67403411865234, 104.73905181884766, 108.49415588378906, 109.34053802490234, 108.64872741699219, 110.12993621826172, 112.3055191040039, 108.72505187988281, 110.88152313232422, 107.44890594482422, 108.42938995361328, 108.97419738769531, 108.865234375, 109.6145248413086, 109.03843688964844, 114.34134674072266, 119.46990203857422, 118.69984436035156, 113.67929077148438, 111.99006652832031, 107.75901794433594, 106.71659851074219, 111.67301177978516, 118.17118072509766, 116.75714111328125, 109.31806182861328, 107.86091613769531, 111.89804077148438, 112.39378356933594, 108.70745849609375, 107.69416809082031, 128.00692749023438, 124.72329711914062, 122.27700805664062, 125.30615234375, 117.85569763183594, 123.74479675292969, 113.09129333496094, 129.55157470703125, 123.71768951416016, 121.89688873291016, 127.97261047363281, 108.66505432128906, 120.62089538574219, 115.37702178955078, 116.78268432617188, 124.92291259765625, 134.75672912597656, 128.4817657470703, 124.9074935913086, 136.67356872558594, 129.0518798828125, 126.5824966430664, 125.7123031616211, 128.6652069091797, 123.48637390136719, 115.18589782714844, 129.800048828125, 121.59127807617188, 119.35527038574219, 122.91875457763672, 134.63662719726562, 131.95382690429688, 124.03819274902344, 132.6257781982422, 129.84829711914062, 124.69308471679688, 123.85636138916016, 124.7979736328125, 138.3042449951172, 137.0493927001953, 135.1271209716797, 138.29689025878906, 130.53353881835938, 121.93578338623047, 125.31584167480469, 126.21360778808594, 122.4535903930664, 129.2353515625, 130.01046752929688, 132.6417999267578, 130.52197265625, 130.83084106445312, 127.9650650024414, 125.98112487792969, 130.41294860839844, 121.07207489013672, 119.08165740966797, 133.8518829345703, 128.27001953125, 122.5807876586914, 118.43724060058594, 116.51262664794922, 122.11375427246094, 117.87962341308594, 116.70780944824219, 120.74978637695312, 119.17605590820312, 126.72737121582031, 126.15829467773438, 119.27998352050781, 122.34385681152344, 120.46461486816406, 124.19688415527344, 133.9114227294922, 130.616455078125, 134.8614044189453, 131.9261016845703, 126.29570770263672, 126.29203796386719, 127.41287231445312, 129.67428588867188, 128.62484741210938, 123.34359741210938, 133.11557006835938, 137.15792846679688, 131.57827758789062, 129.36151123046875, 131.69972229003906, 128.7757568359375, 121.94133758544922, 126.49069213867188, 127.91291809082031, 120.57843017578125, 125.47794342041016, 121.05152893066406, 127.92599487304688, 139.4141387939453, 143.64910888671875, 144.07220458984375, 139.13182067871094, 135.86036682128906, 135.34512329101562, 134.98818969726562, 134.6835479736328, 140.585693359375, 138.9114990234375, 133.5543670654297, 134.55746459960938, 135.42352294921875, 135.00296020507812, 150.9337158203125, 150.9547119140625, 152.36326599121094, 152.221923828125, 139.79006958007812, 138.9898681640625, 149.64138793945312, 150.18206787109375, 149.74310302734375, 149.4692840576172, 147.66543579101562, 144.58258056640625, 142.54161071777344, 147.330322265625, 138.2675323486328, 149.00901794433594, 143.3345489501953, 146.2259521484375, 151.34799194335938, 137.5958251953125, 144.4921875, 141.669677734375, 138.15167236328125, 143.85885620117188, 153.57200622558594, 151.61358642578125, 151.72915649414062, 153.27951049804688, 148.7744598388672, 147.27499389648438, 144.1335906982422, 148.785400390625, 142.3992919921875, 136.9670867919922, 142.4285430908203, 139.93650817871094, 148.7274169921875, 151.18161010742188, 153.01791381835938, 148.15087890625, 152.6883087158203, 148.49575805664062, 141.0904083251953, 140.51483154296875, 142.8773956298828, 153.25161743164062, 151.79714965820312, 151.3533477783203, 150.6077423095703, 149.1886444091797, 140.8045196533203, 141.19146728515625, 140.43101501464844, 140.3518524169922, 141.67312622070312, 141.1609649658203, 144.931884765625, 146.3560791015625, 150.43585205078125, 147.8285369873047, 146.40940856933594, 147.83213806152344, 140.20164489746094, 140.9170379638672, 145.9556884765625, 142.55203247070312, 139.0961456298828, 139.3707733154297, 142.3031463623047, 141.5655059814453, 140.61404418945312, 142.972412109375, 143.26512145996094, 144.42234802246094, 146.01609802246094, 142.42724609375, 144.47122192382812, 145.29531860351562, 146.09249877929688, 145.1754150390625, 150.08450317382812, 149.3006134033203, 149.47369384765625, 151.03416442871094, 147.82333374023438, 148.68406677246094, 145.37881469726562, 150.2444610595703, 150.0001220703125, 148.20419311523438, 153.033935546875, 151.99952697753906, 151.35894775390625, 153.373291015625, 150.94418334960938, 150.7372283935547, 148.74903869628906, 148.71499633789062, 148.02371215820312, 146.63848876953125, 150.22593688964844, 146.6783447265625, 152.82986450195312, 76.57781982421875, 79.97903442382812, 91.86031341552734, 85.88606262207031, 91.00003051757812, 84.66020965576172, 90.51370239257812, 80.765625, 72.93731689453125, 77.34160614013672, 74.77767944335938, 74.01507568359375, 81.26066589355469, 87.339111328125, 89.79586791992188, 78.08856964111328, 76.61949920654297, 78.12445831298828, 72.6252670288086, 72.23277282714844, 77.68009185791016, 80.5546875, 77.64468383789062, 76.41259002685547, 81.175048828125, 79.21372985839844, 74.85298156738281, 73.64839172363281, 72.75239562988281, 72.80272674560547, 72.31800079345703, 74.12796020507812, 71.33116149902344, 77.4729232788086, 71.83470153808594, 87.63402557373047, 84.91085052490234, 78.61158752441406, 77.57382202148438, 87.7802963256836, 81.54533386230469, 78.0365219116211, 86.4161148071289, 84.9278335571289, 91.1534423828125, 92.80303192138672, 80.72998046875, 70.20941925048828, 70.93274688720703, 72.8593978881836, 72.53311157226562, 73.0573959350586, 72.90278625488281, 72.26776123046875, 68.41704559326172, 71.24739837646484, 92.90528869628906, 85.73907470703125, 85.50613403320312, 85.3375473022461, 77.87567901611328, 76.44584655761719, 76.78128814697266, 79.92723083496094, 73.14244842529297, 76.00215148925781, 80.10376739501953, 72.35238647460938, 69.19453430175781, 74.50855255126953, 74.92415618896484, 77.78707122802734, 150.53407287597656, 147.07530212402344, 149.25949096679688, 152.9916229248047, 158.53314208984375, 144.63470458984375, 144.36386108398438, 140.87796020507812, 140.08836364746094]}],                        {\"margin\": {\"t\": 60}, \"template\": {\"data\": {\"bar\": [{\"error_x\": {\"color\": \"#2a3f5f\"}, \"error_y\": {\"color\": \"#2a3f5f\"}, \"marker\": {\"line\": {\"color\": \"#E5ECF6\", \"width\": 0.5}}, \"type\": \"bar\"}], \"barpolar\": [{\"marker\": {\"line\": {\"color\": \"#E5ECF6\", \"width\": 0.5}}, \"type\": \"barpolar\"}], \"carpet\": [{\"aaxis\": {\"endlinecolor\": \"#2a3f5f\", \"gridcolor\": \"white\", \"linecolor\": \"white\", \"minorgridcolor\": \"white\", \"startlinecolor\": \"#2a3f5f\"}, \"baxis\": {\"endlinecolor\": \"#2a3f5f\", \"gridcolor\": \"white\", \"linecolor\": \"white\", \"minorgridcolor\": \"white\", \"startlinecolor\": \"#2a3f5f\"}, \"type\": \"carpet\"}], \"choropleth\": [{\"colorbar\": {\"outlinewidth\": 0, \"ticks\": \"\"}, \"type\": \"choropleth\"}], \"contour\": [{\"colorbar\": {\"outlinewidth\": 0, \"ticks\": \"\"}, \"colorscale\": [[0.0, \"#0d0887\"], [0.1111111111111111, \"#46039f\"], [0.2222222222222222, \"#7201a8\"], [0.3333333333333333, \"#9c179e\"], [0.4444444444444444, \"#bd3786\"], [0.5555555555555556, \"#d8576b\"], [0.6666666666666666, \"#ed7953\"], [0.7777777777777778, \"#fb9f3a\"], [0.8888888888888888, \"#fdca26\"], [1.0, \"#f0f921\"]], \"type\": \"contour\"}], \"contourcarpet\": [{\"colorbar\": {\"outlinewidth\": 0, \"ticks\": \"\"}, \"type\": \"contourcarpet\"}], \"heatmap\": [{\"colorbar\": {\"outlinewidth\": 0, \"ticks\": \"\"}, \"colorscale\": [[0.0, \"#0d0887\"], [0.1111111111111111, \"#46039f\"], [0.2222222222222222, \"#7201a8\"], [0.3333333333333333, \"#9c179e\"], [0.4444444444444444, \"#bd3786\"], [0.5555555555555556, \"#d8576b\"], [0.6666666666666666, \"#ed7953\"], [0.7777777777777778, \"#fb9f3a\"], [0.8888888888888888, \"#fdca26\"], [1.0, \"#f0f921\"]], \"type\": \"heatmap\"}], \"heatmapgl\": [{\"colorbar\": {\"outlinewidth\": 0, \"ticks\": \"\"}, \"colorscale\": [[0.0, \"#0d0887\"], [0.1111111111111111, \"#46039f\"], [0.2222222222222222, \"#7201a8\"], [0.3333333333333333, \"#9c179e\"], [0.4444444444444444, \"#bd3786\"], [0.5555555555555556, \"#d8576b\"], [0.6666666666666666, \"#ed7953\"], [0.7777777777777778, \"#fb9f3a\"], [0.8888888888888888, \"#fdca26\"], [1.0, \"#f0f921\"]], \"type\": \"heatmapgl\"}], \"histogram\": [{\"marker\": {\"colorbar\": {\"outlinewidth\": 0, \"ticks\": \"\"}}, \"type\": \"histogram\"}], \"histogram2d\": [{\"colorbar\": {\"outlinewidth\": 0, \"ticks\": \"\"}, \"colorscale\": [[0.0, \"#0d0887\"], [0.1111111111111111, \"#46039f\"], [0.2222222222222222, \"#7201a8\"], [0.3333333333333333, \"#9c179e\"], [0.4444444444444444, \"#bd3786\"], [0.5555555555555556, \"#d8576b\"], [0.6666666666666666, \"#ed7953\"], [0.7777777777777778, \"#fb9f3a\"], [0.8888888888888888, \"#fdca26\"], [1.0, \"#f0f921\"]], \"type\": \"histogram2d\"}], \"histogram2dcontour\": [{\"colorbar\": {\"outlinewidth\": 0, \"ticks\": \"\"}, \"colorscale\": [[0.0, \"#0d0887\"], [0.1111111111111111, \"#46039f\"], [0.2222222222222222, \"#7201a8\"], [0.3333333333333333, \"#9c179e\"], [0.4444444444444444, \"#bd3786\"], [0.5555555555555556, \"#d8576b\"], [0.6666666666666666, \"#ed7953\"], [0.7777777777777778, \"#fb9f3a\"], [0.8888888888888888, \"#fdca26\"], [1.0, \"#f0f921\"]], \"type\": \"histogram2dcontour\"}], \"mesh3d\": [{\"colorbar\": {\"outlinewidth\": 0, \"ticks\": \"\"}, \"type\": \"mesh3d\"}], \"parcoords\": [{\"line\": {\"colorbar\": {\"outlinewidth\": 0, \"ticks\": \"\"}}, \"type\": \"parcoords\"}], \"pie\": [{\"automargin\": true, \"type\": \"pie\"}], \"scatter\": [{\"marker\": {\"colorbar\": {\"outlinewidth\": 0, \"ticks\": \"\"}}, \"type\": \"scatter\"}], \"scatter3d\": [{\"line\": {\"colorbar\": {\"outlinewidth\": 0, \"ticks\": \"\"}}, \"marker\": {\"colorbar\": {\"outlinewidth\": 0, \"ticks\": \"\"}}, \"type\": \"scatter3d\"}], \"scattercarpet\": [{\"marker\": {\"colorbar\": {\"outlinewidth\": 0, \"ticks\": \"\"}}, \"type\": \"scattercarpet\"}], \"scattergeo\": [{\"marker\": {\"colorbar\": {\"outlinewidth\": 0, \"ticks\": \"\"}}, \"type\": \"scattergeo\"}], \"scattergl\": [{\"marker\": {\"colorbar\": {\"outlinewidth\": 0, \"ticks\": \"\"}}, \"type\": \"scattergl\"}], \"scattermapbox\": [{\"marker\": {\"colorbar\": {\"outlinewidth\": 0, \"ticks\": \"\"}}, \"type\": \"scattermapbox\"}], \"scatterpolar\": [{\"marker\": {\"colorbar\": {\"outlinewidth\": 0, \"ticks\": \"\"}}, \"type\": \"scatterpolar\"}], \"scatterpolargl\": [{\"marker\": {\"colorbar\": {\"outlinewidth\": 0, \"ticks\": \"\"}}, \"type\": \"scatterpolargl\"}], \"scatterternary\": [{\"marker\": {\"colorbar\": {\"outlinewidth\": 0, \"ticks\": \"\"}}, \"type\": \"scatterternary\"}], \"surface\": [{\"colorbar\": {\"outlinewidth\": 0, \"ticks\": \"\"}, \"colorscale\": [[0.0, \"#0d0887\"], [0.1111111111111111, \"#46039f\"], [0.2222222222222222, \"#7201a8\"], [0.3333333333333333, \"#9c179e\"], [0.4444444444444444, \"#bd3786\"], [0.5555555555555556, \"#d8576b\"], [0.6666666666666666, \"#ed7953\"], [0.7777777777777778, \"#fb9f3a\"], [0.8888888888888888, \"#fdca26\"], [1.0, \"#f0f921\"]], \"type\": \"surface\"}], \"table\": [{\"cells\": {\"fill\": {\"color\": \"#EBF0F8\"}, \"line\": {\"color\": \"white\"}}, \"header\": {\"fill\": {\"color\": \"#C8D4E3\"}, \"line\": {\"color\": \"white\"}}, \"type\": \"table\"}]}, \"layout\": {\"annotationdefaults\": {\"arrowcolor\": \"#2a3f5f\", \"arrowhead\": 0, \"arrowwidth\": 1}, \"autotypenumbers\": \"strict\", \"coloraxis\": {\"colorbar\": {\"outlinewidth\": 0, \"ticks\": \"\"}}, \"colorscale\": {\"diverging\": [[0, \"#8e0152\"], [0.1, \"#c51b7d\"], [0.2, \"#de77ae\"], [0.3, \"#f1b6da\"], [0.4, \"#fde0ef\"], [0.5, \"#f7f7f7\"], [0.6, \"#e6f5d0\"], [0.7, \"#b8e186\"], [0.8, \"#7fbc41\"], [0.9, \"#4d9221\"], [1, \"#276419\"]], \"sequential\": [[0.0, \"#0d0887\"], [0.1111111111111111, \"#46039f\"], [0.2222222222222222, \"#7201a8\"], [0.3333333333333333, \"#9c179e\"], [0.4444444444444444, \"#bd3786\"], [0.5555555555555556, \"#d8576b\"], [0.6666666666666666, \"#ed7953\"], [0.7777777777777778, \"#fb9f3a\"], [0.8888888888888888, \"#fdca26\"], [1.0, \"#f0f921\"]], \"sequentialminus\": [[0.0, \"#0d0887\"], [0.1111111111111111, \"#46039f\"], [0.2222222222222222, \"#7201a8\"], [0.3333333333333333, \"#9c179e\"], [0.4444444444444444, \"#bd3786\"], [0.5555555555555556, \"#d8576b\"], [0.6666666666666666, \"#ed7953\"], [0.7777777777777778, \"#fb9f3a\"], [0.8888888888888888, \"#fdca26\"], [1.0, \"#f0f921\"]]}, \"colorway\": [\"#636efa\", \"#EF553B\", \"#00cc96\", \"#ab63fa\", \"#FFA15A\", \"#19d3f3\", \"#FF6692\", \"#B6E880\", \"#FF97FF\", \"#FECB52\"], \"font\": {\"color\": \"#2a3f5f\"}, \"geo\": {\"bgcolor\": \"white\", \"lakecolor\": \"white\", \"landcolor\": \"#E5ECF6\", \"showlakes\": true, \"showland\": true, \"subunitcolor\": \"white\"}, \"hoverlabel\": {\"align\": \"left\"}, \"hovermode\": \"closest\", \"mapbox\": {\"style\": \"light\"}, \"paper_bgcolor\": \"white\", \"plot_bgcolor\": \"#E5ECF6\", \"polar\": {\"angularaxis\": {\"gridcolor\": \"white\", \"linecolor\": \"white\", \"ticks\": \"\"}, \"bgcolor\": \"#E5ECF6\", \"radialaxis\": {\"gridcolor\": \"white\", \"linecolor\": \"white\", \"ticks\": \"\"}}, \"scene\": {\"xaxis\": {\"backgroundcolor\": \"#E5ECF6\", \"gridcolor\": \"white\", \"gridwidth\": 2, \"linecolor\": \"white\", \"showbackground\": true, \"ticks\": \"\", \"zerolinecolor\": \"white\"}, \"yaxis\": {\"backgroundcolor\": \"#E5ECF6\", \"gridcolor\": \"white\", \"gridwidth\": 2, \"linecolor\": \"white\", \"showbackground\": true, \"ticks\": \"\", \"zerolinecolor\": \"white\"}, \"zaxis\": {\"backgroundcolor\": \"#E5ECF6\", \"gridcolor\": \"white\", \"gridwidth\": 2, \"linecolor\": \"white\", \"showbackground\": true, \"ticks\": \"\", \"zerolinecolor\": \"white\"}}, \"shapedefaults\": {\"line\": {\"color\": \"#2a3f5f\"}}, \"ternary\": {\"aaxis\": {\"gridcolor\": \"white\", \"linecolor\": \"white\", \"ticks\": \"\"}, \"baxis\": {\"gridcolor\": \"white\", \"linecolor\": \"white\", \"ticks\": \"\"}, \"bgcolor\": \"#E5ECF6\", \"caxis\": {\"gridcolor\": \"white\", \"linecolor\": \"white\", \"ticks\": \"\"}}, \"title\": {\"x\": 0.05}, \"xaxis\": {\"automargin\": true, \"gridcolor\": \"white\", \"linecolor\": \"white\", \"ticks\": \"\", \"title\": {\"standoff\": 15}, \"zerolinecolor\": \"white\", \"zerolinewidth\": 2}, \"yaxis\": {\"automargin\": true, \"gridcolor\": \"white\", \"linecolor\": \"white\", \"ticks\": \"\", \"title\": {\"standoff\": 15}, \"zerolinecolor\": \"white\", \"zerolinewidth\": 2}}}, \"xaxis\": {\"anchor\": \"y\", \"domain\": [0.0, 1.0]}, \"yaxis\": {\"anchor\": \"x\", \"domain\": [0.0, 1.0]}},                        {\"responsive\": true}                    ).then(function(){\n",
       "                            \n",
       "var gd = document.getElementById('51f4d442-a70b-430a-acdc-16ff8c4ac725');\n",
       "var x = new MutationObserver(function (mutations, observer) {{\n",
       "        var display = window.getComputedStyle(gd).display;\n",
       "        if (!display || display === 'none') {{\n",
       "            console.log([gd, 'removed!']);\n",
       "            Plotly.purge(gd);\n",
       "            observer.disconnect();\n",
       "        }}\n",
       "}});\n",
       "\n",
       "// Listen for the removal of the full notebook cells\n",
       "var notebookContainer = gd.closest('#notebook-container');\n",
       "if (notebookContainer) {{\n",
       "    x.observe(notebookContainer, {childList: true});\n",
       "}}\n",
       "\n",
       "// Listen for the clearing of the current output cell\n",
       "var outputEl = gd.closest('.output');\n",
       "if (outputEl) {{\n",
       "    x.observe(outputEl, {childList: true});\n",
       "}}\n",
       "\n",
       "                        })                };                });            </script>        </div>"
      ]
     },
     "metadata": {},
     "output_type": "display_data"
    }
   ],
   "source": [
    "# unnormalize\n",
    "V_pred_unnormalize_778x2 = V_pred_778x2.numpy().copy()\n",
    "\n",
    "shift_z = np.min(V_pred_unnormalize_778x2[:, 2])\n",
    "scale_z = np.max(V_pred_unnormalize_778x2[:, 2])-np.min(V_pred_unnormalize_778x2[:, 2])\n",
    "\n",
    "V_pred_unnormalize_778x2 = (V_pred_unnormalize_778x2 + 1) * (out_img_size/2)\n",
    "\n",
    "fig = plot_2d_pts_on_img(I_normalize, V_pred_unnormalize_778x2)\n",
    "fig.show()"
   ]
  },
  {
   "cell_type": "code",
   "execution_count": 113,
   "metadata": {},
   "outputs": [
    {
     "data": {
      "text/plain": [
       "<tf.Tensor: shape=(778, 3), dtype=float32, numpy=\n",
       "array([[ 0.03731034, -0.04123042,  0.05432098],\n",
       "       [ 0.03917654,  0.06931337,  0.0429536 ],\n",
       "       [ 0.03849161, -0.01130166,  0.01171718],\n",
       "       ...,\n",
       "       [ 0.02738442,  0.28896314,  0.07451645],\n",
       "       [ 0.00221951,  0.25783902,  0.02154005],\n",
       "       [-0.0381618 ,  0.25078896,  0.04734139]], dtype=float32)>"
      ]
     },
     "execution_count": 113,
     "metadata": {},
     "output_type": "execute_result"
    }
   ],
   "source": [
    "V_pred_778x2"
   ]
  },
  {
   "cell_type": "code",
   "execution_count": 114,
   "metadata": {},
   "outputs": [],
   "source": [
    "with open('./test1.json', 'w') as t:\n",
    "    json.dump({'pred':V_pred_778x2.numpy().tolist()}, t)"
   ]
  },
  {
   "cell_type": "code",
   "execution_count": 116,
   "metadata": {},
   "outputs": [
    {
     "data": {
      "text/plain": [
       "0.25"
      ]
     },
     "execution_count": 116,
     "metadata": {},
     "output_type": "execute_result"
    }
   ],
   "source": [
    "y_true = [[1., 1], [0., 0.]]\n",
    "y_pred = [[1., 1.], [1., 0.]]\n",
    "# Using 'auto'/'sum_over_batch_size' reduction type.\n",
    "mae = tf.keras.losses.MeanAbsoluteError()\n",
    "mae(y_true, y_pred).numpy()\n"
   ]
  },
  {
   "cell_type": "code",
   "execution_count": 27,
   "metadata": {},
   "outputs": [
    {
     "ename": "NameError",
     "evalue": "name 'create_model' is not defined",
     "output_type": "error",
     "traceback": [
      "\u001b[0;31m---------------------------------------------------------------------------\u001b[0m",
      "\u001b[0;31mNameError\u001b[0m                                 Traceback (most recent call last)",
      "\u001b[0;32m<ipython-input-27-6fbea0aa42e1>\u001b[0m in \u001b[0;36m<module>\u001b[0;34m\u001b[0m\n\u001b[0;32m----> 1\u001b[0;31m \u001b[0mmodel_ld\u001b[0m \u001b[0;34m=\u001b[0m \u001b[0mcreate_model\u001b[0m\u001b[0;34m(\u001b[0m\u001b[0;34m)\u001b[0m\u001b[0;34m\u001b[0m\u001b[0;34m\u001b[0m\u001b[0m\n\u001b[0m",
      "\u001b[0;31mNameError\u001b[0m: name 'create_model' is not defined"
     ]
    }
   ],
   "source": [
    "model_ld = create_model()"
   ]
  },
  {
   "cell_type": "code",
   "execution_count": 43,
   "metadata": {},
   "outputs": [],
   "source": [
    "image = imageio.imread('../../../storage/sample_friehand/00000'+\"000\"[:(3-len(str(0)))]+str(0)+'.jpg')"
   ]
  },
  {
   "cell_type": "code",
   "execution_count": null,
   "metadata": {},
   "outputs": [],
   "source": [
    "def process_data_wrapper(projection_func):\n",
    "    #Load these in process_ds for parallelisation\n",
    "    def f(image_path, annotation_xyz, *args):\n",
    "        image = np.array(Image.open(image_path.numpy()))\n",
    "        annotation_xyz = annotation_xyz.numpy()\n",
    "        image, annotation, proj_mat = projection_func(image, annotation_xyz, *args)\n",
    "        image, normalized_image, normalized_annotations, affine_mat = process_data(image, annotation)\n",
    "    \n",
    "        return image, normalized_image, normalized_annotations, affine_mat, proj_mat\n",
    "    return f\n",
    "\n",
    "def youtube_projection(image, annotation, image_width, image_height, hand_is_left):\n",
    "    image_height = image_height.numpy()\n",
    "    image_width = image_width.numpy()\n",
    "    hand_is_left = hand_is_left.numpy()\n",
    "    ## Resize\n",
    "    image = Image.resize((image_width, image_height), 2)\n",
    "    ## Flip\n",
    "    flipped_image, flipped_vertices, flip_mat = flip_hand(image, annotation)\n",
    "    ## Return proj mat\n",
    "    return flipped_image, flipped_vertices, flip_mat\n",
    "\n",
    "def freihand_projection(image, annotation_xyz, projection_mat):\n",
    "    ## Apply projection mat\n",
    "    # print(annotation_xyz[:3, :])\n",
    "    annotation_uv = projectPoints(annotation_xyz, projection_mat)\n",
    "    projection_mat = np.hstack([projection_mat, np.zeros((3, 1))])\n",
    "    projection_mat = np.vstack([projection_mat, [0, 0, 0, 1]])\n",
    "    ## Scale z coord\n",
    "    s_x = np.std(annotation_uv[:, 0]) / np.std(annotation_xyz[:, 0])\n",
    "    z_cam = s_x * (annotation_xyz[:, 2]).reshape(-1, 1)\n",
    "    projection_mat[2, 2] = s_x\n",
    "    ## Add z scale to proj\n",
    "    annotation_uvd = np.concatenate((annotation_uv[:, :2], z_cam), axis=1)\n",
    "    ## Return modified proj mat\n",
    "    # print(annotation_uvd[:3, :])\n",
    "    return image, annotation_uvd, projection_mat\n",
    "\n",
    "def unproject_youtube(annotation, affine_mat, proj_mat):\n",
    "    mat_project = affine_mat @ proj_mat\n",
    "    mat_unproject = np.linalg.inv(mat_project[:3, :3])\n",
    "    inv_t = mat_unproject @ mat_project[:3, 3]\n",
    "    annotation = annotation @ mat_unproject.T + inv_t.T\n",
    "    return annotation\n",
    "\n",
    "def unproject_freihand(_annotation, _affine_mat, _proj_mat):\n",
    "    def f(annotation, affine_mat, proj_mat):\n",
    "        mat_project = affine_mat\n",
    "        mat_unproject = np.linalg.inv(mat_project[:3, :3])\n",
    "        inv_t = mat_unproject @ -mat_project[:3, 3]\n",
    "        annotation = annotation @ mat_unproject.T + inv_t.T\n",
    "        annotation[..., 2] = annotation[..., 2] / proj_mat[2, 2]\n",
    "        annotation[..., 0] = (annotation[..., 0] - proj_mat[0, 2]) / proj_mat[0, 0] * annotation[..., 2]\n",
    "        annotation[..., 1] = (annotation[..., 1] - proj_mat[1, 2]) / proj_mat[1, 1] * annotation[..., 2]\n",
    "        return annotation\n",
    "    _annotation = _annotation.numpy()\n",
    "    for idx, _ in enumerate(_annotation):\n",
    "        _annotation[idx] = f(_annotation[idx], _affine_mat[idx].numpy(), _proj_mat[idx].numpy())\n",
    "    # print(_annotation.shape)\n",
    "    return _annotation\n",
    "\n",
    "def process_data(I, V_gt):\n",
    "    min_coords, max_coords = np.amin(V_gt, axis=0), np.amax(V_gt, axis=0)\n",
    "    min_uv, max_uv = min_coords[:2].astype(np.int), max_coords[:2].astype(np.int)\n",
    "    I_crop = I.copy()[min_uv[1]: max_uv[1], min_uv[0]: max_uv[0]]  # u: cols, v: rows\n",
    "\n",
    "    mat_crop = np.identity(4, dtype=np.float32)\n",
    "    mat_crop[0, 3] = -min_uv[0]\n",
    "    mat_crop[1, 3] = -min_uv[1]\n",
    "    V_crop = V_gt @ mat_crop[:3, :3].T + mat_crop[:3, 3]\n",
    "    cropped_height, cropped_width, _ = I_crop.shape\n",
    "    resize_scale = min(out_img_size/cropped_width, out_img_size/cropped_height)\n",
    "    resized_width, resized_height = (int(cropped_width*resize_scale), int(cropped_height*resize_scale))\n",
    "    I_resize = cv.resize(I_crop, (resized_width, resized_height), interpolation=cv.INTER_LINEAR)\n",
    "\n",
    "    mat_resize = np.identity(4, dtype=np.float32)\n",
    "    mat_resize[0, 0] = resize_scale\n",
    "    mat_resize[1, 1] = resize_scale\n",
    "    V_resize = V_crop @ mat_resize[:3, :3].T + mat_resize[:3, 3]\n",
    "    \n",
    "    I_pad = np.zeros([out_img_size, out_img_size, 3], dtype=np.float32)\n",
    "    u_pad_start, v_pad_start = int((out_img_size - resized_width) / 2), int((out_img_size - resized_height) / 2)\n",
    "    u_pad_end, v_pad_end = u_pad_start + resized_width, v_pad_start + resized_height\n",
    "    I_pad[v_pad_start : v_pad_end, u_pad_start : u_pad_end] = I_resize\n",
    "\n",
    "    mat_pad = np.eye(4, dtype=np.float32)\n",
    "    mat_pad[0, 3] = u_pad_start\n",
    "    mat_pad[1, 3] = v_pad_start\n",
    "    V_pad = V_resize @ mat_pad[:3, :3].T + mat_pad[:3, 3]\n",
    "\n",
    "    I_normalize = I_pad.copy()\n",
    "    I_normalize /= 255\n",
    "\n",
    "    shift_z = np.min(V_pad[:, 2])\n",
    "    scale_z = np.max(V_pad[:, 2])-np.min(V_pad[:, 2])\n",
    "    \n",
    "    mat_normalize = np.eye(4, dtype=np.float32)\n",
    "    mat_normalize[0, 0] = 2/out_img_size\n",
    "    mat_normalize[1, 1] = 2/out_img_size\n",
    "    mat_normalize[2, 2] = 2/scale_z\n",
    "\n",
    "    mat_normalize[0:3, 3] = [-1, -1, -(shift_z*2)/scale_z-1]\n",
    "    \n",
    "    V_normalize = np.ones((778, 4))\n",
    "    V_normalize[:, :3] = V_pad.copy()\n",
    "    V_normalize = (mat_normalize @ V_normalize.T).T[:, :3]\n",
    "#     print(np.sum(I_normalize), np.sum(V_normalize))\n",
    "#     random_angle_in_degrees = np.random.rand() * (ROTATION_RANGE[1]-ROTATION_RANGE[0]) - ROTATION_RANGE[0]\n",
    "#     random_scale = np.random.rand()*0.1 + 1.0\n",
    "#     cv_mat_rot_scale = cv2.getRotationMatrix2D((out_img_size/2, out_img_size/2), random_angle_in_degrees, random_scale)\n",
    "#     rotated_and_scaled_image = cv2.warpAffine(I_normalize, cv_mat_rot_scale, (out_img_size, out_img_size), borderValue=0, flags=cv2.INTER_NEAREST)\n",
    "#     rotated_and_scaled_image *= random_scale\n",
    "\n",
    "#     # print(cv_mat_rot_scale)\n",
    "#     mat_rot_scale = np.eye(4, dtype=np.float64)\n",
    "#     mat_rot_scale[:2, :2] = cv_mat_rot_scale[:2, :2]\n",
    "#     tmp = np.zeros((778, 4))\n",
    "#     tmp[:,:3] = V_normalize\n",
    "#     tmp[:, 3] = 1\n",
    "#     rotated_scaled_vertices = tmp @ mat_rot_scale.T\n",
    "    mat_process = mat_normalize @ mat_pad @ mat_resize @ mat_crop\n",
    "    # print(mat_process)\n",
    "#     print(rotated_and_scaled_image, rotated_scaled_vertices)\n",
    "    return I, I_normalize, V_normalize[:, :3], mat_process\n",
    "\n",
    "def get_raw_data_as_tf_dataset(storage_dir, images, annotations, dataset):\n",
    "#     image_dct = {}\n",
    "#     image_path = []\n",
    "#     image_width = []\n",
    "#     image_height = []\n",
    "#     hand_is_left = []\n",
    "#     annotation_idx = []\n",
    "#     map_img_to_path(image_dct, images)\n",
    "#     map_img_to_ann(image_dct, annotations)\n",
    "#     for idx, img in enumerate(image_dct.keys()):\n",
    "#         image_dct[img]['path'] = os.path.join(storage_dir, image_dct[img]['path'])\n",
    "#         for ann in image_dct[img]['ann']:\n",
    "#             image_path.append(image_dct[img]['path'])\n",
    "#             image_width.append(image_dct[img]['width'])\n",
    "#             image_height.append(image_dct[img]['height'])\n",
    "#             hand_is_left.append(annotations[ann]['is_left'])\n",
    "#             annotation_idx.append(ann)\n",
    "\n",
    "#         if idx >= 1:\n",
    "#             break\n",
    "        \n",
    "    ## Friehand read\n",
    "    anns = []\n",
    "    image_path = []\n",
    "    proj_mat = []\n",
    "    for idx, ann in enumerate(annotations):\n",
    "        anns.append(ann['V'])\n",
    "        proj_mat.append(ann['K'])\n",
    "        image_path.append('../storage/sample_friehand/'+\"00000000\"[:(8-len(str(idx)))]+str(idx)+'.jpg')\n",
    "        # if idx==1:\n",
    "        #     break\n",
    "    ds_raw = tf.data.Dataset.from_tensor_slices((image_path, anns, proj_mat))\n",
    "    return ds_raw\n",
    "\n",
    "def process_ds(projection_func):\n",
    "    #Load image and annotations from text file later\n",
    "    def f(image_path, annotation, *args):\n",
    "        image, normalized_image, normalized_annotations, affine_mat, proj_mat = tf.py_function(\n",
    "            func = process_data_wrapper(projection_func),\n",
    "            inp = [image_path, annotation, *args],\n",
    "            Tout = [tf.uint8, tf.float32, tf.float32, tf.float32, tf.float32]\n",
    "        )\n",
    "        \n",
    "        annotation.set_shape([778, 3])\n",
    "        normalized_image.set_shape([out_img_size, out_img_size, 3])\n",
    "        normalized_annotations.set_shape([778, 3])\n",
    "        affine_mat.set_shape([4, 4])\n",
    "        proj_mat.set_shape([4, 4])\n",
    "\n",
    "        return (\n",
    "            {\"I_raw\": image, \"I\" : normalized_image, \"proj_mat\" : proj_mat, \"affine_mat\" : affine_mat},\n",
    "            {\"V\" : normalized_annotations, \"annotations_xyz\" : annotation}\n",
    "        )\n",
    "    return f\n",
    "#     return normalized_image, normalized_annotations\n",
    "\n",
    "def process_tf_dataset(ds_raw, dataset):\n",
    "    if dataset==\"youtube\":\n",
    "        ds_processed = ds_raw.map(\n",
    "                            lambda image_path, image_width, image_height, hand_is_left, annotation_id : process_ds(youtube_projection)(\n",
    "                                    image_path, annotation_id, image_width, image_height, hand_is_left))\n",
    "    else:\n",
    "        ds_processed = ds_raw.map(lambda image_path, annotation_id, proj_mat : process_ds(freihand_projection)(image_path, annotation_id, proj_mat))\n",
    "        ds_processed = ds_processed.apply(tf.data.experimental.ignore_errors())\n",
    "        ## Apply ignore errors\n",
    "    return ds_processed\n",
    "\n",
    "def get_processed_dataset_as_tf_dataset(storage_dir, images, annotations, dataset=\"freihand\"):\n",
    "    ds_raw = get_raw_data_as_tf_dataset(storage_dir, images, annotations, dataset)\n",
    "    \n",
    "    n_data = ds_raw.cardinality().numpy()\n",
    "    train_frac = 1\n",
    "    n_data_train = int(n_data * train_frac)\n",
    "    ds_train = ds_raw.take(n_data_train)\n",
    "    ds_val = ds_raw.skip(n_data_train)\n",
    "    ds_train = process_tf_dataset(ds_train, dataset)\n",
    "#     ds_train = ds_train.apply(tf.data.experimental.ignore_errors())\n",
    "    ds_val = process_tf_dataset(ds_val, dataset)\n",
    "\n",
    "    return ds_train, ds_val\n",
    "\n",
    "\n"
   ]
  },
  {
   "cell_type": "code",
   "execution_count": null,
   "metadata": {},
   "outputs": [],
   "source": [
    "for ds in ds_train:\n",
    "    fig = plt.figure()\n",
    "    ax1 = fig.add_subplot(131)\n",
    "#     tf.debugging.check_numerics(ds[0]['I'][0], \"asd\")\n",
    "    ax1.imshow(ds[0]['I'][0])\n",
    "    # tf.print(ds[0]['I'][0])\n",
    "\n",
    "    ax2 = fig.add_subplot(132)\n",
    "#     tf.debugging.check_numerics(ds[1]['V'][0], \"asd\")\n",
    "    ax2.scatter(ds[1]['V'][0][:, 0], ds[1]['V'][0][:, 1])\n",
    "    ax2.set_xlim(-1, 1)\n",
    "    ax2.set_ylim(-1, 1)\n",
    "    \n",
    "    unproject_v = unproject_freihand(ds[1]['V'][0:1], ds[0]['affine_mat'][0:1], ds[0]['proj_mat'][0:1])[0]\n",
    "\n",
    "    mat_project = ds[0]['proj_mat'][0]\n",
    "    fx = mat_project[0, 0]\n",
    "    fy = mat_project[1, 1]\n",
    "    cx = mat_project[0, 2]\n",
    "    cy = mat_project[1, 2]\n",
    "    V_u = fx * unproject_v[:, 0] / unproject_v[:, 2] + cx\n",
    "    V_v = fy * unproject_v[:, 1] / unproject_v[:, 2] + cy\n",
    "    \n",
    "    ax3 = fig.add_subplot(133)\n",
    "#     tf.debugging.check_numerics(ds[1]['V'][0], \"asd\")\n",
    "#     vertex_set = ds[1]['V'][0].numpy()\n",
    "    ax3.scatter(V_u, V_v, s=1)\n",
    "    ax3.imshow(ds[0]['I_raw'][0])\n",
    "    break\n",
    "    \n",
    "#     break\n",
    "    \n",
    "# for ds in ds_train1:\n",
    "#     fig = plt.figure()\n",
    "#     ax1 = fig.add_subplot(121)\n",
    "#     ax1.imshow(ds[0]['I'][0].numpy())\n",
    "# #     tf.print(ds[0]['I'][0])\n",
    "\n",
    "#     ax2 = fig.add_subplot(122)\n",
    "#     vertex_set = ds[1]['V'][0].numpy()\n",
    "#     ax2.scatter(vertex_set[:, 0], vertex_set[:, 1])\n",
    "#     ax2.set_xlim(-1, 1)\n",
    "#     ax2.set_ylim(1, -1)\n",
    "#     ax2.set_aspect(\"equal\")\n",
    "#     print(np.min(ds[1]['V'][0].numpy()), np.max(ds[1]['V'][0].numpy()))"
   ]
  },
  {
   "cell_type": "code",
   "execution_count": null,
   "metadata": {},
   "outputs": [],
   "source": []
  }
 ],
 "metadata": {
  "kernelspec": {
   "name": "python369jvsc74a57bd03a50b1f0a944841825f5d4788a03d7c62f7b10c5ed2da9670592128c73ad321d",
   "display_name": "Python 3.6.9 64-bit ('venv')"
  },
  "language_info": {
   "codemirror_mode": {
    "name": "ipython",
    "version": 3
   },
   "file_extension": ".py",
   "mimetype": "text/x-python",
   "name": "python",
   "nbconvert_exporter": "python",
   "pygments_lexer": "ipython3",
   "version": "3.6.9"
  }
 },
 "nbformat": 4,
 "nbformat_minor": 2
}