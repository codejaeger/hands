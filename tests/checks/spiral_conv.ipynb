{
 "cells": [
  {
   "cell_type": "code",
   "execution_count": 53,
   "metadata": {},
   "outputs": [],
   "source": [
    "import tensorflow as tf\n",
    "from tensorflow import keras\n",
    "import numpy as np\n",
    "from glob import glob\n",
    "# import openmesh as om\n",
    "import os\n",
    "import openmesh as om\n",
    "from sklearn.neighbors import KDTree"
   ]
  },
  {
   "cell_type": "code",
   "execution_count": 17,
   "metadata": {},
   "outputs": [
    {
     "name": "stdout",
     "output_type": "stream",
     "text": [
      "[[23  1  3 23  1  3 23  1  3 78 78 45 78 78 45]\n",
      " [23  1  3 23  1  3 23  1  3 78 78 45 78 78 45]]\n"
     ]
    }
   ],
   "source": [
    "x = tf.constant([[[23, 1, 3], [78, 78, 45]], [[23, 1, 3], [78, 78, 45]]])\n",
    "x = tf.map_fn(fn=lambda t: tf.reshape(tf.gather(t, [0, 0, 0, 1, 1], axis=0), [-1]), elems=x)\n",
    "with tf.compat.v1.Session() as sess:\n",
    "    print(x.eval())"
   ]
  },
  {
   "cell_type": "code",
   "execution_count": null,
   "metadata": {},
   "outputs": [],
   "source": [
    "### Left to change to tensorflow2\n",
    "def preprocess_spiral(face, seq_length, vertices=None, dilation=1):\n",
    "    from .generate_spiral_seq import extract_spirals\n",
    "    assert face.shape[1] == 3\n",
    "    if vertices is not None:\n",
    "        mesh = om.TriMesh(np.array(vertices), np.array(face))\n",
    "    else:\n",
    "        n_vertices = face.max() + 1\n",
    "        mesh = om.TriMesh(np.ones([n_vertices, 3]), np.array(face))\n",
    "    spirals = extract_spirals(mesh, seq_length=seq_length, dilation=dilation)\n",
    "    return spirals"
   ]
  },
  {
   "cell_type": "code",
   "execution_count": 52,
   "metadata": {},
   "outputs": [],
   "source": [
    "import openmesh as om\n",
    "from sklearn.neighbors import KDTree\n",
    "import numpy as np\n",
    "\n",
    "\n",
    "def _next_ring(mesh, last_ring, other):\n",
    "    res = []\n",
    "\n",
    "    def is_new_vertex(idx):\n",
    "        return (idx not in last_ring and idx not in other and idx not in res)\n",
    "\n",
    "    for vh1 in last_ring:\n",
    "        vh1 = om.VertexHandle(vh1)\n",
    "        after_last_ring = False\n",
    "        for vh2 in mesh.vv(vh1):\n",
    "            if after_last_ring:\n",
    "                if is_new_vertex(vh2.idx()):\n",
    "                    res.append(vh2.idx())\n",
    "            if vh2.idx() in last_ring:\n",
    "                after_last_ring = True\n",
    "        for vh2 in mesh.vv(vh1):\n",
    "            if vh2.idx() in last_ring:\n",
    "                break\n",
    "            if is_new_vertex(vh2.idx()):\n",
    "                res.append(vh2.idx())\n",
    "    return res\n",
    "\n",
    "\n",
    "def extract_spirals(mesh, seq_length, dilation=1):\n",
    "    # output: spirals.size() = [N, seq_length]\n",
    "    spirals = []\n",
    "    for vh0 in mesh.vertices():\n",
    "        reference_one_ring = []\n",
    "        for vh1 in mesh.vv(vh0):\n",
    "            reference_one_ring.append(vh1.idx())\n",
    "        spiral = [vh0.idx()]\n",
    "        one_ring = list(reference_one_ring)\n",
    "        last_ring = one_ring\n",
    "        next_ring = _next_ring(mesh, last_ring, spiral)\n",
    "        spiral.extend(last_ring)\n",
    "        while len(spiral) + len(next_ring) < seq_length * dilation:\n",
    "            if len(next_ring) == 0:\n",
    "                break\n",
    "            last_ring = next_ring\n",
    "            next_ring = _next_ring(mesh, last_ring, spiral)\n",
    "            spiral.extend(last_ring)\n",
    "        if len(next_ring) > 0:\n",
    "            spiral.extend(next_ring)\n",
    "        else:\n",
    "            kdt = KDTree(mesh.points(), metric='euclidean')\n",
    "            spiral = kdt.query(np.expand_dims(mesh.points()[spiral[0]],\n",
    "                                              axis=0),\n",
    "                               k=seq_length * dilation,\n",
    "                               return_distance=False).tolist()\n",
    "            spiral = [item for subspiral in spiral for item in subspiral]\n",
    "        spirals.append(spiral[:seq_length * dilation][::dilation])\n",
    "    return spirals\n",
    "\n",
    "\n",
    "def preprocess_spiral(face, seq_length, vertices=None, dilation=1):\n",
    "    from .generate_spiral_seq import extract_spirals\n",
    "    assert face.shape[1] == 3\n",
    "    if vertices is not None:\n",
    "        mesh = om.TriMesh(np.array(vertices), np.array(face))\n",
    "    else:\n",
    "        n_vertices = face.max() + 1\n",
    "        mesh = om.TriMesh(np.ones([n_vertices, 3]), np.array(face))\n",
    "    spirals = extract_spirals(mesh, seq_length=seq_length, dilation=dilation)\n",
    "    return spirals\n",
    "\n",
    "class SpiralConv(layers.Layer):\n",
    "    \n",
    "    def __init__(self, in_channels, out_channels, indices, dim=1):\n",
    "        super(SpiralConv, self).__init__()\n",
    "        self.dim = dim\n",
    "        self.indices = indices\n",
    "        self.in_channels = in_channels\n",
    "        self.out_channels = out_channels\n",
    "        self.layer = layers.Dense(out_channels)\n",
    "        \n",
    "    def call(self, x):\n",
    "        n_nodes, _ = self.indices.shape\n",
    "        x = tf.map_fn(fn=lambda t: tf.reshape(tf.gather(t, tf.reshape(self.indices, [-1]), axis=0), [n_nodes, -1]), elems=x)\n",
    "        x = self.layer(x)\n",
    "        return x\n",
    "\n",
    "with tf.compat.v1.Session() as sess:\n",
    "    inputs = keras.Input(shape=(4,3))\n",
    "    outputs = SpiralConv(3, 5, tf.constant([[1, 2], [0, 1]]))(inputs)\n",
    "\n",
    "    model = keras.Model(inputs, outputs)"
   ]
  },
  {
   "cell_type": "code",
   "execution_count": 25,
   "metadata": {},
   "outputs": [],
   "source": [
    "OUT_IMAGE_SIZE = (224, 224)\n",
    "inputs = tf.keras.Input(shape=(*OUT_IMAGE_SIZE, 3), name=\"normalized_image\")"
   ]
  },
  {
   "cell_type": "code",
   "execution_count": 26,
   "metadata": {},
   "outputs": [],
   "source": [
    "resnet50 = tf.keras.applications.ResNet50(\n",
    "    include_top=True, weights='imagenet', input_tensor=None,\n",
    "    input_shape=None, pooling=None, classes=1000)\n",
    "x = resnet50(inputs)"
   ]
  },
  {
   "cell_type": "code",
   "execution_count": 27,
   "metadata": {},
   "outputs": [],
   "source": [
    "x = tf.keras.layers.Dense(64, activation=tf.keras.activations.relu , name=\"FC1\")(x)"
   ]
  },
  {
   "cell_type": "code",
   "execution_count": 28,
   "metadata": {},
   "outputs": [],
   "source": [
    "x = tf.keras.layers.Dense(51*48, activation=tf.keras.activations.relu, name=\"FC2\")(x)"
   ]
  },
  {
   "cell_type": "code",
   "execution_count": 29,
   "metadata": {},
   "outputs": [],
   "source": [
    "x = tf.keras.layers.Reshape((51, 48), name=\"reshape_to_mesh\")(x)"
   ]
  },
  {
   "cell_type": "code",
   "execution_count": 30,
   "metadata": {},
   "outputs": [],
   "source": [
    "x = tf.keras.layers.UpSampling1D(size=2, name=\"UP1\")(x)"
   ]
  },
  {
   "cell_type": "code",
   "execution_count": 31,
   "metadata": {},
   "outputs": [
    {
     "ename": "TypeError",
     "evalue": "'int' object is not callable",
     "output_type": "error",
     "traceback": [
      "\u001b[0;31m---------------------------------------------------------------------------\u001b[0m",
      "\u001b[0;31mTypeError\u001b[0m                                 Traceback (most recent call last)",
      "\u001b[0;32m<ipython-input-31-46a08066dbfb>\u001b[0m in \u001b[0;36m<module>\u001b[0;34m\u001b[0m\n\u001b[1;32m      1\u001b[0m \u001b[0mindices\u001b[0m \u001b[0;34m=\u001b[0m \u001b[0mnp\u001b[0m\u001b[0;34m.\u001b[0m\u001b[0marray\u001b[0m\u001b[0;34m(\u001b[0m\u001b[0;34m[\u001b[0m\u001b[0;36m0\u001b[0m\u001b[0;34m,\u001b[0m \u001b[0;36m0\u001b[0m\u001b[0;34m,\u001b[0m \u001b[0;36m0\u001b[0m\u001b[0;34m,\u001b[0m \u001b[0;36m0\u001b[0m\u001b[0;34m,\u001b[0m \u001b[0;36m0\u001b[0m\u001b[0;34m,\u001b[0m \u001b[0;36m0\u001b[0m\u001b[0;34m,\u001b[0m \u001b[0;36m0\u001b[0m\u001b[0;34m,\u001b[0m \u001b[0;36m0\u001b[0m\u001b[0;34m,\u001b[0m \u001b[0;36m0\u001b[0m\u001b[0;34m,\u001b[0m \u001b[0;36m0\u001b[0m\u001b[0;34m]\u001b[0m\u001b[0;34m)\u001b[0m\u001b[0;34m\u001b[0m\u001b[0;34m\u001b[0m\u001b[0m\n\u001b[0;32m----> 2\u001b[0;31m \u001b[0mspiral_conv1\u001b[0m \u001b[0;34m=\u001b[0m \u001b[0mSpiralConv\u001b[0m\u001b[0;34m(\u001b[0m\u001b[0;36m48\u001b[0m\u001b[0;34m,\u001b[0m \u001b[0;36m16\u001b[0m\u001b[0;34m,\u001b[0m \u001b[0mindices\u001b[0m\u001b[0;34m)\u001b[0m\u001b[0;34m\u001b[0m\u001b[0;34m\u001b[0m\u001b[0m\n\u001b[0m\u001b[1;32m      3\u001b[0m \u001b[0;34m\u001b[0m\u001b[0m\n\u001b[1;32m      4\u001b[0m \u001b[0mx\u001b[0m \u001b[0;34m=\u001b[0m \u001b[0mspiral_conv1\u001b[0m\u001b[0;34m(\u001b[0m\u001b[0mx\u001b[0m\u001b[0;34m)\u001b[0m\u001b[0;34m\u001b[0m\u001b[0;34m\u001b[0m\u001b[0m\n",
      "\u001b[0;32m<ipython-input-24-5584c18d7f1a>\u001b[0m in \u001b[0;36m__init__\u001b[0;34m(self, in_channels, out_channels, indices, dim)\u001b[0m\n\u001b[1;32m      7\u001b[0m         \u001b[0mself\u001b[0m\u001b[0;34m.\u001b[0m\u001b[0min_channels\u001b[0m \u001b[0;34m=\u001b[0m \u001b[0min_channels\u001b[0m\u001b[0;34m\u001b[0m\u001b[0;34m\u001b[0m\u001b[0m\n\u001b[1;32m      8\u001b[0m         \u001b[0mself\u001b[0m\u001b[0;34m.\u001b[0m\u001b[0mout_channels\u001b[0m \u001b[0;34m=\u001b[0m \u001b[0mout_channels\u001b[0m\u001b[0;34m\u001b[0m\u001b[0;34m\u001b[0m\u001b[0m\n\u001b[0;32m----> 9\u001b[0;31m         \u001b[0mself\u001b[0m\u001b[0;34m.\u001b[0m\u001b[0mseq_length\u001b[0m \u001b[0;34m=\u001b[0m \u001b[0mindices\u001b[0m\u001b[0;34m.\u001b[0m\u001b[0msize\u001b[0m\u001b[0;34m(\u001b[0m\u001b[0;36m1\u001b[0m\u001b[0;34m)\u001b[0m\u001b[0;34m\u001b[0m\u001b[0;34m\u001b[0m\u001b[0m\n\u001b[0m\u001b[1;32m     10\u001b[0m         \u001b[0mself\u001b[0m\u001b[0;34m.\u001b[0m\u001b[0mlayer\u001b[0m \u001b[0;34m=\u001b[0m \u001b[0mlayers\u001b[0m\u001b[0;34m.\u001b[0m\u001b[0mDense\u001b[0m\u001b[0;34m(\u001b[0m\u001b[0mout_channels\u001b[0m\u001b[0;34m)\u001b[0m\u001b[0;34m\u001b[0m\u001b[0;34m\u001b[0m\u001b[0m\n\u001b[1;32m     11\u001b[0m \u001b[0;34m\u001b[0m\u001b[0m\n",
      "\u001b[0;31mTypeError\u001b[0m: 'int' object is not callable"
     ]
    }
   ],
   "source": [
    "indices = np.array([0, 0, 0, 0, 0, 0, 0, 0, 0, 0])\n",
    "spiral_conv1 = SpiralConv(48, 16, indices)\n",
    "\n",
    "x = spiral_conv1(x)"
   ]
  },
  {
   "cell_type": "code",
   "execution_count": null,
   "metadata": {},
   "outputs": [],
   "source": []
  }
 ],
 "metadata": {
  "kernelspec": {
   "display_name": "Python 3",
   "language": "python",
   "name": "python3"
  },
  "language_info": {
   "codemirror_mode": {
    "name": "ipython",
    "version": 3
   },
   "file_extension": ".py",
   "mimetype": "text/x-python",
   "name": "python",
   "nbconvert_exporter": "python",
   "pygments_lexer": "ipython3",
   "version": "3.7.3"
  }
 },
 "nbformat": 4,
 "nbformat_minor": 5
}
